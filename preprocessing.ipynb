{
 "cells": [
  {
   "cell_type": "markdown",
   "metadata": {},
   "source": [
    "### Importing the dataset"
   ]
  },
  {
   "cell_type": "code",
   "execution_count": 152,
   "metadata": {},
   "outputs": [],
   "source": [
    "import pandas as pd\n",
    "import numpy as np\n",
    "\n",
    "pd.set_option('display.max_columns', None)"
   ]
  },
  {
   "cell_type": "code",
   "execution_count": 153,
   "metadata": {},
   "outputs": [],
   "source": [
    "wines = pd.read_csv(\"XWines_Test_100_wines_1K_ratings\\XWines_Test_100_wines.csv\", encoding=\"utf-8\")\n",
    "ratings = pd.read_csv(\"XWines_Test_100_wines_1K_ratings\\XWines_Test_1K_ratings.csv\", low_memory=False)"
   ]
  },
  {
   "cell_type": "code",
   "execution_count": 154,
   "metadata": {},
   "outputs": [
    {
     "data": {
      "text/html": [
       "<div>\n",
       "<style scoped>\n",
       "    .dataframe tbody tr th:only-of-type {\n",
       "        vertical-align: middle;\n",
       "    }\n",
       "\n",
       "    .dataframe tbody tr th {\n",
       "        vertical-align: top;\n",
       "    }\n",
       "\n",
       "    .dataframe thead th {\n",
       "        text-align: right;\n",
       "    }\n",
       "</style>\n",
       "<table border=\"1\" class=\"dataframe\">\n",
       "  <thead>\n",
       "    <tr style=\"text-align: right;\">\n",
       "      <th></th>\n",
       "      <th>WineID</th>\n",
       "      <th>WineName</th>\n",
       "      <th>Type</th>\n",
       "      <th>Elaborate</th>\n",
       "      <th>Grapes</th>\n",
       "      <th>Harmonize</th>\n",
       "      <th>ABV</th>\n",
       "      <th>Body</th>\n",
       "      <th>Acidity</th>\n",
       "      <th>Code</th>\n",
       "      <th>Country</th>\n",
       "      <th>RegionID</th>\n",
       "      <th>RegionName</th>\n",
       "      <th>WineryID</th>\n",
       "      <th>WineryName</th>\n",
       "      <th>Website</th>\n",
       "      <th>Vintages</th>\n",
       "    </tr>\n",
       "  </thead>\n",
       "  <tbody>\n",
       "    <tr>\n",
       "      <th>0</th>\n",
       "      <td>100062</td>\n",
       "      <td>Origem Merlot</td>\n",
       "      <td>Red</td>\n",
       "      <td>Varietal/100%</td>\n",
       "      <td>['Merlot']</td>\n",
       "      <td>['Beef', 'Lamb', 'Veal', 'Grilled', 'Pizza', '...</td>\n",
       "      <td>13.0</td>\n",
       "      <td>Full-bodied</td>\n",
       "      <td>Medium</td>\n",
       "      <td>BR</td>\n",
       "      <td>Brazil</td>\n",
       "      <td>1002</td>\n",
       "      <td>Vale dos Vinhedos</td>\n",
       "      <td>10014</td>\n",
       "      <td>Casa Valduga</td>\n",
       "      <td>http://www.casavalduga.com.br</td>\n",
       "      <td>[2020, 2019, 2018, 2017, 2016, 2015, 2014, 201...</td>\n",
       "    </tr>\n",
       "    <tr>\n",
       "      <th>1</th>\n",
       "      <td>100191</td>\n",
       "      <td>Reserva Chardonnay</td>\n",
       "      <td>White</td>\n",
       "      <td>Varietal/100%</td>\n",
       "      <td>['Chardonnay']</td>\n",
       "      <td>['Rich Fish', 'Seafood', 'Risotto', 'Poultry',...</td>\n",
       "      <td>13.0</td>\n",
       "      <td>Medium-bodied</td>\n",
       "      <td>Medium</td>\n",
       "      <td>BR</td>\n",
       "      <td>Brazil</td>\n",
       "      <td>1001</td>\n",
       "      <td>Serra Gaúcha</td>\n",
       "      <td>10000</td>\n",
       "      <td>Aurora</td>\n",
       "      <td>http://www.vinicolaaurora.com.br</td>\n",
       "      <td>[2021, 2020, 2019, 2018, 2017, 2016, 2015, 201...</td>\n",
       "    </tr>\n",
       "  </tbody>\n",
       "</table>\n",
       "</div>"
      ],
      "text/plain": [
       "   WineID            WineName   Type      Elaborate          Grapes  \\\n",
       "0  100062       Origem Merlot    Red  Varietal/100%      ['Merlot']   \n",
       "1  100191  Reserva Chardonnay  White  Varietal/100%  ['Chardonnay']   \n",
       "\n",
       "                                           Harmonize   ABV           Body  \\\n",
       "0  ['Beef', 'Lamb', 'Veal', 'Grilled', 'Pizza', '...  13.0    Full-bodied   \n",
       "1  ['Rich Fish', 'Seafood', 'Risotto', 'Poultry',...  13.0  Medium-bodied   \n",
       "\n",
       "  Acidity Code Country  RegionID         RegionName  WineryID    WineryName  \\\n",
       "0  Medium   BR  Brazil      1002  Vale dos Vinhedos     10014  Casa Valduga   \n",
       "1  Medium   BR  Brazil      1001       Serra Gaúcha     10000        Aurora   \n",
       "\n",
       "                            Website  \\\n",
       "0     http://www.casavalduga.com.br   \n",
       "1  http://www.vinicolaaurora.com.br   \n",
       "\n",
       "                                            Vintages  \n",
       "0  [2020, 2019, 2018, 2017, 2016, 2015, 2014, 201...  \n",
       "1  [2021, 2020, 2019, 2018, 2017, 2016, 2015, 201...  "
      ]
     },
     "execution_count": 154,
     "metadata": {},
     "output_type": "execute_result"
    }
   ],
   "source": [
    "wines.head(2)"
   ]
  },
  {
   "cell_type": "code",
   "execution_count": 155,
   "metadata": {},
   "outputs": [
    {
     "data": {
      "text/html": [
       "<div>\n",
       "<style scoped>\n",
       "    .dataframe tbody tr th:only-of-type {\n",
       "        vertical-align: middle;\n",
       "    }\n",
       "\n",
       "    .dataframe tbody tr th {\n",
       "        vertical-align: top;\n",
       "    }\n",
       "\n",
       "    .dataframe thead th {\n",
       "        text-align: right;\n",
       "    }\n",
       "</style>\n",
       "<table border=\"1\" class=\"dataframe\">\n",
       "  <thead>\n",
       "    <tr style=\"text-align: right;\">\n",
       "      <th></th>\n",
       "      <th>RatingID</th>\n",
       "      <th>UserID</th>\n",
       "      <th>WineID</th>\n",
       "      <th>Vintage</th>\n",
       "      <th>Rating</th>\n",
       "      <th>Date</th>\n",
       "    </tr>\n",
       "  </thead>\n",
       "  <tbody>\n",
       "    <tr>\n",
       "      <th>0</th>\n",
       "      <td>3211</td>\n",
       "      <td>1209683</td>\n",
       "      <td>111478</td>\n",
       "      <td>1959</td>\n",
       "      <td>4.5</td>\n",
       "      <td>2016-08-08 00:50:22</td>\n",
       "    </tr>\n",
       "    <tr>\n",
       "      <th>1</th>\n",
       "      <td>27878</td>\n",
       "      <td>1209980</td>\n",
       "      <td>111478</td>\n",
       "      <td>1975</td>\n",
       "      <td>4.0</td>\n",
       "      <td>2018-08-12 17:09:39</td>\n",
       "    </tr>\n",
       "    <tr>\n",
       "      <th>2</th>\n",
       "      <td>31227</td>\n",
       "      <td>1258705</td>\n",
       "      <td>111478</td>\n",
       "      <td>1975</td>\n",
       "      <td>5.0</td>\n",
       "      <td>2014-11-16 19:52:38</td>\n",
       "    </tr>\n",
       "    <tr>\n",
       "      <th>3</th>\n",
       "      <td>41946</td>\n",
       "      <td>1139706</td>\n",
       "      <td>111478</td>\n",
       "      <td>1979</td>\n",
       "      <td>5.0</td>\n",
       "      <td>2014-12-22 02:30:15</td>\n",
       "    </tr>\n",
       "    <tr>\n",
       "      <th>4</th>\n",
       "      <td>61700</td>\n",
       "      <td>1240747</td>\n",
       "      <td>111478</td>\n",
       "      <td>1982</td>\n",
       "      <td>4.5</td>\n",
       "      <td>2019-10-21 02:01:10</td>\n",
       "    </tr>\n",
       "  </tbody>\n",
       "</table>\n",
       "</div>"
      ],
      "text/plain": [
       "   RatingID   UserID  WineID Vintage  Rating                 Date\n",
       "0      3211  1209683  111478    1959     4.5  2016-08-08 00:50:22\n",
       "1     27878  1209980  111478    1975     4.0  2018-08-12 17:09:39\n",
       "2     31227  1258705  111478    1975     5.0  2014-11-16 19:52:38\n",
       "3     41946  1139706  111478    1979     5.0  2014-12-22 02:30:15\n",
       "4     61700  1240747  111478    1982     4.5  2019-10-21 02:01:10"
      ]
     },
     "execution_count": 155,
     "metadata": {},
     "output_type": "execute_result"
    }
   ],
   "source": [
    "ratings.head(5)"
   ]
  },
  {
   "cell_type": "markdown",
   "metadata": {},
   "source": [
    "### Preprocessing"
   ]
  },
  {
   "cell_type": "markdown",
   "metadata": {},
   "source": [
    "#### Selecting the variables"
   ]
  },
  {
   "cell_type": "code",
   "execution_count": 156,
   "metadata": {},
   "outputs": [
    {
     "data": {
      "text/plain": [
       "Index(['WineID', 'WineName', 'Type', 'Elaborate', 'Grapes', 'Harmonize', 'ABV',\n",
       "       'Body', 'Acidity', 'Code', 'Country', 'RegionID', 'RegionName',\n",
       "       'WineryID', 'WineryName', 'Website', 'Vintages'],\n",
       "      dtype='object')"
      ]
     },
     "execution_count": 156,
     "metadata": {},
     "output_type": "execute_result"
    }
   ],
   "source": [
    "wines.columns"
   ]
  },
  {
   "cell_type": "code",
   "execution_count": 157,
   "metadata": {},
   "outputs": [
    {
     "name": "stdout",
     "output_type": "stream",
     "text": [
      "<class 'pandas.core.frame.DataFrame'>\n",
      "RangeIndex: 100 entries, 0 to 99\n",
      "Data columns (total 17 columns):\n",
      " #   Column      Non-Null Count  Dtype  \n",
      "---  ------      --------------  -----  \n",
      " 0   WineID      100 non-null    int64  \n",
      " 1   WineName    100 non-null    object \n",
      " 2   Type        100 non-null    object \n",
      " 3   Elaborate   100 non-null    object \n",
      " 4   Grapes      100 non-null    object \n",
      " 5   Harmonize   100 non-null    object \n",
      " 6   ABV         100 non-null    float64\n",
      " 7   Body        100 non-null    object \n",
      " 8   Acidity     100 non-null    object \n",
      " 9   Code        100 non-null    object \n",
      " 10  Country     100 non-null    object \n",
      " 11  RegionID    100 non-null    int64  \n",
      " 12  RegionName  100 non-null    object \n",
      " 13  WineryID    100 non-null    int64  \n",
      " 14  WineryName  100 non-null    object \n",
      " 15  Website     100 non-null    object \n",
      " 16  Vintages    100 non-null    object \n",
      "dtypes: float64(1), int64(3), object(13)\n",
      "memory usage: 13.4+ KB\n"
     ]
    }
   ],
   "source": [
    "wines.info()"
   ]
  },
  {
   "cell_type": "code",
   "execution_count": 158,
   "metadata": {},
   "outputs": [],
   "source": [
    "wines = wines[\n",
    "    [\n",
    "        \"WineID\",\n",
    "        \"WineName\",\n",
    "        \"Type\",\n",
    "        \"Elaborate\",\n",
    "        \"Grapes\",\n",
    "        \"Harmonize\",\n",
    "        \"ABV\",\n",
    "        \"Body\",\n",
    "        \"Acidity\",\n",
    "        \"Country\",\n",
    "        \"RegionID\",\n",
    "        \"WineryID\",\n",
    "    ]\n",
    "]"
   ]
  },
  {
   "cell_type": "markdown",
   "metadata": {},
   "source": [
    "#### Replacing special characters"
   ]
  },
  {
   "cell_type": "code",
   "execution_count": 159,
   "metadata": {},
   "outputs": [
    {
     "data": {
      "text/html": [
       "<div>\n",
       "<style scoped>\n",
       "    .dataframe tbody tr th:only-of-type {\n",
       "        vertical-align: middle;\n",
       "    }\n",
       "\n",
       "    .dataframe tbody tr th {\n",
       "        vertical-align: top;\n",
       "    }\n",
       "\n",
       "    .dataframe thead th {\n",
       "        text-align: right;\n",
       "    }\n",
       "</style>\n",
       "<table border=\"1\" class=\"dataframe\">\n",
       "  <thead>\n",
       "    <tr style=\"text-align: right;\">\n",
       "      <th></th>\n",
       "      <th>WineID</th>\n",
       "      <th>WineName</th>\n",
       "      <th>Type</th>\n",
       "      <th>Elaborate</th>\n",
       "      <th>Grapes</th>\n",
       "      <th>Harmonize</th>\n",
       "      <th>ABV</th>\n",
       "      <th>Body</th>\n",
       "      <th>Acidity</th>\n",
       "      <th>Country</th>\n",
       "      <th>RegionID</th>\n",
       "      <th>WineryID</th>\n",
       "    </tr>\n",
       "  </thead>\n",
       "  <tbody>\n",
       "    <tr>\n",
       "      <th>0</th>\n",
       "      <td>100062</td>\n",
       "      <td>Origem Merlot</td>\n",
       "      <td>Red</td>\n",
       "      <td>Varietal/100%</td>\n",
       "      <td>['Merlot']</td>\n",
       "      <td>['Beef', 'Lamb', 'Veal', 'Grilled', 'Pizza', '...</td>\n",
       "      <td>13.0</td>\n",
       "      <td>Full-bodied</td>\n",
       "      <td>Medium</td>\n",
       "      <td>Brazil</td>\n",
       "      <td>1002</td>\n",
       "      <td>10014</td>\n",
       "    </tr>\n",
       "    <tr>\n",
       "      <th>1</th>\n",
       "      <td>100191</td>\n",
       "      <td>Reserva Chardonnay</td>\n",
       "      <td>White</td>\n",
       "      <td>Varietal/100%</td>\n",
       "      <td>['Chardonnay']</td>\n",
       "      <td>['Rich Fish', 'Seafood', 'Risotto', 'Poultry',...</td>\n",
       "      <td>13.0</td>\n",
       "      <td>Medium-bodied</td>\n",
       "      <td>Medium</td>\n",
       "      <td>Brazil</td>\n",
       "      <td>1001</td>\n",
       "      <td>10000</td>\n",
       "    </tr>\n",
       "    <tr>\n",
       "      <th>2</th>\n",
       "      <td>101847</td>\n",
       "      <td>Dona Antonia Porto Reserva Tawny</td>\n",
       "      <td>Dessert/Port</td>\n",
       "      <td>Assemblage/Blend</td>\n",
       "      <td>['Touriga Nacional', 'Touriga Franca', 'Tinta ...</td>\n",
       "      <td>['Appetizer', 'Sweet Dessert', 'Blue Cheese']</td>\n",
       "      <td>20.0</td>\n",
       "      <td>Very full-bodied</td>\n",
       "      <td>High</td>\n",
       "      <td>Portugal</td>\n",
       "      <td>1031</td>\n",
       "      <td>10674</td>\n",
       "    </tr>\n",
       "  </tbody>\n",
       "</table>\n",
       "</div>"
      ],
      "text/plain": [
       "   WineID                          WineName          Type         Elaborate  \\\n",
       "0  100062                     Origem Merlot           Red     Varietal/100%   \n",
       "1  100191                Reserva Chardonnay         White     Varietal/100%   \n",
       "2  101847  Dona Antonia Porto Reserva Tawny  Dessert/Port  Assemblage/Blend   \n",
       "\n",
       "                                              Grapes  \\\n",
       "0                                         ['Merlot']   \n",
       "1                                     ['Chardonnay']   \n",
       "2  ['Touriga Nacional', 'Touriga Franca', 'Tinta ...   \n",
       "\n",
       "                                           Harmonize   ABV              Body  \\\n",
       "0  ['Beef', 'Lamb', 'Veal', 'Grilled', 'Pizza', '...  13.0       Full-bodied   \n",
       "1  ['Rich Fish', 'Seafood', 'Risotto', 'Poultry',...  13.0     Medium-bodied   \n",
       "2      ['Appetizer', 'Sweet Dessert', 'Blue Cheese']  20.0  Very full-bodied   \n",
       "\n",
       "  Acidity   Country  RegionID  WineryID  \n",
       "0  Medium    Brazil      1002     10014  \n",
       "1  Medium    Brazil      1001     10000  \n",
       "2    High  Portugal      1031     10674  "
      ]
     },
     "execution_count": 159,
     "metadata": {},
     "output_type": "execute_result"
    }
   ],
   "source": [
    "wines.head(3)"
   ]
  },
  {
   "cell_type": "code",
   "execution_count": 160,
   "metadata": {},
   "outputs": [
    {
     "data": {
      "text/plain": [
       "0                                           ['Merlot']\n",
       "1                                       ['Chardonnay']\n",
       "2    ['Touriga Nacional', 'Touriga Franca', 'Tinta ...\n",
       "3    ['Tinta Amarela', 'Tinta Barroca', 'Touriga Fr...\n",
       "4                  ['Loureiro', 'Alvarinho', 'Arinto']\n",
       "Name: Grapes, dtype: object"
      ]
     },
     "execution_count": 160,
     "metadata": {},
     "output_type": "execute_result"
    }
   ],
   "source": [
    "wines['Grapes'].head()"
   ]
  },
  {
   "cell_type": "code",
   "execution_count": 161,
   "metadata": {},
   "outputs": [
    {
     "data": {
      "text/plain": [
       "0                                               Merlot\n",
       "1                                           Chardonnay\n",
       "2    Touriga Nacional, Touriga Franca, Tinta Barroc...\n",
       "3    Tinta Amarela, Tinta Barroca, Touriga Franca, ...\n",
       "4                          Loureiro, Alvarinho, Arinto\n",
       "Name: Grapes, dtype: object"
      ]
     },
     "execution_count": 161,
     "metadata": {},
     "output_type": "execute_result"
    }
   ],
   "source": [
    "wines['Grapes'] = wines['Grapes'].str.replace(\"[\", \" \").str.replace(\"]\", \" \").str.replace(\"'\", \"\").str.strip()\n",
    "wines['Grapes'].head()"
   ]
  },
  {
   "cell_type": "code",
   "execution_count": 162,
   "metadata": {},
   "outputs": [
    {
     "data": {
      "text/plain": [
       "0          Fullbodied\n",
       "1        Mediumbodied\n",
       "2     Very fullbodied\n",
       "3     Very fullbodied\n",
       "4    Very lightbodied\n",
       "Name: Body, dtype: object"
      ]
     },
     "execution_count": 162,
     "metadata": {},
     "output_type": "execute_result"
    }
   ],
   "source": [
    "wines['Body'] = wines['Body'].str.replace('-', '')\n",
    "wines['Body'].head()"
   ]
  },
  {
   "cell_type": "code",
   "execution_count": 163,
   "metadata": {},
   "outputs": [
    {
     "data": {
      "text/plain": [
       "0             Beef, Lamb, Veal, Grilled, Pizza, Pasta\n",
       "1    Rich Fish, Seafood, Risotto, Poultry, Vegetarian\n",
       "2               Appetizer, Sweet Dessert, Blue Cheese\n",
       "3             Sweet Dessert, Cake, Fruit, Soft Cheese\n",
       "4       Fish, Shellfish, Vegetarian, Appetizer, Snack\n",
       "Name: Harmonize, dtype: object"
      ]
     },
     "execution_count": 163,
     "metadata": {},
     "output_type": "execute_result"
    }
   ],
   "source": [
    "wines[\"Harmonize\"] = wines[\"Harmonize\"].str.replace(\"[\", \" \").str.replace(\"]\", \" \").str.replace(\"'\", \"\").str.strip()\n",
    "wines[\"Harmonize\"].head()"
   ]
  },
  {
   "cell_type": "code",
   "execution_count": 164,
   "metadata": {},
   "outputs": [
    {
     "data": {
      "text/html": [
       "<div>\n",
       "<style scoped>\n",
       "    .dataframe tbody tr th:only-of-type {\n",
       "        vertical-align: middle;\n",
       "    }\n",
       "\n",
       "    .dataframe tbody tr th {\n",
       "        vertical-align: top;\n",
       "    }\n",
       "\n",
       "    .dataframe thead th {\n",
       "        text-align: right;\n",
       "    }\n",
       "</style>\n",
       "<table border=\"1\" class=\"dataframe\">\n",
       "  <thead>\n",
       "    <tr style=\"text-align: right;\">\n",
       "      <th></th>\n",
       "      <th>WineID</th>\n",
       "      <th>WineName</th>\n",
       "      <th>Type</th>\n",
       "      <th>Elaborate</th>\n",
       "      <th>Grapes</th>\n",
       "      <th>Harmonize</th>\n",
       "      <th>ABV</th>\n",
       "      <th>Body</th>\n",
       "      <th>Acidity</th>\n",
       "      <th>Country</th>\n",
       "      <th>RegionID</th>\n",
       "      <th>WineryID</th>\n",
       "    </tr>\n",
       "  </thead>\n",
       "  <tbody>\n",
       "    <tr>\n",
       "      <th>0</th>\n",
       "      <td>100062</td>\n",
       "      <td>Origem Merlot</td>\n",
       "      <td>Red</td>\n",
       "      <td>Varietal/100%</td>\n",
       "      <td>Merlot</td>\n",
       "      <td>Beef, Lamb, Veal, Grilled, Pizza, Pasta</td>\n",
       "      <td>13.0</td>\n",
       "      <td>Fullbodied</td>\n",
       "      <td>Medium</td>\n",
       "      <td>Brazil</td>\n",
       "      <td>1002</td>\n",
       "      <td>10014</td>\n",
       "    </tr>\n",
       "    <tr>\n",
       "      <th>1</th>\n",
       "      <td>100191</td>\n",
       "      <td>Reserva Chardonnay</td>\n",
       "      <td>White</td>\n",
       "      <td>Varietal/100%</td>\n",
       "      <td>Chardonnay</td>\n",
       "      <td>Rich Fish, Seafood, Risotto, Poultry, Vegetarian</td>\n",
       "      <td>13.0</td>\n",
       "      <td>Mediumbodied</td>\n",
       "      <td>Medium</td>\n",
       "      <td>Brazil</td>\n",
       "      <td>1001</td>\n",
       "      <td>10000</td>\n",
       "    </tr>\n",
       "    <tr>\n",
       "      <th>2</th>\n",
       "      <td>101847</td>\n",
       "      <td>Dona Antonia Porto Reserva Tawny</td>\n",
       "      <td>Dessert/Port</td>\n",
       "      <td>Assemblage/Blend</td>\n",
       "      <td>Touriga Nacional, Touriga Franca, Tinta Barroc...</td>\n",
       "      <td>Appetizer, Sweet Dessert, Blue Cheese</td>\n",
       "      <td>20.0</td>\n",
       "      <td>Very fullbodied</td>\n",
       "      <td>High</td>\n",
       "      <td>Portugal</td>\n",
       "      <td>1031</td>\n",
       "      <td>10674</td>\n",
       "    </tr>\n",
       "  </tbody>\n",
       "</table>\n",
       "</div>"
      ],
      "text/plain": [
       "   WineID                          WineName          Type         Elaborate  \\\n",
       "0  100062                     Origem Merlot           Red     Varietal/100%   \n",
       "1  100191                Reserva Chardonnay         White     Varietal/100%   \n",
       "2  101847  Dona Antonia Porto Reserva Tawny  Dessert/Port  Assemblage/Blend   \n",
       "\n",
       "                                              Grapes  \\\n",
       "0                                             Merlot   \n",
       "1                                         Chardonnay   \n",
       "2  Touriga Nacional, Touriga Franca, Tinta Barroc...   \n",
       "\n",
       "                                          Harmonize   ABV             Body  \\\n",
       "0           Beef, Lamb, Veal, Grilled, Pizza, Pasta  13.0       Fullbodied   \n",
       "1  Rich Fish, Seafood, Risotto, Poultry, Vegetarian  13.0     Mediumbodied   \n",
       "2             Appetizer, Sweet Dessert, Blue Cheese  20.0  Very fullbodied   \n",
       "\n",
       "  Acidity   Country  RegionID  WineryID  \n",
       "0  Medium    Brazil      1002     10014  \n",
       "1  Medium    Brazil      1001     10000  \n",
       "2    High  Portugal      1031     10674  "
      ]
     },
     "execution_count": 164,
     "metadata": {},
     "output_type": "execute_result"
    }
   ],
   "source": [
    "wines.head(3)"
   ]
  },
  {
   "cell_type": "code",
   "execution_count": 165,
   "metadata": {},
   "outputs": [],
   "source": [
    "def check_special_characters(df, column_name, special_characters_pattern):\n",
    "    rows_with_special_characters = df[df[column_name].str.contains(special_characters_pattern, regex=True, na=False)]\n",
    "    row_count = len(rows_with_special_characters)\n",
    "    print(\"Number of rows with special characters in {}: {}\".format(column_name, row_count))\n",
    "    print(rows_with_special_characters[[column_name]].drop_duplicates().sort_values(by=column_name))"
   ]
  },
  {
   "cell_type": "code",
   "execution_count": 166,
   "metadata": {},
   "outputs": [],
   "source": [
    "import re\n",
    "def remove_special_characters(df, column_name, characters_to_remove):\n",
    "    df[column_name] = df[column_name].str.replace(f'[{re.escape(characters_to_remove)}]', ' ', regex=True)\n",
    "    return df"
   ]
  },
  {
   "cell_type": "code",
   "execution_count": 167,
   "metadata": {},
   "outputs": [],
   "source": [
    "characters_to_remove = '[!\"#$%°&\\'()*+,-./:;<=>?@[\\\\]^_`{|}~]'"
   ]
  },
  {
   "cell_type": "code",
   "execution_count": 168,
   "metadata": {},
   "outputs": [
    {
     "name": "stdout",
     "output_type": "stream",
     "text": [
      "Number of rows with special characters in WineName: 20\n",
      "                                        WineName\n",
      "53                                Barbera d'Alba\n",
      "48                             Brachetto d'Acqui\n",
      "75                     Cabernet Sauvignon-Shiraz\n",
      "35                   Chablis 1er Cru 'Montmains'\n",
      "25          Château Chemin Royal Moulis-en-Médoc\n",
      "29                        Cinsault-Grenache Rosé\n",
      "22                Coteaux d'Aix-en-Provence Rosé\n",
      "50                         Dulcis Moscato d'Asti\n",
      "31           Les Fuées Chambolle-Musigny 1er Cru\n",
      "34                        Marc d'Alsace Riesling\n",
      "37     Meursault 1er Cru 'La Pièce Sous Le Bois'\n",
      "40                        Nicolon Barbera d'Alba\n",
      "28                 Nuits-St-Georges Les Plateaux\n",
      "24                                Pessac-Léognan\n",
      "21  Pommard Premier Cru 'Grand Clos des Épenots'\n",
      "63   Rare Cream Sherry Superior (Solera Reserva)\n",
      "47                         Riserva Prêt-A-Porter\n",
      "19          Sauternes (Premier Grand Cru Classé)\n",
      "52                        Solatio Moscato d'Asti\n",
      "20               Vieille Vigne Gevrey-Chambertin\n"
     ]
    }
   ],
   "source": [
    "check_special_characters(wines, 'WineName', characters_to_remove)"
   ]
  },
  {
   "cell_type": "code",
   "execution_count": 169,
   "metadata": {},
   "outputs": [
    {
     "name": "stdout",
     "output_type": "stream",
     "text": [
      "Number of rows with special characters in WineName: 0\n",
      "Empty DataFrame\n",
      "Columns: [WineName]\n",
      "Index: []\n"
     ]
    }
   ],
   "source": [
    "wines = remove_special_characters(wines, 'WineName', characters_to_remove)\n",
    "check_special_characters(wines, 'WineName', characters_to_remove)"
   ]
  },
  {
   "cell_type": "markdown",
   "metadata": {},
   "source": [
    "#### Null values"
   ]
  },
  {
   "cell_type": "code",
   "execution_count": 170,
   "metadata": {},
   "outputs": [
    {
     "data": {
      "text/plain": [
       "WineID       0\n",
       "WineName     0\n",
       "Type         0\n",
       "Elaborate    0\n",
       "Grapes       0\n",
       "Harmonize    0\n",
       "ABV          0\n",
       "Body         0\n",
       "Acidity      0\n",
       "Country      0\n",
       "RegionID     0\n",
       "WineryID     0\n",
       "dtype: int64"
      ]
     },
     "execution_count": 170,
     "metadata": {},
     "output_type": "execute_result"
    }
   ],
   "source": [
    "wines.isnull().sum()"
   ]
  },
  {
   "cell_type": "markdown",
   "metadata": {},
   "source": [
    "#### Splitting list variables"
   ]
  },
  {
   "cell_type": "code",
   "execution_count": 171,
   "metadata": {},
   "outputs": [],
   "source": [
    "def split_and_expand_columns(df, column_name, delimiter=\"/\"):\n",
    "    expanded_columns = df[column_name].str.split(delimiter, expand=True)\n",
    "    new_columns = [f\"{column_name}{i+1}\" for i in range(expanded_columns.shape[1])]\n",
    "    expanded_columns.columns = new_columns\n",
    "\n",
    "    df = pd.concat([df, expanded_columns], axis=1)\n",
    "    df = df.fillna(\"\")\n",
    "    df = df.drop(columns=[column_name])\n",
    "\n",
    "    return df"
   ]
  },
  {
   "cell_type": "code",
   "execution_count": 172,
   "metadata": {},
   "outputs": [
    {
     "data": {
      "text/plain": [
       "0             Beef, Lamb, Veal, Grilled, Pizza, Pasta\n",
       "1    Rich Fish, Seafood, Risotto, Poultry, Vegetarian\n",
       "2               Appetizer, Sweet Dessert, Blue Cheese\n",
       "3             Sweet Dessert, Cake, Fruit, Soft Cheese\n",
       "4       Fish, Shellfish, Vegetarian, Appetizer, Snack\n",
       "Name: Harmonize, dtype: object"
      ]
     },
     "execution_count": 172,
     "metadata": {},
     "output_type": "execute_result"
    }
   ],
   "source": [
    "wines['Harmonize'].head()"
   ]
  },
  {
   "cell_type": "code",
   "execution_count": 173,
   "metadata": {},
   "outputs": [],
   "source": [
    "wines = split_and_expand_columns(wines, \"Harmonize\", delimiter=\", \")"
   ]
  },
  {
   "cell_type": "code",
   "execution_count": 174,
   "metadata": {},
   "outputs": [
    {
     "data": {
      "text/html": [
       "<div>\n",
       "<style scoped>\n",
       "    .dataframe tbody tr th:only-of-type {\n",
       "        vertical-align: middle;\n",
       "    }\n",
       "\n",
       "    .dataframe tbody tr th {\n",
       "        vertical-align: top;\n",
       "    }\n",
       "\n",
       "    .dataframe thead th {\n",
       "        text-align: right;\n",
       "    }\n",
       "</style>\n",
       "<table border=\"1\" class=\"dataframe\">\n",
       "  <thead>\n",
       "    <tr style=\"text-align: right;\">\n",
       "      <th></th>\n",
       "      <th>Harmonize1</th>\n",
       "      <th>Harmonize2</th>\n",
       "      <th>Harmonize3</th>\n",
       "      <th>Harmonize4</th>\n",
       "      <th>Harmonize5</th>\n",
       "      <th>Harmonize6</th>\n",
       "    </tr>\n",
       "  </thead>\n",
       "  <tbody>\n",
       "    <tr>\n",
       "      <th>0</th>\n",
       "      <td>Beef</td>\n",
       "      <td>Lamb</td>\n",
       "      <td>Veal</td>\n",
       "      <td>Grilled</td>\n",
       "      <td>Pizza</td>\n",
       "      <td>Pasta</td>\n",
       "    </tr>\n",
       "    <tr>\n",
       "      <th>1</th>\n",
       "      <td>Rich Fish</td>\n",
       "      <td>Seafood</td>\n",
       "      <td>Risotto</td>\n",
       "      <td>Poultry</td>\n",
       "      <td>Vegetarian</td>\n",
       "      <td></td>\n",
       "    </tr>\n",
       "    <tr>\n",
       "      <th>2</th>\n",
       "      <td>Appetizer</td>\n",
       "      <td>Sweet Dessert</td>\n",
       "      <td>Blue Cheese</td>\n",
       "      <td></td>\n",
       "      <td></td>\n",
       "      <td></td>\n",
       "    </tr>\n",
       "    <tr>\n",
       "      <th>3</th>\n",
       "      <td>Sweet Dessert</td>\n",
       "      <td>Cake</td>\n",
       "      <td>Fruit</td>\n",
       "      <td>Soft Cheese</td>\n",
       "      <td></td>\n",
       "      <td></td>\n",
       "    </tr>\n",
       "    <tr>\n",
       "      <th>4</th>\n",
       "      <td>Fish</td>\n",
       "      <td>Shellfish</td>\n",
       "      <td>Vegetarian</td>\n",
       "      <td>Appetizer</td>\n",
       "      <td>Snack</td>\n",
       "      <td></td>\n",
       "    </tr>\n",
       "  </tbody>\n",
       "</table>\n",
       "</div>"
      ],
      "text/plain": [
       "      Harmonize1     Harmonize2   Harmonize3   Harmonize4  Harmonize5  \\\n",
       "0           Beef           Lamb         Veal      Grilled       Pizza   \n",
       "1      Rich Fish        Seafood      Risotto      Poultry  Vegetarian   \n",
       "2      Appetizer  Sweet Dessert  Blue Cheese                            \n",
       "3  Sweet Dessert           Cake        Fruit  Soft Cheese               \n",
       "4           Fish      Shellfish   Vegetarian    Appetizer       Snack   \n",
       "\n",
       "  Harmonize6  \n",
       "0      Pasta  \n",
       "1             \n",
       "2             \n",
       "3             \n",
       "4             "
      ]
     },
     "execution_count": 174,
     "metadata": {},
     "output_type": "execute_result"
    }
   ],
   "source": [
    "wines.iloc[:, -6:].head()"
   ]
  },
  {
   "cell_type": "code",
   "execution_count": 175,
   "metadata": {},
   "outputs": [],
   "source": [
    "wines = split_and_expand_columns(wines, \"Grapes\", delimiter=\", \")"
   ]
  },
  {
   "cell_type": "code",
   "execution_count": 176,
   "metadata": {},
   "outputs": [
    {
     "data": {
      "text/html": [
       "<div>\n",
       "<style scoped>\n",
       "    .dataframe tbody tr th:only-of-type {\n",
       "        vertical-align: middle;\n",
       "    }\n",
       "\n",
       "    .dataframe tbody tr th {\n",
       "        vertical-align: top;\n",
       "    }\n",
       "\n",
       "    .dataframe thead th {\n",
       "        text-align: right;\n",
       "    }\n",
       "</style>\n",
       "<table border=\"1\" class=\"dataframe\">\n",
       "  <thead>\n",
       "    <tr style=\"text-align: right;\">\n",
       "      <th></th>\n",
       "      <th>Grapes1</th>\n",
       "      <th>Grapes2</th>\n",
       "      <th>Grapes3</th>\n",
       "      <th>Grapes4</th>\n",
       "      <th>Grapes5</th>\n",
       "      <th>Grapes6</th>\n",
       "      <th>Grapes7</th>\n",
       "      <th>Grapes8</th>\n",
       "      <th>Grapes9</th>\n",
       "    </tr>\n",
       "  </thead>\n",
       "  <tbody>\n",
       "    <tr>\n",
       "      <th>45</th>\n",
       "      <td>Negroamaro</td>\n",
       "      <td>Merlot</td>\n",
       "      <td>Refosco</td>\n",
       "      <td></td>\n",
       "      <td></td>\n",
       "      <td></td>\n",
       "      <td></td>\n",
       "      <td></td>\n",
       "      <td></td>\n",
       "    </tr>\n",
       "    <tr>\n",
       "      <th>48</th>\n",
       "      <td>Brachetto</td>\n",
       "      <td></td>\n",
       "      <td></td>\n",
       "      <td></td>\n",
       "      <td></td>\n",
       "      <td></td>\n",
       "      <td></td>\n",
       "      <td></td>\n",
       "      <td></td>\n",
       "    </tr>\n",
       "    <tr>\n",
       "      <th>6</th>\n",
       "      <td>Alicante Bouschet</td>\n",
       "      <td>Aragonez</td>\n",
       "      <td>Trincadeira</td>\n",
       "      <td></td>\n",
       "      <td></td>\n",
       "      <td></td>\n",
       "      <td></td>\n",
       "      <td></td>\n",
       "      <td></td>\n",
       "    </tr>\n",
       "    <tr>\n",
       "      <th>2</th>\n",
       "      <td>Touriga Nacional</td>\n",
       "      <td>Touriga Franca</td>\n",
       "      <td>Tinta Barroca</td>\n",
       "      <td>Tinta Amarela</td>\n",
       "      <td></td>\n",
       "      <td></td>\n",
       "      <td></td>\n",
       "      <td></td>\n",
       "      <td></td>\n",
       "    </tr>\n",
       "    <tr>\n",
       "      <th>12</th>\n",
       "      <td>Azal Tinto</td>\n",
       "      <td>Vinhão</td>\n",
       "      <td>Padeiro</td>\n",
       "      <td></td>\n",
       "      <td></td>\n",
       "      <td></td>\n",
       "      <td></td>\n",
       "      <td></td>\n",
       "      <td></td>\n",
       "    </tr>\n",
       "    <tr>\n",
       "      <th>42</th>\n",
       "      <td>Chardonnay</td>\n",
       "      <td></td>\n",
       "      <td></td>\n",
       "      <td></td>\n",
       "      <td></td>\n",
       "      <td></td>\n",
       "      <td></td>\n",
       "      <td></td>\n",
       "      <td></td>\n",
       "    </tr>\n",
       "    <tr>\n",
       "      <th>10</th>\n",
       "      <td>Touriga Franca</td>\n",
       "      <td>Touriga Nacional</td>\n",
       "      <td>Tinta Roriz</td>\n",
       "      <td>Tinta Barroca</td>\n",
       "      <td></td>\n",
       "      <td></td>\n",
       "      <td></td>\n",
       "      <td></td>\n",
       "      <td></td>\n",
       "    </tr>\n",
       "    <tr>\n",
       "      <th>29</th>\n",
       "      <td>Grenache</td>\n",
       "      <td>Cinsault</td>\n",
       "      <td></td>\n",
       "      <td></td>\n",
       "      <td></td>\n",
       "      <td></td>\n",
       "      <td></td>\n",
       "      <td></td>\n",
       "      <td></td>\n",
       "    </tr>\n",
       "    <tr>\n",
       "      <th>50</th>\n",
       "      <td>Muscat/Moscato</td>\n",
       "      <td></td>\n",
       "      <td></td>\n",
       "      <td></td>\n",
       "      <td></td>\n",
       "      <td></td>\n",
       "      <td></td>\n",
       "      <td></td>\n",
       "      <td></td>\n",
       "    </tr>\n",
       "    <tr>\n",
       "      <th>60</th>\n",
       "      <td>Fiano</td>\n",
       "      <td></td>\n",
       "      <td></td>\n",
       "      <td></td>\n",
       "      <td></td>\n",
       "      <td></td>\n",
       "      <td></td>\n",
       "      <td></td>\n",
       "      <td></td>\n",
       "    </tr>\n",
       "    <tr>\n",
       "      <th>40</th>\n",
       "      <td>Barbera</td>\n",
       "      <td></td>\n",
       "      <td></td>\n",
       "      <td></td>\n",
       "      <td></td>\n",
       "      <td></td>\n",
       "      <td></td>\n",
       "      <td></td>\n",
       "      <td></td>\n",
       "    </tr>\n",
       "    <tr>\n",
       "      <th>0</th>\n",
       "      <td>Merlot</td>\n",
       "      <td></td>\n",
       "      <td></td>\n",
       "      <td></td>\n",
       "      <td></td>\n",
       "      <td></td>\n",
       "      <td></td>\n",
       "      <td></td>\n",
       "      <td></td>\n",
       "    </tr>\n",
       "    <tr>\n",
       "      <th>18</th>\n",
       "      <td>Merlot</td>\n",
       "      <td></td>\n",
       "      <td></td>\n",
       "      <td></td>\n",
       "      <td></td>\n",
       "      <td></td>\n",
       "      <td></td>\n",
       "      <td></td>\n",
       "      <td></td>\n",
       "    </tr>\n",
       "    <tr>\n",
       "      <th>86</th>\n",
       "      <td>Pinot Noir</td>\n",
       "      <td></td>\n",
       "      <td></td>\n",
       "      <td></td>\n",
       "      <td></td>\n",
       "      <td></td>\n",
       "      <td></td>\n",
       "      <td></td>\n",
       "      <td></td>\n",
       "    </tr>\n",
       "    <tr>\n",
       "      <th>43</th>\n",
       "      <td>Pinot Grigio</td>\n",
       "      <td>Chardonnay</td>\n",
       "      <td></td>\n",
       "      <td></td>\n",
       "      <td></td>\n",
       "      <td></td>\n",
       "      <td></td>\n",
       "      <td></td>\n",
       "      <td></td>\n",
       "    </tr>\n",
       "  </tbody>\n",
       "</table>\n",
       "</div>"
      ],
      "text/plain": [
       "              Grapes1           Grapes2        Grapes3        Grapes4 Grapes5  \\\n",
       "45         Negroamaro            Merlot        Refosco                          \n",
       "48          Brachetto                                                           \n",
       "6   Alicante Bouschet          Aragonez    Trincadeira                          \n",
       "2    Touriga Nacional    Touriga Franca  Tinta Barroca  Tinta Amarela           \n",
       "12         Azal Tinto            Vinhão        Padeiro                          \n",
       "42         Chardonnay                                                           \n",
       "10     Touriga Franca  Touriga Nacional    Tinta Roriz  Tinta Barroca           \n",
       "29           Grenache          Cinsault                                         \n",
       "50     Muscat/Moscato                                                           \n",
       "60              Fiano                                                           \n",
       "40            Barbera                                                           \n",
       "0              Merlot                                                           \n",
       "18             Merlot                                                           \n",
       "86         Pinot Noir                                                           \n",
       "43       Pinot Grigio        Chardonnay                                         \n",
       "\n",
       "   Grapes6 Grapes7 Grapes8 Grapes9  \n",
       "45                                  \n",
       "48                                  \n",
       "6                                   \n",
       "2                                   \n",
       "12                                  \n",
       "42                                  \n",
       "10                                  \n",
       "29                                  \n",
       "50                                  \n",
       "60                                  \n",
       "40                                  \n",
       "0                                   \n",
       "18                                  \n",
       "86                                  \n",
       "43                                  "
      ]
     },
     "execution_count": 176,
     "metadata": {},
     "output_type": "execute_result"
    }
   ],
   "source": [
    "wines.sample(15).iloc[:, -9:]"
   ]
  },
  {
   "cell_type": "code",
   "execution_count": 177,
   "metadata": {},
   "outputs": [
    {
     "data": {
      "text/plain": [
       "Elaborate\n",
       "Varietal/100%                        58\n",
       "Assemblage/Blend                     25\n",
       "Varietal/>75%                         5\n",
       "Assemblage/Bordeaux Red Blend         4\n",
       "Assemblage/Portuguese Red Blend       2\n",
       "Assemblage/Provence Rosé Blend        2\n",
       "Assemblage/Valpolicella Red Blend     2\n",
       "Assemblage/Port Blend                 1\n",
       "Assemblage/Rhône Red Blend            1\n",
       "Name: count, dtype: int64"
      ]
     },
     "execution_count": 177,
     "metadata": {},
     "output_type": "execute_result"
    }
   ],
   "source": [
    "wines['Elaborate'].value_counts()"
   ]
  },
  {
   "cell_type": "code",
   "execution_count": 178,
   "metadata": {},
   "outputs": [],
   "source": [
    "wines = split_and_expand_columns(wines, \"Elaborate\")"
   ]
  },
  {
   "cell_type": "code",
   "execution_count": 179,
   "metadata": {},
   "outputs": [
    {
     "data": {
      "text/html": [
       "<div>\n",
       "<style scoped>\n",
       "    .dataframe tbody tr th:only-of-type {\n",
       "        vertical-align: middle;\n",
       "    }\n",
       "\n",
       "    .dataframe tbody tr th {\n",
       "        vertical-align: top;\n",
       "    }\n",
       "\n",
       "    .dataframe thead th {\n",
       "        text-align: right;\n",
       "    }\n",
       "</style>\n",
       "<table border=\"1\" class=\"dataframe\">\n",
       "  <thead>\n",
       "    <tr style=\"text-align: right;\">\n",
       "      <th></th>\n",
       "      <th>Elaborate1</th>\n",
       "      <th>Elaborate2</th>\n",
       "    </tr>\n",
       "  </thead>\n",
       "  <tbody>\n",
       "    <tr>\n",
       "      <th>16</th>\n",
       "      <td>Varietal</td>\n",
       "      <td>100%</td>\n",
       "    </tr>\n",
       "    <tr>\n",
       "      <th>15</th>\n",
       "      <td>Assemblage</td>\n",
       "      <td>Blend</td>\n",
       "    </tr>\n",
       "    <tr>\n",
       "      <th>75</th>\n",
       "      <td>Assemblage</td>\n",
       "      <td>Blend</td>\n",
       "    </tr>\n",
       "    <tr>\n",
       "      <th>70</th>\n",
       "      <td>Varietal</td>\n",
       "      <td>100%</td>\n",
       "    </tr>\n",
       "    <tr>\n",
       "      <th>4</th>\n",
       "      <td>Assemblage</td>\n",
       "      <td>Blend</td>\n",
       "    </tr>\n",
       "    <tr>\n",
       "      <th>82</th>\n",
       "      <td>Varietal</td>\n",
       "      <td>&gt;75%</td>\n",
       "    </tr>\n",
       "    <tr>\n",
       "      <th>52</th>\n",
       "      <td>Varietal</td>\n",
       "      <td>100%</td>\n",
       "    </tr>\n",
       "    <tr>\n",
       "      <th>53</th>\n",
       "      <td>Varietal</td>\n",
       "      <td>100%</td>\n",
       "    </tr>\n",
       "    <tr>\n",
       "      <th>73</th>\n",
       "      <td>Assemblage</td>\n",
       "      <td>Blend</td>\n",
       "    </tr>\n",
       "    <tr>\n",
       "      <th>78</th>\n",
       "      <td>Varietal</td>\n",
       "      <td>100%</td>\n",
       "    </tr>\n",
       "  </tbody>\n",
       "</table>\n",
       "</div>"
      ],
      "text/plain": [
       "    Elaborate1 Elaborate2\n",
       "16    Varietal       100%\n",
       "15  Assemblage      Blend\n",
       "75  Assemblage      Blend\n",
       "70    Varietal       100%\n",
       "4   Assemblage      Blend\n",
       "82    Varietal       >75%\n",
       "52    Varietal       100%\n",
       "53    Varietal       100%\n",
       "73  Assemblage      Blend\n",
       "78    Varietal       100%"
      ]
     },
     "execution_count": 179,
     "metadata": {},
     "output_type": "execute_result"
    }
   ],
   "source": [
    "wines.sample(10).iloc[:, -2:]"
   ]
  },
  {
   "cell_type": "code",
   "execution_count": 180,
   "metadata": {},
   "outputs": [
    {
     "data": {
      "text/plain": [
       "Type\n",
       "Red             53\n",
       "White           19\n",
       "Rosé             8\n",
       "Dessert          8\n",
       "Sparkling        7\n",
       "Dessert/Port     5\n",
       "Name: count, dtype: int64"
      ]
     },
     "execution_count": 180,
     "metadata": {},
     "output_type": "execute_result"
    }
   ],
   "source": [
    "wines['Type'].value_counts()"
   ]
  },
  {
   "cell_type": "code",
   "execution_count": 181,
   "metadata": {},
   "outputs": [],
   "source": [
    "wines = split_and_expand_columns(wines, \"Type\")"
   ]
  },
  {
   "cell_type": "code",
   "execution_count": 182,
   "metadata": {},
   "outputs": [
    {
     "data": {
      "text/html": [
       "<div>\n",
       "<style scoped>\n",
       "    .dataframe tbody tr th:only-of-type {\n",
       "        vertical-align: middle;\n",
       "    }\n",
       "\n",
       "    .dataframe tbody tr th {\n",
       "        vertical-align: top;\n",
       "    }\n",
       "\n",
       "    .dataframe thead th {\n",
       "        text-align: right;\n",
       "    }\n",
       "</style>\n",
       "<table border=\"1\" class=\"dataframe\">\n",
       "  <thead>\n",
       "    <tr style=\"text-align: right;\">\n",
       "      <th></th>\n",
       "      <th>Type1</th>\n",
       "      <th>Type2</th>\n",
       "    </tr>\n",
       "  </thead>\n",
       "  <tbody>\n",
       "    <tr>\n",
       "      <th>57</th>\n",
       "      <td>Red</td>\n",
       "      <td></td>\n",
       "    </tr>\n",
       "    <tr>\n",
       "      <th>39</th>\n",
       "      <td>Red</td>\n",
       "      <td></td>\n",
       "    </tr>\n",
       "    <tr>\n",
       "      <th>32</th>\n",
       "      <td>Dessert</td>\n",
       "      <td></td>\n",
       "    </tr>\n",
       "    <tr>\n",
       "      <th>79</th>\n",
       "      <td>Red</td>\n",
       "      <td></td>\n",
       "    </tr>\n",
       "    <tr>\n",
       "      <th>16</th>\n",
       "      <td>White</td>\n",
       "      <td></td>\n",
       "    </tr>\n",
       "    <tr>\n",
       "      <th>46</th>\n",
       "      <td>White</td>\n",
       "      <td></td>\n",
       "    </tr>\n",
       "    <tr>\n",
       "      <th>98</th>\n",
       "      <td>White</td>\n",
       "      <td></td>\n",
       "    </tr>\n",
       "    <tr>\n",
       "      <th>29</th>\n",
       "      <td>Rosé</td>\n",
       "      <td></td>\n",
       "    </tr>\n",
       "    <tr>\n",
       "      <th>83</th>\n",
       "      <td>Dessert</td>\n",
       "      <td></td>\n",
       "    </tr>\n",
       "    <tr>\n",
       "      <th>56</th>\n",
       "      <td>White</td>\n",
       "      <td></td>\n",
       "    </tr>\n",
       "  </tbody>\n",
       "</table>\n",
       "</div>"
      ],
      "text/plain": [
       "      Type1 Type2\n",
       "57      Red      \n",
       "39      Red      \n",
       "32  Dessert      \n",
       "79      Red      \n",
       "16    White      \n",
       "46    White      \n",
       "98    White      \n",
       "29     Rosé      \n",
       "83  Dessert      \n",
       "56    White      "
      ]
     },
     "execution_count": 182,
     "metadata": {},
     "output_type": "execute_result"
    }
   ],
   "source": [
    "wines.sample(10).iloc[:, -2:]"
   ]
  },
  {
   "cell_type": "markdown",
   "metadata": {},
   "source": [
    "#### Alcohol beverage outliers"
   ]
  },
  {
   "cell_type": "code",
   "execution_count": 183,
   "metadata": {},
   "outputs": [
    {
     "data": {
      "text/plain": [
       "count    100.000000\n",
       "mean      13.659000\n",
       "std        4.258375\n",
       "min        4.000000\n",
       "25%       12.875000\n",
       "50%       13.350000\n",
       "75%       14.300000\n",
       "max       48.000000\n",
       "Name: ABV, dtype: float64"
      ]
     },
     "execution_count": 183,
     "metadata": {},
     "output_type": "execute_result"
    }
   ],
   "source": [
    "wines['ABV'].describe()"
   ]
  },
  {
   "cell_type": "code",
   "execution_count": 184,
   "metadata": {},
   "outputs": [
    {
     "data": {
      "text/plain": [
       "ABV\n",
       "13.0    24\n",
       "13.5     9\n",
       "14.0     9\n",
       "14.5     8\n",
       "12.5     8\n",
       "12.0     5\n",
       "15.5     4\n",
       "11.5     3\n",
       "20.0     3\n",
       "15.0     3\n",
       "19.5     2\n",
       "14.1     2\n",
       "14.3     2\n",
       "4.0      1\n",
       "14.8     1\n",
       "14.6     1\n",
       "14.7     1\n",
       "13.4     1\n",
       "14.2     1\n",
       "13.6     1\n",
       "13.3     1\n",
       "5.5      1\n",
       "5.0      1\n",
       "9.5      1\n",
       "6.0      1\n",
       "48.0     1\n",
       "13.8     1\n",
       "11.2     1\n",
       "10.5     1\n",
       "10.0     1\n",
       "11.0     1\n",
       "Name: count, dtype: int64"
      ]
     },
     "execution_count": 184,
     "metadata": {},
     "output_type": "execute_result"
    }
   ],
   "source": [
    "wines['ABV'].value_counts()"
   ]
  },
  {
   "cell_type": "code",
   "execution_count": 185,
   "metadata": {},
   "outputs": [],
   "source": [
    "def transform_values(df, column_name):\n",
    "    df[column_name] = np.where(df[column_name] > 15, 15, df[column_name])\n",
    "    df[column_name] = np.where(df[column_name] < 8, 8, df[column_name])\n",
    "    return df"
   ]
  },
  {
   "cell_type": "code",
   "execution_count": 186,
   "metadata": {},
   "outputs": [],
   "source": [
    "wines = transform_values(wines, 'ABV')"
   ]
  },
  {
   "cell_type": "code",
   "execution_count": 187,
   "metadata": {},
   "outputs": [
    {
     "data": {
      "text/plain": [
       "count    100.000000\n",
       "mean      13.184000\n",
       "std        1.568421\n",
       "min        8.000000\n",
       "25%       12.875000\n",
       "50%       13.350000\n",
       "75%       14.300000\n",
       "max       15.000000\n",
       "Name: ABV, dtype: float64"
      ]
     },
     "execution_count": 187,
     "metadata": {},
     "output_type": "execute_result"
    }
   ],
   "source": [
    "wines['ABV'].describe()"
   ]
  },
  {
   "cell_type": "code",
   "execution_count": 188,
   "metadata": {},
   "outputs": [
    {
     "data": {
      "text/plain": [
       "ABV\n",
       "13.0    24\n",
       "15.0    13\n",
       "14.0     9\n",
       "13.5     9\n",
       "14.5     8\n",
       "12.5     8\n",
       "12.0     5\n",
       "8.0      4\n",
       "11.5     3\n",
       "14.1     2\n",
       "14.3     2\n",
       "13.8     1\n",
       "11.2     1\n",
       "10.5     1\n",
       "9.5      1\n",
       "13.3     1\n",
       "13.6     1\n",
       "14.2     1\n",
       "13.4     1\n",
       "10.0     1\n",
       "14.7     1\n",
       "14.6     1\n",
       "14.8     1\n",
       "11.0     1\n",
       "Name: count, dtype: int64"
      ]
     },
     "execution_count": 188,
     "metadata": {},
     "output_type": "execute_result"
    }
   ],
   "source": [
    "wines['ABV'].value_counts()"
   ]
  },
  {
   "cell_type": "markdown",
   "metadata": {},
   "source": [
    "### Exporting"
   ]
  },
  {
   "cell_type": "code",
   "execution_count": 189,
   "metadata": {},
   "outputs": [],
   "source": [
    "wines.to_csv('XWines_new.csv', index=False)"
   ]
  },
  {
   "cell_type": "markdown",
   "metadata": {},
   "source": [
    "Combine variables into one column and do tf-idf"
   ]
  },
  {
   "cell_type": "code",
   "execution_count": 190,
   "metadata": {},
   "outputs": [],
   "source": [
    "wines = wines.fillna(\"\")"
   ]
  },
  {
   "cell_type": "code",
   "execution_count": 191,
   "metadata": {},
   "outputs": [],
   "source": [
    "common_columns = ['WineName', 'Body', 'Acidity', 'Country']\n",
    "grapes_columns = [f'Grapes{i}' for i in range(1, 10)]\n",
    "harmonize_columns = [f'Harmonize{i}' for i in range(1, 7)]\n",
    "type_columns = [f'Type{i}' for i in range(1, 3)]\n",
    "elaborate_columns = [f'Elaborate{i}' for i in range(1, 3)]\n",
    "all_columns = common_columns + grapes_columns + harmonize_columns + type_columns + elaborate_columns\n",
    "wines['Attributes'] = wines[all_columns].astype(str).agg(' '.join, axis=1)"
   ]
  },
  {
   "cell_type": "code",
   "execution_count": 196,
   "metadata": {},
   "outputs": [
    {
     "data": {
      "text/html": [
       "<div>\n",
       "<style scoped>\n",
       "    .dataframe tbody tr th:only-of-type {\n",
       "        vertical-align: middle;\n",
       "    }\n",
       "\n",
       "    .dataframe tbody tr th {\n",
       "        vertical-align: top;\n",
       "    }\n",
       "\n",
       "    .dataframe thead th {\n",
       "        text-align: right;\n",
       "    }\n",
       "</style>\n",
       "<table border=\"1\" class=\"dataframe\">\n",
       "  <thead>\n",
       "    <tr style=\"text-align: right;\">\n",
       "      <th></th>\n",
       "      <th>WineID</th>\n",
       "      <th>ABV</th>\n",
       "      <th>RegionID</th>\n",
       "      <th>WineryID</th>\n",
       "      <th>Attributes</th>\n",
       "    </tr>\n",
       "  </thead>\n",
       "  <tbody>\n",
       "    <tr>\n",
       "      <th>0</th>\n",
       "      <td>100062</td>\n",
       "      <td>13.0</td>\n",
       "      <td>1002</td>\n",
       "      <td>10014</td>\n",
       "      <td>Origem Merlot Fullbodied Medium Brazil Merlot ...</td>\n",
       "    </tr>\n",
       "    <tr>\n",
       "      <th>1</th>\n",
       "      <td>100191</td>\n",
       "      <td>13.0</td>\n",
       "      <td>1001</td>\n",
       "      <td>10000</td>\n",
       "      <td>Reserva Chardonnay Mediumbodied Medium Brazil ...</td>\n",
       "    </tr>\n",
       "    <tr>\n",
       "      <th>2</th>\n",
       "      <td>101847</td>\n",
       "      <td>15.0</td>\n",
       "      <td>1031</td>\n",
       "      <td>10674</td>\n",
       "      <td>Dona Antonia Porto Reserva Tawny Very fullbodi...</td>\n",
       "    </tr>\n",
       "  </tbody>\n",
       "</table>\n",
       "</div>"
      ],
      "text/plain": [
       "   WineID   ABV  RegionID  WineryID  \\\n",
       "0  100062  13.0      1002     10014   \n",
       "1  100191  13.0      1001     10000   \n",
       "2  101847  15.0      1031     10674   \n",
       "\n",
       "                                          Attributes  \n",
       "0  Origem Merlot Fullbodied Medium Brazil Merlot ...  \n",
       "1  Reserva Chardonnay Mediumbodied Medium Brazil ...  \n",
       "2  Dona Antonia Porto Reserva Tawny Very fullbodi...  "
      ]
     },
     "execution_count": 196,
     "metadata": {},
     "output_type": "execute_result"
    }
   ],
   "source": [
    "wines.head(3)"
   ]
  },
  {
   "cell_type": "code",
   "execution_count": 193,
   "metadata": {},
   "outputs": [],
   "source": [
    "wines.drop(columns=all_columns, inplace=True)"
   ]
  },
  {
   "cell_type": "code",
   "execution_count": 197,
   "metadata": {},
   "outputs": [],
   "source": [
    "wines.to_csv('XWines_with_arrtibutes.csv', index=False)"
   ]
  },
  {
   "cell_type": "markdown",
   "metadata": {},
   "source": [
    "Vectorize attribute:"
   ]
  },
  {
   "cell_type": "code",
   "execution_count": 194,
   "metadata": {},
   "outputs": [
    {
     "data": {
      "text/plain": [
       "(100, 375)"
      ]
     },
     "execution_count": 194,
     "metadata": {},
     "output_type": "execute_result"
    }
   ],
   "source": [
    "from sklearn.feature_extraction.text import TfidfVectorizer\n",
    "\n",
    "tfidf = TfidfVectorizer()\n",
    "tfidf_matrix = tfidf.fit_transform(wines['Attributes'])\n",
    "tfidf_matrix.shape"
   ]
  },
  {
   "cell_type": "code",
   "execution_count": 195,
   "metadata": {},
   "outputs": [],
   "source": [
    "from sklearn.metrics.pairwise import linear_kernel\n",
    "\n",
    "cosine_sim = linear_kernel(tfidf_matrix, tfidf_matrix)"
   ]
  },
  {
   "cell_type": "code",
   "execution_count": 198,
   "metadata": {},
   "outputs": [],
   "source": [
    "import pandas as pd\n",
    "from sklearn.neighbors import NearestNeighbors\n",
    "from sklearn.model_selection import train_test_split\n",
    "from sklearn.metrics import mean_squared_error\n",
    "import numpy as np"
   ]
  },
  {
   "cell_type": "code",
   "execution_count": 199,
   "metadata": {},
   "outputs": [],
   "source": [
    "# Load datasets\n",
    "wines = pd.read_csv(\"wines_features.csv\", encoding=\"utf-8\")\n",
    "ratings = pd.read_csv(\"XWines_Test_100_wines_1K_ratings\\XWines_Test_1K_ratings.csv\", low_memory=False)"
   ]
  },
  {
   "cell_type": "code",
   "execution_count": 200,
   "metadata": {},
   "outputs": [
    {
     "data": {
      "text/html": [
       "<div>\n",
       "<style scoped>\n",
       "    .dataframe tbody tr th:only-of-type {\n",
       "        vertical-align: middle;\n",
       "    }\n",
       "\n",
       "    .dataframe tbody tr th {\n",
       "        vertical-align: top;\n",
       "    }\n",
       "\n",
       "    .dataframe thead th {\n",
       "        text-align: right;\n",
       "    }\n",
       "</style>\n",
       "<table border=\"1\" class=\"dataframe\">\n",
       "  <thead>\n",
       "    <tr style=\"text-align: right;\">\n",
       "      <th></th>\n",
       "      <th>WineID</th>\n",
       "      <th>WineName</th>\n",
       "      <th>Type</th>\n",
       "      <th>Elaborate</th>\n",
       "      <th>Grapes</th>\n",
       "      <th>ABV</th>\n",
       "      <th>Body</th>\n",
       "      <th>Acidity</th>\n",
       "      <th>Code</th>\n",
       "      <th>Country</th>\n",
       "      <th>RegionID</th>\n",
       "      <th>RegionName</th>\n",
       "      <th>WineryID</th>\n",
       "      <th>WineryName</th>\n",
       "      <th>Aperitif</th>\n",
       "      <th>Appetizer</th>\n",
       "      <th>Barbecue</th>\n",
       "      <th>Beef</th>\n",
       "      <th>Blue Cheese</th>\n",
       "      <th>Cake</th>\n",
       "      <th>Cheese</th>\n",
       "      <th>Chicken</th>\n",
       "      <th>Chocolate</th>\n",
       "      <th>Codfish</th>\n",
       "      <th>Cold Cuts</th>\n",
       "      <th>Cream</th>\n",
       "      <th>Cured Meat</th>\n",
       "      <th>Dessert</th>\n",
       "      <th>Duck</th>\n",
       "      <th>Fish</th>\n",
       "      <th>French Fries</th>\n",
       "      <th>Fruit</th>\n",
       "      <th>Fruit Dessert</th>\n",
       "      <th>Game Meat</th>\n",
       "      <th>Goat Cheese</th>\n",
       "      <th>Grilled</th>\n",
       "      <th>Ham</th>\n",
       "      <th>Hard Cheese</th>\n",
       "      <th>Lamb</th>\n",
       "      <th>Lean Fish</th>\n",
       "      <th>Light Stews</th>\n",
       "      <th>Maturated Cheese</th>\n",
       "      <th>Mushrooms</th>\n",
       "      <th>Pasta</th>\n",
       "      <th>Pizza</th>\n",
       "      <th>Pork</th>\n",
       "      <th>Poultry</th>\n",
       "      <th>Rich Fish</th>\n",
       "      <th>Risotto</th>\n",
       "      <th>Salad</th>\n",
       "      <th>Seafood</th>\n",
       "      <th>Shellfish</th>\n",
       "      <th>Snack</th>\n",
       "      <th>Soft Cheese</th>\n",
       "      <th>Soufflé</th>\n",
       "      <th>Spicy Food</th>\n",
       "      <th>Sweet Dessert</th>\n",
       "      <th>Tomato Dishes</th>\n",
       "      <th>Veal</th>\n",
       "      <th>Vegetarian</th>\n",
       "      <th>avg_rating</th>\n",
       "      <th>total_ratings</th>\n",
       "    </tr>\n",
       "  </thead>\n",
       "  <tbody>\n",
       "    <tr>\n",
       "      <th>0</th>\n",
       "      <td>100001</td>\n",
       "      <td>Espumante Moscatel</td>\n",
       "      <td>Sparkling</td>\n",
       "      <td>Varietal/100%</td>\n",
       "      <td>Muscat/Moscato</td>\n",
       "      <td>7.5</td>\n",
       "      <td>Medium-bodied</td>\n",
       "      <td>High</td>\n",
       "      <td>BR</td>\n",
       "      <td>Brazil</td>\n",
       "      <td>1001</td>\n",
       "      <td>Serra Gaúcha</td>\n",
       "      <td>10001</td>\n",
       "      <td>Casa Perini</td>\n",
       "      <td>0</td>\n",
       "      <td>0</td>\n",
       "      <td>0</td>\n",
       "      <td>0</td>\n",
       "      <td>0</td>\n",
       "      <td>0</td>\n",
       "      <td>0</td>\n",
       "      <td>0</td>\n",
       "      <td>0</td>\n",
       "      <td>0</td>\n",
       "      <td>0</td>\n",
       "      <td>0</td>\n",
       "      <td>0</td>\n",
       "      <td>0</td>\n",
       "      <td>0</td>\n",
       "      <td>0</td>\n",
       "      <td>0</td>\n",
       "      <td>0</td>\n",
       "      <td>0</td>\n",
       "      <td>0</td>\n",
       "      <td>0</td>\n",
       "      <td>0</td>\n",
       "      <td>0</td>\n",
       "      <td>0</td>\n",
       "      <td>0</td>\n",
       "      <td>0</td>\n",
       "      <td>0</td>\n",
       "      <td>0</td>\n",
       "      <td>0</td>\n",
       "      <td>0</td>\n",
       "      <td>0</td>\n",
       "      <td>1</td>\n",
       "      <td>0</td>\n",
       "      <td>1</td>\n",
       "      <td>0</td>\n",
       "      <td>0</td>\n",
       "      <td>0</td>\n",
       "      <td>1</td>\n",
       "      <td>0</td>\n",
       "      <td>0</td>\n",
       "      <td>0</td>\n",
       "      <td>0</td>\n",
       "      <td>0</td>\n",
       "      <td>0</td>\n",
       "      <td>0</td>\n",
       "      <td>0</td>\n",
       "      <td>3.838462</td>\n",
       "      <td>520</td>\n",
       "    </tr>\n",
       "    <tr>\n",
       "      <th>1</th>\n",
       "      <td>100002</td>\n",
       "      <td>Ancellotta</td>\n",
       "      <td>Red</td>\n",
       "      <td>Varietal/100%</td>\n",
       "      <td>Ancellotta</td>\n",
       "      <td>12.0</td>\n",
       "      <td>Medium-bodied</td>\n",
       "      <td>Medium</td>\n",
       "      <td>BR</td>\n",
       "      <td>Brazil</td>\n",
       "      <td>1001</td>\n",
       "      <td>Serra Gaúcha</td>\n",
       "      <td>10001</td>\n",
       "      <td>Casa Perini</td>\n",
       "      <td>0</td>\n",
       "      <td>0</td>\n",
       "      <td>1</td>\n",
       "      <td>1</td>\n",
       "      <td>0</td>\n",
       "      <td>0</td>\n",
       "      <td>1</td>\n",
       "      <td>0</td>\n",
       "      <td>0</td>\n",
       "      <td>1</td>\n",
       "      <td>0</td>\n",
       "      <td>0</td>\n",
       "      <td>0</td>\n",
       "      <td>0</td>\n",
       "      <td>0</td>\n",
       "      <td>0</td>\n",
       "      <td>0</td>\n",
       "      <td>0</td>\n",
       "      <td>0</td>\n",
       "      <td>0</td>\n",
       "      <td>0</td>\n",
       "      <td>0</td>\n",
       "      <td>0</td>\n",
       "      <td>0</td>\n",
       "      <td>0</td>\n",
       "      <td>0</td>\n",
       "      <td>0</td>\n",
       "      <td>0</td>\n",
       "      <td>0</td>\n",
       "      <td>1</td>\n",
       "      <td>1</td>\n",
       "      <td>0</td>\n",
       "      <td>0</td>\n",
       "      <td>0</td>\n",
       "      <td>0</td>\n",
       "      <td>0</td>\n",
       "      <td>0</td>\n",
       "      <td>0</td>\n",
       "      <td>0</td>\n",
       "      <td>0</td>\n",
       "      <td>0</td>\n",
       "      <td>0</td>\n",
       "      <td>0</td>\n",
       "      <td>0</td>\n",
       "      <td>0</td>\n",
       "      <td>0</td>\n",
       "      <td>3.250000</td>\n",
       "      <td>4</td>\n",
       "    </tr>\n",
       "  </tbody>\n",
       "</table>\n",
       "</div>"
      ],
      "text/plain": [
       "   WineID            WineName       Type      Elaborate          Grapes   ABV  \\\n",
       "0  100001  Espumante Moscatel  Sparkling  Varietal/100%  Muscat/Moscato   7.5   \n",
       "1  100002          Ancellotta        Red  Varietal/100%      Ancellotta  12.0   \n",
       "\n",
       "            Body Acidity Code Country  RegionID    RegionName  WineryID  \\\n",
       "0  Medium-bodied    High   BR  Brazil      1001  Serra Gaúcha     10001   \n",
       "1  Medium-bodied  Medium   BR  Brazil      1001  Serra Gaúcha     10001   \n",
       "\n",
       "    WineryName  Aperitif  Appetizer  Barbecue  Beef  Blue Cheese  Cake  \\\n",
       "0  Casa Perini         0          0         0     0            0     0   \n",
       "1  Casa Perini         0          0         1     1            0     0   \n",
       "\n",
       "   Cheese  Chicken  Chocolate  Codfish  Cold Cuts  Cream  Cured Meat  Dessert  \\\n",
       "0       0        0          0        0          0      0           0        0   \n",
       "1       1        0          0        1          0      0           0        0   \n",
       "\n",
       "   Duck  Fish  French Fries  Fruit  Fruit Dessert  Game Meat  Goat Cheese  \\\n",
       "0     0     0             0      0              0          0            0   \n",
       "1     0     0             0      0              0          0            0   \n",
       "\n",
       "   Grilled  Ham  Hard Cheese  Lamb  Lean Fish  Light Stews  Maturated Cheese  \\\n",
       "0        0    0            0     0          0            0                 0   \n",
       "1        0    0            0     0          0            0                 0   \n",
       "\n",
       "   Mushrooms  Pasta  Pizza  Pork  Poultry  Rich Fish  Risotto  Salad  Seafood  \\\n",
       "0          0      0      0     1        0          1        0      0        0   \n",
       "1          0      1      1     0        0          0        0      0        0   \n",
       "\n",
       "   Shellfish  Snack  Soft Cheese  Soufflé  Spicy Food  Sweet Dessert  \\\n",
       "0          1      0            0        0           0              0   \n",
       "1          0      0            0        0           0              0   \n",
       "\n",
       "   Tomato Dishes  Veal  Vegetarian  avg_rating  total_ratings  \n",
       "0              0     0           0    3.838462            520  \n",
       "1              0     0           0    3.250000              4  "
      ]
     },
     "execution_count": 200,
     "metadata": {},
     "output_type": "execute_result"
    }
   ],
   "source": [
    "wines.head(2)"
   ]
  }
 ],
 "metadata": {
  "kernelspec": {
   "display_name": ".venv",
   "language": "python",
   "name": "python3"
  },
  "language_info": {
   "codemirror_mode": {
    "name": "ipython",
    "version": 3
   },
   "file_extension": ".py",
   "mimetype": "text/x-python",
   "name": "python",
   "nbconvert_exporter": "python",
   "pygments_lexer": "ipython3",
   "version": "3.11.9"
  }
 },
 "nbformat": 4,
 "nbformat_minor": 2
}
