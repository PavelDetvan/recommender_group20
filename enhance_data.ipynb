{
 "cells": [
  {
   "cell_type": "code",
   "execution_count": null,
   "metadata": {},
   "outputs": [],
   "source": [
    "import pandas as pd\n",
    "\n",
    "xwines_df = pd.read_csv('All-XWines_Full_100K_wines_21M_ratings\\XWines_Full_100K_wines.csv')  # Your X-Wines dataset\n",
    "external_df = pd.read_csv('archive\\winemag-data_first150k.csv')  # External dataset with prices\n"
   ]
  },
  {
   "cell_type": "code",
   "execution_count": null,
   "metadata": {},
   "outputs": [],
   "source": [
    "merged_df = pd.merge(xwines_df, external_df, on=['wine_name', 'region'], how='left')\n"
   ]
  },
  {
   "cell_type": "code",
   "execution_count": 12,
   "metadata": {},
   "outputs": [],
   "source": [
    "# Replace this with the actual path to your chromedriver file\n",
    "chrome_driver_path = \"C:/WebDriver/chromedriver-win64/chromedriver-win64/chromedriver.exe\"  # Example for macOS/Linux: '/usr/local/bin/chromedriver'\n",
    "# Example for Windows: 'C:/webdrivers/chromedriver.exe'\n",
    "\n",
    "from selenium import webdriver\n",
    "from selenium.webdriver.chrome.service import Service\n",
    "\n",
    "# Initialize the driver\n",
    "service = Service(executable_path=chrome_driver_path)\n",
    "driver = webdriver.Chrome(service=service)\n",
    "\n",
    "# Open a website\n",
    "driver.get('https://www.google.com')\n",
    "\n",
    "# Close the browser\n",
    "driver.quit()"
   ]
  },
  {
   "cell_type": "code",
   "execution_count": 4,
   "metadata": {},
   "outputs": [
    {
     "name": "stdout",
     "output_type": "stream",
     "text": [
      "The price of Casillero del Diablo Merlot is: 6,99\n"
     ]
    }
   ],
   "source": [
    "from selenium import webdriver\n",
    "from selenium.webdriver.chrome.service import Service\n",
    "from selenium.webdriver.common.by import By\n",
    "from selenium.webdriver.common.keys import Keys\n",
    "import time\n",
    "\n",
    "# Replace this with the actual path to your chromedriver file\n",
    "chrome_driver_path = \"C:/WebDriver/chromedriver-win64/chromedriver-win64/chromedriver.exe\"\n",
    "service = Service(executable_path=chrome_driver_path)\n",
    "driver = webdriver.Chrome(service=service)\n",
    "\n",
    "# Function to get the price of a wine\n",
    "def get_wine_price(wine_name):\n",
    "    # Open the Vivino website\n",
    "    driver.get('https://www.vivino.com')\n",
    "\n",
    "    # Find the search box and enter the wine name\n",
    "    search_box = driver.find_element(By.NAME, 'q')\n",
    "    search_box.send_keys(wine_name + Keys.RETURN)\n",
    "\n",
    "    # Wait for the results to load\n",
    "    time.sleep(5)  # You may need to adjust the sleep time\n",
    "\n",
    "    # Try to find the average price\n",
    "    try:\n",
    "        price_element = driver.find_element(By.CLASS_NAME, 'wine-price-value')\n",
    "        price = price_element.text\n",
    "        return price\n",
    "    except Exception as e:\n",
    "        print(f\"Could not find price for {wine_name}: {e}\")\n",
    "        return None\n",
    "\n",
    "# Example usage\n",
    "wine_name = \"Casillero del Diablo Merlot\"  # Replace with actual wine names from your dataset\n",
    "price = get_wine_price(wine_name)\n",
    "print(f\"The price of {wine_name} is: {price}\")\n",
    "\n",
    "# Close the browser\n",
    "driver.quit()\n"
   ]
  },
  {
   "cell_type": "code",
   "execution_count": 3,
   "metadata": {},
   "outputs": [
    {
     "name": "stdout",
     "output_type": "stream",
     "text": [
      "|    |   WineID | WineName                        | Type      | Elaborate                     | Grapes                           | Harmonize                                                   |   ABV | Body          | Acidity   | Code   | Country   |   RegionID | RegionName   |   WineryID | WineryName     | Website                                | Vintages                                                                                                                                                                                                                         |\n",
      "|---:|---------:|:--------------------------------|:----------|:------------------------------|:---------------------------------|:------------------------------------------------------------|------:|:--------------|:----------|:-------|:----------|-----------:|:-------------|-----------:|:---------------|:---------------------------------------|:---------------------------------------------------------------------------------------------------------------------------------------------------------------------------------------------------------------------------------|\n",
      "|  0 |   100001 | Espumante Moscatel              | Sparkling | Varietal/100%                 | ['Muscat/Moscato']               | ['Pork', 'Rich Fish', 'Shellfish']                          |   7.5 | Medium-bodied | High      | BR     | Brazil    |       1001 | Serra Gaúcha |      10001 | Casa Perini    | http://www.vinicolaperini.com.br       | [2020, 2019, 2018, 2017, 2016, 2015, 2014, 2013, 2012, 2011, 2010, 2009, 2008, 2007, 2006, 2005, 2003, 2002, 2001, 2000, 1999, 1998, 1997, 1996, 1995, 1993, 1992, 1991, 1990, 1989, 1988, 1985, 1982, 1980, 1970, 1966, 'N.V.'] |\n",
      "|  1 |   100002 | Ancellotta                      | Red       | Varietal/100%                 | ['Ancellotta']                   | ['Beef', 'Barbecue', 'Codfish', 'Pasta', 'Pizza', 'Cheese'] |  12   | Medium-bodied | Medium    | BR     | Brazil    |       1001 | Serra Gaúcha |      10001 | Casa Perini    | http://www.vinicolaperini.com.br       | [2016, 2015, 2014, 2013, 2012, 2011, 2010, 2009, 2008, 2007, 2006, 2005, 2001]                                                                                                                                                   |\n",
      "|  2 |   100003 | Cabernet Sauvignon              | Red       | Varietal/100%                 | ['Cabernet Sauvignon']           | ['Beef', 'Lamb', 'Poultry']                                 |  12   | Full-bodied   | High      | BR     | Brazil    |       1001 | Serra Gaúcha |      10002 | Castellamare   | https://www.emporiocastellamare.com.br | [2021, 2020, 2019, 2018, 2017, 2016, 2015, 2014, 2013, 2012, 2011, 2010, 2009, 2008, 2007, 2005, 2004, 2002, 2001, 2000, 1994, 1972, 1960]                                                                                       |\n",
      "|  3 |   100004 | Virtus Moscato                  | White     | Varietal/100%                 | ['Muscat/Moscato']               | ['Sweet Dessert']                                           |  12   | Medium-bodied | Medium    | BR     | Brazil    |       1001 | Serra Gaúcha |      10003 | Monte Paschoal | http://www.montepaschoal.com.br        | [2021, 2020, 2019, 2018, 2017, 2016, 2015, 2014, 2013, 2012, 2011, 2010, 2009, 2008, 2007, 2006, 2001, 1990]                                                                                                                     |\n",
      "|  4 |   100005 | Maison de Ville Cabernet-Merlot | Red       | Assemblage/Bordeaux Red Blend | ['Cabernet Sauvignon', 'Merlot'] | ['Beef', 'Lamb', 'Game Meat', 'Poultry']                    |  11   | Full-bodied   | Medium    | BR     | Brazil    |       1001 | Serra Gaúcha |      10000 | Aurora         | http://www.vinicolaaurora.com.br       | [2021, 2020, 2019, 2018, 2017, 2016, 2015, 2014, 2013, 2012, 2011, 2010, 2008, 2005, 2004, 2003, 2001, 2000, 1998, 1990, 1989, 1982, 1973, 1970]                                                                                 |\n"
     ]
    }
   ],
   "source": [
    "import pandas as pd\n",
    "# Load your X-Wines dataset\n",
    "# Make sure to replace the path with the actual path to your dataset\n",
    "df = pd.read_csv('All-XWines_Full_100K_wines_21M_ratings\\XWines_Full_100K_wines.csv')\n",
    "print(df.head().to_markdown())"
   ]
  },
  {
   "cell_type": "code",
   "execution_count": 6,
   "metadata": {},
   "outputs": [
    {
     "name": "stdout",
     "output_type": "stream",
     "text": [
      "['Riesling Trocken Peter Mertes Germany', 'Sauvignon Blanc Jericho Canyon Vineyard United States', 'Terra Occitana Gamay-Syrah Jacques Charlet France', 'Ermitage Réserve des Choucas Maison Gilliard Switzerland', 'Moderne Trilogie Assyrtiko GWC Greece', 'Via Nuova Barolo E. Pira & Figli Italy', 'Terra di Monteverro Toscana Monteverro Italy', 'Cabernet Sauvignon Masterpiece Vineyards United States', 'Pinot-Chardonnay Brut 7 Cascine Italy', 'Vendanges Manuelles Vin Jaune Chateau Chalon Philippe Butin France', 'Gevrey-Chambertin Vincent Bachelet France', 'Montesei Soave Classico Le Battistelle Italy', 'Chardonnay Jermann Italy', 'Fumé Blanc Polperro Australia', 'Merlot Reserve Jefferson Vineyards United States', 'Florence Vineyard Zinfandel Bella Vineyards United States', 'Inzolia Sicilia Caleo Italy', 'Chardonnay Reserve Ried Ladner Jurtschitsch Austria', 'Marechal Foch Recline Ridge Canada', 'Pinot Noir Frogmore Creek Australia', 'Premium RSV Abbey Vale Australia', 'Riesling Gainey United States', 'Famiglia Pasqua Amarone della Valpolicella Pasqua Vigneti e Cantine Italy', 'Saint-Aubin Premier Cru Louis Jadot France', 'Oakenshield Wineworks Primitivo Castoro Cellars United States', 'Sylvaner Alsace Réserve Gustave Lorentz France', 'Just Black Monferrato Livio Soria Italy', \"1er Cru D'Exception Tannat Familia Deicas Uruguay\", 'Em Vinhas Velhas Verdelho Águia Moura Portugal', 'Criots-Bâtard-Montrachet Grand Cru Joseph Drouhin France', 'Italian Rosé I Heart Italy', \"Sauvignon Blanc Maurice Car'rie United States\", 'Chenin Dulce Natural Chacabuco Argentina', 'Reserva Assemblage Milantino Brazil', \"Vi D'Àmfora Natural Vinyes Domenech Spain\", 'Fiano di Avellino Donnachiara Italy', 'Welschriesling Ewald Zweytick Austria', 'Valdobbiadene Prosecco Superiore Rive di San Pietro di Barbozza Brut Nature Valdo Italy', 'Vigna Elisa Chianti Classico Gran Selezione Famiglia Nunzi Conti Italy', 'Côtes-du-Rhône Rosé Domaine de La Bastide-Vincent & Stéphanie Boyer France', 'Alsace Riesling Club des Sommeliers (Associados) France', 'Elevation Shiraz Eperosa Australia', 'Barbera Jelly Jar United States', \"Chablis 1er Cru 'Montée de Tonnerre' Domaine de Chaude Écuelle France\", 'Sine Nomine Gérard Depardieu Spain', 'Cabernet Sauvignon Yaguareté Collection Chakana Argentina', \"Vieilles Vignes Terres de Noël Blanc de Blancs Brut Champagne Grand Cru 'Oger' Jean Milan France\", 'Barolo Bricco San Pietro Ruggeri Corsini Italy', 'Malbec Jelu Estate Argentina', 'Colección Shiraz Michel Torino Argentina']\n"
     ]
    }
   ],
   "source": [
    "import pandas as pd\n",
    "import random\n",
    "\n",
    "# Specify the columns to include in the sample\n",
    "columns_to_include = ['WineName', 'WineryName', 'Country']\n",
    "\n",
    "# Randomly select 50 rows and include the specified columns\n",
    "sample_wines = df.sample(n=50).loc[:, columns_to_include]\n",
    "\n",
    "# Concatenate the values of the specified columns into a single string for each row\n",
    "wine_list = sample_wines.apply(lambda row: f\"{row['WineName']} {row['WineryName']} {row['Country']}\", axis=1).tolist()\n",
    "\n",
    "# Print the resulting list\n",
    "print(wine_list)\n"
   ]
  },
  {
   "cell_type": "code",
   "execution_count": 17,
   "metadata": {},
   "outputs": [
    {
     "ename": "NoSuchElementException",
     "evalue": "Message: no such element: Unable to locate element: {\"method\":\"css selector\",\"selector\":\"[id=\"Xwinename\"]\"}\n  (Session info: chrome=129.0.6668.59); For documentation on this error, please visit: https://www.selenium.dev/documentation/webdriver/troubleshooting/errors#no-such-element-exception\nStacktrace:\n\tGetHandleVerifier [0x00007FF7EC0AFDA5+29557]\n\t(No symbol) [0x00007FF7EC022240]\n\t(No symbol) [0x00007FF7EBEDB6EA]\n\t(No symbol) [0x00007FF7EBF2FA15]\n\t(No symbol) [0x00007FF7EBF2FC6C]\n\t(No symbol) [0x00007FF7EBF7BB07]\n\t(No symbol) [0x00007FF7EBF5753F]\n\t(No symbol) [0x00007FF7EBF788A3]\n\t(No symbol) [0x00007FF7EBF572A3]\n\t(No symbol) [0x00007FF7EBF212DF]\n\t(No symbol) [0x00007FF7EBF22451]\n\tGetHandleVerifier [0x00007FF7EC3DDCBD+3363469]\n\tGetHandleVerifier [0x00007FF7EC429B47+3674391]\n\tGetHandleVerifier [0x00007FF7EC41EAEB+3629243]\n\tGetHandleVerifier [0x00007FF7EC16FC66+815670]\n\t(No symbol) [0x00007FF7EC02D6EF]\n\t(No symbol) [0x00007FF7EC0292B4]\n\t(No symbol) [0x00007FF7EC029450]\n\t(No symbol) [0x00007FF7EC0181FF]\n\tBaseThreadInitThunk [0x00007FFA4B88257D+29]\n\tRtlUserThreadStart [0x00007FFA4D18AF28+40]\n",
     "output_type": "error",
     "traceback": [
      "\u001b[1;31m---------------------------------------------------------------------------\u001b[0m",
      "\u001b[1;31mNoSuchElementException\u001b[0m                    Traceback (most recent call last)",
      "Cell \u001b[1;32mIn[17], line 48\u001b[0m\n\u001b[0;32m     46\u001b[0m \u001b[38;5;66;03m# Example usage\u001b[39;00m\n\u001b[0;32m     47\u001b[0m wine_name \u001b[38;5;241m=\u001b[39m \u001b[38;5;124m\"\u001b[39m\u001b[38;5;124mRiesling Trocken Peter Mertes Germany\u001b[39m\u001b[38;5;124m\"\u001b[39m  \u001b[38;5;66;03m# Replace with actual wine names from your dataset\u001b[39;00m\n\u001b[1;32m---> 48\u001b[0m price \u001b[38;5;241m=\u001b[39m \u001b[43mget_wine_price\u001b[49m\u001b[43m(\u001b[49m\u001b[43mwine_name\u001b[49m\u001b[43m)\u001b[49m\n\u001b[0;32m     49\u001b[0m \u001b[38;5;28mprint\u001b[39m(\u001b[38;5;124mf\u001b[39m\u001b[38;5;124m\"\u001b[39m\u001b[38;5;124mThe price of \u001b[39m\u001b[38;5;132;01m{\u001b[39;00mwine_name\u001b[38;5;132;01m}\u001b[39;00m\u001b[38;5;124m is: \u001b[39m\u001b[38;5;132;01m{\u001b[39;00mprice\u001b[38;5;132;01m}\u001b[39;00m\u001b[38;5;124m\"\u001b[39m)\n\u001b[0;32m     51\u001b[0m \u001b[38;5;66;03m# Close the browser\u001b[39;00m\n",
      "Cell \u001b[1;32mIn[17], line 30\u001b[0m, in \u001b[0;36mget_wine_price\u001b[1;34m(wine_name)\u001b[0m\n\u001b[0;32m     27\u001b[0m driver\u001b[38;5;241m.\u001b[39mget(\u001b[38;5;124m'\u001b[39m\u001b[38;5;124mhttps://www.wine-searcher.com\u001b[39m\u001b[38;5;124m'\u001b[39m)\n\u001b[0;32m     29\u001b[0m \u001b[38;5;66;03m# Find the search box and enter the wine name\u001b[39;00m\n\u001b[1;32m---> 30\u001b[0m search_box \u001b[38;5;241m=\u001b[39m \u001b[43mdriver\u001b[49m\u001b[38;5;241;43m.\u001b[39;49m\u001b[43mfind_element\u001b[49m\u001b[43m(\u001b[49m\u001b[43mBy\u001b[49m\u001b[38;5;241;43m.\u001b[39;49m\u001b[43mID\u001b[49m\u001b[43m,\u001b[49m\u001b[43m \u001b[49m\u001b[38;5;124;43m'\u001b[39;49m\u001b[38;5;124;43mXwinename\u001b[39;49m\u001b[38;5;124;43m'\u001b[39;49m\u001b[43m)\u001b[49m  \u001b[38;5;66;03m# Adjust the selector based on the input field\u001b[39;00m\n\u001b[0;32m     31\u001b[0m search_box\u001b[38;5;241m.\u001b[39msend_keys(wine_name \u001b[38;5;241m+\u001b[39m Keys\u001b[38;5;241m.\u001b[39mRETURN)\n\u001b[0;32m     33\u001b[0m \u001b[38;5;66;03m# Random delay to simulate human behavior\u001b[39;00m\n",
      "File \u001b[1;32mc:\\Users\\Pavel Detvan\\anaconda3\\envs\\cuda_test\\Lib\\site-packages\\selenium\\webdriver\\remote\\webdriver.py:748\u001b[0m, in \u001b[0;36mWebDriver.find_element\u001b[1;34m(self, by, value)\u001b[0m\n\u001b[0;32m    745\u001b[0m     by \u001b[38;5;241m=\u001b[39m By\u001b[38;5;241m.\u001b[39mCSS_SELECTOR\n\u001b[0;32m    746\u001b[0m     value \u001b[38;5;241m=\u001b[39m \u001b[38;5;124mf\u001b[39m\u001b[38;5;124m'\u001b[39m\u001b[38;5;124m[name=\u001b[39m\u001b[38;5;124m\"\u001b[39m\u001b[38;5;132;01m{\u001b[39;00mvalue\u001b[38;5;132;01m}\u001b[39;00m\u001b[38;5;124m\"\u001b[39m\u001b[38;5;124m]\u001b[39m\u001b[38;5;124m'\u001b[39m\n\u001b[1;32m--> 748\u001b[0m \u001b[38;5;28;01mreturn\u001b[39;00m \u001b[38;5;28;43mself\u001b[39;49m\u001b[38;5;241;43m.\u001b[39;49m\u001b[43mexecute\u001b[49m\u001b[43m(\u001b[49m\u001b[43mCommand\u001b[49m\u001b[38;5;241;43m.\u001b[39;49m\u001b[43mFIND_ELEMENT\u001b[49m\u001b[43m,\u001b[49m\u001b[43m \u001b[49m\u001b[43m{\u001b[49m\u001b[38;5;124;43m\"\u001b[39;49m\u001b[38;5;124;43musing\u001b[39;49m\u001b[38;5;124;43m\"\u001b[39;49m\u001b[43m:\u001b[49m\u001b[43m \u001b[49m\u001b[43mby\u001b[49m\u001b[43m,\u001b[49m\u001b[43m \u001b[49m\u001b[38;5;124;43m\"\u001b[39;49m\u001b[38;5;124;43mvalue\u001b[39;49m\u001b[38;5;124;43m\"\u001b[39;49m\u001b[43m:\u001b[49m\u001b[43m \u001b[49m\u001b[43mvalue\u001b[49m\u001b[43m}\u001b[49m\u001b[43m)\u001b[49m[\u001b[38;5;124m\"\u001b[39m\u001b[38;5;124mvalue\u001b[39m\u001b[38;5;124m\"\u001b[39m]\n",
      "File \u001b[1;32mc:\\Users\\Pavel Detvan\\anaconda3\\envs\\cuda_test\\Lib\\site-packages\\selenium\\webdriver\\remote\\webdriver.py:354\u001b[0m, in \u001b[0;36mWebDriver.execute\u001b[1;34m(self, driver_command, params)\u001b[0m\n\u001b[0;32m    352\u001b[0m response \u001b[38;5;241m=\u001b[39m \u001b[38;5;28mself\u001b[39m\u001b[38;5;241m.\u001b[39mcommand_executor\u001b[38;5;241m.\u001b[39mexecute(driver_command, params)\n\u001b[0;32m    353\u001b[0m \u001b[38;5;28;01mif\u001b[39;00m response:\n\u001b[1;32m--> 354\u001b[0m     \u001b[38;5;28;43mself\u001b[39;49m\u001b[38;5;241;43m.\u001b[39;49m\u001b[43merror_handler\u001b[49m\u001b[38;5;241;43m.\u001b[39;49m\u001b[43mcheck_response\u001b[49m\u001b[43m(\u001b[49m\u001b[43mresponse\u001b[49m\u001b[43m)\u001b[49m\n\u001b[0;32m    355\u001b[0m     response[\u001b[38;5;124m\"\u001b[39m\u001b[38;5;124mvalue\u001b[39m\u001b[38;5;124m\"\u001b[39m] \u001b[38;5;241m=\u001b[39m \u001b[38;5;28mself\u001b[39m\u001b[38;5;241m.\u001b[39m_unwrap_value(response\u001b[38;5;241m.\u001b[39mget(\u001b[38;5;124m\"\u001b[39m\u001b[38;5;124mvalue\u001b[39m\u001b[38;5;124m\"\u001b[39m, \u001b[38;5;28;01mNone\u001b[39;00m))\n\u001b[0;32m    356\u001b[0m     \u001b[38;5;28;01mreturn\u001b[39;00m response\n",
      "File \u001b[1;32mc:\\Users\\Pavel Detvan\\anaconda3\\envs\\cuda_test\\Lib\\site-packages\\selenium\\webdriver\\remote\\errorhandler.py:229\u001b[0m, in \u001b[0;36mErrorHandler.check_response\u001b[1;34m(self, response)\u001b[0m\n\u001b[0;32m    227\u001b[0m         alert_text \u001b[38;5;241m=\u001b[39m value[\u001b[38;5;124m\"\u001b[39m\u001b[38;5;124malert\u001b[39m\u001b[38;5;124m\"\u001b[39m]\u001b[38;5;241m.\u001b[39mget(\u001b[38;5;124m\"\u001b[39m\u001b[38;5;124mtext\u001b[39m\u001b[38;5;124m\"\u001b[39m)\n\u001b[0;32m    228\u001b[0m     \u001b[38;5;28;01mraise\u001b[39;00m exception_class(message, screen, stacktrace, alert_text)  \u001b[38;5;66;03m# type: ignore[call-arg]  # mypy is not smart enough here\u001b[39;00m\n\u001b[1;32m--> 229\u001b[0m \u001b[38;5;28;01mraise\u001b[39;00m exception_class(message, screen, stacktrace)\n",
      "\u001b[1;31mNoSuchElementException\u001b[0m: Message: no such element: Unable to locate element: {\"method\":\"css selector\",\"selector\":\"[id=\"Xwinename\"]\"}\n  (Session info: chrome=129.0.6668.59); For documentation on this error, please visit: https://www.selenium.dev/documentation/webdriver/troubleshooting/errors#no-such-element-exception\nStacktrace:\n\tGetHandleVerifier [0x00007FF7EC0AFDA5+29557]\n\t(No symbol) [0x00007FF7EC022240]\n\t(No symbol) [0x00007FF7EBEDB6EA]\n\t(No symbol) [0x00007FF7EBF2FA15]\n\t(No symbol) [0x00007FF7EBF2FC6C]\n\t(No symbol) [0x00007FF7EBF7BB07]\n\t(No symbol) [0x00007FF7EBF5753F]\n\t(No symbol) [0x00007FF7EBF788A3]\n\t(No symbol) [0x00007FF7EBF572A3]\n\t(No symbol) [0x00007FF7EBF212DF]\n\t(No symbol) [0x00007FF7EBF22451]\n\tGetHandleVerifier [0x00007FF7EC3DDCBD+3363469]\n\tGetHandleVerifier [0x00007FF7EC429B47+3674391]\n\tGetHandleVerifier [0x00007FF7EC41EAEB+3629243]\n\tGetHandleVerifier [0x00007FF7EC16FC66+815670]\n\t(No symbol) [0x00007FF7EC02D6EF]\n\t(No symbol) [0x00007FF7EC0292B4]\n\t(No symbol) [0x00007FF7EC029450]\n\t(No symbol) [0x00007FF7EC0181FF]\n\tBaseThreadInitThunk [0x00007FFA4B88257D+29]\n\tRtlUserThreadStart [0x00007FFA4D18AF28+40]\n"
     ]
    }
   ],
   "source": [
    "from selenium import webdriver\n",
    "from selenium.webdriver.chrome.service import Service\n",
    "from selenium.webdriver.common.by import By\n",
    "from selenium.webdriver.common.keys import Keys\n",
    "from selenium.webdriver.chrome.options import Options\n",
    "import time\n",
    "import random\n",
    "\n",
    "# Replace this with the actual path to your chromedriver file\n",
    "chrome_driver_path = \"C:/WebDriver/chromedriver-win64/chromedriver-win64/chromedriver.exe\"\n",
    "service = Service(executable_path=chrome_driver_path)\n",
    "\n",
    "# Setting up Chrome options to disable headless mode and set user-agent\n",
    "chrome_options = Options()\n",
    "chrome_options.add_argument(\"--start-maximized\")  # Open browser in full screen\n",
    "# Adding a user-agent to make the requests look like they're coming from a regular browser\n",
    "chrome_options.add_argument(\"user-agent=Mozilla/5.0 (Windows NT 10.0; Win64; x64) AppleWebKit/537.36 (KHTML, like Gecko) Chrome/91.0.4472.124 Safari/537.36\")\n",
    "\n",
    "# Uncomment the below line to add a proxy\n",
    "# chrome_options.add_argument(\"--proxy-server=your-proxy\")\n",
    "\n",
    "driver = webdriver.Chrome(service=service, options=chrome_options)\n",
    "\n",
    "# Function to get the price of a wine from Wine-Searcher\n",
    "def get_wine_price(wine_name):\n",
    "    # Open the Wine-Searcher website\n",
    "    driver.get('https://www.wine-searcher.com')\n",
    "\n",
    "    # Find the search box and enter the wine name\n",
    "    search_box = driver.find_element(By.ID, 'Xwinename')  # Adjust the selector based on the input field\n",
    "    search_box.send_keys(wine_name + Keys.RETURN)\n",
    "\n",
    "    # Random delay to simulate human behavior\n",
    "    time.sleep(random.uniform(3, 7))  # Randomized wait between 3 to 7 seconds\n",
    "\n",
    "    # Try to find the average price\n",
    "    try:\n",
    "        # Find the price element\n",
    "        price_element = driver.find_element(By.CLASS_NAME, 'price.text-nowrap')\n",
    "        price = price_element.find_element(By.CLASS_NAME, 'font-light-bold').text\n",
    "        return price\n",
    "    except Exception as e:\n",
    "        print(f\"Could not find price for {wine_name}: {e}\")\n",
    "        return None\n",
    "\n",
    "# Usage\n",
    "wine_name = \"Riesling Trocken Peter Mertes Germany\"\n",
    "price = get_wine_price(wine_name)\n",
    "print(f\"The price of {wine_name} is: {price}\")\n",
    "\n",
    "# Close the browser\n",
    "driver.quit()\n"
   ]
  },
  {
   "cell_type": "code",
   "execution_count": 32,
   "metadata": {},
   "outputs": [
    {
     "ename": "NoSuchElementException",
     "evalue": "Message: no such element: Unable to locate element: {\"method\":\"css selector\",\"selector\":\"[id=\"Xwinename\"]\"}\n  (Session info: chrome=129.0.6668.59); For documentation on this error, please visit: https://www.selenium.dev/documentation/webdriver/troubleshooting/errors#no-such-element-exception\nStacktrace:\n\tGetHandleVerifier [0x00B383E3+25571]\n\t(No symbol) [0x00ACA684]\n\t(No symbol) [0x009C2113]\n\t(No symbol) [0x00A06FB2]\n\t(No symbol) [0x00A071FB]\n\t(No symbol) [0x00A47822]\n\t(No symbol) [0x00A2AC54]\n\t(No symbol) [0x00A45349]\n\t(No symbol) [0x00A2A9A6]\n\t(No symbol) [0x009FBAB6]\n\t(No symbol) [0x009FC50D]\n\tGetHandleVerifier [0x00E0C4A3+2991267]\n\tGetHandleVerifier [0x00E5D2C9+3322569]\n\tGetHandleVerifier [0x00BC84D2+615634]\n\tGetHandleVerifier [0x00BCFBFC+646140]\n\t(No symbol) [0x00AD327D]\n\t(No symbol) [0x00AD0188]\n\t(No symbol) [0x00AD0325]\n\t(No symbol) [0x00AC2826]\n\tBaseThreadInitThunk [0x75747BA9+25]\n\tRtlInitializeExceptionChain [0x77ABC11B+107]\n\tRtlClearBits [0x77ABC09F+191]\n",
     "output_type": "error",
     "traceback": [
      "\u001b[1;31m---------------------------------------------------------------------------\u001b[0m",
      "\u001b[1;31mNoSuchElementException\u001b[0m                    Traceback (most recent call last)",
      "Cell \u001b[1;32mIn[32], line 45\u001b[0m\n\u001b[0;32m     43\u001b[0m \u001b[38;5;66;03m# Example usage\u001b[39;00m\n\u001b[0;32m     44\u001b[0m wine_name \u001b[38;5;241m=\u001b[39m \u001b[38;5;124m\"\u001b[39m\u001b[38;5;124mRiesling Trocken Peter Mertes Germany\u001b[39m\u001b[38;5;124m\"\u001b[39m\n\u001b[1;32m---> 45\u001b[0m price \u001b[38;5;241m=\u001b[39m \u001b[43mget_wine_price\u001b[49m\u001b[43m(\u001b[49m\u001b[43mwine_name\u001b[49m\u001b[43m)\u001b[49m\n\u001b[0;32m     46\u001b[0m \u001b[38;5;28mprint\u001b[39m(\u001b[38;5;124mf\u001b[39m\u001b[38;5;124m\"\u001b[39m\u001b[38;5;124mThe price of \u001b[39m\u001b[38;5;132;01m{\u001b[39;00mwine_name\u001b[38;5;132;01m}\u001b[39;00m\u001b[38;5;124m is: \u001b[39m\u001b[38;5;132;01m{\u001b[39;00mprice\u001b[38;5;132;01m}\u001b[39;00m\u001b[38;5;124m\"\u001b[39m)\n\u001b[0;32m     48\u001b[0m \u001b[38;5;66;03m# Close the browser\u001b[39;00m\n",
      "Cell \u001b[1;32mIn[32], line 32\u001b[0m, in \u001b[0;36mget_wine_price\u001b[1;34m(wine_name)\u001b[0m\n\u001b[0;32m     30\u001b[0m \u001b[38;5;28;01mdef\u001b[39;00m \u001b[38;5;21mget_wine_price\u001b[39m(wine_name):\n\u001b[0;32m     31\u001b[0m     driver\u001b[38;5;241m.\u001b[39mget(\u001b[38;5;124m'\u001b[39m\u001b[38;5;124mhttps://www.wine-searcher.com\u001b[39m\u001b[38;5;124m'\u001b[39m)\n\u001b[1;32m---> 32\u001b[0m     search_box \u001b[38;5;241m=\u001b[39m \u001b[43mdriver\u001b[49m\u001b[38;5;241;43m.\u001b[39;49m\u001b[43mfind_element\u001b[49m\u001b[43m(\u001b[49m\u001b[43mBy\u001b[49m\u001b[38;5;241;43m.\u001b[39;49m\u001b[43mID\u001b[49m\u001b[43m,\u001b[49m\u001b[43m \u001b[49m\u001b[38;5;124;43m'\u001b[39;49m\u001b[38;5;124;43mXwinename\u001b[39;49m\u001b[38;5;124;43m'\u001b[39;49m\u001b[43m)\u001b[49m\n\u001b[0;32m     33\u001b[0m     search_box\u001b[38;5;241m.\u001b[39msend_keys(wine_name \u001b[38;5;241m+\u001b[39m Keys\u001b[38;5;241m.\u001b[39mRETURN)\n\u001b[0;32m     34\u001b[0m     time\u001b[38;5;241m.\u001b[39msleep(random\u001b[38;5;241m.\u001b[39muniform(\u001b[38;5;241m5\u001b[39m, \u001b[38;5;241m12\u001b[39m))\n",
      "File \u001b[1;32mc:\\Users\\Pavel Detvan\\anaconda3\\envs\\cuda_test\\Lib\\site-packages\\selenium\\webdriver\\remote\\webdriver.py:748\u001b[0m, in \u001b[0;36mWebDriver.find_element\u001b[1;34m(self, by, value)\u001b[0m\n\u001b[0;32m    745\u001b[0m     by \u001b[38;5;241m=\u001b[39m By\u001b[38;5;241m.\u001b[39mCSS_SELECTOR\n\u001b[0;32m    746\u001b[0m     value \u001b[38;5;241m=\u001b[39m \u001b[38;5;124mf\u001b[39m\u001b[38;5;124m'\u001b[39m\u001b[38;5;124m[name=\u001b[39m\u001b[38;5;124m\"\u001b[39m\u001b[38;5;132;01m{\u001b[39;00mvalue\u001b[38;5;132;01m}\u001b[39;00m\u001b[38;5;124m\"\u001b[39m\u001b[38;5;124m]\u001b[39m\u001b[38;5;124m'\u001b[39m\n\u001b[1;32m--> 748\u001b[0m \u001b[38;5;28;01mreturn\u001b[39;00m \u001b[38;5;28;43mself\u001b[39;49m\u001b[38;5;241;43m.\u001b[39;49m\u001b[43mexecute\u001b[49m\u001b[43m(\u001b[49m\u001b[43mCommand\u001b[49m\u001b[38;5;241;43m.\u001b[39;49m\u001b[43mFIND_ELEMENT\u001b[49m\u001b[43m,\u001b[49m\u001b[43m \u001b[49m\u001b[43m{\u001b[49m\u001b[38;5;124;43m\"\u001b[39;49m\u001b[38;5;124;43musing\u001b[39;49m\u001b[38;5;124;43m\"\u001b[39;49m\u001b[43m:\u001b[49m\u001b[43m \u001b[49m\u001b[43mby\u001b[49m\u001b[43m,\u001b[49m\u001b[43m \u001b[49m\u001b[38;5;124;43m\"\u001b[39;49m\u001b[38;5;124;43mvalue\u001b[39;49m\u001b[38;5;124;43m\"\u001b[39;49m\u001b[43m:\u001b[49m\u001b[43m \u001b[49m\u001b[43mvalue\u001b[49m\u001b[43m}\u001b[49m\u001b[43m)\u001b[49m[\u001b[38;5;124m\"\u001b[39m\u001b[38;5;124mvalue\u001b[39m\u001b[38;5;124m\"\u001b[39m]\n",
      "File \u001b[1;32mc:\\Users\\Pavel Detvan\\anaconda3\\envs\\cuda_test\\Lib\\site-packages\\selenium\\webdriver\\remote\\webdriver.py:354\u001b[0m, in \u001b[0;36mWebDriver.execute\u001b[1;34m(self, driver_command, params)\u001b[0m\n\u001b[0;32m    352\u001b[0m response \u001b[38;5;241m=\u001b[39m \u001b[38;5;28mself\u001b[39m\u001b[38;5;241m.\u001b[39mcommand_executor\u001b[38;5;241m.\u001b[39mexecute(driver_command, params)\n\u001b[0;32m    353\u001b[0m \u001b[38;5;28;01mif\u001b[39;00m response:\n\u001b[1;32m--> 354\u001b[0m     \u001b[38;5;28;43mself\u001b[39;49m\u001b[38;5;241;43m.\u001b[39;49m\u001b[43merror_handler\u001b[49m\u001b[38;5;241;43m.\u001b[39;49m\u001b[43mcheck_response\u001b[49m\u001b[43m(\u001b[49m\u001b[43mresponse\u001b[49m\u001b[43m)\u001b[49m\n\u001b[0;32m    355\u001b[0m     response[\u001b[38;5;124m\"\u001b[39m\u001b[38;5;124mvalue\u001b[39m\u001b[38;5;124m\"\u001b[39m] \u001b[38;5;241m=\u001b[39m \u001b[38;5;28mself\u001b[39m\u001b[38;5;241m.\u001b[39m_unwrap_value(response\u001b[38;5;241m.\u001b[39mget(\u001b[38;5;124m\"\u001b[39m\u001b[38;5;124mvalue\u001b[39m\u001b[38;5;124m\"\u001b[39m, \u001b[38;5;28;01mNone\u001b[39;00m))\n\u001b[0;32m    356\u001b[0m     \u001b[38;5;28;01mreturn\u001b[39;00m response\n",
      "File \u001b[1;32mc:\\Users\\Pavel Detvan\\anaconda3\\envs\\cuda_test\\Lib\\site-packages\\selenium\\webdriver\\remote\\errorhandler.py:229\u001b[0m, in \u001b[0;36mErrorHandler.check_response\u001b[1;34m(self, response)\u001b[0m\n\u001b[0;32m    227\u001b[0m         alert_text \u001b[38;5;241m=\u001b[39m value[\u001b[38;5;124m\"\u001b[39m\u001b[38;5;124malert\u001b[39m\u001b[38;5;124m\"\u001b[39m]\u001b[38;5;241m.\u001b[39mget(\u001b[38;5;124m\"\u001b[39m\u001b[38;5;124mtext\u001b[39m\u001b[38;5;124m\"\u001b[39m)\n\u001b[0;32m    228\u001b[0m     \u001b[38;5;28;01mraise\u001b[39;00m exception_class(message, screen, stacktrace, alert_text)  \u001b[38;5;66;03m# type: ignore[call-arg]  # mypy is not smart enough here\u001b[39;00m\n\u001b[1;32m--> 229\u001b[0m \u001b[38;5;28;01mraise\u001b[39;00m exception_class(message, screen, stacktrace)\n",
      "\u001b[1;31mNoSuchElementException\u001b[0m: Message: no such element: Unable to locate element: {\"method\":\"css selector\",\"selector\":\"[id=\"Xwinename\"]\"}\n  (Session info: chrome=129.0.6668.59); For documentation on this error, please visit: https://www.selenium.dev/documentation/webdriver/troubleshooting/errors#no-such-element-exception\nStacktrace:\n\tGetHandleVerifier [0x00B383E3+25571]\n\t(No symbol) [0x00ACA684]\n\t(No symbol) [0x009C2113]\n\t(No symbol) [0x00A06FB2]\n\t(No symbol) [0x00A071FB]\n\t(No symbol) [0x00A47822]\n\t(No symbol) [0x00A2AC54]\n\t(No symbol) [0x00A45349]\n\t(No symbol) [0x00A2A9A6]\n\t(No symbol) [0x009FBAB6]\n\t(No symbol) [0x009FC50D]\n\tGetHandleVerifier [0x00E0C4A3+2991267]\n\tGetHandleVerifier [0x00E5D2C9+3322569]\n\tGetHandleVerifier [0x00BC84D2+615634]\n\tGetHandleVerifier [0x00BCFBFC+646140]\n\t(No symbol) [0x00AD327D]\n\t(No symbol) [0x00AD0188]\n\t(No symbol) [0x00AD0325]\n\t(No symbol) [0x00AC2826]\n\tBaseThreadInitThunk [0x75747BA9+25]\n\tRtlInitializeExceptionChain [0x77ABC11B+107]\n\tRtlClearBits [0x77ABC09F+191]\n"
     ]
    }
   ],
   "source": [
    "from selenium import webdriver\n",
    "from selenium.webdriver.chrome.service import Service\n",
    "from selenium.webdriver.common.by import By\n",
    "from selenium.webdriver.common.keys import Keys\n",
    "from selenium.webdriver.chrome.options import Options\n",
    "import time\n",
    "import random\n",
    "import undetected_chromedriver as uc\n",
    "\n",
    "# List of user-agents to rotate\n",
    "user_agents = [\n",
    "    \"Mozilla/5.0 (Windows NT 10.0; Win64; x64) AppleWebKit/537.36 (KHTML, like Gecko) Chrome/91.0.4472.124 Safari/537.36\",\n",
    "    \"Mozilla/5.0 (Macintosh; Intel Mac OS X 10_15_7) AppleWebKit/605.1.15 (KHTML, like Gecko) Version/14.0.3 Safari/605.1.15\",\n",
    "    # Add more user-agents here\n",
    "]\n",
    "\n",
    "# Function to get a random user-agent\n",
    "def get_random_user_agent():\n",
    "    return random.choice(user_agents)\n",
    "\n",
    "# Setting up Chrome options\n",
    "chrome_options = Options()\n",
    "chrome_options.add_argument(f\"user-agent={get_random_user_agent()}\")\n",
    "\n",
    "# Use undetected_chromedriver\n",
    "driver = uc.Chrome(options=chrome_options)\n",
    "\n",
    "\n",
    "# Function to get the price of a wine from Wine-Searcher\n",
    "def get_wine_price(wine_name):\n",
    "    driver.get('https://www.wine-searcher.com')\n",
    "    search_box = driver.find_element(By.ID, 'Xwinename')\n",
    "    search_box.send_keys(wine_name + Keys.RETURN)\n",
    "    time.sleep(random.uniform(5, 12))\n",
    "    try:\n",
    "        price_element = driver.find_element(By.CLASS_NAME, 'price.text-nowrap')\n",
    "        price = price_element.find_element(By.CLASS_NAME, 'font-light-bold').text\n",
    "        return price\n",
    "    except Exception as e:\n",
    "        print(f\"Could not find price for {wine_name}: {e}\")\n",
    "        return None\n",
    "\n",
    "# Example usage\n",
    "wine_name = \"Riesling Trocken Peter Mertes Germany\"\n",
    "price = get_wine_price(wine_name)\n",
    "print(f\"The price of {wine_name} is: {price}\")\n",
    "\n",
    "# Close the browser\n",
    "driver.quit()\n"
   ]
  }
 ],
 "metadata": {
  "kernelspec": {
   "display_name": "cuda_test",
   "language": "python",
   "name": "python3"
  },
  "language_info": {
   "codemirror_mode": {
    "name": "ipython",
    "version": 3
   },
   "file_extension": ".py",
   "mimetype": "text/x-python",
   "name": "python",
   "nbconvert_exporter": "python",
   "pygments_lexer": "ipython3",
   "version": "3.11.9"
  }
 },
 "nbformat": 4,
 "nbformat_minor": 2
}
