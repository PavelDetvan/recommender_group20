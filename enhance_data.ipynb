{
 "cells": [
  {
   "cell_type": "code",
   "execution_count": 4,
   "metadata": {},
   "outputs": [],
   "source": [
    "import pandas as pd\n",
    "\n",
    "xwines_df = pd.read_csv('All-XWines_Full_100K_wines_21M_ratings\\XWines_Full_100K_wines.csv')  # Your X-Wines dataset\n",
    "external_df = pd.read_csv('archive\\winemag-data_first150k.csv')  # External dataset with prices\n"
   ]
  },
  {
   "cell_type": "code",
   "execution_count": null,
   "metadata": {},
   "outputs": [],
   "source": [
    "merged_df = pd.merge(xwines_df, external_df, on=['wine_name', 'region'], how='left')\n"
   ]
  },
  {
   "cell_type": "code",
   "execution_count": 10,
   "metadata": {},
   "outputs": [
    {
     "name": "stdout",
     "output_type": "stream",
     "text": [
      "Requirement already satisfied: selenium in c:\\users\\pavel detvan\\anaconda3\\envs\\cuda_test\\lib\\site-packages (4.24.0)\n",
      "Requirement already satisfied: urllib3<3,>=1.26 in c:\\users\\pavel detvan\\anaconda3\\envs\\cuda_test\\lib\\site-packages (from urllib3[socks]<3,>=1.26->selenium) (2.2.1)\n",
      "Requirement already satisfied: trio~=0.17 in c:\\users\\pavel detvan\\anaconda3\\envs\\cuda_test\\lib\\site-packages (from selenium) (0.26.2)\n",
      "Requirement already satisfied: trio-websocket~=0.9 in c:\\users\\pavel detvan\\anaconda3\\envs\\cuda_test\\lib\\site-packages (from selenium) (0.11.1)\n",
      "Requirement already satisfied: certifi>=2021.10.8 in c:\\users\\pavel detvan\\anaconda3\\envs\\cuda_test\\lib\\site-packages (from selenium) (2024.8.30)\n",
      "Requirement already satisfied: typing_extensions~=4.9 in c:\\users\\pavel detvan\\anaconda3\\envs\\cuda_test\\lib\\site-packages (from selenium) (4.11.0)\n",
      "Requirement already satisfied: websocket-client~=1.8 in c:\\users\\pavel detvan\\anaconda3\\envs\\cuda_test\\lib\\site-packages (from selenium) (1.8.0)\n",
      "Requirement already satisfied: attrs>=23.2.0 in c:\\users\\pavel detvan\\anaconda3\\envs\\cuda_test\\lib\\site-packages (from trio~=0.17->selenium) (23.2.0)\n",
      "Requirement already satisfied: sortedcontainers in c:\\users\\pavel detvan\\anaconda3\\envs\\cuda_test\\lib\\site-packages (from trio~=0.17->selenium) (2.4.0)\n",
      "Requirement already satisfied: idna in c:\\users\\pavel detvan\\anaconda3\\envs\\cuda_test\\lib\\site-packages (from trio~=0.17->selenium) (3.7)\n",
      "Requirement already satisfied: outcome in c:\\users\\pavel detvan\\anaconda3\\envs\\cuda_test\\lib\\site-packages (from trio~=0.17->selenium) (1.3.0.post0)\n",
      "Requirement already satisfied: sniffio>=1.3.0 in c:\\users\\pavel detvan\\anaconda3\\envs\\cuda_test\\lib\\site-packages (from trio~=0.17->selenium) (1.3.1)\n",
      "Requirement already satisfied: cffi>=1.14 in c:\\users\\pavel detvan\\anaconda3\\envs\\cuda_test\\lib\\site-packages (from trio~=0.17->selenium) (1.17.1)\n",
      "Requirement already satisfied: wsproto>=0.14 in c:\\users\\pavel detvan\\anaconda3\\envs\\cuda_test\\lib\\site-packages (from trio-websocket~=0.9->selenium) (1.2.0)\n",
      "Requirement already satisfied: pysocks!=1.5.7,<2.0,>=1.5.6 in c:\\users\\pavel detvan\\anaconda3\\envs\\cuda_test\\lib\\site-packages (from urllib3[socks]<3,>=1.26->selenium) (1.7.1)\n",
      "Requirement already satisfied: pycparser in c:\\users\\pavel detvan\\anaconda3\\envs\\cuda_test\\lib\\site-packages (from cffi>=1.14->trio~=0.17->selenium) (2.22)\n",
      "Requirement already satisfied: h11<1,>=0.9.0 in c:\\users\\pavel detvan\\anaconda3\\envs\\cuda_test\\lib\\site-packages (from wsproto>=0.14->trio-websocket~=0.9->selenium) (0.14.0)\n"
     ]
    }
   ],
   "source": [
    "!pip install selenium"
   ]
  },
  {
   "cell_type": "code",
   "execution_count": 12,
   "metadata": {},
   "outputs": [],
   "source": [
    "# Replace this with the actual path to your chromedriver file\n",
    "chrome_driver_path = \"C:/WebDriver/chromedriver-win64/chromedriver-win64/chromedriver.exe\"  # Example for macOS/Linux: '/usr/local/bin/chromedriver'\n",
    "# Example for Windows: 'C:/webdrivers/chromedriver.exe'\n",
    "\n",
    "from selenium import webdriver\n",
    "from selenium.webdriver.chrome.service import Service\n",
    "\n",
    "# Initialize the driver\n",
    "service = Service(executable_path=chrome_driver_path)\n",
    "driver = webdriver.Chrome(service=service)\n",
    "\n",
    "# Open a website\n",
    "driver.get('https://www.google.com')\n",
    "\n",
    "# Close the browser\n",
    "driver.quit()"
   ]
  },
  {
   "cell_type": "code",
   "execution_count": 16,
   "metadata": {},
   "outputs": [
    {
     "name": "stdout",
     "output_type": "stream",
     "text": [
      "The price of Casillero del Diablo Merlot is: 6,99\n"
     ]
    }
   ],
   "source": [
    "from selenium import webdriver\n",
    "from selenium.webdriver.chrome.service import Service\n",
    "from selenium.webdriver.common.by import By\n",
    "from selenium.webdriver.common.keys import Keys\n",
    "import time\n",
    "\n",
    "# Replace this with the actual path to your chromedriver file\n",
    "chrome_driver_path = \"C:/WebDriver/chromedriver-win64/chromedriver-win64/chromedriver.exe\"\n",
    "service = Service(executable_path=chrome_driver_path)\n",
    "driver = webdriver.Chrome(service=service)\n",
    "\n",
    "# Function to get the price of a wine\n",
    "def get_wine_price(wine_name):\n",
    "    # Open the Vivino website\n",
    "    driver.get('https://www.vivino.com')\n",
    "\n",
    "    # Find the search box and enter the wine name\n",
    "    search_box = driver.find_element(By.NAME, 'q')\n",
    "    search_box.send_keys(wine_name + Keys.RETURN)\n",
    "\n",
    "    # Wait for the results to load\n",
    "    time.sleep(5)  # You may need to adjust the sleep time\n",
    "\n",
    "    # Try to find the average price\n",
    "    try:\n",
    "        price_element = driver.find_element(By.CLASS_NAME, 'wine-price-value')\n",
    "        price = price_element.text\n",
    "        return price\n",
    "    except Exception as e:\n",
    "        print(f\"Could not find price for {wine_name}: {e}\")\n",
    "        return None\n",
    "\n",
    "# Example usage\n",
    "wine_name = \"Casillero del Diablo Merlot\"  # Replace with actual wine names from your dataset\n",
    "price = get_wine_price(wine_name)\n",
    "print(f\"The price of {wine_name} is: {price}\")\n",
    "\n",
    "# Close the browser\n",
    "driver.quit()\n"
   ]
  },
  {
   "cell_type": "code",
   "execution_count": 17,
   "metadata": {},
   "outputs": [],
   "source": [
    "import pandas as pd\n",
    "import random\n",
    "\n",
    "# Load your X-Wines dataset\n",
    "# Make sure to replace the path with the actual path to your dataset\n",
    "df = pd.read_csv('All-XWines_Full_100K_wines_21M_ratings\\XWines_Full_100K_wines.csv')\n",
    "\n",
    "# Randomly select 50 wine names\n",
    "sample_wines = df.sample(n=50)['WineName'].tolist()\n"
   ]
  },
  {
   "cell_type": "code",
   "execution_count": 20,
   "metadata": {},
   "outputs": [
    {
     "name": "stdout",
     "output_type": "stream",
     "text": [
      "Could not find price for Moulis-en-Médoc: Message: no such element: Unable to locate element: {\"method\":\"css selector\",\"selector\":\".wine-price-value\"}\n",
      "  (Session info: chrome=129.0.6668.59); For documentation on this error, please visit: https://www.selenium.dev/documentation/webdriver/troubleshooting/errors#no-such-element-exception\n",
      "Stacktrace:\n",
      "\tGetHandleVerifier [0x00007FF6DE22FDA5+29557]\n",
      "\t(No symbol) [0x00007FF6DE1A2240]\n",
      "\t(No symbol) [0x00007FF6DE05B6EA]\n",
      "\t(No symbol) [0x00007FF6DE0AFA15]\n",
      "\t(No symbol) [0x00007FF6DE0AFC6C]\n",
      "\t(No symbol) [0x00007FF6DE0FBB07]\n",
      "\t(No symbol) [0x00007FF6DE0D753F]\n",
      "\t(No symbol) [0x00007FF6DE0F88A3]\n",
      "\t(No symbol) [0x00007FF6DE0D72A3]\n",
      "\t(No symbol) [0x00007FF6DE0A12DF]\n",
      "\t(No symbol) [0x00007FF6DE0A2451]\n",
      "\tGetHandleVerifier [0x00007FF6DE55DCBD+3363469]\n",
      "\tGetHandleVerifier [0x00007FF6DE5A9B47+3674391]\n",
      "\tGetHandleVerifier [0x00007FF6DE59EAEB+3629243]\n",
      "\tGetHandleVerifier [0x00007FF6DE2EFC66+815670]\n",
      "\t(No symbol) [0x00007FF6DE1AD6EF]\n",
      "\t(No symbol) [0x00007FF6DE1A92B4]\n",
      "\t(No symbol) [0x00007FF6DE1A9450]\n",
      "\t(No symbol) [0x00007FF6DE1981FF]\n",
      "\tBaseThreadInitThunk [0x00007FFA4B88257D+29]\n",
      "\tRtlUserThreadStart [0x00007FFA4D18AF28+40]\n",
      "\n",
      "Could not find price for White Port: Message: no such element: Unable to locate element: {\"method\":\"css selector\",\"selector\":\".wine-price-value\"}\n",
      "  (Session info: chrome=129.0.6668.59); For documentation on this error, please visit: https://www.selenium.dev/documentation/webdriver/troubleshooting/errors#no-such-element-exception\n",
      "Stacktrace:\n",
      "\tGetHandleVerifier [0x00007FF6DE22FDA5+29557]\n",
      "\t(No symbol) [0x00007FF6DE1A2240]\n",
      "\t(No symbol) [0x00007FF6DE05B6EA]\n",
      "\t(No symbol) [0x00007FF6DE0AFA15]\n",
      "\t(No symbol) [0x00007FF6DE0AFC6C]\n",
      "\t(No symbol) [0x00007FF6DE0FBB07]\n",
      "\t(No symbol) [0x00007FF6DE0D753F]\n",
      "\t(No symbol) [0x00007FF6DE0F88A3]\n",
      "\t(No symbol) [0x00007FF6DE0D72A3]\n",
      "\t(No symbol) [0x00007FF6DE0A12DF]\n",
      "\t(No symbol) [0x00007FF6DE0A2451]\n",
      "\tGetHandleVerifier [0x00007FF6DE55DCBD+3363469]\n",
      "\tGetHandleVerifier [0x00007FF6DE5A9B47+3674391]\n",
      "\tGetHandleVerifier [0x00007FF6DE59EAEB+3629243]\n",
      "\tGetHandleVerifier [0x00007FF6DE2EFC66+815670]\n",
      "\t(No symbol) [0x00007FF6DE1AD6EF]\n",
      "\t(No symbol) [0x00007FF6DE1A92B4]\n",
      "\t(No symbol) [0x00007FF6DE1A9450]\n",
      "\t(No symbol) [0x00007FF6DE1981FF]\n",
      "\tBaseThreadInitThunk [0x00007FFA4B88257D+29]\n",
      "\tRtlUserThreadStart [0x00007FFA4D18AF28+40]\n",
      "\n",
      "Could not find price for Côte de Brouilly: Message: no such element: Unable to locate element: {\"method\":\"css selector\",\"selector\":\".wine-price-value\"}\n",
      "  (Session info: chrome=129.0.6668.59); For documentation on this error, please visit: https://www.selenium.dev/documentation/webdriver/troubleshooting/errors#no-such-element-exception\n",
      "Stacktrace:\n",
      "\tGetHandleVerifier [0x00007FF6DE22FDA5+29557]\n",
      "\t(No symbol) [0x00007FF6DE1A2240]\n",
      "\t(No symbol) [0x00007FF6DE05B6EA]\n",
      "\t(No symbol) [0x00007FF6DE0AFA15]\n",
      "\t(No symbol) [0x00007FF6DE0AFC6C]\n",
      "\t(No symbol) [0x00007FF6DE0FBB07]\n",
      "\t(No symbol) [0x00007FF6DE0D753F]\n",
      "\t(No symbol) [0x00007FF6DE0F88A3]\n",
      "\t(No symbol) [0x00007FF6DE0D72A3]\n",
      "\t(No symbol) [0x00007FF6DE0A12DF]\n",
      "\t(No symbol) [0x00007FF6DE0A2451]\n",
      "\tGetHandleVerifier [0x00007FF6DE55DCBD+3363469]\n",
      "\tGetHandleVerifier [0x00007FF6DE5A9B47+3674391]\n",
      "\tGetHandleVerifier [0x00007FF6DE59EAEB+3629243]\n",
      "\tGetHandleVerifier [0x00007FF6DE2EFC66+815670]\n",
      "\t(No symbol) [0x00007FF6DE1AD6EF]\n",
      "\t(No symbol) [0x00007FF6DE1A92B4]\n",
      "\t(No symbol) [0x00007FF6DE1A9450]\n",
      "\t(No symbol) [0x00007FF6DE1981FF]\n",
      "\tBaseThreadInitThunk [0x00007FFA4B88257D+29]\n",
      "\tRtlUserThreadStart [0x00007FFA4D18AF28+40]\n",
      "\n"
     ]
    }
   ],
   "source": [
    "from selenium import webdriver\n",
    "from selenium.webdriver.chrome.service import Service\n",
    "from selenium.webdriver.common.by import By\n",
    "from selenium.webdriver.common.keys import Keys\n",
    "import time\n",
    "import pandas as pd\n",
    "\n",
    "# Replace this with the actual path to your chromedriver file\n",
    "chrome_driver_path = \"C:/WebDriver/chromedriver-win64/chromedriver-win64/chromedriver.exe\"\n",
    "service = Service(executable_path=chrome_driver_path)\n",
    "driver = webdriver.Chrome(service=service)\n",
    "\n",
    "# Load your X-Wines dataset\n",
    "df = pd.read_csv('All-XWines_Full_100K_wines_21M_ratings\\XWines_Full_100K_wines.csv')\n",
    "\n",
    "# Randomly select 50 wine names\n",
    "sample_wines = df.sample(n=50)['WineName'].tolist()\n",
    "\n",
    "# Function to get the price of a wine\n",
    "def get_wine_price(wine_name):\n",
    "    driver.get('https://www.vivino.com')\n",
    "    search_box = driver.find_element(By.NAME, 'q')\n",
    "    search_box.send_keys(wine_name + Keys.RETURN)\n",
    "    time.sleep(5)  # Wait for the results to load\n",
    "\n",
    "    try:\n",
    "        price_element = driver.find_element(By.CLASS_NAME, 'wine-price-value')\n",
    "        price = price_element.text\n",
    "        return price\n",
    "    except Exception as e:\n",
    "        print(f\"Could not find price for {wine_name}: {e}\")\n",
    "        return None\n",
    "\n",
    "# Dictionary to store results\n",
    "price_results = {}\n",
    "\n",
    "# Loop through the sample wines and get their prices\n",
    "for wine in sample_wines:\n",
    "    price = get_wine_price(wine)\n",
    "    price_results[wine] = price\n",
    "    time.sleep(random.uniform(2, 5))  # Random delay between requests\n",
    "\n",
    "# Close the browser\n",
    "driver.quit()\n",
    "\n",
    "# Display the results\n",
    "for wine, price in price_results.items():\n",
    "    print(f\"{wine}: {price if price else 'Price not available'}\")\n"
   ]
  },
  {
   "cell_type": "code",
   "execution_count": 3,
   "metadata": {},
   "outputs": [
    {
     "ename": "KeyError",
     "evalue": "'wines'",
     "output_type": "error",
     "traceback": [
      "\u001b[1;31m---------------------------------------------------------------------------\u001b[0m",
      "\u001b[1;31mKeyError\u001b[0m                                  Traceback (most recent call last)",
      "Cell \u001b[1;32mIn[3], line 13\u001b[0m\n\u001b[0;32m     10\u001b[0m     \u001b[38;5;28;01mreturn\u001b[39;00m price\n\u001b[0;32m     12\u001b[0m wine_name \u001b[38;5;241m=\u001b[39m \u001b[38;5;124m\"\u001b[39m\u001b[38;5;124mChateau Margaux 2015\u001b[39m\u001b[38;5;124m\"\u001b[39m\n\u001b[1;32m---> 13\u001b[0m price \u001b[38;5;241m=\u001b[39m \u001b[43mget_wine_price_vivino\u001b[49m\u001b[43m(\u001b[49m\u001b[43mwine_name\u001b[49m\u001b[43m)\u001b[49m\n\u001b[0;32m     14\u001b[0m \u001b[38;5;28mprint\u001b[39m(\u001b[38;5;124mf\u001b[39m\u001b[38;5;124m\"\u001b[39m\u001b[38;5;124mThe price of \u001b[39m\u001b[38;5;132;01m{\u001b[39;00mwine_name\u001b[38;5;132;01m}\u001b[39;00m\u001b[38;5;124m is \u001b[39m\u001b[38;5;132;01m{\u001b[39;00mprice\u001b[38;5;132;01m}\u001b[39;00m\u001b[38;5;124m\"\u001b[39m)\n",
      "Cell \u001b[1;32mIn[3], line 9\u001b[0m, in \u001b[0;36mget_wine_price_vivino\u001b[1;34m(wine_name)\u001b[0m\n\u001b[0;32m      7\u001b[0m response \u001b[38;5;241m=\u001b[39m requests\u001b[38;5;241m.\u001b[39mget(url, headers\u001b[38;5;241m=\u001b[39mheaders)\n\u001b[0;32m      8\u001b[0m data \u001b[38;5;241m=\u001b[39m response\u001b[38;5;241m.\u001b[39mjson()\n\u001b[1;32m----> 9\u001b[0m price \u001b[38;5;241m=\u001b[39m \u001b[43mdata\u001b[49m\u001b[43m[\u001b[49m\u001b[38;5;124;43m'\u001b[39;49m\u001b[38;5;124;43mwines\u001b[39;49m\u001b[38;5;124;43m'\u001b[39;49m\u001b[43m]\u001b[49m[\u001b[38;5;241m0\u001b[39m][\u001b[38;5;124m'\u001b[39m\u001b[38;5;124mprice\u001b[39m\u001b[38;5;124m'\u001b[39m]\n\u001b[0;32m     10\u001b[0m \u001b[38;5;28;01mreturn\u001b[39;00m price\n",
      "\u001b[1;31mKeyError\u001b[0m: 'wines'"
     ]
    }
   ],
   "source": [
    "import requests\n",
    "\n",
    "def get_wine_price_vivino(wine_name):\n",
    "    api_key = 'YOUR_API_KEY'\n",
    "    url = f\"https://api.vivino.com/wines?q={wine_name.replace(' ', '%20')}\"\n",
    "    headers = {'Authorization': f'Bearer {api_key}'}\n",
    "    response = requests.get(url, headers=headers)\n",
    "    data = response.json()\n",
    "    price = data['wines'][0]['price']\n",
    "    return price\n",
    "\n",
    "wine_name = \"Chateau Margaux 2015\"\n",
    "price = get_wine_price_vivino(wine_name)\n",
    "print(f\"The price of {wine_name} is {price}\")\n"
   ]
  }
 ],
 "metadata": {
  "kernelspec": {
   "display_name": "cuda_test",
   "language": "python",
   "name": "python3"
  },
  "language_info": {
   "codemirror_mode": {
    "name": "ipython",
    "version": 3
   },
   "file_extension": ".py",
   "mimetype": "text/x-python",
   "name": "python",
   "nbconvert_exporter": "python",
   "pygments_lexer": "ipython3",
   "version": "3.11.9"
  }
 },
 "nbformat": 4,
 "nbformat_minor": 2
}
