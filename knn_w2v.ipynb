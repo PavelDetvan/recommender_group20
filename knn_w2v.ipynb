{
 "cells": [
  {
   "cell_type": "code",
   "execution_count": 1,
   "metadata": {},
   "outputs": [],
   "source": [
    "import pandas as pd\n",
    "import numpy as np"
   ]
  },
  {
   "cell_type": "code",
   "execution_count": 2,
   "metadata": {},
   "outputs": [],
   "source": [
    "wines = pd.read_csv(\"XWines_Slim_1K_wines_150K_ratings\\XWines_Slim_1K_wines.csv\", encoding=\"utf-8\")\n",
    "ratings = pd.read_csv(\"XWines_Slim_1K_wines_150K_ratings\\XWines_Slim_150K_ratings.csv\", low_memory=False)\n",
    "\n",
    "# wines = pd.read_csv(\"All-XWines_Full_100K_wines_21M_ratings\\XWines_Full_100K_wines.csv\", encoding=\"utf-8\")\n",
    "# ratings = pd.read_csv(\"All-XWines_Full_100K_wines_21M_ratings\\XWines_Full_21M_ratings.csv\", low_memory=False)"
   ]
  },
  {
   "cell_type": "code",
   "execution_count": 3,
   "metadata": {},
   "outputs": [],
   "source": [
    "wines = wines[\n",
    "    [\n",
    "        \"WineID\",\n",
    "        \"WineName\",\n",
    "        \"Type\",\n",
    "        \"Elaborate\",\n",
    "        \"Grapes\",\n",
    "        \"Harmonize\",\n",
    "        \"ABV\",\n",
    "        \"Body\",\n",
    "        \"Acidity\",\n",
    "        \"Country\",\n",
    "        \"RegionID\",\n",
    "        \"WineryID\",\n",
    "        \"RegionName\",\n",
    "        \"WineryName\"\n",
    "    ]\n",
    "]"
   ]
  },
  {
   "cell_type": "code",
   "execution_count": 4,
   "metadata": {},
   "outputs": [
    {
     "data": {
      "text/html": [
       "<div>\n",
       "<style scoped>\n",
       "    .dataframe tbody tr th:only-of-type {\n",
       "        vertical-align: middle;\n",
       "    }\n",
       "\n",
       "    .dataframe tbody tr th {\n",
       "        vertical-align: top;\n",
       "    }\n",
       "\n",
       "    .dataframe thead th {\n",
       "        text-align: right;\n",
       "    }\n",
       "</style>\n",
       "<table border=\"1\" class=\"dataframe\">\n",
       "  <thead>\n",
       "    <tr style=\"text-align: right;\">\n",
       "      <th></th>\n",
       "      <th>WineID</th>\n",
       "      <th>WineName</th>\n",
       "      <th>Type</th>\n",
       "      <th>Elaborate</th>\n",
       "      <th>Grapes</th>\n",
       "      <th>Harmonize</th>\n",
       "      <th>ABV</th>\n",
       "      <th>Body</th>\n",
       "      <th>Acidity</th>\n",
       "      <th>Country</th>\n",
       "      <th>RegionID</th>\n",
       "      <th>WineryID</th>\n",
       "      <th>RegionName</th>\n",
       "      <th>WineryName</th>\n",
       "    </tr>\n",
       "  </thead>\n",
       "  <tbody>\n",
       "    <tr>\n",
       "      <th>0</th>\n",
       "      <td>100001</td>\n",
       "      <td>Espumante Moscatel</td>\n",
       "      <td>Sparkling</td>\n",
       "      <td>Varietal/100%</td>\n",
       "      <td>['Muscat/Moscato']</td>\n",
       "      <td>['Pork', 'Rich Fish', 'Shellfish']</td>\n",
       "      <td>7.5</td>\n",
       "      <td>Medium-bodied</td>\n",
       "      <td>High</td>\n",
       "      <td>Brazil</td>\n",
       "      <td>1001</td>\n",
       "      <td>10001</td>\n",
       "      <td>Serra Gaúcha</td>\n",
       "      <td>Casa Perini</td>\n",
       "    </tr>\n",
       "    <tr>\n",
       "      <th>1</th>\n",
       "      <td>100002</td>\n",
       "      <td>Ancellotta</td>\n",
       "      <td>Red</td>\n",
       "      <td>Varietal/100%</td>\n",
       "      <td>['Ancellotta']</td>\n",
       "      <td>['Beef', 'Barbecue', 'Codfish', 'Pasta', 'Pizz...</td>\n",
       "      <td>12.0</td>\n",
       "      <td>Medium-bodied</td>\n",
       "      <td>Medium</td>\n",
       "      <td>Brazil</td>\n",
       "      <td>1001</td>\n",
       "      <td>10001</td>\n",
       "      <td>Serra Gaúcha</td>\n",
       "      <td>Casa Perini</td>\n",
       "    </tr>\n",
       "    <tr>\n",
       "      <th>2</th>\n",
       "      <td>100003</td>\n",
       "      <td>Cabernet Sauvignon</td>\n",
       "      <td>Red</td>\n",
       "      <td>Varietal/100%</td>\n",
       "      <td>['Cabernet Sauvignon']</td>\n",
       "      <td>['Beef', 'Lamb', 'Poultry']</td>\n",
       "      <td>12.0</td>\n",
       "      <td>Full-bodied</td>\n",
       "      <td>High</td>\n",
       "      <td>Brazil</td>\n",
       "      <td>1001</td>\n",
       "      <td>10002</td>\n",
       "      <td>Serra Gaúcha</td>\n",
       "      <td>Castellamare</td>\n",
       "    </tr>\n",
       "  </tbody>\n",
       "</table>\n",
       "</div>"
      ],
      "text/plain": [
       "   WineID            WineName       Type      Elaborate  \\\n",
       "0  100001  Espumante Moscatel  Sparkling  Varietal/100%   \n",
       "1  100002          Ancellotta        Red  Varietal/100%   \n",
       "2  100003  Cabernet Sauvignon        Red  Varietal/100%   \n",
       "\n",
       "                   Grapes                                          Harmonize  \\\n",
       "0      ['Muscat/Moscato']                 ['Pork', 'Rich Fish', 'Shellfish']   \n",
       "1          ['Ancellotta']  ['Beef', 'Barbecue', 'Codfish', 'Pasta', 'Pizz...   \n",
       "2  ['Cabernet Sauvignon']                        ['Beef', 'Lamb', 'Poultry']   \n",
       "\n",
       "    ABV           Body Acidity Country  RegionID  WineryID    RegionName  \\\n",
       "0   7.5  Medium-bodied    High  Brazil      1001     10001  Serra Gaúcha   \n",
       "1  12.0  Medium-bodied  Medium  Brazil      1001     10001  Serra Gaúcha   \n",
       "2  12.0    Full-bodied    High  Brazil      1001     10002  Serra Gaúcha   \n",
       "\n",
       "     WineryName  \n",
       "0   Casa Perini  \n",
       "1   Casa Perini  \n",
       "2  Castellamare  "
      ]
     },
     "execution_count": 4,
     "metadata": {},
     "output_type": "execute_result"
    }
   ],
   "source": [
    "wines.head(3)"
   ]
  },
  {
   "cell_type": "code",
   "execution_count": 5,
   "metadata": {},
   "outputs": [
    {
     "data": {
      "text/plain": [
       "0                Muscat/Moscato\n",
       "1                    Ancellotta\n",
       "2            Cabernet Sauvignon\n",
       "3    Cabernet Sauvignon, Merlot\n",
       "4         Muscat/Moscato Bianco\n",
       "Name: Grapes, dtype: object"
      ]
     },
     "execution_count": 5,
     "metadata": {},
     "output_type": "execute_result"
    }
   ],
   "source": [
    "wines['Grapes'] = wines['Grapes'].str.replace(\"[\", \" \").str.replace(\"]\", \" \").str.replace(\"'\", \"\").str.strip()\n",
    "wines['Grapes'].head()"
   ]
  },
  {
   "cell_type": "code",
   "execution_count": 6,
   "metadata": {},
   "outputs": [
    {
     "data": {
      "text/plain": [
       "0    Mediumbodied\n",
       "1    Mediumbodied\n",
       "2      Fullbodied\n",
       "3      Fullbodied\n",
       "4    Mediumbodied\n",
       "Name: Body, dtype: object"
      ]
     },
     "execution_count": 6,
     "metadata": {},
     "output_type": "execute_result"
    }
   ],
   "source": [
    "wines['Body'] = wines['Body'].str.replace('-', '')\n",
    "wines['Body'].head()"
   ]
  },
  {
   "cell_type": "code",
   "execution_count": 7,
   "metadata": {},
   "outputs": [
    {
     "data": {
      "text/plain": [
       "0                       Pork, Rich Fish, Shellfish\n",
       "1    Beef, Barbecue, Codfish, Pasta, Pizza, Cheese\n",
       "2                              Beef, Lamb, Poultry\n",
       "3                   Beef, Lamb, Game Meat, Poultry\n",
       "4                       Pork, Rich Fish, Shellfish\n",
       "Name: Harmonize, dtype: object"
      ]
     },
     "execution_count": 7,
     "metadata": {},
     "output_type": "execute_result"
    }
   ],
   "source": [
    "wines[\"Harmonize\"] = wines[\"Harmonize\"].str.replace(\"[\", \" \").str.replace(\"]\", \" \").str.replace(\"'\", \"\").str.strip()\n",
    "wines[\"Harmonize\"].head()"
   ]
  },
  {
   "cell_type": "code",
   "execution_count": 8,
   "metadata": {},
   "outputs": [
    {
     "data": {
      "text/html": [
       "<div>\n",
       "<style scoped>\n",
       "    .dataframe tbody tr th:only-of-type {\n",
       "        vertical-align: middle;\n",
       "    }\n",
       "\n",
       "    .dataframe tbody tr th {\n",
       "        vertical-align: top;\n",
       "    }\n",
       "\n",
       "    .dataframe thead th {\n",
       "        text-align: right;\n",
       "    }\n",
       "</style>\n",
       "<table border=\"1\" class=\"dataframe\">\n",
       "  <thead>\n",
       "    <tr style=\"text-align: right;\">\n",
       "      <th></th>\n",
       "      <th>WineID</th>\n",
       "      <th>WineName</th>\n",
       "      <th>Type</th>\n",
       "      <th>Elaborate</th>\n",
       "      <th>Grapes</th>\n",
       "      <th>Harmonize</th>\n",
       "      <th>ABV</th>\n",
       "      <th>Body</th>\n",
       "      <th>Acidity</th>\n",
       "      <th>Country</th>\n",
       "      <th>RegionID</th>\n",
       "      <th>WineryID</th>\n",
       "      <th>RegionName</th>\n",
       "      <th>WineryName</th>\n",
       "    </tr>\n",
       "  </thead>\n",
       "  <tbody>\n",
       "    <tr>\n",
       "      <th>0</th>\n",
       "      <td>100001</td>\n",
       "      <td>Espumante Moscatel</td>\n",
       "      <td>Sparkling</td>\n",
       "      <td>Varietal/100%</td>\n",
       "      <td>Muscat/Moscato</td>\n",
       "      <td>Pork, Rich Fish, Shellfish</td>\n",
       "      <td>7.5</td>\n",
       "      <td>Mediumbodied</td>\n",
       "      <td>High</td>\n",
       "      <td>Brazil</td>\n",
       "      <td>1001</td>\n",
       "      <td>10001</td>\n",
       "      <td>Serra Gaúcha</td>\n",
       "      <td>Casa Perini</td>\n",
       "    </tr>\n",
       "    <tr>\n",
       "      <th>1</th>\n",
       "      <td>100002</td>\n",
       "      <td>Ancellotta</td>\n",
       "      <td>Red</td>\n",
       "      <td>Varietal/100%</td>\n",
       "      <td>Ancellotta</td>\n",
       "      <td>Beef, Barbecue, Codfish, Pasta, Pizza, Cheese</td>\n",
       "      <td>12.0</td>\n",
       "      <td>Mediumbodied</td>\n",
       "      <td>Medium</td>\n",
       "      <td>Brazil</td>\n",
       "      <td>1001</td>\n",
       "      <td>10001</td>\n",
       "      <td>Serra Gaúcha</td>\n",
       "      <td>Casa Perini</td>\n",
       "    </tr>\n",
       "    <tr>\n",
       "      <th>2</th>\n",
       "      <td>100003</td>\n",
       "      <td>Cabernet Sauvignon</td>\n",
       "      <td>Red</td>\n",
       "      <td>Varietal/100%</td>\n",
       "      <td>Cabernet Sauvignon</td>\n",
       "      <td>Beef, Lamb, Poultry</td>\n",
       "      <td>12.0</td>\n",
       "      <td>Fullbodied</td>\n",
       "      <td>High</td>\n",
       "      <td>Brazil</td>\n",
       "      <td>1001</td>\n",
       "      <td>10002</td>\n",
       "      <td>Serra Gaúcha</td>\n",
       "      <td>Castellamare</td>\n",
       "    </tr>\n",
       "  </tbody>\n",
       "</table>\n",
       "</div>"
      ],
      "text/plain": [
       "   WineID            WineName       Type      Elaborate              Grapes  \\\n",
       "0  100001  Espumante Moscatel  Sparkling  Varietal/100%      Muscat/Moscato   \n",
       "1  100002          Ancellotta        Red  Varietal/100%          Ancellotta   \n",
       "2  100003  Cabernet Sauvignon        Red  Varietal/100%  Cabernet Sauvignon   \n",
       "\n",
       "                                       Harmonize   ABV          Body Acidity  \\\n",
       "0                     Pork, Rich Fish, Shellfish   7.5  Mediumbodied    High   \n",
       "1  Beef, Barbecue, Codfish, Pasta, Pizza, Cheese  12.0  Mediumbodied  Medium   \n",
       "2                            Beef, Lamb, Poultry  12.0    Fullbodied    High   \n",
       "\n",
       "  Country  RegionID  WineryID    RegionName    WineryName  \n",
       "0  Brazil      1001     10001  Serra Gaúcha   Casa Perini  \n",
       "1  Brazil      1001     10001  Serra Gaúcha   Casa Perini  \n",
       "2  Brazil      1001     10002  Serra Gaúcha  Castellamare  "
      ]
     },
     "execution_count": 8,
     "metadata": {},
     "output_type": "execute_result"
    }
   ],
   "source": [
    "wines.head(3)"
   ]
  },
  {
   "cell_type": "code",
   "execution_count": 9,
   "metadata": {},
   "outputs": [],
   "source": [
    "def check_special_characters(df, column_name, special_characters_pattern):\n",
    "    rows_with_special_characters = df[df[column_name].str.contains(special_characters_pattern, regex=True, na=False)]\n",
    "    row_count = len(rows_with_special_characters)\n",
    "    print(\"Number of rows with special characters in {}: {}\".format(column_name, row_count))\n",
    "    print(rows_with_special_characters[[column_name]].drop_duplicates().sort_values(by=column_name))"
   ]
  },
  {
   "cell_type": "code",
   "execution_count": 10,
   "metadata": {},
   "outputs": [],
   "source": [
    "import re\n",
    "def remove_special_characters(df, column_name, characters_to_remove):\n",
    "    df[column_name] = df[column_name].str.replace(f'[{re.escape(characters_to_remove)}]', ' ', regex=True)\n",
    "    return df"
   ]
  },
  {
   "cell_type": "code",
   "execution_count": 11,
   "metadata": {},
   "outputs": [],
   "source": [
    "characters_to_remove = '[!\"#$%°&\\'()*+,-./:;<=>?@[\\\\]^_`{|}~]'"
   ]
  },
  {
   "cell_type": "code",
   "execution_count": 12,
   "metadata": {},
   "outputs": [
    {
     "name": "stdout",
     "output_type": "stream",
     "text": [
      "Number of rows with special characters in WineName: 0\n",
      "Empty DataFrame\n",
      "Columns: [WineName]\n",
      "Index: []\n"
     ]
    }
   ],
   "source": [
    "wines = remove_special_characters(wines, 'WineName', characters_to_remove)\n",
    "check_special_characters(wines, 'WineName', characters_to_remove)"
   ]
  },
  {
   "cell_type": "code",
   "execution_count": 13,
   "metadata": {},
   "outputs": [
    {
     "name": "stdout",
     "output_type": "stream",
     "text": [
      "Number of rows with special characters in RegionName: 0\n",
      "Empty DataFrame\n",
      "Columns: [RegionName]\n",
      "Index: []\n"
     ]
    }
   ],
   "source": [
    "wines = remove_special_characters(wines, 'RegionName', characters_to_remove)\n",
    "check_special_characters(wines, 'RegionName', characters_to_remove)"
   ]
  },
  {
   "cell_type": "code",
   "execution_count": 14,
   "metadata": {},
   "outputs": [
    {
     "name": "stdout",
     "output_type": "stream",
     "text": [
      "Number of rows with special characters in WineryName: 0\n",
      "Empty DataFrame\n",
      "Columns: [WineryName]\n",
      "Index: []\n"
     ]
    }
   ],
   "source": [
    "wines = remove_special_characters(wines, 'WineryName', characters_to_remove)\n",
    "check_special_characters(wines, 'WineryName', characters_to_remove)"
   ]
  },
  {
   "cell_type": "code",
   "execution_count": 15,
   "metadata": {},
   "outputs": [
    {
     "data": {
      "text/plain": [
       "WineID        0\n",
       "WineName      0\n",
       "Type          0\n",
       "Elaborate     0\n",
       "Grapes        0\n",
       "Harmonize     0\n",
       "ABV           0\n",
       "Body          0\n",
       "Acidity       0\n",
       "Country       0\n",
       "RegionID      0\n",
       "WineryID      0\n",
       "RegionName    0\n",
       "WineryName    0\n",
       "dtype: int64"
      ]
     },
     "execution_count": 15,
     "metadata": {},
     "output_type": "execute_result"
    }
   ],
   "source": [
    "wines.isnull().sum()"
   ]
  },
  {
   "cell_type": "code",
   "execution_count": 16,
   "metadata": {},
   "outputs": [
    {
     "data": {
      "text/html": [
       "<div>\n",
       "<style scoped>\n",
       "    .dataframe tbody tr th:only-of-type {\n",
       "        vertical-align: middle;\n",
       "    }\n",
       "\n",
       "    .dataframe tbody tr th {\n",
       "        vertical-align: top;\n",
       "    }\n",
       "\n",
       "    .dataframe thead th {\n",
       "        text-align: right;\n",
       "    }\n",
       "</style>\n",
       "<table border=\"1\" class=\"dataframe\">\n",
       "  <thead>\n",
       "    <tr style=\"text-align: right;\">\n",
       "      <th></th>\n",
       "      <th>WineID</th>\n",
       "      <th>WineName</th>\n",
       "      <th>Type</th>\n",
       "      <th>Elaborate</th>\n",
       "      <th>Grapes</th>\n",
       "      <th>Harmonize</th>\n",
       "      <th>ABV</th>\n",
       "      <th>Body</th>\n",
       "      <th>Acidity</th>\n",
       "      <th>Country</th>\n",
       "      <th>RegionID</th>\n",
       "      <th>WineryID</th>\n",
       "      <th>RegionName</th>\n",
       "      <th>WineryName</th>\n",
       "    </tr>\n",
       "  </thead>\n",
       "  <tbody>\n",
       "    <tr>\n",
       "      <th>0</th>\n",
       "      <td>100001</td>\n",
       "      <td>Espumante Moscatel</td>\n",
       "      <td>Sparkling</td>\n",
       "      <td>Varietal/100%</td>\n",
       "      <td>Muscat/Moscato</td>\n",
       "      <td>Pork, Rich Fish, Shellfish</td>\n",
       "      <td>7.5</td>\n",
       "      <td>Mediumbodied</td>\n",
       "      <td>High</td>\n",
       "      <td>Brazil</td>\n",
       "      <td>1001</td>\n",
       "      <td>10001</td>\n",
       "      <td>Serra Gaúcha</td>\n",
       "      <td>Casa Perini</td>\n",
       "    </tr>\n",
       "    <tr>\n",
       "      <th>1</th>\n",
       "      <td>100002</td>\n",
       "      <td>Ancellotta</td>\n",
       "      <td>Red</td>\n",
       "      <td>Varietal/100%</td>\n",
       "      <td>Ancellotta</td>\n",
       "      <td>Beef, Barbecue, Codfish, Pasta, Pizza, Cheese</td>\n",
       "      <td>12.0</td>\n",
       "      <td>Mediumbodied</td>\n",
       "      <td>Medium</td>\n",
       "      <td>Brazil</td>\n",
       "      <td>1001</td>\n",
       "      <td>10001</td>\n",
       "      <td>Serra Gaúcha</td>\n",
       "      <td>Casa Perini</td>\n",
       "    </tr>\n",
       "    <tr>\n",
       "      <th>2</th>\n",
       "      <td>100003</td>\n",
       "      <td>Cabernet Sauvignon</td>\n",
       "      <td>Red</td>\n",
       "      <td>Varietal/100%</td>\n",
       "      <td>Cabernet Sauvignon</td>\n",
       "      <td>Beef, Lamb, Poultry</td>\n",
       "      <td>12.0</td>\n",
       "      <td>Fullbodied</td>\n",
       "      <td>High</td>\n",
       "      <td>Brazil</td>\n",
       "      <td>1001</td>\n",
       "      <td>10002</td>\n",
       "      <td>Serra Gaúcha</td>\n",
       "      <td>Castellamare</td>\n",
       "    </tr>\n",
       "  </tbody>\n",
       "</table>\n",
       "</div>"
      ],
      "text/plain": [
       "   WineID            WineName       Type      Elaborate              Grapes  \\\n",
       "0  100001  Espumante Moscatel  Sparkling  Varietal/100%      Muscat/Moscato   \n",
       "1  100002          Ancellotta        Red  Varietal/100%          Ancellotta   \n",
       "2  100003  Cabernet Sauvignon        Red  Varietal/100%  Cabernet Sauvignon   \n",
       "\n",
       "                                       Harmonize   ABV          Body Acidity  \\\n",
       "0                     Pork, Rich Fish, Shellfish   7.5  Mediumbodied    High   \n",
       "1  Beef, Barbecue, Codfish, Pasta, Pizza, Cheese  12.0  Mediumbodied  Medium   \n",
       "2                            Beef, Lamb, Poultry  12.0    Fullbodied    High   \n",
       "\n",
       "  Country  RegionID  WineryID    RegionName    WineryName  \n",
       "0  Brazil      1001     10001  Serra Gaúcha   Casa Perini  \n",
       "1  Brazil      1001     10001  Serra Gaúcha   Casa Perini  \n",
       "2  Brazil      1001     10002  Serra Gaúcha  Castellamare  "
      ]
     },
     "execution_count": 16,
     "metadata": {},
     "output_type": "execute_result"
    }
   ],
   "source": [
    "wines.head(3)"
   ]
  },
  {
   "cell_type": "markdown",
   "metadata": {},
   "source": [
    "glove model to encode features separately:"
   ]
  },
  {
   "cell_type": "code",
   "execution_count": null,
   "metadata": {},
   "outputs": [],
   "source": [
    "import numpy as np\n",
    "from gensim.models import KeyedVectors\n",
    "\n",
    "# Load pretrained GloVe model (adjust path to where your model is stored)\n",
    "glove_model = KeyedVectors.load_word2vec_format('glove.6B.100d.txt', binary=False)\n",
    "\n",
    "# Function to encode a list of words\n",
    "def encode_list_of_words(word_list, model):\n",
    "    vectors = []\n",
    "    for word in word_list:\n",
    "        if word in model:\n",
    "            vectors.append(model[word])\n",
    "        else:\n",
    "            print(f\"Word '{word}' not in vocabulary\")\n",
    "    if vectors:\n",
    "        # Combine vectors (using mean here, but you can try sum or other methods)\n",
    "        return np.mean(vectors, axis=0)\n",
    "    else:\n",
    "        return np.zeros(model.vector_size)\n",
    "\n",
    "# Example harmonize lists\n",
    "harmonize_list_1 = [\"cheese\", \"bread\", \"olives\"]\n",
    "harmonize_list_2 = [\"steak\", \"red wine\"]\n",
    "\n",
    "# Get the vector encodings\n",
    "vector_1 = encode_list_of_words(harmonize_list_1, glove_model)\n",
    "vector_2 = encode_list_of_words(harmonize_list_2, glove_model)\n",
    "\n",
    "# Print the vectors\n",
    "print(\"Vector for harmonize_list_1 (cheese, bread, olives):\")\n",
    "print(vector_1)\n",
    "print(\"\\nVector for harmonize_list_2 (steak, red wine):\")\n",
    "print(vector_2)\n",
    "\n",
    "# Compare the vectors (e.g., using cosine similarity)\n",
    "cosine_similarity = np.dot(vector_1, vector_2) / (np.linalg.norm(vector_1) * np.linalg.norm(vector_2))\n",
    "print(f\"\\nCosine similarity between the two lists: {cosine_similarity}\")\n"
   ]
  }
 ],
 "metadata": {
  "kernelspec": {
   "display_name": "Python 3",
   "language": "python",
   "name": "python3"
  },
  "language_info": {
   "codemirror_mode": {
    "name": "ipython",
    "version": 3
   },
   "file_extension": ".py",
   "mimetype": "text/x-python",
   "name": "python",
   "nbconvert_exporter": "python",
   "pygments_lexer": "ipython3",
   "version": "3.11.9"
  }
 },
 "nbformat": 4,
 "nbformat_minor": 2
}
