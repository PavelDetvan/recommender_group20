{
 "cells": [
  {
   "cell_type": "code",
   "execution_count": 1,
   "metadata": {},
   "outputs": [],
   "source": [
    "import pandas as pd"
   ]
  },
  {
   "cell_type": "code",
   "execution_count": 2,
   "metadata": {},
   "outputs": [],
   "source": [
    "# wines = pd.read_csv(\"XWines_Slim_1K_wines_150K_ratings\\XWines_Slim_1K_wines.csv\", encoding=\"utf-8\")\n",
    "# ratings = pd.read_csv(\"XWines_Slim_1K_wines_150K_ratings\\XWines_Slim_150K_ratings.csv\", low_memory=False)\n",
    "\n",
    "wines = pd.read_csv(\"All-XWines_Full_100K_wines_21M_ratings\\XWines_Full_100K_wines.csv\", encoding=\"utf-8\")\n",
    "ratings = pd.read_csv(\"All-XWines_Full_100K_wines_21M_ratings\\XWines_Full_21M_ratings.csv\", low_memory=False)"
   ]
  },
  {
   "cell_type": "code",
   "execution_count": 3,
   "metadata": {},
   "outputs": [],
   "source": [
    "wines = wines[\n",
    "    [\n",
    "        \"WineName\",\n",
    "        \"Type\",\n",
    "        \"Elaborate\",\n",
    "        \"Grapes\",\n",
    "        \"Harmonize\",\n",
    "        \"Body\",\n",
    "        \"Acidity\",\n",
    "        \"Country\",\n",
    "        \"RegionName\",\n",
    "        \"WineryName\"\n",
    "    ]\n",
    "]"
   ]
  },
  {
   "cell_type": "code",
   "execution_count": 4,
   "metadata": {},
   "outputs": [
    {
     "data": {
      "text/plain": [
       "0                Muscat/Moscato\n",
       "1                    Ancellotta\n",
       "2            Cabernet Sauvignon\n",
       "3                Muscat/Moscato\n",
       "4    Cabernet Sauvignon, Merlot\n",
       "Name: Grapes, dtype: object"
      ]
     },
     "execution_count": 4,
     "metadata": {},
     "output_type": "execute_result"
    }
   ],
   "source": [
    "wines['Grapes'] = wines['Grapes'].str.replace(\"[\", \" \").str.replace(\"]\", \" \").str.replace(\"'\", \"\").str.strip()\n",
    "wines['Grapes'].head()"
   ]
  },
  {
   "cell_type": "code",
   "execution_count": 5,
   "metadata": {},
   "outputs": [
    {
     "data": {
      "text/plain": [
       "0    Mediumbodied\n",
       "1    Mediumbodied\n",
       "2      Fullbodied\n",
       "3    Mediumbodied\n",
       "4      Fullbodied\n",
       "Name: Body, dtype: object"
      ]
     },
     "execution_count": 5,
     "metadata": {},
     "output_type": "execute_result"
    }
   ],
   "source": [
    "wines['Body'] = wines['Body'].str.replace('-', '')\n",
    "wines['Body'].head()"
   ]
  },
  {
   "cell_type": "code",
   "execution_count": 6,
   "metadata": {},
   "outputs": [
    {
     "data": {
      "text/plain": [
       "0                       Pork, Rich Fish, Shellfish\n",
       "1    Beef, Barbecue, Codfish, Pasta, Pizza, Cheese\n",
       "2                              Beef, Lamb, Poultry\n",
       "3                                    Sweet Dessert\n",
       "4                   Beef, Lamb, Game Meat, Poultry\n",
       "Name: Harmonize, dtype: object"
      ]
     },
     "execution_count": 6,
     "metadata": {},
     "output_type": "execute_result"
    }
   ],
   "source": [
    "wines[\"Harmonize\"] = wines[\"Harmonize\"].str.replace(\"[\", \" \").str.replace(\"]\", \" \").str.replace(\"'\", \"\").str.strip()\n",
    "wines[\"Harmonize\"].head()"
   ]
  },
  {
   "cell_type": "code",
   "execution_count": 7,
   "metadata": {},
   "outputs": [],
   "source": [
    "def check_special_characters(df, column_name, special_characters_pattern):\n",
    "    rows_with_special_characters = df[df[column_name].str.contains(special_characters_pattern, regex=True, na=False)]\n",
    "    row_count = len(rows_with_special_characters)\n",
    "    print(\"Number of rows with special characters in {}: {}\".format(column_name, row_count))\n",
    "    print(rows_with_special_characters[[column_name]].drop_duplicates().sort_values(by=column_name))"
   ]
  },
  {
   "cell_type": "code",
   "execution_count": 8,
   "metadata": {},
   "outputs": [],
   "source": [
    "import re\n",
    "def remove_special_characters(df, column_name, characters_to_remove):\n",
    "    df[column_name] = df[column_name].str.replace(f'[{re.escape(characters_to_remove)}]', ' ', regex=True)\n",
    "    return df"
   ]
  },
  {
   "cell_type": "code",
   "execution_count": 9,
   "metadata": {},
   "outputs": [],
   "source": [
    "characters_to_remove = '[!\"#$%°&\\'()*+,-./:;<=>?@[\\\\]^_`{|}~]'"
   ]
  },
  {
   "cell_type": "code",
   "execution_count": 10,
   "metadata": {},
   "outputs": [
    {
     "name": "stdout",
     "output_type": "stream",
     "text": [
      "Number of rows with special characters in WineName: 21435\n",
      "                                               WineName\n",
      "10426  !Vin Forster Ungeheuer Riesling Spätlese Trocken\n",
      "81313                            #42 Meritage Red Blend\n",
      "19474                            #Lou Côtes de Provence\n",
      "97870       #Дичь Совиньон Блан (#Wild Sauvignon Blanc)\n",
      "96732                               #ДляТебя (#For You)\n",
      "...                                                 ...\n",
      "93311                                   ナイアガラ (Niagara)\n",
      "93346                         完熟甘口 ロゼ (Ripe Sweet Rosé)\n",
      "93323                    実りの収穫 白 辛口 (Harvest White Dry)\n",
      "93316                                        甲州 (Koshu)\n",
      "93338                   限定醸造 甲州 (Limited Brewing Koshu)\n",
      "\n",
      "[14528 rows x 1 columns]\n"
     ]
    }
   ],
   "source": [
    "check_special_characters(wines, 'WineName', characters_to_remove)"
   ]
  },
  {
   "cell_type": "code",
   "execution_count": 11,
   "metadata": {},
   "outputs": [
    {
     "name": "stdout",
     "output_type": "stream",
     "text": [
      "Number of rows with special characters in WineName: 0\n",
      "Empty DataFrame\n",
      "Columns: [WineName]\n",
      "Index: []\n"
     ]
    }
   ],
   "source": [
    "wines = remove_special_characters(wines, 'WineName', characters_to_remove)\n",
    "check_special_characters(wines, 'WineName', characters_to_remove)"
   ]
  },
  {
   "cell_type": "code",
   "execution_count": 12,
   "metadata": {},
   "outputs": [
    {
     "name": "stdout",
     "output_type": "stream",
     "text": [
      "Number of rows with special characters in RegionName: 0\n",
      "Empty DataFrame\n",
      "Columns: [RegionName]\n",
      "Index: []\n"
     ]
    }
   ],
   "source": [
    "wines = remove_special_characters(wines, 'RegionName', characters_to_remove)\n",
    "check_special_characters(wines, 'RegionName', characters_to_remove)"
   ]
  },
  {
   "cell_type": "code",
   "execution_count": 13,
   "metadata": {},
   "outputs": [
    {
     "name": "stdout",
     "output_type": "stream",
     "text": [
      "Number of rows with special characters in WineryName: 0\n",
      "Empty DataFrame\n",
      "Columns: [WineryName]\n",
      "Index: []\n"
     ]
    }
   ],
   "source": [
    "wines = remove_special_characters(wines, 'WineryName', characters_to_remove)\n",
    "check_special_characters(wines, 'WineryName', characters_to_remove)"
   ]
  },
  {
   "cell_type": "code",
   "execution_count": 14,
   "metadata": {},
   "outputs": [
    {
     "data": {
      "text/plain": [
       "WineName      0\n",
       "Type          0\n",
       "Elaborate     0\n",
       "Grapes        0\n",
       "Harmonize     0\n",
       "Body          0\n",
       "Acidity       0\n",
       "Country       0\n",
       "RegionName    0\n",
       "WineryName    0\n",
       "dtype: int64"
      ]
     },
     "execution_count": 14,
     "metadata": {},
     "output_type": "execute_result"
    }
   ],
   "source": [
    "wines.isnull().sum()"
   ]
  },
  {
   "cell_type": "code",
   "execution_count": 15,
   "metadata": {},
   "outputs": [],
   "source": [
    "wines['Type'] = wines['Type'].str.replace('/', ' ')\n",
    "wines['Elaborate'] = wines['Elaborate'].str.replace('/', ' ')\n",
    "wines['Grapes'] = wines['Grapes'].str.replace('/', ' ')\n"
   ]
  },
  {
   "cell_type": "code",
   "execution_count": 16,
   "metadata": {},
   "outputs": [],
   "source": [
    "wines['Harmonize'] = wines['Harmonize'].str.replace(', ', ' ')"
   ]
  },
  {
   "cell_type": "code",
   "execution_count": 17,
   "metadata": {},
   "outputs": [],
   "source": [
    "wines['Grapes'] = wines['Grapes'].str.replace(', ', ' ')"
   ]
  },
  {
   "cell_type": "code",
   "execution_count": 18,
   "metadata": {},
   "outputs": [],
   "source": [
    "wines['Elaborate'] = wines['Elaborate'].str.replace('100%', '')"
   ]
  },
  {
   "cell_type": "code",
   "execution_count": 19,
   "metadata": {},
   "outputs": [
    {
     "name": "stdout",
     "output_type": "stream",
     "text": [
      "|    | WineName           | Type      | Elaborate   | Grapes             | Harmonize                                | Body         | Acidity   | Country   | RegionName   | WineryName   |\n",
      "|---:|:-------------------|:----------|:------------|:-------------------|:-----------------------------------------|:-------------|:----------|:----------|:-------------|:-------------|\n",
      "|  0 | Espumante Moscatel | Sparkling | Varietal    | Muscat Moscato     | Pork Rich Fish Shellfish                 | Mediumbodied | High      | Brazil    | Serra Gaúcha | Casa Perini  |\n",
      "|  1 | Ancellotta         | Red       | Varietal    | Ancellotta         | Beef Barbecue Codfish Pasta Pizza Cheese | Mediumbodied | Medium    | Brazil    | Serra Gaúcha | Casa Perini  |\n",
      "|  2 | Cabernet Sauvignon | Red       | Varietal    | Cabernet Sauvignon | Beef Lamb Poultry                        | Fullbodied   | High      | Brazil    | Serra Gaúcha | Castellamare |\n"
     ]
    }
   ],
   "source": [
    "print(wines.head(3).to_markdown())"
   ]
  },
  {
   "cell_type": "code",
   "execution_count": 20,
   "metadata": {},
   "outputs": [],
   "source": [
    "wines.to_csv('wines.json', index=False)"
   ]
  },
  {
   "cell_type": "code",
   "execution_count": 21,
   "metadata": {},
   "outputs": [],
   "source": [
    "# Initialize an empty list to hold the corpus\n",
    "corpus = []\n",
    "\n",
    "# Iterate through each row in the dataframe\n",
    "for index, row in wines.iterrows():\n",
    "    words = []\n",
    "    for column in wines.columns:\n",
    "        # Assuming each cell contains a string of words/phrases\n",
    "        words.extend(word.lower() for word in row[column].split())  # Split the string into individual words/phrases and convert to lowercase\n",
    "    corpus.append(words)"
   ]
  },
  {
   "cell_type": "code",
   "execution_count": 22,
   "metadata": {},
   "outputs": [
    {
     "name": "stdout",
     "output_type": "stream",
     "text": [
      "['espumante', 'moscatel', 'sparkling', 'varietal', 'muscat', 'moscato', 'pork', 'rich', 'fish', 'shellfish', 'mediumbodied', 'high', 'brazil', 'serra', 'gaúcha', 'casa', 'perini']\n"
     ]
    }
   ],
   "source": [
    "print(corpus[0])"
   ]
  },
  {
   "cell_type": "code",
   "execution_count": 23,
   "metadata": {},
   "outputs": [
    {
     "name": "stdout",
     "output_type": "stream",
     "text": [
      "Corpus saved to corpus.json\n"
     ]
    }
   ],
   "source": [
    "import json\n",
    "\n",
    "# Save the corpus to a JSON file\n",
    "with open('corpus.json', 'w') as file:\n",
    "    json.dump(corpus, file)\n",
    "\n",
    "print(\"Corpus saved to corpus.json\")"
   ]
  },
  {
   "cell_type": "code",
   "execution_count": 25,
   "metadata": {},
   "outputs": [],
   "source": [
    "import numpy as np\n",
    "def load_glove_embeddings(filepath):\n",
    "    embeddings = {}\n",
    "    with open(filepath, 'r', encoding='utf-8') as f:\n",
    "        for line in f:\n",
    "            values = line.split()\n",
    "            word = values[0]\n",
    "            vector = np.array(values[1:], dtype='float32')\n",
    "            embeddings[word] = vector\n",
    "    return embeddings\n",
    "\n",
    "# Load the GloVe embeddings (use the correct path to glove.6B.100d.txt)\n",
    "glove_embeddings = load_glove_embeddings(\"glove.6B.100d.txt\")\n"
   ]
  },
  {
   "cell_type": "code",
   "execution_count": 26,
   "metadata": {},
   "outputs": [
    {
     "name": "stdout",
     "output_type": "stream",
     "text": [
      "Number of OOV words: 27367\n",
      "Some OOV words: ['apostelhoeve', 'kaiora', 'saffirio', 'esquila', 'morissio', 'maresco', 'leglise', 'bisquertt', 'düppel', 'versátil']\n"
     ]
    }
   ],
   "source": [
    "# Flatten your corpus into a list of unique words\n",
    "corpus_flat = set(word for sentence in corpus for word in sentence)\n",
    "\n",
    "# Identify OOV words (words not found in GloVe embeddings)\n",
    "oov_words = [word for word in corpus_flat if word.lower() not in glove_embeddings]\n",
    "\n",
    "print(f\"Number of OOV words: {len(oov_words)}\")\n",
    "print(f\"Some OOV words: {oov_words[:10]}\")\n"
   ]
  },
  {
   "cell_type": "code",
   "execution_count": 27,
   "metadata": {},
   "outputs": [
    {
     "name": "stdout",
     "output_type": "stream",
     "text": [
      "Sample OOV word embedding: [-3.6973551e-02  6.1116549e-03 -3.1181129e-03 -1.1834876e-03\n",
      " -5.1282956e-03 -5.4737227e-03  2.1144595e-02  3.2943331e-02\n",
      "  9.2102811e-03 -1.1437621e-02  9.6056676e-03  6.9698453e-04\n",
      "  7.2877090e-03  6.9649788e-03 -2.6366498e-02 -3.3838782e-03\n",
      "  1.3778426e-02 -8.6173052e-03  1.5774008e-02 -9.3775466e-03\n",
      " -5.3222487e-03  2.8995413e-03  1.4695640e-02  3.2706730e-02\n",
      " -1.7467400e-02  1.6450884e-02  2.2940093e-03  6.2082848e-03\n",
      " -2.4486054e-02 -3.1330134e-03  1.6579291e-02 -1.2886627e-03\n",
      " -2.4687003e-03 -1.6258817e-02 -8.8629499e-03  1.0734662e-02\n",
      "  7.5168824e-03  5.1195589e-03  1.1173854e-02 -6.8944390e-03\n",
      "  2.4636654e-02 -1.2731231e-02 -2.1951059e-02  4.1299406e-03\n",
      " -2.1733660e-02 -9.9974126e-03  1.2963517e-02  1.2326274e-02\n",
      " -4.3581710e-03  1.4111800e-02  3.0347452e-02 -8.6685866e-03\n",
      " -1.7825153e-02  1.4331244e-02  1.1993338e-03  1.1887629e-02\n",
      "  6.6857017e-03 -2.8683390e-02 -1.0807372e-02 -3.3335172e-04\n",
      " -1.5140613e-02  3.5930190e-03  1.9154662e-03 -8.1963195e-03\n",
      " -2.1014689e-02 -7.0021902e-03 -3.4350347e-02 -9.7054895e-03\n",
      "  1.1674747e-03 -1.3966473e-02  2.6887229e-02  1.0726917e-02\n",
      "  1.7604783e-02  1.9456554e-02  1.6953334e-02  2.7618052e-02\n",
      "  9.6274978e-03  1.1249585e-02 -5.7495595e-03  1.2722818e-02\n",
      " -3.2556441e-02  5.6133172e-03  2.4316404e-02 -1.0852083e-03\n",
      " -2.6884835e-02 -3.1351803e-03  1.1865081e-02  9.6903956e-03\n",
      " -7.1917591e-03  1.6295219e-02  2.6710196e-03  5.1087635e-03\n",
      " -2.0709667e-02  3.1256616e-02  2.3600699e-03 -7.3486262e-05\n",
      "  1.9244842e-02 -3.0626042e-02  1.0805579e-02 -4.2894036e-03]\n"
     ]
    }
   ],
   "source": [
    "from gensim.models import Word2Vec\n",
    "\n",
    "# Train Word2Vec model on the corpus to learn embeddings for OOV words\n",
    "word2vec_model = Word2Vec(sentences=corpus, vector_size=100, window=5, min_count=1, workers=10)\n",
    "\n",
    "# Get embeddings for OOV words\n",
    "oov_embeddings = {word: word2vec_model.wv[word] for word in oov_words}\n",
    "\n",
    "print(f\"Sample OOV word embedding: {oov_embeddings[oov_words[0]]}\")\n"
   ]
  },
  {
   "cell_type": "code",
   "execution_count": 28,
   "metadata": {},
   "outputs": [
    {
     "name": "stdout",
     "output_type": "stream",
     "text": [
      "Total words in final embeddings: 427367\n"
     ]
    }
   ],
   "source": [
    "# Merge GloVe and OOV embeddings\n",
    "final_embeddings = glove_embeddings.copy()\n",
    "final_embeddings.update(oov_embeddings)\n",
    "\n",
    "print(f\"Total words in final embeddings: {len(final_embeddings)}\")\n"
   ]
  },
  {
   "cell_type": "code",
   "execution_count": 29,
   "metadata": {},
   "outputs": [],
   "source": [
    "import pickle\n",
    "\n",
    "# Save the combined embeddings\n",
    "with open('combined_glove_oov_embeddings.pkl', 'wb') as f:\n",
    "    pickle.dump(final_embeddings, f)\n"
   ]
  },
  {
   "cell_type": "code",
   "execution_count": 30,
   "metadata": {},
   "outputs": [
    {
     "name": "stdout",
     "output_type": "stream",
     "text": [
      "Vector for 'aquarela': [-0.03038387 -0.01121894 -0.01346635  0.02557348 -0.00360102 -0.0027586\n",
      " -0.00126475  0.01695323  0.00525266 -0.00320059  0.00241605  0.01213203\n",
      "  0.00026962  0.02358433 -0.02203885 -0.00280847  0.0051872   0.0109082\n",
      " -0.00180579 -0.00077052 -0.00664009  0.00309005  0.00454308  0.02180259\n",
      " -0.00268304 -0.00391799  0.00621556  0.03396574 -0.02207505  0.01045749\n",
      " -0.00098376 -0.00345203 -0.00041609 -0.01064812 -0.00385459 -0.00128129\n",
      "  0.00556299  0.00384221  0.017803   -0.01698707  0.00144671 -0.00844301\n",
      " -0.0154839  -0.00359151  0.00056433 -0.01112938  0.02566032  0.01553847\n",
      " -0.0101446   0.00502182 -0.00251705 -0.00176857 -0.00326272 -0.01174307\n",
      " -0.01402416  0.02284874 -0.00078858 -0.01730207  0.00726611  0.01480921\n",
      " -0.01803309  0.01335229  0.00483819  0.01200896 -0.0314816  -0.0068158\n",
      " -0.01301767  0.00288041 -0.00848341  0.00408786  0.02498866  0.01487888\n",
      "  0.01315355  0.01069675  0.02209724  0.01142865 -0.00489316  0.0197099\n",
      "  0.01416789  0.00791656 -0.01320188  0.01127154  0.01806951  0.01121786\n",
      "  0.00402337 -0.00146092  0.00768631  0.00365666 -0.00313749 -0.00621728\n",
      "  0.00402085  0.00080216 -0.00720943  0.00144061  0.02187843 -0.00333491\n",
      "  0.00555666 -0.02849904  0.00259229  0.0039297 ]\n"
     ]
    }
   ],
   "source": [
    "# Function to retrieve a vector for a given word\n",
    "def get_word_vector(word):\n",
    "    word = word.lower()  # Make sure to handle case sensitivity\n",
    "    if word in final_embeddings:\n",
    "        return final_embeddings[word]\n",
    "    else:\n",
    "        print(f\"'{word}' not found in the embeddings.\")\n",
    "        return None\n",
    "\n",
    "# Example: Retrieve a vector for a specific wine name or word\n",
    "word_to_lookup = \"aquarela\"  # Replace with specific word\n",
    "vector = get_word_vector(word_to_lookup)\n",
    "\n",
    "if vector is not None:\n",
    "    print(f\"Vector for '{word_to_lookup}': {vector}\")\n"
   ]
  },
  {
   "cell_type": "code",
   "execution_count": null,
   "metadata": {},
   "outputs": [],
   "source": []
  }
 ],
 "metadata": {
  "kernelspec": {
   "display_name": "Python 3",
   "language": "python",
   "name": "python3"
  },
  "language_info": {
   "codemirror_mode": {
    "name": "ipython",
    "version": 3
   },
   "file_extension": ".py",
   "mimetype": "text/x-python",
   "name": "python",
   "nbconvert_exporter": "python",
   "pygments_lexer": "ipython3",
   "version": "3.11.9"
  }
 },
 "nbformat": 4,
 "nbformat_minor": 2
}
