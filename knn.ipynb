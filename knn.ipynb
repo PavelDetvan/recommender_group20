{
 "cells": [
  {
   "cell_type": "code",
   "execution_count": 32,
   "metadata": {},
   "outputs": [],
   "source": [
    "import pandas as pd\n",
    "import numpy as np"
   ]
  },
  {
   "cell_type": "code",
   "execution_count": 33,
   "metadata": {},
   "outputs": [],
   "source": [
    "wines = pd.read_csv(\"XWines_Test_100_wines_1K_ratings\\XWines_Test_100_wines.csv\", encoding=\"utf-8\")\n",
    "ratings = pd.read_csv(\"XWines_Test_100_wines_1K_ratings\\XWines_Test_1K_ratings.csv\", low_memory=False)\n",
    "\n",
    "# wines = pd.read_csv(\"All-XWines_Full_100K_wines_21M_ratings\\XWines_Full_100K_wines.csv\", encoding=\"utf-8\")\n",
    "# ratings = pd.read_csv(\"All-XWines_Full_100K_wines_21M_ratings\\XWines_Full_21M_ratings.csv\", low_memory=False)"
   ]
  },
  {
   "cell_type": "code",
   "execution_count": 34,
   "metadata": {},
   "outputs": [
    {
     "data": {
      "text/html": [
       "<div>\n",
       "<style scoped>\n",
       "    .dataframe tbody tr th:only-of-type {\n",
       "        vertical-align: middle;\n",
       "    }\n",
       "\n",
       "    .dataframe tbody tr th {\n",
       "        vertical-align: top;\n",
       "    }\n",
       "\n",
       "    .dataframe thead th {\n",
       "        text-align: right;\n",
       "    }\n",
       "</style>\n",
       "<table border=\"1\" class=\"dataframe\">\n",
       "  <thead>\n",
       "    <tr style=\"text-align: right;\">\n",
       "      <th></th>\n",
       "      <th>WineID</th>\n",
       "      <th>WineName</th>\n",
       "      <th>Type</th>\n",
       "      <th>Elaborate</th>\n",
       "      <th>Grapes</th>\n",
       "      <th>Harmonize</th>\n",
       "      <th>ABV</th>\n",
       "      <th>Body</th>\n",
       "      <th>Acidity</th>\n",
       "      <th>Code</th>\n",
       "      <th>Country</th>\n",
       "      <th>RegionID</th>\n",
       "      <th>RegionName</th>\n",
       "      <th>WineryID</th>\n",
       "      <th>WineryName</th>\n",
       "      <th>Website</th>\n",
       "      <th>Vintages</th>\n",
       "    </tr>\n",
       "  </thead>\n",
       "  <tbody>\n",
       "    <tr>\n",
       "      <th>0</th>\n",
       "      <td>100062</td>\n",
       "      <td>Origem Merlot</td>\n",
       "      <td>Red</td>\n",
       "      <td>Varietal/100%</td>\n",
       "      <td>['Merlot']</td>\n",
       "      <td>['Beef', 'Lamb', 'Veal', 'Grilled', 'Pizza', '...</td>\n",
       "      <td>13.0</td>\n",
       "      <td>Full-bodied</td>\n",
       "      <td>Medium</td>\n",
       "      <td>BR</td>\n",
       "      <td>Brazil</td>\n",
       "      <td>1002</td>\n",
       "      <td>Vale dos Vinhedos</td>\n",
       "      <td>10014</td>\n",
       "      <td>Casa Valduga</td>\n",
       "      <td>http://www.casavalduga.com.br</td>\n",
       "      <td>[2020, 2019, 2018, 2017, 2016, 2015, 2014, 201...</td>\n",
       "    </tr>\n",
       "    <tr>\n",
       "      <th>1</th>\n",
       "      <td>100191</td>\n",
       "      <td>Reserva Chardonnay</td>\n",
       "      <td>White</td>\n",
       "      <td>Varietal/100%</td>\n",
       "      <td>['Chardonnay']</td>\n",
       "      <td>['Rich Fish', 'Seafood', 'Risotto', 'Poultry',...</td>\n",
       "      <td>13.0</td>\n",
       "      <td>Medium-bodied</td>\n",
       "      <td>Medium</td>\n",
       "      <td>BR</td>\n",
       "      <td>Brazil</td>\n",
       "      <td>1001</td>\n",
       "      <td>Serra Gaúcha</td>\n",
       "      <td>10000</td>\n",
       "      <td>Aurora</td>\n",
       "      <td>http://www.vinicolaaurora.com.br</td>\n",
       "      <td>[2021, 2020, 2019, 2018, 2017, 2016, 2015, 201...</td>\n",
       "    </tr>\n",
       "  </tbody>\n",
       "</table>\n",
       "</div>"
      ],
      "text/plain": [
       "   WineID            WineName   Type      Elaborate          Grapes  \\\n",
       "0  100062       Origem Merlot    Red  Varietal/100%      ['Merlot']   \n",
       "1  100191  Reserva Chardonnay  White  Varietal/100%  ['Chardonnay']   \n",
       "\n",
       "                                           Harmonize   ABV           Body  \\\n",
       "0  ['Beef', 'Lamb', 'Veal', 'Grilled', 'Pizza', '...  13.0    Full-bodied   \n",
       "1  ['Rich Fish', 'Seafood', 'Risotto', 'Poultry',...  13.0  Medium-bodied   \n",
       "\n",
       "  Acidity Code Country  RegionID         RegionName  WineryID    WineryName  \\\n",
       "0  Medium   BR  Brazil      1002  Vale dos Vinhedos     10014  Casa Valduga   \n",
       "1  Medium   BR  Brazil      1001       Serra Gaúcha     10000        Aurora   \n",
       "\n",
       "                            Website  \\\n",
       "0     http://www.casavalduga.com.br   \n",
       "1  http://www.vinicolaaurora.com.br   \n",
       "\n",
       "                                            Vintages  \n",
       "0  [2020, 2019, 2018, 2017, 2016, 2015, 2014, 201...  \n",
       "1  [2021, 2020, 2019, 2018, 2017, 2016, 2015, 201...  "
      ]
     },
     "execution_count": 34,
     "metadata": {},
     "output_type": "execute_result"
    }
   ],
   "source": [
    "wines.head(2)"
   ]
  },
  {
   "cell_type": "code",
   "execution_count": 35,
   "metadata": {},
   "outputs": [
    {
     "data": {
      "text/plain": [
       "Index(['WineID', 'WineName', 'Type', 'Elaborate', 'Grapes', 'Harmonize', 'ABV',\n",
       "       'Body', 'Acidity', 'Code', 'Country', 'RegionID', 'RegionName',\n",
       "       'WineryID', 'WineryName', 'Website', 'Vintages'],\n",
       "      dtype='object')"
      ]
     },
     "execution_count": 35,
     "metadata": {},
     "output_type": "execute_result"
    }
   ],
   "source": [
    "wines.columns"
   ]
  },
  {
   "cell_type": "code",
   "execution_count": 36,
   "metadata": {},
   "outputs": [
    {
     "name": "stdout",
     "output_type": "stream",
     "text": [
      "<class 'pandas.core.frame.DataFrame'>\n",
      "RangeIndex: 100 entries, 0 to 99\n",
      "Data columns (total 17 columns):\n",
      " #   Column      Non-Null Count  Dtype  \n",
      "---  ------      --------------  -----  \n",
      " 0   WineID      100 non-null    int64  \n",
      " 1   WineName    100 non-null    object \n",
      " 2   Type        100 non-null    object \n",
      " 3   Elaborate   100 non-null    object \n",
      " 4   Grapes      100 non-null    object \n",
      " 5   Harmonize   100 non-null    object \n",
      " 6   ABV         100 non-null    float64\n",
      " 7   Body        100 non-null    object \n",
      " 8   Acidity     100 non-null    object \n",
      " 9   Code        100 non-null    object \n",
      " 10  Country     100 non-null    object \n",
      " 11  RegionID    100 non-null    int64  \n",
      " 12  RegionName  100 non-null    object \n",
      " 13  WineryID    100 non-null    int64  \n",
      " 14  WineryName  100 non-null    object \n",
      " 15  Website     100 non-null    object \n",
      " 16  Vintages    100 non-null    object \n",
      "dtypes: float64(1), int64(3), object(13)\n",
      "memory usage: 13.4+ KB\n"
     ]
    }
   ],
   "source": [
    "wines.info()"
   ]
  },
  {
   "cell_type": "code",
   "execution_count": 37,
   "metadata": {},
   "outputs": [],
   "source": [
    "wines = wines[\n",
    "    [\n",
    "        \"WineID\",\n",
    "        \"WineName\",\n",
    "        \"Type\",\n",
    "        \"Elaborate\",\n",
    "        \"Grapes\",\n",
    "        \"Harmonize\",\n",
    "        \"ABV\",\n",
    "        \"Body\",\n",
    "        \"Acidity\",\n",
    "        \"Country\",\n",
    "        \"RegionID\",\n",
    "        \"WineryID\",\n",
    "        \"RegionName\",\n",
    "        \"WineryName\"\n",
    "    ]\n",
    "]"
   ]
  },
  {
   "cell_type": "code",
   "execution_count": 38,
   "metadata": {},
   "outputs": [
    {
     "data": {
      "text/html": [
       "<div>\n",
       "<style scoped>\n",
       "    .dataframe tbody tr th:only-of-type {\n",
       "        vertical-align: middle;\n",
       "    }\n",
       "\n",
       "    .dataframe tbody tr th {\n",
       "        vertical-align: top;\n",
       "    }\n",
       "\n",
       "    .dataframe thead th {\n",
       "        text-align: right;\n",
       "    }\n",
       "</style>\n",
       "<table border=\"1\" class=\"dataframe\">\n",
       "  <thead>\n",
       "    <tr style=\"text-align: right;\">\n",
       "      <th></th>\n",
       "      <th>WineID</th>\n",
       "      <th>WineName</th>\n",
       "      <th>Type</th>\n",
       "      <th>Elaborate</th>\n",
       "      <th>Grapes</th>\n",
       "      <th>Harmonize</th>\n",
       "      <th>ABV</th>\n",
       "      <th>Body</th>\n",
       "      <th>Acidity</th>\n",
       "      <th>Country</th>\n",
       "      <th>RegionID</th>\n",
       "      <th>WineryID</th>\n",
       "      <th>RegionName</th>\n",
       "      <th>WineryName</th>\n",
       "    </tr>\n",
       "  </thead>\n",
       "  <tbody>\n",
       "    <tr>\n",
       "      <th>0</th>\n",
       "      <td>100062</td>\n",
       "      <td>Origem Merlot</td>\n",
       "      <td>Red</td>\n",
       "      <td>Varietal/100%</td>\n",
       "      <td>['Merlot']</td>\n",
       "      <td>['Beef', 'Lamb', 'Veal', 'Grilled', 'Pizza', '...</td>\n",
       "      <td>13.0</td>\n",
       "      <td>Full-bodied</td>\n",
       "      <td>Medium</td>\n",
       "      <td>Brazil</td>\n",
       "      <td>1002</td>\n",
       "      <td>10014</td>\n",
       "      <td>Vale dos Vinhedos</td>\n",
       "      <td>Casa Valduga</td>\n",
       "    </tr>\n",
       "    <tr>\n",
       "      <th>1</th>\n",
       "      <td>100191</td>\n",
       "      <td>Reserva Chardonnay</td>\n",
       "      <td>White</td>\n",
       "      <td>Varietal/100%</td>\n",
       "      <td>['Chardonnay']</td>\n",
       "      <td>['Rich Fish', 'Seafood', 'Risotto', 'Poultry',...</td>\n",
       "      <td>13.0</td>\n",
       "      <td>Medium-bodied</td>\n",
       "      <td>Medium</td>\n",
       "      <td>Brazil</td>\n",
       "      <td>1001</td>\n",
       "      <td>10000</td>\n",
       "      <td>Serra Gaúcha</td>\n",
       "      <td>Aurora</td>\n",
       "    </tr>\n",
       "    <tr>\n",
       "      <th>2</th>\n",
       "      <td>101847</td>\n",
       "      <td>Dona Antonia Porto Reserva Tawny</td>\n",
       "      <td>Dessert/Port</td>\n",
       "      <td>Assemblage/Blend</td>\n",
       "      <td>['Touriga Nacional', 'Touriga Franca', 'Tinta ...</td>\n",
       "      <td>['Appetizer', 'Sweet Dessert', 'Blue Cheese']</td>\n",
       "      <td>20.0</td>\n",
       "      <td>Very full-bodied</td>\n",
       "      <td>High</td>\n",
       "      <td>Portugal</td>\n",
       "      <td>1031</td>\n",
       "      <td>10674</td>\n",
       "      <td>Porto</td>\n",
       "      <td>Porto Ferreira</td>\n",
       "    </tr>\n",
       "  </tbody>\n",
       "</table>\n",
       "</div>"
      ],
      "text/plain": [
       "   WineID                          WineName          Type         Elaborate  \\\n",
       "0  100062                     Origem Merlot           Red     Varietal/100%   \n",
       "1  100191                Reserva Chardonnay         White     Varietal/100%   \n",
       "2  101847  Dona Antonia Porto Reserva Tawny  Dessert/Port  Assemblage/Blend   \n",
       "\n",
       "                                              Grapes  \\\n",
       "0                                         ['Merlot']   \n",
       "1                                     ['Chardonnay']   \n",
       "2  ['Touriga Nacional', 'Touriga Franca', 'Tinta ...   \n",
       "\n",
       "                                           Harmonize   ABV              Body  \\\n",
       "0  ['Beef', 'Lamb', 'Veal', 'Grilled', 'Pizza', '...  13.0       Full-bodied   \n",
       "1  ['Rich Fish', 'Seafood', 'Risotto', 'Poultry',...  13.0     Medium-bodied   \n",
       "2      ['Appetizer', 'Sweet Dessert', 'Blue Cheese']  20.0  Very full-bodied   \n",
       "\n",
       "  Acidity   Country  RegionID  WineryID         RegionName      WineryName  \n",
       "0  Medium    Brazil      1002     10014  Vale dos Vinhedos    Casa Valduga  \n",
       "1  Medium    Brazil      1001     10000       Serra Gaúcha          Aurora  \n",
       "2    High  Portugal      1031     10674              Porto  Porto Ferreira  "
      ]
     },
     "execution_count": 38,
     "metadata": {},
     "output_type": "execute_result"
    }
   ],
   "source": [
    "wines.head(3)"
   ]
  },
  {
   "cell_type": "code",
   "execution_count": 39,
   "metadata": {},
   "outputs": [
    {
     "data": {
      "text/plain": [
       "0                                               Merlot\n",
       "1                                           Chardonnay\n",
       "2    Touriga Nacional, Touriga Franca, Tinta Barroc...\n",
       "3    Tinta Amarela, Tinta Barroca, Touriga Franca, ...\n",
       "4                          Loureiro, Alvarinho, Arinto\n",
       "Name: Grapes, dtype: object"
      ]
     },
     "execution_count": 39,
     "metadata": {},
     "output_type": "execute_result"
    }
   ],
   "source": [
    "wines['Grapes'] = wines['Grapes'].str.replace(\"[\", \" \").str.replace(\"]\", \" \").str.replace(\"'\", \"\").str.strip()\n",
    "wines['Grapes'].head()"
   ]
  },
  {
   "cell_type": "code",
   "execution_count": 40,
   "metadata": {},
   "outputs": [
    {
     "data": {
      "text/plain": [
       "0          Fullbodied\n",
       "1        Mediumbodied\n",
       "2     Very fullbodied\n",
       "3     Very fullbodied\n",
       "4    Very lightbodied\n",
       "Name: Body, dtype: object"
      ]
     },
     "execution_count": 40,
     "metadata": {},
     "output_type": "execute_result"
    }
   ],
   "source": [
    "wines['Body'] = wines['Body'].str.replace('-', '')\n",
    "wines['Body'].head()"
   ]
  },
  {
   "cell_type": "code",
   "execution_count": 41,
   "metadata": {},
   "outputs": [
    {
     "data": {
      "text/plain": [
       "0             Beef, Lamb, Veal, Grilled, Pizza, Pasta\n",
       "1    Rich Fish, Seafood, Risotto, Poultry, Vegetarian\n",
       "2               Appetizer, Sweet Dessert, Blue Cheese\n",
       "3             Sweet Dessert, Cake, Fruit, Soft Cheese\n",
       "4       Fish, Shellfish, Vegetarian, Appetizer, Snack\n",
       "Name: Harmonize, dtype: object"
      ]
     },
     "execution_count": 41,
     "metadata": {},
     "output_type": "execute_result"
    }
   ],
   "source": [
    "wines[\"Harmonize\"] = wines[\"Harmonize\"].str.replace(\"[\", \" \").str.replace(\"]\", \" \").str.replace(\"'\", \"\").str.strip()\n",
    "wines[\"Harmonize\"].head()"
   ]
  },
  {
   "cell_type": "code",
   "execution_count": 42,
   "metadata": {},
   "outputs": [
    {
     "data": {
      "text/html": [
       "<div>\n",
       "<style scoped>\n",
       "    .dataframe tbody tr th:only-of-type {\n",
       "        vertical-align: middle;\n",
       "    }\n",
       "\n",
       "    .dataframe tbody tr th {\n",
       "        vertical-align: top;\n",
       "    }\n",
       "\n",
       "    .dataframe thead th {\n",
       "        text-align: right;\n",
       "    }\n",
       "</style>\n",
       "<table border=\"1\" class=\"dataframe\">\n",
       "  <thead>\n",
       "    <tr style=\"text-align: right;\">\n",
       "      <th></th>\n",
       "      <th>WineID</th>\n",
       "      <th>WineName</th>\n",
       "      <th>Type</th>\n",
       "      <th>Elaborate</th>\n",
       "      <th>Grapes</th>\n",
       "      <th>Harmonize</th>\n",
       "      <th>ABV</th>\n",
       "      <th>Body</th>\n",
       "      <th>Acidity</th>\n",
       "      <th>Country</th>\n",
       "      <th>RegionID</th>\n",
       "      <th>WineryID</th>\n",
       "      <th>RegionName</th>\n",
       "      <th>WineryName</th>\n",
       "    </tr>\n",
       "  </thead>\n",
       "  <tbody>\n",
       "    <tr>\n",
       "      <th>0</th>\n",
       "      <td>100062</td>\n",
       "      <td>Origem Merlot</td>\n",
       "      <td>Red</td>\n",
       "      <td>Varietal/100%</td>\n",
       "      <td>Merlot</td>\n",
       "      <td>Beef, Lamb, Veal, Grilled, Pizza, Pasta</td>\n",
       "      <td>13.0</td>\n",
       "      <td>Fullbodied</td>\n",
       "      <td>Medium</td>\n",
       "      <td>Brazil</td>\n",
       "      <td>1002</td>\n",
       "      <td>10014</td>\n",
       "      <td>Vale dos Vinhedos</td>\n",
       "      <td>Casa Valduga</td>\n",
       "    </tr>\n",
       "    <tr>\n",
       "      <th>1</th>\n",
       "      <td>100191</td>\n",
       "      <td>Reserva Chardonnay</td>\n",
       "      <td>White</td>\n",
       "      <td>Varietal/100%</td>\n",
       "      <td>Chardonnay</td>\n",
       "      <td>Rich Fish, Seafood, Risotto, Poultry, Vegetarian</td>\n",
       "      <td>13.0</td>\n",
       "      <td>Mediumbodied</td>\n",
       "      <td>Medium</td>\n",
       "      <td>Brazil</td>\n",
       "      <td>1001</td>\n",
       "      <td>10000</td>\n",
       "      <td>Serra Gaúcha</td>\n",
       "      <td>Aurora</td>\n",
       "    </tr>\n",
       "    <tr>\n",
       "      <th>2</th>\n",
       "      <td>101847</td>\n",
       "      <td>Dona Antonia Porto Reserva Tawny</td>\n",
       "      <td>Dessert/Port</td>\n",
       "      <td>Assemblage/Blend</td>\n",
       "      <td>Touriga Nacional, Touriga Franca, Tinta Barroc...</td>\n",
       "      <td>Appetizer, Sweet Dessert, Blue Cheese</td>\n",
       "      <td>20.0</td>\n",
       "      <td>Very fullbodied</td>\n",
       "      <td>High</td>\n",
       "      <td>Portugal</td>\n",
       "      <td>1031</td>\n",
       "      <td>10674</td>\n",
       "      <td>Porto</td>\n",
       "      <td>Porto Ferreira</td>\n",
       "    </tr>\n",
       "  </tbody>\n",
       "</table>\n",
       "</div>"
      ],
      "text/plain": [
       "   WineID                          WineName          Type         Elaborate  \\\n",
       "0  100062                     Origem Merlot           Red     Varietal/100%   \n",
       "1  100191                Reserva Chardonnay         White     Varietal/100%   \n",
       "2  101847  Dona Antonia Porto Reserva Tawny  Dessert/Port  Assemblage/Blend   \n",
       "\n",
       "                                              Grapes  \\\n",
       "0                                             Merlot   \n",
       "1                                         Chardonnay   \n",
       "2  Touriga Nacional, Touriga Franca, Tinta Barroc...   \n",
       "\n",
       "                                          Harmonize   ABV             Body  \\\n",
       "0           Beef, Lamb, Veal, Grilled, Pizza, Pasta  13.0       Fullbodied   \n",
       "1  Rich Fish, Seafood, Risotto, Poultry, Vegetarian  13.0     Mediumbodied   \n",
       "2             Appetizer, Sweet Dessert, Blue Cheese  20.0  Very fullbodied   \n",
       "\n",
       "  Acidity   Country  RegionID  WineryID         RegionName      WineryName  \n",
       "0  Medium    Brazil      1002     10014  Vale dos Vinhedos    Casa Valduga  \n",
       "1  Medium    Brazil      1001     10000       Serra Gaúcha          Aurora  \n",
       "2    High  Portugal      1031     10674              Porto  Porto Ferreira  "
      ]
     },
     "execution_count": 42,
     "metadata": {},
     "output_type": "execute_result"
    }
   ],
   "source": [
    "wines.head(3)"
   ]
  },
  {
   "cell_type": "code",
   "execution_count": 43,
   "metadata": {},
   "outputs": [],
   "source": [
    "def check_special_characters(df, column_name, special_characters_pattern):\n",
    "    rows_with_special_characters = df[df[column_name].str.contains(special_characters_pattern, regex=True, na=False)]\n",
    "    row_count = len(rows_with_special_characters)\n",
    "    print(\"Number of rows with special characters in {}: {}\".format(column_name, row_count))\n",
    "    print(rows_with_special_characters[[column_name]].drop_duplicates().sort_values(by=column_name))"
   ]
  },
  {
   "cell_type": "code",
   "execution_count": 44,
   "metadata": {},
   "outputs": [],
   "source": [
    "import re\n",
    "def remove_special_characters(df, column_name, characters_to_remove):\n",
    "    df[column_name] = df[column_name].str.replace(f'[{re.escape(characters_to_remove)}]', ' ', regex=True)\n",
    "    return df"
   ]
  },
  {
   "cell_type": "code",
   "execution_count": 45,
   "metadata": {},
   "outputs": [],
   "source": [
    "characters_to_remove = '[!\"#$%°&\\'()*+,-./:;<=>?@[\\\\]^_`{|}~]'"
   ]
  },
  {
   "cell_type": "code",
   "execution_count": 46,
   "metadata": {},
   "outputs": [
    {
     "name": "stdout",
     "output_type": "stream",
     "text": [
      "Number of rows with special characters in WineName: 20\n",
      "                                        WineName\n",
      "53                                Barbera d'Alba\n",
      "48                             Brachetto d'Acqui\n",
      "75                     Cabernet Sauvignon-Shiraz\n",
      "35                   Chablis 1er Cru 'Montmains'\n",
      "25          Château Chemin Royal Moulis-en-Médoc\n",
      "29                        Cinsault-Grenache Rosé\n",
      "22                Coteaux d'Aix-en-Provence Rosé\n",
      "50                         Dulcis Moscato d'Asti\n",
      "31           Les Fuées Chambolle-Musigny 1er Cru\n",
      "34                        Marc d'Alsace Riesling\n",
      "37     Meursault 1er Cru 'La Pièce Sous Le Bois'\n",
      "40                        Nicolon Barbera d'Alba\n",
      "28                 Nuits-St-Georges Les Plateaux\n",
      "24                                Pessac-Léognan\n",
      "21  Pommard Premier Cru 'Grand Clos des Épenots'\n",
      "63   Rare Cream Sherry Superior (Solera Reserva)\n",
      "47                         Riserva Prêt-A-Porter\n",
      "19          Sauternes (Premier Grand Cru Classé)\n",
      "52                        Solatio Moscato d'Asti\n",
      "20               Vieille Vigne Gevrey-Chambertin\n"
     ]
    }
   ],
   "source": [
    "check_special_characters(wines, 'WineName', characters_to_remove)"
   ]
  },
  {
   "cell_type": "code",
   "execution_count": 47,
   "metadata": {},
   "outputs": [
    {
     "name": "stdout",
     "output_type": "stream",
     "text": [
      "Number of rows with special characters in WineName: 0\n",
      "Empty DataFrame\n",
      "Columns: [WineName]\n",
      "Index: []\n"
     ]
    }
   ],
   "source": [
    "wines = remove_special_characters(wines, 'WineName', characters_to_remove)\n",
    "check_special_characters(wines, 'WineName', characters_to_remove)"
   ]
  },
  {
   "cell_type": "code",
   "execution_count": 48,
   "metadata": {},
   "outputs": [
    {
     "name": "stdout",
     "output_type": "stream",
     "text": [
      "Number of rows with special characters in RegionName: 17\n",
      "                                   RegionName\n",
      "40                             Barbera d'Alba\n",
      "48                          Brachetto d'Acqui\n",
      "67                        Central Valley (CL)\n",
      "35                Chablis 1er Cru 'Montmains'\n",
      "31                          Chambolle-Musigny\n",
      "20                          Gevrey-Chambertin\n",
      "37  Meursault 1er Cru 'La pièce sous le Bois'\n",
      "64                           Montilla-Moriles\n",
      "50                             Moscato d'Asti\n",
      "25                            Moulis-en-Médoc\n",
      "28                        Nuits-Saint-Georges\n",
      "24                             Pessac-Léognan\n",
      "46                        Südtirol-Alto Adige\n",
      "95     Taman Peninsula (Таманский полуостров)\n",
      "45                              Vino d'Italia\n"
     ]
    }
   ],
   "source": [
    "check_special_characters(wines, 'RegionName', characters_to_remove)"
   ]
  },
  {
   "cell_type": "code",
   "execution_count": 49,
   "metadata": {},
   "outputs": [
    {
     "name": "stdout",
     "output_type": "stream",
     "text": [
      "Number of rows with special characters in RegionName: 0\n",
      "Empty DataFrame\n",
      "Columns: [RegionName]\n",
      "Index: []\n"
     ]
    }
   ],
   "source": [
    "wines = remove_special_characters(wines, 'RegionName', characters_to_remove)\n",
    "check_special_characters(wines, 'RegionName', characters_to_remove)"
   ]
  },
  {
   "cell_type": "code",
   "execution_count": 50,
   "metadata": {},
   "outputs": [
    {
     "name": "stdout",
     "output_type": "stream",
     "text": [
      "Number of rows with special characters in WineryName: 7\n",
      "                         WineryName\n",
      "43                  Cavaliere d'Oro\n",
      "24           Château Pontet-Caillou\n",
      "35                 J. Moreau & Fils\n",
      "28                Mongeard-Mugneret\n",
      "22                Moonlight & Roses\n",
      "76                Taylors/Wakefield\n",
      "16  Weingut Nik Weis-St. Urbans-Hof\n"
     ]
    }
   ],
   "source": [
    "check_special_characters(wines, 'WineryName', characters_to_remove)"
   ]
  },
  {
   "cell_type": "code",
   "execution_count": 51,
   "metadata": {},
   "outputs": [
    {
     "name": "stdout",
     "output_type": "stream",
     "text": [
      "Number of rows with special characters in WineryName: 0\n",
      "Empty DataFrame\n",
      "Columns: [WineryName]\n",
      "Index: []\n"
     ]
    }
   ],
   "source": [
    "wines = remove_special_characters(wines, 'WineryName', characters_to_remove)\n",
    "check_special_characters(wines, 'WineryName', characters_to_remove)"
   ]
  },
  {
   "cell_type": "code",
   "execution_count": 52,
   "metadata": {},
   "outputs": [
    {
     "data": {
      "text/plain": [
       "WineID        0\n",
       "WineName      0\n",
       "Type          0\n",
       "Elaborate     0\n",
       "Grapes        0\n",
       "Harmonize     0\n",
       "ABV           0\n",
       "Body          0\n",
       "Acidity       0\n",
       "Country       0\n",
       "RegionID      0\n",
       "WineryID      0\n",
       "RegionName    0\n",
       "WineryName    0\n",
       "dtype: int64"
      ]
     },
     "execution_count": 52,
     "metadata": {},
     "output_type": "execute_result"
    }
   ],
   "source": [
    "wines.isnull().sum()"
   ]
  },
  {
   "cell_type": "code",
   "execution_count": 53,
   "metadata": {},
   "outputs": [],
   "source": [
    "def split_and_expand_columns(df, column_name, delimiter=\"/\"):\n",
    "    expanded_columns = df[column_name].str.split(delimiter, expand=True)\n",
    "    new_columns = [f\"{column_name}{i+1}\" for i in range(expanded_columns.shape[1])]\n",
    "    expanded_columns.columns = new_columns\n",
    "\n",
    "    df = pd.concat([df, expanded_columns], axis=1)\n",
    "    df = df.fillna(\"\")\n",
    "    df = df.drop(columns=[column_name])\n",
    "\n",
    "    return df"
   ]
  },
  {
   "cell_type": "code",
   "execution_count": 54,
   "metadata": {},
   "outputs": [],
   "source": [
    "wines = split_and_expand_columns(wines, \"Harmonize\", delimiter=\", \")"
   ]
  },
  {
   "cell_type": "code",
   "execution_count": 55,
   "metadata": {},
   "outputs": [],
   "source": [
    "wines = split_and_expand_columns(wines, \"Grapes\", delimiter=\", \")"
   ]
  },
  {
   "cell_type": "code",
   "execution_count": 56,
   "metadata": {},
   "outputs": [],
   "source": [
    "wines = split_and_expand_columns(wines, \"Elaborate\")"
   ]
  },
  {
   "cell_type": "code",
   "execution_count": 57,
   "metadata": {},
   "outputs": [],
   "source": [
    "wines = split_and_expand_columns(wines, \"Type\")"
   ]
  },
  {
   "cell_type": "code",
   "execution_count": 58,
   "metadata": {},
   "outputs": [
    {
     "name": "stdout",
     "output_type": "stream",
     "text": [
      "|    |   WineID | WineName                         |   ABV | Body            | Acidity   | Country   |   RegionID |   WineryID | RegionName        | WineryName     | Harmonize1   | Harmonize2    | Harmonize3   | Harmonize4   | Harmonize5   | Harmonize6   | Grapes1          | Grapes2        | Grapes3       | Grapes4       | Grapes5   | Grapes6   | Grapes7   | Grapes8   | Grapes9   | Elaborate1   | Elaborate2   | Type1   | Type2   |\n",
      "|---:|---------:|:---------------------------------|------:|:----------------|:----------|:----------|-----------:|-----------:|:------------------|:---------------|:-------------|:--------------|:-------------|:-------------|:-------------|:-------------|:-----------------|:---------------|:--------------|:--------------|:----------|:----------|:----------|:----------|:----------|:-------------|:-------------|:--------|:--------|\n",
      "|  0 |   100062 | Origem Merlot                    |    13 | Fullbodied      | Medium    | Brazil    |       1002 |      10014 | Vale dos Vinhedos | Casa Valduga   | Beef         | Lamb          | Veal         | Grilled      | Pizza        | Pasta        | Merlot           |                |               |               |           |           |           |           |           | Varietal     | 100%         | Red     |         |\n",
      "|  1 |   100191 | Reserva Chardonnay               |    13 | Mediumbodied    | Medium    | Brazil    |       1001 |      10000 | Serra Gaúcha      | Aurora         | Rich Fish    | Seafood       | Risotto      | Poultry      | Vegetarian   |              | Chardonnay       |                |               |               |           |           |           |           |           | Varietal     | 100%         | White   |         |\n",
      "|  2 |   101847 | Dona Antonia Porto Reserva Tawny |    20 | Very fullbodied | High      | Portugal  |       1031 |      10674 | Porto             | Porto Ferreira | Appetizer    | Sweet Dessert | Blue Cheese  |              |              |              | Touriga Nacional | Touriga Franca | Tinta Barroca | Tinta Amarela |           |           |           |           |           | Assemblage   | Blend        | Dessert | Port    |\n"
     ]
    }
   ],
   "source": [
    "print(wines.head(3).to_markdown())"
   ]
  },
  {
   "cell_type": "code",
   "execution_count": 59,
   "metadata": {},
   "outputs": [],
   "source": [
    "common_columns = ['WineName', 'Body', 'Acidity', 'Country', 'RegionName', 'WineryName', 'ABV']\n",
    "grapes_columns = [f'Grapes{i}' for i in range(1, 10)]\n",
    "harmonize_columns = [f'Harmonize{i}' for i in range(1, 7)]\n",
    "type_columns = [f'Type{i}' for i in range(1, 3)]\n",
    "elaborate_columns = [f'Elaborate{i}' for i in range(1, 3)]\n",
    "all_columns = common_columns + grapes_columns + harmonize_columns + type_columns + elaborate_columns\n",
    "wines['Attributes'] = wines[all_columns].astype(str).agg(' '.join, axis=1)"
   ]
  },
  {
   "cell_type": "code",
   "execution_count": 60,
   "metadata": {},
   "outputs": [
    {
     "name": "stdout",
     "output_type": "stream",
     "text": [
      "|    | Attributes                                                                                                                                                                                                                     |\n",
      "|---:|:-------------------------------------------------------------------------------------------------------------------------------------------------------------------------------------------------------------------------------|\n",
      "|  0 | Origem Merlot Fullbodied Medium Brazil Vale dos Vinhedos Casa Valduga 13.0 Merlot         Beef Lamb Veal Grilled Pizza Pasta Red  Varietal 100%                                                                                |\n",
      "|  1 | Reserva Chardonnay Mediumbodied Medium Brazil Serra Gaúcha Aurora 13.0 Chardonnay         Rich Fish Seafood Risotto Poultry Vegetarian  White  Varietal 100%                                                                   |\n",
      "|  2 | Dona Antonia Porto Reserva Tawny Very fullbodied High Portugal Porto Porto Ferreira 20.0 Touriga Nacional Touriga Franca Tinta Barroca Tinta Amarela      Appetizer Sweet Dessert Blue Cheese    Dessert Port Assemblage Blend |\n"
     ]
    }
   ],
   "source": [
    "print(wines['Attributes'].head(3).to_markdown())"
   ]
  },
  {
   "cell_type": "markdown",
   "metadata": {},
   "source": [
    "Build model:\n",
    "- tranform attributes (features) of wines to tf-idf\n",
    "- compute simmilarity between wine items based on tf-idf\n"
   ]
  },
  {
   "cell_type": "code",
   "execution_count": 61,
   "metadata": {},
   "outputs": [
    {
     "name": "stdout",
     "output_type": "stream",
     "text": [
      "(100, 594)\n"
     ]
    }
   ],
   "source": [
    "from sklearn.feature_extraction.text import TfidfVectorizer\n",
    "\n",
    "# TF-IDF vectorizer\n",
    "vectorizer = TfidfVectorizer()\n",
    "\n",
    "# fit and transform the Attributes column\n",
    "tfidf_matrix = vectorizer.fit_transform(wines['Attributes'])\n",
    "\n",
    "# shape of the TF-IDF matrix\n",
    "print(tfidf_matrix.shape)\n"
   ]
  },
  {
   "cell_type": "code",
   "execution_count": 62,
   "metadata": {},
   "outputs": [
    {
     "name": "stdout",
     "output_type": "stream",
     "text": [
      "(100, 100)\n"
     ]
    }
   ],
   "source": [
    "from sklearn.metrics.pairwise import cosine_similarity\n",
    "\n",
    "# cosine similarity matrix between wines\n",
    "wine_similarities = cosine_similarity(tfidf_matrix)\n",
    "\n",
    "# shape of the similarity matrix\n",
    "print(wine_similarities.shape)\n"
   ]
  },
  {
   "cell_type": "code",
   "execution_count": 68,
   "metadata": {},
   "outputs": [
    {
     "name": "stdout",
     "output_type": "stream",
     "text": [
      "<class 'numpy.ndarray'>\n"
     ]
    }
   ],
   "source": [
    "print(type(wine_similarities))"
   ]
  },
  {
   "cell_type": "code",
   "execution_count": 69,
   "metadata": {},
   "outputs": [],
   "source": [
    "import numpy as np\n",
    "\n",
    "# save similarity matrix to file\n",
    "np.save('wine_similarities.npy', wine_similarities)"
   ]
  },
  {
   "cell_type": "code",
   "execution_count": 64,
   "metadata": {},
   "outputs": [
    {
     "data": {
      "text/html": [
       "<div>\n",
       "<style scoped>\n",
       "    .dataframe tbody tr th:only-of-type {\n",
       "        vertical-align: middle;\n",
       "    }\n",
       "\n",
       "    .dataframe tbody tr th {\n",
       "        vertical-align: top;\n",
       "    }\n",
       "\n",
       "    .dataframe thead th {\n",
       "        text-align: right;\n",
       "    }\n",
       "</style>\n",
       "<table border=\"1\" class=\"dataframe\">\n",
       "  <thead>\n",
       "    <tr style=\"text-align: right;\">\n",
       "      <th></th>\n",
       "      <th>RatingID</th>\n",
       "      <th>UserID</th>\n",
       "      <th>WineID</th>\n",
       "      <th>Vintage</th>\n",
       "      <th>Rating</th>\n",
       "      <th>Date</th>\n",
       "    </tr>\n",
       "  </thead>\n",
       "  <tbody>\n",
       "    <tr>\n",
       "      <th>0</th>\n",
       "      <td>3211</td>\n",
       "      <td>1209683</td>\n",
       "      <td>111478</td>\n",
       "      <td>1959</td>\n",
       "      <td>4.5</td>\n",
       "      <td>2016-08-08 00:50:22</td>\n",
       "    </tr>\n",
       "    <tr>\n",
       "      <th>1</th>\n",
       "      <td>27878</td>\n",
       "      <td>1209980</td>\n",
       "      <td>111478</td>\n",
       "      <td>1975</td>\n",
       "      <td>4.0</td>\n",
       "      <td>2018-08-12 17:09:39</td>\n",
       "    </tr>\n",
       "  </tbody>\n",
       "</table>\n",
       "</div>"
      ],
      "text/plain": [
       "   RatingID   UserID  WineID Vintage  Rating                 Date\n",
       "0      3211  1209683  111478    1959     4.5  2016-08-08 00:50:22\n",
       "1     27878  1209980  111478    1975     4.0  2018-08-12 17:09:39"
      ]
     },
     "execution_count": 64,
     "metadata": {},
     "output_type": "execute_result"
    }
   ],
   "source": [
    "ratings.head(2)"
   ]
  },
  {
   "cell_type": "code",
   "execution_count": 94,
   "metadata": {},
   "outputs": [],
   "source": [
    "# create a set of all wine IDs\n",
    "all_wine_ids = set(ratings['WineID'].unique())"
   ]
  },
  {
   "cell_type": "code",
   "execution_count": 95,
   "metadata": {},
   "outputs": [],
   "source": [
    "def get_unrated_wines(user_id, train_ratings, all_wine_ids):\n",
    "    '''\n",
    "    Get the list of wines that the user has not rated\n",
    "    @param user_id: user ID\n",
    "    '''\n",
    "    rated_wines = set(train_ratings[train_ratings['UserID'] == user_id]['WineID'].unique())\n",
    "    unrated_wines = all_wine_ids - rated_wines\n",
    "    return list(unrated_wines)"
   ]
  },
  {
   "cell_type": "code",
   "execution_count": 93,
   "metadata": {},
   "outputs": [],
   "source": [
    "import numpy as np\n",
    "\n",
    "# mapping between WineID and matrix index\n",
    "wine_id_to_idx = {wine_id: idx for idx, wine_id in enumerate(wines['WineID'])}\n",
    "idx_to_wine_id = {idx: wine_id for idx, wine_id in enumerate(wines['WineID'])}"
   ]
  },
  {
   "cell_type": "code",
   "execution_count": 96,
   "metadata": {},
   "outputs": [],
   "source": [
    "def get_k_similar_wines(unrated_wine, rated_wines, similarity_matrix, k=5):\n",
    "    similarities = []\n",
    "    if unrated_wine not in wine_id_to_idx:\n",
    "        return similarities  # No similarity data for this wine\n",
    "    \n",
    "    unrated_wine_idx = wine_id_to_idx[unrated_wine]\n",
    "    \n",
    "    for rated_wine in rated_wines:\n",
    "        if rated_wine not in wine_id_to_idx:\n",
    "            continue  # Skip if rated wine not in mapping\n",
    "        rated_wine_idx = wine_id_to_idx[rated_wine]\n",
    "        similarity = similarity_matrix[unrated_wine_idx, rated_wine_idx]\n",
    "        similarities.append((rated_wine, similarity))\n",
    "    \n",
    "    # Sort by similarity and select top k\n",
    "    similarities.sort(key=lambda x: x[1], reverse=True)\n",
    "    return similarities[:k]"
   ]
  },
  {
   "cell_type": "code",
   "execution_count": 97,
   "metadata": {},
   "outputs": [],
   "source": [
    "\n",
    "def predict_rating(user_id, unrated_wine, train_ratings, k=5):\n",
    "    user_ratings = train_ratings[train_ratings['UserID'] == user_id][['WineID', 'Rating']]\n",
    "    rated_wines = user_ratings['WineID'].tolist()\n",
    "    \n",
    "    if len(rated_wines) == 0:\n",
    "        return np.nan  # Shouldn't happen with group-wise splitting\n",
    "    \n",
    "    k_similar_wines = get_k_similar_wines(unrated_wine, rated_wines, wine_similarities, k)\n",
    "    \n",
    "    numerator = 0\n",
    "    denominator = 0\n",
    "    for wine, similarity in k_similar_wines:\n",
    "        rating = user_ratings[user_ratings['WineID'] == wine]['Rating'].values[0]\n",
    "        numerator += similarity * rating\n",
    "        denominator += abs(similarity)\n",
    "    \n",
    "    if denominator == 0:\n",
    "        # Impute with user's average rating from training set\n",
    "        user_mean = user_ratings['Rating'].mean()\n",
    "        return user_mean\n",
    "    \n",
    "    return numerator / denominator"
   ]
  },
  {
   "cell_type": "code",
   "execution_count": 98,
   "metadata": {},
   "outputs": [],
   "source": [
    "# Predict all ratings for a given user\n",
    "def predict_all_ratings(user_id, k=5):\n",
    "    unrated_wines = get_unrated_wines(user_id, ratings, all_wine_ids)\n",
    "    predictions = {}\n",
    "    \n",
    "    for wine in unrated_wines:\n",
    "        predicted_rating = predict_rating(user_id, wine, ratings, k)\n",
    "        predictions[wine] = predicted_rating\n",
    "    \n",
    "    return predictions\n",
    "\n",
    "# Recommend top-N wines to the user based on predicted ratings\n",
    "def recommend_wines(user_id, k=5, N=10):\n",
    "    predicted_ratings = predict_all_ratings(user_id, k)\n",
    "    # Sort wines by predicted rating in descending order\n",
    "    recommended_wines = sorted(predicted_ratings.items(), key=lambda x: x[1], reverse=True)\n",
    "    \n",
    "    return recommended_wines[:N]  # Return top N recommended wines"
   ]
  },
  {
   "cell_type": "code",
   "execution_count": 99,
   "metadata": {},
   "outputs": [
    {
     "name": "stdout",
     "output_type": "stream",
     "text": [
      "[(190621, 4.419116132688848), (154979, 4.272635902699536), (160271, 4.195473937768131), (101847, 4.013068094857787), (187359, 3.994360554284711), (143222, 3.953759476105365), (105748, 3.915394644366814), (102055, 3.915394644366814), (105911, 3.8675245142749737), (160277, 3.8613620279599528)]\n"
     ]
    }
   ],
   "source": [
    "# Example usage\n",
    "user_id = 1209683\n",
    "top_recommendations = recommend_wines(user_id, k=5, N=10)\n",
    "\n",
    "# Print the top 10 recommendations for the user\n",
    "print(top_recommendations)"
   ]
  },
  {
   "cell_type": "code",
   "execution_count": 100,
   "metadata": {},
   "outputs": [
    {
     "name": "stdout",
     "output_type": "stream",
     "text": [
      "Training set size: (801, 6)\n",
      "Test set size: (199, 6)\n"
     ]
    }
   ],
   "source": [
    "from sklearn.model_selection import GroupShuffleSplit\n",
    "\n",
    "def split_ratings_groupwise(ratings, test_size=0.2, random_state=42):\n",
    "    gss = GroupShuffleSplit(n_splits=1, test_size=test_size, random_state=random_state)\n",
    "    train_idx, test_idx = next(gss.split(ratings, groups=ratings['UserID']))\n",
    "    train_ratings = ratings.iloc[train_idx].reset_index(drop=True)\n",
    "    test_ratings = ratings.iloc[test_idx].reset_index(drop=True)\n",
    "    return train_ratings, test_ratings\n",
    "\n",
    "# Perform the group-wise split\n",
    "train_ratings, test_ratings = split_ratings_groupwise(ratings, test_size=0.2)\n",
    "\n",
    "print(f\"Training set size: {train_ratings.shape}\")\n",
    "print(f\"Test set size: {test_ratings.shape}\")\n"
   ]
  },
  {
   "cell_type": "code",
   "execution_count": 101,
   "metadata": {},
   "outputs": [],
   "source": [
    "\n",
    "def predict_test_set_ratings(test_ratings, train_ratings, k=5):\n",
    "    predictions = []\n",
    "    true_ratings = []\n",
    "    \n",
    "    for index, row in test_ratings.iterrows():\n",
    "        user_id = row['UserID']\n",
    "        wine_id = row['WineID']\n",
    "        true_rating = row['Rating']\n",
    "        \n",
    "        predicted_rating = predict_rating(user_id, wine_id, train_ratings, k)\n",
    "        \n",
    "        # Handle cases where prediction could still be NaN\n",
    "        if np.isnan(predicted_rating):\n",
    "            # Option 1: Impute with user's mean rating from training set\n",
    "            user_train_ratings = train_ratings[train_ratings['UserID'] == user_id]['Rating']\n",
    "            if len(user_train_ratings) > 0:\n",
    "                predicted_rating = user_train_ratings.mean()\n",
    "            else:\n",
    "                # Option 2: Impute with global mean rating\n",
    "                predicted_rating = train_ratings['Rating'].mean()\n",
    "        \n",
    "        predictions.append(predicted_rating)\n",
    "        true_ratings.append(true_rating)\n",
    "    \n",
    "    return np.array(predictions), np.array(true_ratings)"
   ]
  },
  {
   "cell_type": "code",
   "execution_count": 102,
   "metadata": {},
   "outputs": [
    {
     "name": "stdout",
     "output_type": "stream",
     "text": [
      "Training set size: (801, 6)\n",
      "Test set size: (199, 6)\n",
      "Root Mean Squared Error (RMSE): 0.6612954551421897\n"
     ]
    }
   ],
   "source": [
    "from sklearn.metrics import mean_squared_error\n",
    "\n",
    "def calculate_rmse(predicted_ratings, true_ratings):\n",
    "    mse = mean_squared_error(true_ratings, predicted_ratings)\n",
    "    rmse = np.sqrt(mse)\n",
    "    return rmse\n",
    "\n",
    "# 4. Perform Group-wise Train-Test Split\n",
    "def split_ratings_groupwise(ratings, test_size=0.2, random_state=42):\n",
    "    gss = GroupShuffleSplit(n_splits=1, test_size=test_size, random_state=random_state)\n",
    "    train_idx, test_idx = next(gss.split(ratings, groups=ratings['UserID']))\n",
    "    train_ratings = ratings.iloc[train_idx].reset_index(drop=True)\n",
    "    test_ratings = ratings.iloc[test_idx].reset_index(drop=True)\n",
    "    return train_ratings, test_ratings\n",
    "\n",
    "train_ratings, test_ratings = split_ratings_groupwise(ratings, test_size=0.2)\n",
    "\n",
    "print(f\"Training set size: {train_ratings.shape}\")\n",
    "print(f\"Test set size: {test_ratings.shape}\")\n",
    "\n",
    "# 5. Predict Ratings for the Test Set\n",
    "predicted_ratings, true_ratings = predict_test_set_ratings(test_ratings, train_ratings, k=5)\n",
    "\n",
    "# 6. Calculate and Print RMSE\n",
    "rmse = calculate_rmse(predicted_ratings, true_ratings)\n",
    "print(f\"Root Mean Squared Error (RMSE): {rmse}\")\n"
   ]
  },
  {
   "cell_type": "code",
   "execution_count": 87,
   "metadata": {},
   "outputs": [
    {
     "name": "stdout",
     "output_type": "stream",
     "text": [
      "Fold RMSE: 0.6922427319950712\n",
      "Fold RMSE: 0.6550169964397871\n",
      "Fold RMSE: 0.7200219723209841\n",
      "Fold RMSE: 0.6833053856073432\n",
      "Fold RMSE: 0.7755894935466829\n",
      "Average RMSE across 5 folds: 0.7052353159819738\n"
     ]
    }
   ],
   "source": [
    "from sklearn.model_selection import GroupKFold\n",
    "\n",
    "def cross_validate(ratings, k_folds=5, test_size=0.2, k=5):\n",
    "    gkf = GroupKFold(n_splits=k_folds)\n",
    "    rmse_scores = []\n",
    "    \n",
    "    for train_idx, test_idx in gkf.split(ratings, groups=ratings['UserID']):\n",
    "        train_ratings_fold = ratings.iloc[train_idx].reset_index(drop=True)\n",
    "        test_ratings_fold = ratings.iloc[test_idx].reset_index(drop=True)\n",
    "        \n",
    "        predicted, true = predict_test_set_ratings(test_ratings_fold, train_ratings_fold, k)\n",
    "        \n",
    "        # Handle any remaining NaNs\n",
    "        if np.isnan(predicted).sum() > 0:\n",
    "            user_means = train_ratings_fold.groupby('UserID')['Rating'].mean().to_dict()\n",
    "            predicted = [user_means.get(uid, train_ratings_fold['Rating'].mean()) \n",
    "                         if np.isnan(r) else r for r, uid in zip(predicted, test_ratings_fold['UserID'])]\n",
    "            predicted = np.array(predicted)\n",
    "        \n",
    "        rmse = calculate_rmse(predicted, true)\n",
    "        rmse_scores.append(rmse)\n",
    "        print(f\"Fold RMSE: {rmse}\")\n",
    "    \n",
    "    print(f\"Average RMSE across {k_folds} folds: {np.mean(rmse_scores)}\")\n",
    "\n",
    "# Example usage:\n",
    "cross_validate(ratings, k_folds=5, test_size=0.2, k=5)"
   ]
  }
 ],
 "metadata": {
  "kernelspec": {
   "display_name": "cuda_test",
   "language": "python",
   "name": "python3"
  },
  "language_info": {
   "codemirror_mode": {
    "name": "ipython",
    "version": 3
   },
   "file_extension": ".py",
   "mimetype": "text/x-python",
   "name": "python",
   "nbconvert_exporter": "python",
   "pygments_lexer": "ipython3",
   "version": "3.11.9"
  }
 },
 "nbformat": 4,
 "nbformat_minor": 2
}
