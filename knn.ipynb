{
 "cells": [
  {
   "cell_type": "code",
   "execution_count": 171,
   "metadata": {},
   "outputs": [],
   "source": [
    "import pandas as pd\n",
    "import numpy as np"
   ]
  },
  {
   "cell_type": "code",
   "execution_count": 172,
   "metadata": {},
   "outputs": [],
   "source": [
    "wines = pd.read_csv(\"XWines_Slim_1K_wines_150K_ratings\\XWines_Slim_1K_wines.csv\", encoding=\"utf-8\")\n",
    "ratings = pd.read_csv(\"XWines_Slim_1K_wines_150K_ratings\\XWines_Slim_150K_ratings.csv\", low_memory=False)\n",
    "\n",
    "# wines = pd.read_csv(\"All-XWines_Full_100K_wines_21M_ratings\\XWines_Full_100K_wines.csv\", encoding=\"utf-8\")\n",
    "# ratings = pd.read_csv(\"All-XWines_Full_100K_wines_21M_ratings\\XWines_Full_21M_ratings.csv\", low_memory=False)"
   ]
  },
  {
   "cell_type": "code",
   "execution_count": 173,
   "metadata": {},
   "outputs": [
    {
     "data": {
      "text/html": [
       "<div>\n",
       "<style scoped>\n",
       "    .dataframe tbody tr th:only-of-type {\n",
       "        vertical-align: middle;\n",
       "    }\n",
       "\n",
       "    .dataframe tbody tr th {\n",
       "        vertical-align: top;\n",
       "    }\n",
       "\n",
       "    .dataframe thead th {\n",
       "        text-align: right;\n",
       "    }\n",
       "</style>\n",
       "<table border=\"1\" class=\"dataframe\">\n",
       "  <thead>\n",
       "    <tr style=\"text-align: right;\">\n",
       "      <th></th>\n",
       "      <th>WineID</th>\n",
       "      <th>WineName</th>\n",
       "      <th>Type</th>\n",
       "      <th>Elaborate</th>\n",
       "      <th>Grapes</th>\n",
       "      <th>Harmonize</th>\n",
       "      <th>ABV</th>\n",
       "      <th>Body</th>\n",
       "      <th>Acidity</th>\n",
       "      <th>Code</th>\n",
       "      <th>Country</th>\n",
       "      <th>RegionID</th>\n",
       "      <th>RegionName</th>\n",
       "      <th>WineryID</th>\n",
       "      <th>WineryName</th>\n",
       "      <th>Website</th>\n",
       "      <th>Vintages</th>\n",
       "    </tr>\n",
       "  </thead>\n",
       "  <tbody>\n",
       "    <tr>\n",
       "      <th>0</th>\n",
       "      <td>100001</td>\n",
       "      <td>Espumante Moscatel</td>\n",
       "      <td>Sparkling</td>\n",
       "      <td>Varietal/100%</td>\n",
       "      <td>['Muscat/Moscato']</td>\n",
       "      <td>['Pork', 'Rich Fish', 'Shellfish']</td>\n",
       "      <td>7.5</td>\n",
       "      <td>Medium-bodied</td>\n",
       "      <td>High</td>\n",
       "      <td>BR</td>\n",
       "      <td>Brazil</td>\n",
       "      <td>1001</td>\n",
       "      <td>Serra Gaúcha</td>\n",
       "      <td>10001</td>\n",
       "      <td>Casa Perini</td>\n",
       "      <td>http://www.vinicolaperini.com.br</td>\n",
       "      <td>[2020, 2019, 2018, 2017, 2016, 2015, 2014, 201...</td>\n",
       "    </tr>\n",
       "    <tr>\n",
       "      <th>1</th>\n",
       "      <td>100002</td>\n",
       "      <td>Ancellotta</td>\n",
       "      <td>Red</td>\n",
       "      <td>Varietal/100%</td>\n",
       "      <td>['Ancellotta']</td>\n",
       "      <td>['Beef', 'Barbecue', 'Codfish', 'Pasta', 'Pizz...</td>\n",
       "      <td>12.0</td>\n",
       "      <td>Medium-bodied</td>\n",
       "      <td>Medium</td>\n",
       "      <td>BR</td>\n",
       "      <td>Brazil</td>\n",
       "      <td>1001</td>\n",
       "      <td>Serra Gaúcha</td>\n",
       "      <td>10001</td>\n",
       "      <td>Casa Perini</td>\n",
       "      <td>http://www.vinicolaperini.com.br</td>\n",
       "      <td>[2016, 2015, 2014, 2013, 2012, 2011, 2010, 200...</td>\n",
       "    </tr>\n",
       "  </tbody>\n",
       "</table>\n",
       "</div>"
      ],
      "text/plain": [
       "   WineID            WineName       Type      Elaborate              Grapes  \\\n",
       "0  100001  Espumante Moscatel  Sparkling  Varietal/100%  ['Muscat/Moscato']   \n",
       "1  100002          Ancellotta        Red  Varietal/100%      ['Ancellotta']   \n",
       "\n",
       "                                           Harmonize   ABV           Body  \\\n",
       "0                 ['Pork', 'Rich Fish', 'Shellfish']   7.5  Medium-bodied   \n",
       "1  ['Beef', 'Barbecue', 'Codfish', 'Pasta', 'Pizz...  12.0  Medium-bodied   \n",
       "\n",
       "  Acidity Code Country  RegionID    RegionName  WineryID   WineryName  \\\n",
       "0    High   BR  Brazil      1001  Serra Gaúcha     10001  Casa Perini   \n",
       "1  Medium   BR  Brazil      1001  Serra Gaúcha     10001  Casa Perini   \n",
       "\n",
       "                            Website  \\\n",
       "0  http://www.vinicolaperini.com.br   \n",
       "1  http://www.vinicolaperini.com.br   \n",
       "\n",
       "                                            Vintages  \n",
       "0  [2020, 2019, 2018, 2017, 2016, 2015, 2014, 201...  \n",
       "1  [2016, 2015, 2014, 2013, 2012, 2011, 2010, 200...  "
      ]
     },
     "execution_count": 173,
     "metadata": {},
     "output_type": "execute_result"
    }
   ],
   "source": [
    "wines.head(2)"
   ]
  },
  {
   "cell_type": "code",
   "execution_count": 174,
   "metadata": {},
   "outputs": [
    {
     "data": {
      "text/plain": [
       "Index(['WineID', 'WineName', 'Type', 'Elaborate', 'Grapes', 'Harmonize', 'ABV',\n",
       "       'Body', 'Acidity', 'Code', 'Country', 'RegionID', 'RegionName',\n",
       "       'WineryID', 'WineryName', 'Website', 'Vintages'],\n",
       "      dtype='object')"
      ]
     },
     "execution_count": 174,
     "metadata": {},
     "output_type": "execute_result"
    }
   ],
   "source": [
    "wines.columns"
   ]
  },
  {
   "cell_type": "code",
   "execution_count": 175,
   "metadata": {},
   "outputs": [
    {
     "name": "stdout",
     "output_type": "stream",
     "text": [
      "<class 'pandas.core.frame.DataFrame'>\n",
      "RangeIndex: 1007 entries, 0 to 1006\n",
      "Data columns (total 17 columns):\n",
      " #   Column      Non-Null Count  Dtype  \n",
      "---  ------      --------------  -----  \n",
      " 0   WineID      1007 non-null   int64  \n",
      " 1   WineName    1007 non-null   object \n",
      " 2   Type        1007 non-null   object \n",
      " 3   Elaborate   1007 non-null   object \n",
      " 4   Grapes      1007 non-null   object \n",
      " 5   Harmonize   1007 non-null   object \n",
      " 6   ABV         1007 non-null   float64\n",
      " 7   Body        1007 non-null   object \n",
      " 8   Acidity     1007 non-null   object \n",
      " 9   Code        1007 non-null   object \n",
      " 10  Country     1007 non-null   object \n",
      " 11  RegionID    1007 non-null   int64  \n",
      " 12  RegionName  1007 non-null   object \n",
      " 13  WineryID    1007 non-null   int64  \n",
      " 14  WineryName  1007 non-null   object \n",
      " 15  Website     900 non-null    object \n",
      " 16  Vintages    1007 non-null   object \n",
      "dtypes: float64(1), int64(3), object(13)\n",
      "memory usage: 133.9+ KB\n"
     ]
    }
   ],
   "source": [
    "wines.info()"
   ]
  },
  {
   "cell_type": "code",
   "execution_count": 176,
   "metadata": {},
   "outputs": [],
   "source": [
    "wines = wines[\n",
    "    [\n",
    "        \"WineID\",\n",
    "        \"WineName\",\n",
    "        \"Type\",\n",
    "        \"Elaborate\",\n",
    "        \"Grapes\",\n",
    "        \"Harmonize\",\n",
    "        \"ABV\",\n",
    "        \"Body\",\n",
    "        \"Acidity\",\n",
    "        \"Country\",\n",
    "        \"RegionID\",\n",
    "        \"WineryID\",\n",
    "        \"RegionName\",\n",
    "        \"WineryName\"\n",
    "    ]\n",
    "]"
   ]
  },
  {
   "cell_type": "code",
   "execution_count": 177,
   "metadata": {},
   "outputs": [
    {
     "data": {
      "text/html": [
       "<div>\n",
       "<style scoped>\n",
       "    .dataframe tbody tr th:only-of-type {\n",
       "        vertical-align: middle;\n",
       "    }\n",
       "\n",
       "    .dataframe tbody tr th {\n",
       "        vertical-align: top;\n",
       "    }\n",
       "\n",
       "    .dataframe thead th {\n",
       "        text-align: right;\n",
       "    }\n",
       "</style>\n",
       "<table border=\"1\" class=\"dataframe\">\n",
       "  <thead>\n",
       "    <tr style=\"text-align: right;\">\n",
       "      <th></th>\n",
       "      <th>WineID</th>\n",
       "      <th>WineName</th>\n",
       "      <th>Type</th>\n",
       "      <th>Elaborate</th>\n",
       "      <th>Grapes</th>\n",
       "      <th>Harmonize</th>\n",
       "      <th>ABV</th>\n",
       "      <th>Body</th>\n",
       "      <th>Acidity</th>\n",
       "      <th>Country</th>\n",
       "      <th>RegionID</th>\n",
       "      <th>WineryID</th>\n",
       "      <th>RegionName</th>\n",
       "      <th>WineryName</th>\n",
       "    </tr>\n",
       "  </thead>\n",
       "  <tbody>\n",
       "    <tr>\n",
       "      <th>0</th>\n",
       "      <td>100001</td>\n",
       "      <td>Espumante Moscatel</td>\n",
       "      <td>Sparkling</td>\n",
       "      <td>Varietal/100%</td>\n",
       "      <td>['Muscat/Moscato']</td>\n",
       "      <td>['Pork', 'Rich Fish', 'Shellfish']</td>\n",
       "      <td>7.5</td>\n",
       "      <td>Medium-bodied</td>\n",
       "      <td>High</td>\n",
       "      <td>Brazil</td>\n",
       "      <td>1001</td>\n",
       "      <td>10001</td>\n",
       "      <td>Serra Gaúcha</td>\n",
       "      <td>Casa Perini</td>\n",
       "    </tr>\n",
       "    <tr>\n",
       "      <th>1</th>\n",
       "      <td>100002</td>\n",
       "      <td>Ancellotta</td>\n",
       "      <td>Red</td>\n",
       "      <td>Varietal/100%</td>\n",
       "      <td>['Ancellotta']</td>\n",
       "      <td>['Beef', 'Barbecue', 'Codfish', 'Pasta', 'Pizz...</td>\n",
       "      <td>12.0</td>\n",
       "      <td>Medium-bodied</td>\n",
       "      <td>Medium</td>\n",
       "      <td>Brazil</td>\n",
       "      <td>1001</td>\n",
       "      <td>10001</td>\n",
       "      <td>Serra Gaúcha</td>\n",
       "      <td>Casa Perini</td>\n",
       "    </tr>\n",
       "    <tr>\n",
       "      <th>2</th>\n",
       "      <td>100003</td>\n",
       "      <td>Cabernet Sauvignon</td>\n",
       "      <td>Red</td>\n",
       "      <td>Varietal/100%</td>\n",
       "      <td>['Cabernet Sauvignon']</td>\n",
       "      <td>['Beef', 'Lamb', 'Poultry']</td>\n",
       "      <td>12.0</td>\n",
       "      <td>Full-bodied</td>\n",
       "      <td>High</td>\n",
       "      <td>Brazil</td>\n",
       "      <td>1001</td>\n",
       "      <td>10002</td>\n",
       "      <td>Serra Gaúcha</td>\n",
       "      <td>Castellamare</td>\n",
       "    </tr>\n",
       "  </tbody>\n",
       "</table>\n",
       "</div>"
      ],
      "text/plain": [
       "   WineID            WineName       Type      Elaborate  \\\n",
       "0  100001  Espumante Moscatel  Sparkling  Varietal/100%   \n",
       "1  100002          Ancellotta        Red  Varietal/100%   \n",
       "2  100003  Cabernet Sauvignon        Red  Varietal/100%   \n",
       "\n",
       "                   Grapes                                          Harmonize  \\\n",
       "0      ['Muscat/Moscato']                 ['Pork', 'Rich Fish', 'Shellfish']   \n",
       "1          ['Ancellotta']  ['Beef', 'Barbecue', 'Codfish', 'Pasta', 'Pizz...   \n",
       "2  ['Cabernet Sauvignon']                        ['Beef', 'Lamb', 'Poultry']   \n",
       "\n",
       "    ABV           Body Acidity Country  RegionID  WineryID    RegionName  \\\n",
       "0   7.5  Medium-bodied    High  Brazil      1001     10001  Serra Gaúcha   \n",
       "1  12.0  Medium-bodied  Medium  Brazil      1001     10001  Serra Gaúcha   \n",
       "2  12.0    Full-bodied    High  Brazil      1001     10002  Serra Gaúcha   \n",
       "\n",
       "     WineryName  \n",
       "0   Casa Perini  \n",
       "1   Casa Perini  \n",
       "2  Castellamare  "
      ]
     },
     "execution_count": 177,
     "metadata": {},
     "output_type": "execute_result"
    }
   ],
   "source": [
    "wines.head(3)"
   ]
  },
  {
   "cell_type": "code",
   "execution_count": 178,
   "metadata": {},
   "outputs": [
    {
     "data": {
      "text/plain": [
       "0                Muscat/Moscato\n",
       "1                    Ancellotta\n",
       "2            Cabernet Sauvignon\n",
       "3    Cabernet Sauvignon, Merlot\n",
       "4         Muscat/Moscato Bianco\n",
       "Name: Grapes, dtype: object"
      ]
     },
     "execution_count": 178,
     "metadata": {},
     "output_type": "execute_result"
    }
   ],
   "source": [
    "wines['Grapes'] = wines['Grapes'].str.replace(\"[\", \" \").str.replace(\"]\", \" \").str.replace(\"'\", \"\").str.strip()\n",
    "wines['Grapes'].head()"
   ]
  },
  {
   "cell_type": "code",
   "execution_count": 179,
   "metadata": {},
   "outputs": [
    {
     "data": {
      "text/plain": [
       "0    Mediumbodied\n",
       "1    Mediumbodied\n",
       "2      Fullbodied\n",
       "3      Fullbodied\n",
       "4    Mediumbodied\n",
       "Name: Body, dtype: object"
      ]
     },
     "execution_count": 179,
     "metadata": {},
     "output_type": "execute_result"
    }
   ],
   "source": [
    "wines['Body'] = wines['Body'].str.replace('-', '')\n",
    "wines['Body'].head()"
   ]
  },
  {
   "cell_type": "code",
   "execution_count": 180,
   "metadata": {},
   "outputs": [
    {
     "data": {
      "text/plain": [
       "0                       Pork, Rich Fish, Shellfish\n",
       "1    Beef, Barbecue, Codfish, Pasta, Pizza, Cheese\n",
       "2                              Beef, Lamb, Poultry\n",
       "3                   Beef, Lamb, Game Meat, Poultry\n",
       "4                       Pork, Rich Fish, Shellfish\n",
       "Name: Harmonize, dtype: object"
      ]
     },
     "execution_count": 180,
     "metadata": {},
     "output_type": "execute_result"
    }
   ],
   "source": [
    "wines[\"Harmonize\"] = wines[\"Harmonize\"].str.replace(\"[\", \" \").str.replace(\"]\", \" \").str.replace(\"'\", \"\").str.strip()\n",
    "wines[\"Harmonize\"].head()"
   ]
  },
  {
   "cell_type": "code",
   "execution_count": 181,
   "metadata": {},
   "outputs": [
    {
     "data": {
      "text/html": [
       "<div>\n",
       "<style scoped>\n",
       "    .dataframe tbody tr th:only-of-type {\n",
       "        vertical-align: middle;\n",
       "    }\n",
       "\n",
       "    .dataframe tbody tr th {\n",
       "        vertical-align: top;\n",
       "    }\n",
       "\n",
       "    .dataframe thead th {\n",
       "        text-align: right;\n",
       "    }\n",
       "</style>\n",
       "<table border=\"1\" class=\"dataframe\">\n",
       "  <thead>\n",
       "    <tr style=\"text-align: right;\">\n",
       "      <th></th>\n",
       "      <th>WineID</th>\n",
       "      <th>WineName</th>\n",
       "      <th>Type</th>\n",
       "      <th>Elaborate</th>\n",
       "      <th>Grapes</th>\n",
       "      <th>Harmonize</th>\n",
       "      <th>ABV</th>\n",
       "      <th>Body</th>\n",
       "      <th>Acidity</th>\n",
       "      <th>Country</th>\n",
       "      <th>RegionID</th>\n",
       "      <th>WineryID</th>\n",
       "      <th>RegionName</th>\n",
       "      <th>WineryName</th>\n",
       "    </tr>\n",
       "  </thead>\n",
       "  <tbody>\n",
       "    <tr>\n",
       "      <th>0</th>\n",
       "      <td>100001</td>\n",
       "      <td>Espumante Moscatel</td>\n",
       "      <td>Sparkling</td>\n",
       "      <td>Varietal/100%</td>\n",
       "      <td>Muscat/Moscato</td>\n",
       "      <td>Pork, Rich Fish, Shellfish</td>\n",
       "      <td>7.5</td>\n",
       "      <td>Mediumbodied</td>\n",
       "      <td>High</td>\n",
       "      <td>Brazil</td>\n",
       "      <td>1001</td>\n",
       "      <td>10001</td>\n",
       "      <td>Serra Gaúcha</td>\n",
       "      <td>Casa Perini</td>\n",
       "    </tr>\n",
       "    <tr>\n",
       "      <th>1</th>\n",
       "      <td>100002</td>\n",
       "      <td>Ancellotta</td>\n",
       "      <td>Red</td>\n",
       "      <td>Varietal/100%</td>\n",
       "      <td>Ancellotta</td>\n",
       "      <td>Beef, Barbecue, Codfish, Pasta, Pizza, Cheese</td>\n",
       "      <td>12.0</td>\n",
       "      <td>Mediumbodied</td>\n",
       "      <td>Medium</td>\n",
       "      <td>Brazil</td>\n",
       "      <td>1001</td>\n",
       "      <td>10001</td>\n",
       "      <td>Serra Gaúcha</td>\n",
       "      <td>Casa Perini</td>\n",
       "    </tr>\n",
       "    <tr>\n",
       "      <th>2</th>\n",
       "      <td>100003</td>\n",
       "      <td>Cabernet Sauvignon</td>\n",
       "      <td>Red</td>\n",
       "      <td>Varietal/100%</td>\n",
       "      <td>Cabernet Sauvignon</td>\n",
       "      <td>Beef, Lamb, Poultry</td>\n",
       "      <td>12.0</td>\n",
       "      <td>Fullbodied</td>\n",
       "      <td>High</td>\n",
       "      <td>Brazil</td>\n",
       "      <td>1001</td>\n",
       "      <td>10002</td>\n",
       "      <td>Serra Gaúcha</td>\n",
       "      <td>Castellamare</td>\n",
       "    </tr>\n",
       "  </tbody>\n",
       "</table>\n",
       "</div>"
      ],
      "text/plain": [
       "   WineID            WineName       Type      Elaborate              Grapes  \\\n",
       "0  100001  Espumante Moscatel  Sparkling  Varietal/100%      Muscat/Moscato   \n",
       "1  100002          Ancellotta        Red  Varietal/100%          Ancellotta   \n",
       "2  100003  Cabernet Sauvignon        Red  Varietal/100%  Cabernet Sauvignon   \n",
       "\n",
       "                                       Harmonize   ABV          Body Acidity  \\\n",
       "0                     Pork, Rich Fish, Shellfish   7.5  Mediumbodied    High   \n",
       "1  Beef, Barbecue, Codfish, Pasta, Pizza, Cheese  12.0  Mediumbodied  Medium   \n",
       "2                            Beef, Lamb, Poultry  12.0    Fullbodied    High   \n",
       "\n",
       "  Country  RegionID  WineryID    RegionName    WineryName  \n",
       "0  Brazil      1001     10001  Serra Gaúcha   Casa Perini  \n",
       "1  Brazil      1001     10001  Serra Gaúcha   Casa Perini  \n",
       "2  Brazil      1001     10002  Serra Gaúcha  Castellamare  "
      ]
     },
     "execution_count": 181,
     "metadata": {},
     "output_type": "execute_result"
    }
   ],
   "source": [
    "wines.head(3)"
   ]
  },
  {
   "cell_type": "code",
   "execution_count": 182,
   "metadata": {},
   "outputs": [],
   "source": [
    "def check_special_characters(df, column_name, special_characters_pattern):\n",
    "    rows_with_special_characters = df[df[column_name].str.contains(special_characters_pattern, regex=True, na=False)]\n",
    "    row_count = len(rows_with_special_characters)\n",
    "    print(\"Number of rows with special characters in {}: {}\".format(column_name, row_count))\n",
    "    print(rows_with_special_characters[[column_name]].drop_duplicates().sort_values(by=column_name))"
   ]
  },
  {
   "cell_type": "code",
   "execution_count": 183,
   "metadata": {},
   "outputs": [],
   "source": [
    "import re\n",
    "def remove_special_characters(df, column_name, characters_to_remove):\n",
    "    df[column_name] = df[column_name].str.replace(f'[{re.escape(characters_to_remove)}]', ' ', regex=True)\n",
    "    return df"
   ]
  },
  {
   "cell_type": "code",
   "execution_count": 184,
   "metadata": {},
   "outputs": [],
   "source": [
    "characters_to_remove = '[!\"#$%°&\\'()*+,-./:;<=>?@[\\\\]^_`{|}~]'"
   ]
  },
  {
   "cell_type": "code",
   "execution_count": 185,
   "metadata": {},
   "outputs": [
    {
     "name": "stdout",
     "output_type": "stream",
     "text": [
      "Number of rows with special characters in WineName: 184\n",
      "                                            WineName\n",
      "453                               101 Moscato d'Asti\n",
      "727               Abednego Shiraz-Grenache-Mourvedre\n",
      "564                        Adobe Carmenère (Reserva)\n",
      "752              Australia Felix Chardonnay-Viognier\n",
      "454                                   Barbera D'Alba\n",
      "..                                               ...\n",
      "729              Wallcliffe Sauvignon Blanc-Sémillon\n",
      "732       Wilyabrup Valley Cabernet Sauvignon-Merlot\n",
      "710             Winemaker's Collection Blanc de Noir\n",
      "415   Winemaker's Collection Montepulciano d'Abruzzo\n",
      "930  Красностоп Золотовский (Krasnostop Zolotovskiy)\n",
      "\n",
      "[158 rows x 1 columns]\n"
     ]
    }
   ],
   "source": [
    "check_special_characters(wines, 'WineName', characters_to_remove)"
   ]
  },
  {
   "cell_type": "code",
   "execution_count": 186,
   "metadata": {},
   "outputs": [
    {
     "name": "stdout",
     "output_type": "stream",
     "text": [
      "Number of rows with special characters in WineName: 0\n",
      "Empty DataFrame\n",
      "Columns: [WineName]\n",
      "Index: []\n"
     ]
    }
   ],
   "source": [
    "wines = remove_special_characters(wines, 'WineName', characters_to_remove)\n",
    "check_special_characters(wines, 'WineName', characters_to_remove)"
   ]
  },
  {
   "cell_type": "code",
   "execution_count": 187,
   "metadata": {},
   "outputs": [
    {
     "name": "stdout",
     "output_type": "stream",
     "text": [
      "Number of rows with special characters in RegionName: 146\n",
      "                                           RegionName\n",
      "933                                     Anapa (Анапа)\n",
      "388                                    Barbera d'Alba\n",
      "440                                    Barbera d'Asti\n",
      "191                               Beaujolais-Villages\n",
      "445                                 Brachetto d'Acqui\n",
      "562                               Central Valley (CL)\n",
      "368                       Chablis 1er Cru 'Montmains'\n",
      "319                                 Chambolle-Musigny\n",
      "356                    Champagne Grand Cru 'Ambonnay'\n",
      "256                       Champagne Grand Cru 'Bouzy'\n",
      "337          Champagne Grand Cru 'Le Mesnil-sur-Oger'\n",
      "192                               Châteauneuf-du-Pape\n",
      "405                 Conegliano-Valdobbiadene Prosecco\n",
      "507  Conegliano-Valdobbiadene Prosecco Superiore Rive\n",
      "232                      Corton-Charlemagne Grand Cru\n",
      "554                                    Crimeia (Крим)\n",
      "332                                  Crémant d'Alsace\n",
      "201                                    Côtes-du-Rhône\n",
      "458                                   Dolcetto d'Alba\n",
      "930                          Don Valley (Долина Дона)\n",
      "406                                    Emilia-Romagna\n",
      "795                                  Eola-Amity Hills\n",
      "304                          Francs-Côtes de Bordeaux\n",
      "398                             Friuli-Venezia Giulia\n",
      "279                                 Gevrey-Chambertin\n",
      "214                                        Haut-Médoc\n",
      "947                                       Hawke's Bay\n",
      "95                                 Jerez-Xérès-Sherry\n",
      "217                              Languedoc-Roussillon\n",
      "316                                     Listrac-Médoc\n",
      "372         Meursault 1er Cru 'La pièce sous le Bois'\n",
      "415                           Montepulciano d'Abruzzo\n",
      "528                                  Montilla-Moriles\n",
      "423                                    Moscato d'Asti\n",
      "261                                   Moulis-en-Médoc\n",
      "359                               Nuits-Saint-Georges\n",
      "556                                    Odessa (Одеса)\n",
      "221                                    Pessac-Léognan\n",
      "241                                    Pouilly-Fuissé\n",
      "222                                      Pouilly-Fumé\n",
      "194                                     Saint-Estèphe\n",
      "195                                      Saint-Julien\n",
      "208                           Saint-Émilion Grand Cru\n",
      "387                               Südtirol-Alto Adige\n",
      "924            Taman Peninsula (Таманский полуостров)\n",
      "497                                     Valle d'Aosta\n",
      "431                                     Vino d'Italia\n",
      "547                        Zakarpattia (Закарпатська)\n"
     ]
    }
   ],
   "source": [
    "check_special_characters(wines, 'RegionName', characters_to_remove)"
   ]
  },
  {
   "cell_type": "code",
   "execution_count": 188,
   "metadata": {},
   "outputs": [
    {
     "name": "stdout",
     "output_type": "stream",
     "text": [
      "Number of rows with special characters in RegionName: 0\n",
      "Empty DataFrame\n",
      "Columns: [RegionName]\n",
      "Index: []\n"
     ]
    }
   ],
   "source": [
    "wines = remove_special_characters(wines, 'RegionName', characters_to_remove)\n",
    "check_special_characters(wines, 'RegionName', characters_to_remove)"
   ]
  },
  {
   "cell_type": "code",
   "execution_count": 189,
   "metadata": {},
   "outputs": [
    {
     "name": "stdout",
     "output_type": "stream",
     "text": [
      "Number of rows with special characters in WineryName: 97\n",
      "                                     WineryName\n",
      "645                              Achaval-Ferrer\n",
      "295               Barons de Rothschild (Lafite)\n",
      "317                           Barton & Guestier\n",
      "791                      Beaulieu Vineyard (BV)\n",
      "789                        Beringer Main & Vine\n",
      "..                                          ...\n",
      "84                                      Warre's\n",
      "170                   Weingut Max Ferd. Richter\n",
      "133             Weingut Nik Weis-St. Urbans-Hof\n",
      "154     Winzergenossenschaft Mayschoss-Altenahr\n",
      "930  Винодельня Ведерниковъ (Vedernikov Winery)\n",
      "\n",
      "[88 rows x 1 columns]\n"
     ]
    }
   ],
   "source": [
    "check_special_characters(wines, 'WineryName', characters_to_remove)"
   ]
  },
  {
   "cell_type": "code",
   "execution_count": 190,
   "metadata": {},
   "outputs": [
    {
     "name": "stdout",
     "output_type": "stream",
     "text": [
      "Number of rows with special characters in WineryName: 0\n",
      "Empty DataFrame\n",
      "Columns: [WineryName]\n",
      "Index: []\n"
     ]
    }
   ],
   "source": [
    "wines = remove_special_characters(wines, 'WineryName', characters_to_remove)\n",
    "check_special_characters(wines, 'WineryName', characters_to_remove)"
   ]
  },
  {
   "cell_type": "code",
   "execution_count": 191,
   "metadata": {},
   "outputs": [
    {
     "data": {
      "text/plain": [
       "WineID        0\n",
       "WineName      0\n",
       "Type          0\n",
       "Elaborate     0\n",
       "Grapes        0\n",
       "Harmonize     0\n",
       "ABV           0\n",
       "Body          0\n",
       "Acidity       0\n",
       "Country       0\n",
       "RegionID      0\n",
       "WineryID      0\n",
       "RegionName    0\n",
       "WineryName    0\n",
       "dtype: int64"
      ]
     },
     "execution_count": 191,
     "metadata": {},
     "output_type": "execute_result"
    }
   ],
   "source": [
    "wines.isnull().sum()"
   ]
  },
  {
   "cell_type": "code",
   "execution_count": 192,
   "metadata": {},
   "outputs": [],
   "source": [
    "def split_and_expand_columns(df, column_name, delimiter=\"/\"):\n",
    "    expanded_columns = df[column_name].str.split(delimiter, expand=True)\n",
    "    new_columns = [f\"{column_name}{i+1}\" for i in range(expanded_columns.shape[1])]\n",
    "    expanded_columns.columns = new_columns\n",
    "\n",
    "    df = pd.concat([df, expanded_columns], axis=1)\n",
    "    df = df.fillna(\"\")\n",
    "    df = df.drop(columns=[column_name])\n",
    "\n",
    "    return df"
   ]
  },
  {
   "cell_type": "code",
   "execution_count": 193,
   "metadata": {},
   "outputs": [],
   "source": [
    "wines = split_and_expand_columns(wines, \"Harmonize\", delimiter=\", \")"
   ]
  },
  {
   "cell_type": "code",
   "execution_count": 194,
   "metadata": {},
   "outputs": [],
   "source": [
    "wines = split_and_expand_columns(wines, \"Grapes\", delimiter=\", \")"
   ]
  },
  {
   "cell_type": "code",
   "execution_count": 195,
   "metadata": {},
   "outputs": [],
   "source": [
    "wines = split_and_expand_columns(wines, \"Elaborate\")"
   ]
  },
  {
   "cell_type": "code",
   "execution_count": 196,
   "metadata": {},
   "outputs": [],
   "source": [
    "wines = split_and_expand_columns(wines, \"Type\")"
   ]
  },
  {
   "cell_type": "code",
   "execution_count": 197,
   "metadata": {},
   "outputs": [
    {
     "name": "stdout",
     "output_type": "stream",
     "text": [
      "|    |   WineID | WineName           |   ABV | Body         | Acidity   | Country   |   RegionID |   WineryID | RegionName   | WineryName   | Harmonize1   | Harmonize2   | Harmonize3   | Harmonize4   | Harmonize5   | Harmonize6   | Harmonize7   | Harmonize8   | Harmonize9   | Harmonize10   | Harmonize11   | Harmonize12   | Grapes1            | Grapes2   | Grapes3   | Grapes4   | Grapes5   | Grapes6   | Grapes7   | Grapes8   | Grapes9   | Elaborate1   | Elaborate2   | Type1     | Type2   |\n",
      "|---:|---------:|:-------------------|------:|:-------------|:----------|:----------|-----------:|-----------:|:-------------|:-------------|:-------------|:-------------|:-------------|:-------------|:-------------|:-------------|:-------------|:-------------|:-------------|:--------------|:--------------|:--------------|:-------------------|:----------|:----------|:----------|:----------|:----------|:----------|:----------|:----------|:-------------|:-------------|:----------|:--------|\n",
      "|  0 |   100001 | Espumante Moscatel |   7.5 | Mediumbodied | High      | Brazil    |       1001 |      10001 | Serra Gaúcha | Casa Perini  | Pork         | Rich Fish    | Shellfish    |              |              |              |              |              |              |               |               |               | Muscat/Moscato     |           |           |           |           |           |           |           |           | Varietal     | 100%         | Sparkling |         |\n",
      "|  1 |   100002 | Ancellotta         |  12   | Mediumbodied | Medium    | Brazil    |       1001 |      10001 | Serra Gaúcha | Casa Perini  | Beef         | Barbecue     | Codfish      | Pasta        | Pizza        | Cheese       |              |              |              |               |               |               | Ancellotta         |           |           |           |           |           |           |           |           | Varietal     | 100%         | Red       |         |\n",
      "|  2 |   100003 | Cabernet Sauvignon |  12   | Fullbodied   | High      | Brazil    |       1001 |      10002 | Serra Gaúcha | Castellamare | Beef         | Lamb         | Poultry      |              |              |              |              |              |              |               |               |               | Cabernet Sauvignon |           |           |           |           |           |           |           |           | Varietal     | 100%         | Red       |         |\n"
     ]
    }
   ],
   "source": [
    "print(wines.head(3).to_markdown())"
   ]
  },
  {
   "cell_type": "code",
   "execution_count": 198,
   "metadata": {},
   "outputs": [],
   "source": [
    "common_columns = ['WineName', 'Body', 'Acidity', 'Country', 'RegionName', 'WineryName', 'ABV']\n",
    "grapes_columns = [f'Grapes{i}' for i in range(1, 10)]\n",
    "harmonize_columns = [f'Harmonize{i}' for i in range(1, 7)]\n",
    "type_columns = [f'Type{i}' for i in range(1, 3)]\n",
    "elaborate_columns = [f'Elaborate{i}' for i in range(1, 3)]\n",
    "all_columns = common_columns + grapes_columns + harmonize_columns + type_columns + elaborate_columns\n",
    "wines['Attributes'] = wines[all_columns].astype(str).agg(' '.join, axis=1)"
   ]
  },
  {
   "cell_type": "code",
   "execution_count": 199,
   "metadata": {},
   "outputs": [
    {
     "name": "stdout",
     "output_type": "stream",
     "text": [
      "|    | Attributes                                                                                                                                           |\n",
      "|---:|:-----------------------------------------------------------------------------------------------------------------------------------------------------|\n",
      "|  0 | Espumante Moscatel Mediumbodied High Brazil Serra Gaúcha Casa Perini 7.5 Muscat/Moscato         Pork Rich Fish Shellfish    Sparkling  Varietal 100% |\n",
      "|  1 | Ancellotta Mediumbodied Medium Brazil Serra Gaúcha Casa Perini 12.0 Ancellotta         Beef Barbecue Codfish Pasta Pizza Cheese Red  Varietal 100%   |\n",
      "|  2 | Cabernet Sauvignon Fullbodied High Brazil Serra Gaúcha Castellamare 12.0 Cabernet Sauvignon         Beef Lamb Poultry    Red  Varietal 100%          |\n"
     ]
    }
   ],
   "source": [
    "print(wines['Attributes'].head(3).to_markdown())"
   ]
  },
  {
   "cell_type": "markdown",
   "metadata": {},
   "source": [
    "Build model:\n",
    "- tranform attributes (features) of wines to tf-idf\n",
    "- compute simmilarity between wine items based on tf-idf\n"
   ]
  },
  {
   "cell_type": "code",
   "execution_count": 200,
   "metadata": {},
   "outputs": [
    {
     "name": "stdout",
     "output_type": "stream",
     "text": [
      "(1007, 2414)\n"
     ]
    }
   ],
   "source": [
    "from sklearn.feature_extraction.text import TfidfVectorizer\n",
    "\n",
    "# TF-IDF vectorizer\n",
    "vectorizer = TfidfVectorizer()\n",
    "\n",
    "# fit and transform the Attributes column\n",
    "tfidf_matrix = vectorizer.fit_transform(wines['Attributes'])\n",
    "\n",
    "# shape of the TF-IDF matrix\n",
    "print(tfidf_matrix.shape)\n"
   ]
  },
  {
   "cell_type": "code",
   "execution_count": 201,
   "metadata": {},
   "outputs": [
    {
     "name": "stdout",
     "output_type": "stream",
     "text": [
      "(1007, 1007)\n"
     ]
    }
   ],
   "source": [
    "from sklearn.metrics.pairwise import cosine_similarity\n",
    "\n",
    "# cosine similarity matrix between wines\n",
    "wine_similarities = cosine_similarity(tfidf_matrix)\n",
    "\n",
    "# shape of the similarity matrix\n",
    "print(wine_similarities.shape)\n"
   ]
  },
  {
   "cell_type": "code",
   "execution_count": 202,
   "metadata": {},
   "outputs": [
    {
     "name": "stdout",
     "output_type": "stream",
     "text": [
      "<class 'numpy.ndarray'>\n"
     ]
    }
   ],
   "source": [
    "print(type(wine_similarities))"
   ]
  },
  {
   "cell_type": "code",
   "execution_count": 203,
   "metadata": {},
   "outputs": [],
   "source": [
    "import numpy as np\n",
    "\n",
    "# save similarity matrix to file\n",
    "np.save('wine_similarities.npy', wine_similarities)"
   ]
  },
  {
   "cell_type": "code",
   "execution_count": 204,
   "metadata": {},
   "outputs": [
    {
     "data": {
      "text/plain": [
       "<bound method DataFrame.to_markdown of    RatingID   UserID  WineID Vintage  Rating                 Date\n",
       "0       143  1356810  103471    1950     4.5  2021-11-02 20:52:59\n",
       "1       199  1173759  111415    1951     5.0  2015-08-20 17:46:26>"
      ]
     },
     "execution_count": 204,
     "metadata": {},
     "output_type": "execute_result"
    }
   ],
   "source": [
    "ratings.head(2).to_markdown"
   ]
  },
  {
   "cell_type": "code",
   "execution_count": 205,
   "metadata": {},
   "outputs": [],
   "source": [
    "# Save the fully processed wines DataFrame\n",
    "initial_wines_df = wines.copy() "
   ]
  },
  {
   "cell_type": "code",
   "execution_count": 206,
   "metadata": {},
   "outputs": [],
   "source": [
    "# create a set of all wine IDs\n",
    "all_wine_ids = set(ratings['WineID'].unique())"
   ]
  },
  {
   "cell_type": "code",
   "execution_count": 207,
   "metadata": {},
   "outputs": [],
   "source": [
    "def get_unrated_wines(user_id, train_ratings, all_wine_ids):\n",
    "    '''\n",
    "    Get the list of wines that the user has not rated\n",
    "    \n",
    "    @param user_id: user ID\n",
    "    @param train_ratings: ratings DataFrame to consider\n",
    "    @param all_wine_ids: set of all wine IDs\n",
    "    @return: list of wine IDs that the user has not rated\n",
    "    '''\n",
    "    rated_wines = set(train_ratings[train_ratings['UserID'] == user_id]['WineID'].unique())\n",
    "    unrated_wines = all_wine_ids - rated_wines\n",
    "    return list(unrated_wines)"
   ]
  },
  {
   "cell_type": "code",
   "execution_count": 208,
   "metadata": {},
   "outputs": [],
   "source": [
    "import numpy as np\n",
    "\n",
    "# mapping between WineID and matrix index\n",
    "wine_id_to_idx = {wine_id: idx for idx, wine_id in enumerate(wines['WineID'])}\n",
    "idx_to_wine_id = {idx: wine_id for idx, wine_id in enumerate(wines['WineID'])}"
   ]
  },
  {
   "cell_type": "code",
   "execution_count": 209,
   "metadata": {},
   "outputs": [],
   "source": [
    "def get_similarities(unrated_wine, rated_wines, similarity_matrix):\n",
    "    '''\n",
    "    Get similarity scores between an unrated wine and a list of rated wines\n",
    "\n",
    "    @param unrated_wine: WineID of the unrated wine\n",
    "    @param rated_wines: list of WineIDs of the rated wines\n",
    "    @param similarity_matrix: cosine similarity matrix between wines\n",
    "    @return: list of tuples (WineID, similarity_score) for the rated wines\n",
    "    '''\n",
    "    similarities = []\n",
    "    if unrated_wine not in wine_id_to_idx:\n",
    "        return similarities  # No similarity data for this wine\n",
    "    \n",
    "    unrated_wine_idx = wine_id_to_idx[unrated_wine]\n",
    "    \n",
    "    for rated_wine in rated_wines:\n",
    "        if rated_wine not in wine_id_to_idx:\n",
    "            continue  # Skip if rated wine not in mapping\n",
    "        rated_wine_idx = wine_id_to_idx[rated_wine]\n",
    "        similarity = similarity_matrix[unrated_wine_idx, rated_wine_idx]\n",
    "        similarities.append((rated_wine, similarity))\n",
    "    \n",
    "    # Sort by similarity and select top k\n",
    "    similarities.sort(key=lambda x: x[1], reverse=True)\n",
    "    return similarities"
   ]
  },
  {
   "cell_type": "code",
   "execution_count": 210,
   "metadata": {},
   "outputs": [],
   "source": [
    "def predict_rating(user_id, unrated_wine, train_ratings):\n",
    "    '''\n",
    "    Predict the rating of an unrated wine for a user based on the similarities of unrated wine to rated wines of the user\n",
    "\n",
    "    @param user_id: user ID\n",
    "    @param unrated_wine: WineID of the unrated wine\n",
    "    @param train_ratings: ratings DataFrame to consider\n",
    "    @return: predicted rating of the unrated wine for the user\n",
    "    '''\n",
    "    user_ratings = train_ratings[train_ratings['UserID'] == user_id][['WineID', 'Rating']]\n",
    "    rated_wines = user_ratings['WineID'].tolist()\n",
    "    \n",
    "    if len(rated_wines) == 0:\n",
    "        return np.nan  # Shouldn't happen\n",
    "    \n",
    "    k_similar_wines = get_similarities(unrated_wine, rated_wines, wine_similarities)\n",
    "    \n",
    "    numerator = 0\n",
    "    denominator = 0\n",
    "    for wine, similarity in k_similar_wines:\n",
    "        rating = user_ratings[user_ratings['WineID'] == wine]['Rating'].values[0]\n",
    "        numerator += similarity * rating\n",
    "        denominator += abs(similarity)\n",
    "    \n",
    "    if denominator == 0:\n",
    "        # Impute with user's average rating from training set\n",
    "        user_mean = user_ratings['Rating'].mean()\n",
    "        return user_mean\n",
    "    \n",
    "    return numerator / denominator"
   ]
  },
  {
   "cell_type": "code",
   "execution_count": 211,
   "metadata": {},
   "outputs": [],
   "source": [
    "# Predict all ratings for a given user\n",
    "def predict_all_ratings(user_id):\n",
    "    '''\n",
    "    Method to predict ratings of all unrated wines for a given user\n",
    "\n",
    "    @param user_id: user ID\n",
    "    @return: dictionary of predicted ratings for unrated wines\n",
    "    '''\n",
    "    unrated_wines = get_unrated_wines(user_id, ratings, all_wine_ids)\n",
    "    predictions = {}\n",
    "    \n",
    "    for wine in unrated_wines:\n",
    "        predicted_rating = predict_rating(user_id, wine, ratings)\n",
    "        predictions[wine] = predicted_rating\n",
    "    \n",
    "    return predictions\n",
    "\n",
    "# Recommend top-N wines to the user based on predicted ratings\n",
    "def recommend_wines(user_id, N=10):\n",
    "    '''\n",
    "    Recommend top-N wines to the user based on predicted ratings of unrated wines\n",
    "\n",
    "    @param user_id: user ID\n",
    "    @param N: number of wines to recommend\n",
    "    @return: list of top-N recommended wines with predicted ratings\n",
    "    '''\n",
    "    predicted_ratings = predict_all_ratings(user_id)\n",
    "    # Sort wines by predicted rating in descending order\n",
    "    recommended_wines = sorted(predicted_ratings.items(), key=lambda x: x[1], reverse=True)\n",
    "    \n",
    "    return recommended_wines[:N]  # Return top N recommended wines"
   ]
  },
  {
   "cell_type": "code",
   "execution_count": 212,
   "metadata": {},
   "outputs": [
    {
     "ename": "KeyboardInterrupt",
     "evalue": "",
     "output_type": "error",
     "traceback": [
      "\u001b[1;31m---------------------------------------------------------------------------\u001b[0m",
      "\u001b[1;31mKeyboardInterrupt\u001b[0m                         Traceback (most recent call last)",
      "Cell \u001b[1;32mIn[212], line 3\u001b[0m\n\u001b[0;32m      1\u001b[0m \u001b[38;5;66;03m# Example usage\u001b[39;00m\n\u001b[0;32m      2\u001b[0m user_id \u001b[38;5;241m=\u001b[39m \u001b[38;5;241m1209683\u001b[39m\n\u001b[1;32m----> 3\u001b[0m top_recommendations \u001b[38;5;241m=\u001b[39m \u001b[43mrecommend_wines\u001b[49m\u001b[43m(\u001b[49m\u001b[43muser_id\u001b[49m\u001b[43m,\u001b[49m\u001b[43m \u001b[49m\u001b[43mN\u001b[49m\u001b[38;5;241;43m=\u001b[39;49m\u001b[38;5;241;43m10\u001b[39;49m\u001b[43m)\u001b[49m\n\u001b[0;32m      5\u001b[0m \u001b[38;5;66;03m# Print the top 10 recommendations for the user\u001b[39;00m\n\u001b[0;32m      6\u001b[0m \u001b[38;5;28mprint\u001b[39m(top_recommendations)\n",
      "Cell \u001b[1;32mIn[211], line 27\u001b[0m, in \u001b[0;36mrecommend_wines\u001b[1;34m(user_id, N)\u001b[0m\n\u001b[0;32m     19\u001b[0m \u001b[38;5;28;01mdef\u001b[39;00m \u001b[38;5;21mrecommend_wines\u001b[39m(user_id, N\u001b[38;5;241m=\u001b[39m\u001b[38;5;241m10\u001b[39m):\n\u001b[0;32m     20\u001b[0m \u001b[38;5;250m    \u001b[39m\u001b[38;5;124;03m'''\u001b[39;00m\n\u001b[0;32m     21\u001b[0m \u001b[38;5;124;03m    Recommend top-N wines to the user based on predicted ratings of unrated wines\u001b[39;00m\n\u001b[0;32m     22\u001b[0m \n\u001b[1;32m   (...)\u001b[0m\n\u001b[0;32m     25\u001b[0m \u001b[38;5;124;03m    @return: list of top-N recommended wines with predicted ratings\u001b[39;00m\n\u001b[0;32m     26\u001b[0m \u001b[38;5;124;03m    '''\u001b[39;00m\n\u001b[1;32m---> 27\u001b[0m     predicted_ratings \u001b[38;5;241m=\u001b[39m \u001b[43mpredict_all_ratings\u001b[49m\u001b[43m(\u001b[49m\u001b[43muser_id\u001b[49m\u001b[43m)\u001b[49m\n\u001b[0;32m     28\u001b[0m     \u001b[38;5;66;03m# Sort wines by predicted rating in descending order\u001b[39;00m\n\u001b[0;32m     29\u001b[0m     recommended_wines \u001b[38;5;241m=\u001b[39m \u001b[38;5;28msorted\u001b[39m(predicted_ratings\u001b[38;5;241m.\u001b[39mitems(), key\u001b[38;5;241m=\u001b[39m\u001b[38;5;28;01mlambda\u001b[39;00m x: x[\u001b[38;5;241m1\u001b[39m], reverse\u001b[38;5;241m=\u001b[39m\u001b[38;5;28;01mTrue\u001b[39;00m)\n",
      "Cell \u001b[1;32mIn[211], line 13\u001b[0m, in \u001b[0;36mpredict_all_ratings\u001b[1;34m(user_id)\u001b[0m\n\u001b[0;32m     10\u001b[0m predictions \u001b[38;5;241m=\u001b[39m {}\n\u001b[0;32m     12\u001b[0m \u001b[38;5;28;01mfor\u001b[39;00m wine \u001b[38;5;129;01min\u001b[39;00m unrated_wines:\n\u001b[1;32m---> 13\u001b[0m     predicted_rating \u001b[38;5;241m=\u001b[39m \u001b[43mpredict_rating\u001b[49m\u001b[43m(\u001b[49m\u001b[43muser_id\u001b[49m\u001b[43m,\u001b[49m\u001b[43m \u001b[49m\u001b[43mwine\u001b[49m\u001b[43m,\u001b[49m\u001b[43m \u001b[49m\u001b[43mratings\u001b[49m\u001b[43m)\u001b[49m\n\u001b[0;32m     14\u001b[0m     predictions[wine] \u001b[38;5;241m=\u001b[39m predicted_rating\n\u001b[0;32m     16\u001b[0m \u001b[38;5;28;01mreturn\u001b[39;00m predictions\n",
      "Cell \u001b[1;32mIn[210], line 10\u001b[0m, in \u001b[0;36mpredict_rating\u001b[1;34m(user_id, unrated_wine, train_ratings)\u001b[0m\n\u001b[0;32m      1\u001b[0m \u001b[38;5;28;01mdef\u001b[39;00m \u001b[38;5;21mpredict_rating\u001b[39m(user_id, unrated_wine, train_ratings):\n\u001b[0;32m      2\u001b[0m \u001b[38;5;250m    \u001b[39m\u001b[38;5;124;03m'''\u001b[39;00m\n\u001b[0;32m      3\u001b[0m \u001b[38;5;124;03m    Predict the rating of an unrated wine for a user based on the similarities of unrated wine to rated wines of the user\u001b[39;00m\n\u001b[0;32m      4\u001b[0m \n\u001b[1;32m   (...)\u001b[0m\n\u001b[0;32m      8\u001b[0m \u001b[38;5;124;03m    @return: predicted rating of the unrated wine for the user\u001b[39;00m\n\u001b[0;32m      9\u001b[0m \u001b[38;5;124;03m    '''\u001b[39;00m\n\u001b[1;32m---> 10\u001b[0m     user_ratings \u001b[38;5;241m=\u001b[39m train_ratings[\u001b[43mtrain_ratings\u001b[49m\u001b[43m[\u001b[49m\u001b[38;5;124;43m'\u001b[39;49m\u001b[38;5;124;43mUserID\u001b[39;49m\u001b[38;5;124;43m'\u001b[39;49m\u001b[43m]\u001b[49m\u001b[43m \u001b[49m\u001b[38;5;241;43m==\u001b[39;49m\u001b[43m \u001b[49m\u001b[43muser_id\u001b[49m][[\u001b[38;5;124m'\u001b[39m\u001b[38;5;124mWineID\u001b[39m\u001b[38;5;124m'\u001b[39m, \u001b[38;5;124m'\u001b[39m\u001b[38;5;124mRating\u001b[39m\u001b[38;5;124m'\u001b[39m]]\n\u001b[0;32m     11\u001b[0m     rated_wines \u001b[38;5;241m=\u001b[39m user_ratings[\u001b[38;5;124m'\u001b[39m\u001b[38;5;124mWineID\u001b[39m\u001b[38;5;124m'\u001b[39m]\u001b[38;5;241m.\u001b[39mtolist()\n\u001b[0;32m     13\u001b[0m     \u001b[38;5;28;01mif\u001b[39;00m \u001b[38;5;28mlen\u001b[39m(rated_wines) \u001b[38;5;241m==\u001b[39m \u001b[38;5;241m0\u001b[39m:\n",
      "File \u001b[1;32md:\\anaconda3\\envs\\cuda8\\lib\\site-packages\\pandas\\core\\ops\\common.py:81\u001b[0m, in \u001b[0;36m_unpack_zerodim_and_defer.<locals>.new_method\u001b[1;34m(self, other)\u001b[0m\n\u001b[0;32m     77\u001b[0m             \u001b[38;5;28;01mreturn\u001b[39;00m \u001b[38;5;28mNotImplemented\u001b[39m\n\u001b[0;32m     79\u001b[0m other \u001b[38;5;241m=\u001b[39m item_from_zerodim(other)\n\u001b[1;32m---> 81\u001b[0m \u001b[38;5;28;01mreturn\u001b[39;00m \u001b[43mmethod\u001b[49m\u001b[43m(\u001b[49m\u001b[38;5;28;43mself\u001b[39;49m\u001b[43m,\u001b[49m\u001b[43m \u001b[49m\u001b[43mother\u001b[49m\u001b[43m)\u001b[49m\n",
      "File \u001b[1;32md:\\anaconda3\\envs\\cuda8\\lib\\site-packages\\pandas\\core\\arraylike.py:40\u001b[0m, in \u001b[0;36mOpsMixin.__eq__\u001b[1;34m(self, other)\u001b[0m\n\u001b[0;32m     38\u001b[0m \u001b[38;5;129m@unpack_zerodim_and_defer\u001b[39m(\u001b[38;5;124m\"\u001b[39m\u001b[38;5;124m__eq__\u001b[39m\u001b[38;5;124m\"\u001b[39m)\n\u001b[0;32m     39\u001b[0m \u001b[38;5;28;01mdef\u001b[39;00m \u001b[38;5;21m__eq__\u001b[39m(\u001b[38;5;28mself\u001b[39m, other):\n\u001b[1;32m---> 40\u001b[0m     \u001b[38;5;28;01mreturn\u001b[39;00m \u001b[38;5;28;43mself\u001b[39;49m\u001b[38;5;241;43m.\u001b[39;49m\u001b[43m_cmp_method\u001b[49m\u001b[43m(\u001b[49m\u001b[43mother\u001b[49m\u001b[43m,\u001b[49m\u001b[43m \u001b[49m\u001b[43moperator\u001b[49m\u001b[38;5;241;43m.\u001b[39;49m\u001b[43meq\u001b[49m\u001b[43m)\u001b[49m\n",
      "File \u001b[1;32md:\\anaconda3\\envs\\cuda8\\lib\\site-packages\\pandas\\core\\series.py:6096\u001b[0m, in \u001b[0;36mSeries._cmp_method\u001b[1;34m(self, other, op)\u001b[0m\n\u001b[0;32m   6093\u001b[0m rvalues \u001b[38;5;241m=\u001b[39m extract_array(other, extract_numpy\u001b[38;5;241m=\u001b[39m\u001b[38;5;28;01mTrue\u001b[39;00m, extract_range\u001b[38;5;241m=\u001b[39m\u001b[38;5;28;01mTrue\u001b[39;00m)\n\u001b[0;32m   6095\u001b[0m \u001b[38;5;28;01mwith\u001b[39;00m np\u001b[38;5;241m.\u001b[39merrstate(\u001b[38;5;28mall\u001b[39m\u001b[38;5;241m=\u001b[39m\u001b[38;5;124m\"\u001b[39m\u001b[38;5;124mignore\u001b[39m\u001b[38;5;124m\"\u001b[39m):\n\u001b[1;32m-> 6096\u001b[0m     res_values \u001b[38;5;241m=\u001b[39m \u001b[43mops\u001b[49m\u001b[38;5;241;43m.\u001b[39;49m\u001b[43mcomparison_op\u001b[49m\u001b[43m(\u001b[49m\u001b[43mlvalues\u001b[49m\u001b[43m,\u001b[49m\u001b[43m \u001b[49m\u001b[43mrvalues\u001b[49m\u001b[43m,\u001b[49m\u001b[43m \u001b[49m\u001b[43mop\u001b[49m\u001b[43m)\u001b[49m\n\u001b[0;32m   6098\u001b[0m \u001b[38;5;28;01mreturn\u001b[39;00m \u001b[38;5;28mself\u001b[39m\u001b[38;5;241m.\u001b[39m_construct_result(res_values, name\u001b[38;5;241m=\u001b[39mres_name)\n",
      "File \u001b[1;32md:\\anaconda3\\envs\\cuda8\\lib\\site-packages\\pandas\\core\\ops\\array_ops.py:296\u001b[0m, in \u001b[0;36mcomparison_op\u001b[1;34m(left, right, op)\u001b[0m\n\u001b[0;32m    293\u001b[0m     res_values \u001b[38;5;241m=\u001b[39m comp_method_OBJECT_ARRAY(op, lvalues, rvalues)\n\u001b[0;32m    295\u001b[0m \u001b[38;5;28;01melse\u001b[39;00m:\n\u001b[1;32m--> 296\u001b[0m     res_values \u001b[38;5;241m=\u001b[39m \u001b[43m_na_arithmetic_op\u001b[49m\u001b[43m(\u001b[49m\u001b[43mlvalues\u001b[49m\u001b[43m,\u001b[49m\u001b[43m \u001b[49m\u001b[43mrvalues\u001b[49m\u001b[43m,\u001b[49m\u001b[43m \u001b[49m\u001b[43mop\u001b[49m\u001b[43m,\u001b[49m\u001b[43m \u001b[49m\u001b[43mis_cmp\u001b[49m\u001b[38;5;241;43m=\u001b[39;49m\u001b[38;5;28;43;01mTrue\u001b[39;49;00m\u001b[43m)\u001b[49m\n\u001b[0;32m    298\u001b[0m \u001b[38;5;28;01mreturn\u001b[39;00m res_values\n",
      "File \u001b[1;32md:\\anaconda3\\envs\\cuda8\\lib\\site-packages\\pandas\\core\\ops\\array_ops.py:171\u001b[0m, in \u001b[0;36m_na_arithmetic_op\u001b[1;34m(left, right, op, is_cmp)\u001b[0m\n\u001b[0;32m    168\u001b[0m     func \u001b[38;5;241m=\u001b[39m partial(expressions\u001b[38;5;241m.\u001b[39mevaluate, op)\n\u001b[0;32m    170\u001b[0m \u001b[38;5;28;01mtry\u001b[39;00m:\n\u001b[1;32m--> 171\u001b[0m     result \u001b[38;5;241m=\u001b[39m \u001b[43mfunc\u001b[49m\u001b[43m(\u001b[49m\u001b[43mleft\u001b[49m\u001b[43m,\u001b[49m\u001b[43m \u001b[49m\u001b[43mright\u001b[49m\u001b[43m)\u001b[49m\n\u001b[0;32m    172\u001b[0m \u001b[38;5;28;01mexcept\u001b[39;00m \u001b[38;5;167;01mTypeError\u001b[39;00m:\n\u001b[0;32m    173\u001b[0m     \u001b[38;5;28;01mif\u001b[39;00m \u001b[38;5;129;01mnot\u001b[39;00m is_cmp \u001b[38;5;129;01mand\u001b[39;00m (is_object_dtype(left\u001b[38;5;241m.\u001b[39mdtype) \u001b[38;5;129;01mor\u001b[39;00m is_object_dtype(right)):\n\u001b[0;32m    174\u001b[0m         \u001b[38;5;66;03m# For object dtype, fallback to a masked operation (only operating\u001b[39;00m\n\u001b[0;32m    175\u001b[0m         \u001b[38;5;66;03m#  on the non-missing values)\u001b[39;00m\n\u001b[0;32m    176\u001b[0m         \u001b[38;5;66;03m# Don't do this for comparisons, as that will handle complex numbers\u001b[39;00m\n\u001b[0;32m    177\u001b[0m         \u001b[38;5;66;03m#  incorrectly, see GH#32047\u001b[39;00m\n",
      "File \u001b[1;32md:\\anaconda3\\envs\\cuda8\\lib\\site-packages\\pandas\\core\\computation\\expressions.py:239\u001b[0m, in \u001b[0;36mevaluate\u001b[1;34m(op, a, b, use_numexpr)\u001b[0m\n\u001b[0;32m    236\u001b[0m \u001b[38;5;28;01mif\u001b[39;00m op_str \u001b[38;5;129;01mis\u001b[39;00m \u001b[38;5;129;01mnot\u001b[39;00m \u001b[38;5;28;01mNone\u001b[39;00m:\n\u001b[0;32m    237\u001b[0m     \u001b[38;5;28;01mif\u001b[39;00m use_numexpr:\n\u001b[0;32m    238\u001b[0m         \u001b[38;5;66;03m# error: \"None\" not callable\u001b[39;00m\n\u001b[1;32m--> 239\u001b[0m         \u001b[38;5;28;01mreturn\u001b[39;00m \u001b[43m_evaluate\u001b[49m\u001b[43m(\u001b[49m\u001b[43mop\u001b[49m\u001b[43m,\u001b[49m\u001b[43m \u001b[49m\u001b[43mop_str\u001b[49m\u001b[43m,\u001b[49m\u001b[43m \u001b[49m\u001b[43ma\u001b[49m\u001b[43m,\u001b[49m\u001b[43m \u001b[49m\u001b[43mb\u001b[49m\u001b[43m)\u001b[49m  \u001b[38;5;66;03m# type: ignore[misc]\u001b[39;00m\n\u001b[0;32m    240\u001b[0m \u001b[38;5;28;01mreturn\u001b[39;00m _evaluate_standard(op, op_str, a, b)\n",
      "File \u001b[1;32md:\\anaconda3\\envs\\cuda8\\lib\\site-packages\\pandas\\core\\computation\\expressions.py:128\u001b[0m, in \u001b[0;36m_evaluate_numexpr\u001b[1;34m(op, op_str, a, b)\u001b[0m\n\u001b[0;32m    125\u001b[0m     _store_test_result(result \u001b[38;5;129;01mis\u001b[39;00m \u001b[38;5;129;01mnot\u001b[39;00m \u001b[38;5;28;01mNone\u001b[39;00m)\n\u001b[0;32m    127\u001b[0m \u001b[38;5;28;01mif\u001b[39;00m result \u001b[38;5;129;01mis\u001b[39;00m \u001b[38;5;28;01mNone\u001b[39;00m:\n\u001b[1;32m--> 128\u001b[0m     result \u001b[38;5;241m=\u001b[39m \u001b[43m_evaluate_standard\u001b[49m\u001b[43m(\u001b[49m\u001b[43mop\u001b[49m\u001b[43m,\u001b[49m\u001b[43m \u001b[49m\u001b[43mop_str\u001b[49m\u001b[43m,\u001b[49m\u001b[43m \u001b[49m\u001b[43ma\u001b[49m\u001b[43m,\u001b[49m\u001b[43m \u001b[49m\u001b[43mb\u001b[49m\u001b[43m)\u001b[49m\n\u001b[0;32m    130\u001b[0m \u001b[38;5;28;01mreturn\u001b[39;00m result\n",
      "File \u001b[1;32md:\\anaconda3\\envs\\cuda8\\lib\\site-packages\\pandas\\core\\computation\\expressions.py:70\u001b[0m, in \u001b[0;36m_evaluate_standard\u001b[1;34m(op, op_str, a, b)\u001b[0m\n\u001b[0;32m     68\u001b[0m \u001b[38;5;28;01mif\u001b[39;00m _TEST_MODE:\n\u001b[0;32m     69\u001b[0m     _store_test_result(\u001b[38;5;28;01mFalse\u001b[39;00m)\n\u001b[1;32m---> 70\u001b[0m \u001b[38;5;28;01mreturn\u001b[39;00m \u001b[43mop\u001b[49m\u001b[43m(\u001b[49m\u001b[43ma\u001b[49m\u001b[43m,\u001b[49m\u001b[43m \u001b[49m\u001b[43mb\u001b[49m\u001b[43m)\u001b[49m\n",
      "\u001b[1;31mKeyboardInterrupt\u001b[0m: "
     ]
    }
   ],
   "source": [
    "# Example usage\n",
    "user_id = 1209683\n",
    "top_recommendations = recommend_wines(user_id, N=10)\n",
    "\n",
    "# Print the top 10 recommendations for the user\n",
    "print(top_recommendations)"
   ]
  },
  {
   "cell_type": "code",
   "execution_count": 148,
   "metadata": {},
   "outputs": [
    {
     "name": "stdout",
     "output_type": "stream",
     "text": [
      "Number of users who rated fewer than 3 wines: 257\n"
     ]
    }
   ],
   "source": [
    "n = 3\n",
    "\n",
    "# Group by UserID and count the number of ratings for each user\n",
    "user_rating_counts = ratings.groupby('UserID').size()\n",
    "\n",
    "# Filter users who rated fewer than 3 wines\n",
    "users_with_fewer_than_n_ratings = user_rating_counts[user_rating_counts < n]\n",
    "\n",
    "# Count the number of such users\n",
    "num_users_with_fewer_than_n_ratings = users_with_fewer_than_n_ratings.count()\n",
    "\n",
    "print(f\"Number of users who rated fewer than {n} wines: {num_users_with_fewer_than_n_ratings}\")"
   ]
  },
  {
   "cell_type": "code",
   "execution_count": 149,
   "metadata": {},
   "outputs": [],
   "source": [
    "users_ratings_dict = {user_id: ratings[ratings['UserID'] == user_id] for user_id in ratings['UserID'].unique()}\n",
    "\n",
    "# new dictionary to store users with 3 or more reviews\n",
    "filtered_users_ratings_dict = {user_id: reviews for user_id, reviews in users_ratings_dict.items() if len(reviews) >= 3}\n",
    "\n",
    "# Optionally, if you want to modify the original dictionary in place:\n",
    "users_ratings_dict = filtered_users_ratings_dict"
   ]
  },
  {
   "cell_type": "code",
   "execution_count": 150,
   "metadata": {},
   "outputs": [
    {
     "name": "stdout",
     "output_type": "stream",
     "text": [
      "LOO RMSE: 0.6075902669374107\n"
     ]
    }
   ],
   "source": [
    "from sklearn.metrics import mean_squared_error\n",
    "import numpy as np\n",
    "\n",
    "# Leave-One-Out cross-validation for a single user\n",
    "def loo_split_user_data(user_ratings):\n",
    "    '''\n",
    "    Leave one rating out for the user and return (train, test) pairs for each LOO step.\n",
    "\n",
    "    @param user_ratings: DataFrame containing all ratings for a single user\n",
    "    @return: train, test pairs for each LOO step\n",
    "    '''\n",
    "    for i in range(len(user_ratings)):\n",
    "        test = user_ratings.iloc[[i]]  # One row as the test set\n",
    "        train = user_ratings.drop(user_ratings.index[i])   # All remaining rows as the training set\n",
    "        yield train, test\n",
    "\n",
    "# Function to apply LOO for all users and calculate the overall error\n",
    "def loo_evaluate(users_ratings_dict):\n",
    "    '''\n",
    "    Perform LOO (leave-one-out) evaluation for all users and return the overall error.\n",
    "\n",
    "    @param users_ratings_dict: dictionary of user and his/her ratings\n",
    "    @return: overall RMSE or MAE for the evaluation\n",
    "    '''\n",
    "    true_ratings = []\n",
    "    predicted_ratings = []\n",
    "    \n",
    "    for user_id, user_ratings in users_ratings_dict.items():\n",
    "        # For each user, perform LOO\n",
    "        for train_ratings, test_rating in loo_split_user_data(user_ratings):\n",
    "            # Get the wine to predict\n",
    "            test_wine = test_rating['WineID'].values[0]\n",
    "            true_rating = test_rating['Rating'].values[0]\n",
    "            \n",
    "            # Predict the rating using the training set\n",
    "            predicted_rating = predict_rating(user_id, test_wine, train_ratings)\n",
    "            \n",
    "            # Store the true and predicted ratings\n",
    "            true_ratings.append(true_rating)\n",
    "            predicted_ratings.append(predicted_rating)\n",
    "    \n",
    "    # Calculate RMSE or MAE for the overall evaluation\n",
    "    rmse = np.sqrt(mean_squared_error(true_ratings, predicted_ratings))\n",
    "    return rmse\n",
    "\n",
    "# Usage\n",
    "loo_rmse = loo_evaluate(users_ratings_dict)\n",
    "print(f\"LOO RMSE: {loo_rmse}\")\n"
   ]
  },
  {
   "cell_type": "code",
   "execution_count": 151,
   "metadata": {},
   "outputs": [
    {
     "name": "stdout",
     "output_type": "stream",
     "text": [
      "Train-Test RMSE: 0.632960230003232\n"
     ]
    }
   ],
   "source": [
    "from sklearn.model_selection import train_test_split\n",
    "\n",
    "# Train-test split for a single user's ratings\n",
    "def split_user_data(user_ratings, test_size=0.2):\n",
    "    '''\n",
    "    Split user's ratings into train and test sets using sklearn's train_test_split.\n",
    "\n",
    "    @param user_ratings: DataFrame containing all ratings for a single user\n",
    "    @param test_size: proportion of the test set\n",
    "    @return: train, test split of the user's ratings\n",
    "    '''\n",
    "    train, test = train_test_split(user_ratings, test_size=test_size, random_state=42)\n",
    "    return train, test\n",
    "\n",
    "# Function to apply Train-Test split for all users and calculate the overall error\n",
    "def train_test_evaluate(users_ratings_dict):\n",
    "    '''\n",
    "    Perform train-test split evaluation for all users and return the overall error.\n",
    "\n",
    "    @param users_ratings_dict: dictionary of user and his/her ratings\n",
    "    @return: overall RMSE or MAE for the evaluation\n",
    "    '''\n",
    "    true_ratings = []\n",
    "    predicted_ratings = []\n",
    "    \n",
    "    for user_id, user_ratings in users_ratings_dict.items():\n",
    "        # Split the data into train and test\n",
    "        train_ratings, test_ratings = split_user_data(user_ratings)\n",
    "        \n",
    "        # Predict ratings for the test set\n",
    "        for idx, test_row in test_ratings.iterrows():\n",
    "            test_wine = test_row['WineID']\n",
    "            true_rating = test_row['Rating']\n",
    "            \n",
    "            # Predict the rating using the training set\n",
    "            predicted_rating = predict_rating(user_id, test_wine, train_ratings)\n",
    "            \n",
    "            # Store the true and predicted ratings\n",
    "            true_ratings.append(true_rating)\n",
    "            predicted_ratings.append(predicted_rating)\n",
    "    \n",
    "    # Calculate RMSE or MAE for the overall evaluation\n",
    "    rmse = np.sqrt(mean_squared_error(true_ratings, predicted_ratings))\n",
    "    return rmse\n",
    "\n",
    "# Example usage\n",
    "train_test_rmse = train_test_evaluate(users_ratings_dict)\n",
    "print(f\"Train-Test RMSE: {train_test_rmse}\")\n"
   ]
  },
  {
   "cell_type": "markdown",
   "metadata": {},
   "source": [
    "-----------------------------------------------------------------------------------------------------------------------------------------------"
   ]
  },
  {
   "cell_type": "markdown",
   "metadata": {},
   "source": [
    "What's next:\n",
    "\n",
    "a) Diversity:\n",
    "Measure the average pairwise distance between recommended wines. Use features like grape types, region, or flavor profile for distance calculation.\n",
    "\n",
    "b) Novelty:\n",
    "Calculate the popularity of each wine in the training set. Measure the average inverse popularity of recommended wines.\n",
    "\n",
    "c) Serendipity:\n",
    "Combine unexpectedness (recommending wines different from user's usual preferences) with relevance (high predicted ratings).\n",
    "\n",
    "\n",
    "Fix:\n",
    "Disadvantages:\n",
    "- Feature Dependency: Requires comprehensive and relevant item features.\n",
    "- Limited Discovery: May not introduce users to diverse or serendipitous items outside their established preferences."
   ]
  },
  {
   "cell_type": "code",
   "execution_count": 152,
   "metadata": {},
   "outputs": [
    {
     "name": "stdout",
     "output_type": "stream",
     "text": [
      "Training set size: (120182, 6)\n",
      "Test set size: (29818, 6)\n"
     ]
    }
   ],
   "source": [
    "from sklearn.model_selection import GroupShuffleSplit\n",
    "\n",
    "def split_ratings_groupwise(ratings, test_size=0.2, random_state=42):\n",
    "    '''\n",
    "    Split ratings data into training and test sets using group-wise shuffle split.\n",
    "    \n",
    "    @param ratings: DataFrame containing ratings data with a 'UserID' column\n",
    "    @param test_size: float, proportion of the dataset to include in the test split (default: 0.2)\n",
    "    @param random_state: int, seed used by the random number generator (default: 42)\n",
    "    @return: tuple containing two DataFrames (train_ratings, test_ratings)\n",
    "    '''\n",
    "    gss = GroupShuffleSplit(n_splits=1, test_size=test_size, random_state=random_state)\n",
    "    train_idx, test_idx = next(gss.split(ratings, groups=ratings['UserID']))\n",
    "    train_ratings = ratings.iloc[train_idx].reset_index(drop=True)\n",
    "    test_ratings = ratings.iloc[test_idx].reset_index(drop=True)\n",
    "    return train_ratings, test_ratings\n",
    "\n",
    "# Perform the group-wise split\n",
    "train_ratings, test_ratings = split_ratings_groupwise(ratings, test_size=0.2)\n",
    "\n",
    "print(f\"Training set size: {train_ratings.shape}\")\n",
    "print(f\"Test set size: {test_ratings.shape}\")\n"
   ]
  },
  {
   "cell_type": "code",
   "execution_count": 153,
   "metadata": {},
   "outputs": [],
   "source": [
    "def predict_test_set_ratings(test_ratings, train_ratings, k=5):\n",
    "    '''\n",
    "    Predict ratings for the test set using the training data and handle missing predictions.\n",
    "\n",
    "    @param test_ratings: DataFrame containing the test set ratings\n",
    "    @param train_ratings: DataFrame containing the training set ratings\n",
    "    @param k: int, number of nearest neighbors to use in prediction (default: 5)\n",
    "    @return: tuple of two numpy arrays (predictions, true_ratings)\n",
    "    '''\n",
    "    predictions = []\n",
    "    true_ratings = []\n",
    "    \n",
    "    for index, row in test_ratings.iterrows():\n",
    "        user_id = row['UserID']\n",
    "        wine_id = row['WineID']\n",
    "        true_rating = row['Rating']\n",
    "        \n",
    "        predicted_rating = predict_rating(user_id, wine_id, train_ratings)\n",
    "        \n",
    "        # Handle cases where prediction could still be NaN\n",
    "        if np.isnan(predicted_rating):\n",
    "            # Option 1: Impute with user's mean rating from training set\n",
    "            user_train_ratings = train_ratings[train_ratings['UserID'] == user_id]['Rating']\n",
    "            if len(user_train_ratings) > 0:\n",
    "                predicted_rating = user_train_ratings.mean()\n",
    "            else:\n",
    "                # Option 2: Impute with global mean rating\n",
    "                predicted_rating = train_ratings['Rating'].mean()\n",
    "        \n",
    "        predictions.append(predicted_rating)\n",
    "        true_ratings.append(true_rating)\n",
    "    \n",
    "    return np.array(predictions), np.array(true_ratings)"
   ]
  },
  {
   "cell_type": "code",
   "execution_count": 154,
   "metadata": {},
   "outputs": [
    {
     "name": "stdout",
     "output_type": "stream",
     "text": [
      "Root Mean Squared Error (RMSE): 0.6474061247419193\n"
     ]
    }
   ],
   "source": [
    "from sklearn.metrics import mean_squared_error\n",
    "\n",
    "def calculate_rmse(predicted_ratings, true_ratings):\n",
    "    mse = mean_squared_error(true_ratings, predicted_ratings)\n",
    "    rmse = np.sqrt(mse)\n",
    "    return rmse\n",
    "\n",
    "# 5. Predict Ratings for the Test Set\n",
    "predicted_ratings, true_ratings = predict_test_set_ratings(test_ratings, train_ratings, k=5)\n",
    "\n",
    "# 6. Calculate and Print RMSE\n",
    "rmse = calculate_rmse(predicted_ratings, true_ratings)\n",
    "print(f\"Root Mean Squared Error (RMSE): {rmse}\")\n"
   ]
  },
  {
   "cell_type": "code",
   "execution_count": 155,
   "metadata": {},
   "outputs": [
    {
     "name": "stdout",
     "output_type": "stream",
     "text": [
      "Fold RMSE: 0.6549951425949024\n",
      "Fold RMSE: 0.651390180810434\n",
      "Fold RMSE: 0.6552810320691294\n",
      "Fold RMSE: 0.6459695353288084\n",
      "Fold RMSE: 0.6440909097324693\n",
      "Average RMSE across 5 folds: 0.6503453601071486\n"
     ]
    }
   ],
   "source": [
    "from sklearn.model_selection import GroupKFold\n",
    "\n",
    "def cross_validate(ratings, k_folds=5, test_size=0.2, k=5):\n",
    "    '''\n",
    "    Perform k-fold cross-validation on the ratings data using GroupKFold.\n",
    "\n",
    "    @param ratings: DataFrame containing the ratings data with 'UserID' column\n",
    "    @param k_folds: int, number of folds for cross-validation (default: 5)\n",
    "    @param test_size: float, proportion of the dataset to include in the test split (default: 0.2)\n",
    "    @param k: int, number of nearest neighbors to use in prediction (default: 5)\n",
    "    @return: None (prints RMSE scores for each fold and average RMSE)\n",
    "    '''\n",
    "    gkf = GroupKFold(n_splits=k_folds)\n",
    "    rmse_scores = []\n",
    "    \n",
    "    for train_idx, test_idx in gkf.split(ratings, groups=ratings['UserID']):\n",
    "        train_ratings_fold = ratings.iloc[train_idx].reset_index(drop=True)\n",
    "        test_ratings_fold = ratings.iloc[test_idx].reset_index(drop=True)\n",
    "        \n",
    "        predicted, true = predict_test_set_ratings(test_ratings_fold, train_ratings_fold, k)\n",
    "        \n",
    "        # Handle any remaining NaNs\n",
    "        if np.isnan(predicted).sum() > 0:\n",
    "            user_means = train_ratings_fold.groupby('UserID')['Rating'].mean().to_dict()\n",
    "            predicted = [user_means.get(uid, train_ratings_fold['Rating'].mean()) \n",
    "                         if np.isnan(r) else r for r, uid in zip(predicted, test_ratings_fold['UserID'])]\n",
    "            predicted = np.array(predicted)\n",
    "        \n",
    "        rmse = calculate_rmse(predicted, true)\n",
    "        rmse_scores.append(rmse)\n",
    "        print(f\"Fold RMSE: {rmse}\")\n",
    "    \n",
    "    print(f\"Average RMSE across {k_folds} folds: {np.mean(rmse_scores)}\")\n",
    "\n",
    "# Example usage:\n",
    "cross_validate(ratings, k_folds=5, test_size=0.2, k=5)"
   ]
  },
  {
   "cell_type": "code",
   "execution_count": 156,
   "metadata": {},
   "outputs": [],
   "source": [
    "import matplotlib.pyplot as plt\n",
    "import numpy as np\n",
    "from sklearn.metrics import precision_recall_fscore_support\n",
    "from sklearn.model_selection import GroupKFold\n",
    "\n",
    "def evaluate_model(test_ratings, train_ratings, k=5):\n",
    "    '''\n",
    "    Evaluate the model by predicting ratings for the test set using the training data.\n",
    "\n",
    "    @param test_ratings: DataFrame containing the test set ratings\n",
    "    @param train_ratings: DataFrame containing the training set ratings\n",
    "    @param k: int, number of nearest neighbors to use in prediction (default: 5)\n",
    "    @return: tuple of two numpy arrays (predictions, true_ratings)\n",
    "    '''\n",
    "    predictions = []\n",
    "    true_ratings = []\n",
    "    \n",
    "    for index, row in test_ratings.iterrows():\n",
    "        user_id = row['UserID']\n",
    "        wine_id = row['WineID']\n",
    "        true_rating = row['Rating']\n",
    "        \n",
    "        predicted_rating = predict_rating(user_id, wine_id, train_ratings)\n",
    "        \n",
    "        # Handle cases where prediction could still be NaN\n",
    "        if np.isnan(predicted_rating):\n",
    "            user_train_ratings = train_ratings[train_ratings['UserID'] == user_id]['Rating']\n",
    "            if len(user_train_ratings) > 0:\n",
    "                predicted_rating = user_train_ratings.mean()\n",
    "            else:\n",
    "                predicted_rating = train_ratings['Rating'].mean()\n",
    "        \n",
    "        predictions.append(predicted_rating)\n",
    "        true_ratings.append(true_rating)\n",
    "    \n",
    "    return np.array(predictions), np.array(true_ratings)"
   ]
  },
  {
   "cell_type": "code",
   "execution_count": 157,
   "metadata": {},
   "outputs": [],
   "source": [
    "def calculate_precision_recall_f1(predicted_ratings, true_ratings, threshold=3.5):\n",
    "    # Binarize the ratings based on the threshold\n",
    "    predicted_binary = (predicted_ratings >= threshold).astype(int)\n",
    "    true_binary = (true_ratings >= threshold).astype(int)\n",
    "    \n",
    "    precision, recall, f1, _ = precision_recall_fscore_support(true_binary, predicted_binary, average='binary')\n",
    "    return precision, recall, f1"
   ]
  },
  {
   "cell_type": "code",
   "execution_count": 158,
   "metadata": {},
   "outputs": [
    {
     "name": "stdout",
     "output_type": "stream",
     "text": [
      "Fold RMSE: 0.6549951425949024, F1: 0.9019636549969805\n",
      "Fold RMSE: 0.651390180810434, F1: 0.9083366689712893\n",
      "Fold RMSE: 0.6552810320691294, F1: 0.9070042808998998\n",
      "Fold RMSE: 0.6459695353288084, F1: 0.9033283983111257\n",
      "Fold RMSE: 0.6440909097324693, F1: 0.9071038251366119\n",
      "Average RMSE across 5 folds: 0.6503453601071486\n",
      "Average F1 across 5 folds: 0.9055473656631815\n"
     ]
    },
    {
     "data": {
      "image/png": "[encoded data removed]",
      "text/plain": [
       "<Figure size 1000x500 with 2 Axes>"
      ]
     },
     "metadata": {},
     "output_type": "display_data"
    }
   ],
   "source": [
    "def cross_validate_with_metrics(ratings, k_folds=5, k=5, threshold=3.5):\n",
    "    '''\n",
    "    Perform k-fold cross-validation on the ratings data using GroupKFold and calculate multiple evaluation metrics.\n",
    "\n",
    "    @param ratings: DataFrame containing the ratings data with 'UserID' column\n",
    "    @param k_folds: int, number of folds for cross-validation (default: 5)\n",
    "    @param k: int, number of nearest neighbors to use in prediction (default: 5)\n",
    "    @param threshold: float, threshold for binary classification in F1 score calculation (default: 3.5)\n",
    "    @return: None (prints and plots RMSE and F1 scores for each fold and their averages)\n",
    "    '''\n",
    "    gkf = GroupKFold(n_splits=k_folds)\n",
    "    rmse_scores = []\n",
    "    f1_scores = []\n",
    "    \n",
    "    for train_idx, test_idx in gkf.split(ratings, groups=ratings['UserID']):\n",
    "        train_ratings_fold = ratings.iloc[train_idx].reset_index(drop=True)\n",
    "        test_ratings_fold = ratings.iloc[test_idx].reset_index(drop=True)\n",
    "        \n",
    "        predicted, true = evaluate_model(test_ratings_fold, train_ratings_fold, k)\n",
    "        \n",
    "        # Handle any remaining NaNs\n",
    "        if np.isnan(predicted).sum() > 0:\n",
    "            user_means = train_ratings_fold.groupby('UserID')['Rating'].mean().to_dict()\n",
    "            predicted = [user_means.get(uid, train_ratings_fold['Rating'].mean()) \n",
    "                         if np.isnan(r) else r for r, uid in zip(predicted, test_ratings_fold['UserID'])]\n",
    "            predicted = np.array(predicted)\n",
    "        \n",
    "        rmse = calculate_rmse(predicted, true)\n",
    "        _, _, f1 = calculate_precision_recall_f1(predicted, true, threshold)\n",
    "        \n",
    "        rmse_scores.append(rmse)\n",
    "        f1_scores.append(f1)\n",
    "        \n",
    "        print(f\"Fold RMSE: {rmse}, F1: {f1}\")\n",
    "    \n",
    "    print(f\"Average RMSE across {k_folds} folds: {np.mean(rmse_scores)}\")\n",
    "    print(f\"Average F1 across {k_folds} folds: {np.mean(f1_scores)}\")\n",
    "    \n",
    "    # Plotting the results\n",
    "    plt.figure(figsize=(10, 5))\n",
    "\n",
    "    plt.subplot(1, 2, 1)\n",
    "    plt.plot(rmse_scores, marker='o')\n",
    "    plt.title('RMSE Scores')\n",
    "    plt.xlabel('Fold')\n",
    "    plt.ylabel('RMSE')\n",
    "\n",
    "    plt.subplot(1, 2, 2)\n",
    "    plt.plot(f1_scores, marker='o', color='red')\n",
    "    plt.title('F1 Scores')\n",
    "    plt.xlabel('Fold')\n",
    "    plt.ylabel('F1 Score')\n",
    "\n",
    "    plt.tight_layout()\n",
    "    plt.show()\n",
    "\n",
    "cross_validate_with_metrics(ratings, k_folds=5, k=5, threshold=3.5)"
   ]
  },
  {
   "cell_type": "markdown",
   "metadata": {},
   "source": [
    "Group Recommender (Using KNN)"
   ]
  },
  {
   "cell_type": "code",
   "execution_count": 159,
   "metadata": {},
   "outputs": [],
   "source": [
    "def group_recommender_knn(users, wines):\n",
    "    '''\n",
    "    Predict ratings for a group using KNN with average aggregation strategy.\n",
    "\n",
    "    @param users: list of user IDs\n",
    "    @param wines: list of wine IDs\n",
    "    @return: list of recommended wines for the group\n",
    "    '''\n",
    "    group_predictions = {}\n",
    "\n",
    "    # Predict ratings for each user in the group\n",
    "    user_ratings = {}\n",
    "    for user in users:\n",
    "        user_ratings[user] = predict_all_ratings(user)\n",
    "\n",
    "    # Aggregate predictions using the average strategy\n",
    "    for wine in wines:\n",
    "        total_rating = 0\n",
    "        for user in users:\n",
    "            total_rating += user_ratings[user].get(wine, 0)\n",
    "        group_predictions[wine] = total_rating / len(users)\n",
    "\n",
    "    # Return sorted list of recommended wines for the group\n",
    "    recommended_wines = sorted(group_predictions.items(), key=lambda x: x[1], reverse=True)\n",
    "    return recommended_wines"
   ]
  },
  {
   "cell_type": "code",
   "execution_count": 160,
   "metadata": {},
   "outputs": [],
   "source": [
    "\n",
    "import random\n",
    "def generate_synthetic_groups(user_pool, group_sizes):\n",
    "    '''\n",
    "    Generate synthetic groups of random users.\n",
    "\n",
    "    @param user_pool: list of all user IDs\n",
    "    @param group_sizes: list of group sizes to generate\n",
    "    @return: list of synthetic groups\n",
    "    '''\n",
    "    synthetic_groups = []\n",
    "\n",
    "    # Create groups of different sizes\n",
    "    for size in group_sizes:\n",
    "        group = random.sample(user_pool, size)\n",
    "        synthetic_groups.append(group)\n",
    "\n",
    "    return synthetic_groups"
   ]
  },
  {
   "cell_type": "code",
   "execution_count": 161,
   "metadata": {},
   "outputs": [],
   "source": [
    "import math\n",
    "def rmse_group(predictions, actual_ratings):\n",
    "    '''\n",
    "    Calculate RMSE for the group predictions.\n",
    "\n",
    "    @param predictions: dictionary of predicted ratings\n",
    "    @param actual_ratings: dictionary of actual ratings\n",
    "    @return: RMSE value\n",
    "    '''\n",
    "    errors = [(predictions[wine] - actual_ratings[wine]) ** 2 for wine in actual_ratings]\n",
    "    mean_error = sum(errors) / len(errors)\n",
    "    return math.sqrt(mean_error)"
   ]
  },
  {
   "cell_type": "code",
   "execution_count": 162,
   "metadata": {},
   "outputs": [],
   "source": [
    "def evaluate_group_recommender(user_pool, wines, actual_ratings, group_sizes):\n",
    "    '''\n",
    "    Evaluate the group recommender on synthetic groups.\n",
    "\n",
    "    @param user_pool: list of all user IDs\n",
    "    @param wines: list of all wine IDs\n",
    "    @param actual_ratings: dictionary of actual ratings for evaluation\n",
    "    @param group_sizes: list of group sizes to evaluate\n",
    "    '''\n",
    "    # Generate synthetic groups of users\n",
    "    synthetic_groups = generate_synthetic_groups(user_pool, group_sizes)\n",
    "\n",
    "    # Iterate through each group and evaluate\n",
    "    for group in synthetic_groups:\n",
    "        print(f\"Evaluating group of size {len(group)}:\")\n",
    "        \n",
    "        # Predict group ratings using the KNN recommender\n",
    "        predicted_ratings = group_recommender_knn(group, wines)\n",
    "        \n",
    "        # Calculate and print RMSE for the group\n",
    "        rmse = rmse_group(dict(predicted_ratings), actual_ratings)\n",
    "        print(f\"Group RMSE: {rmse}\\n\")"
   ]
  },
  {
   "cell_type": "code",
   "execution_count": 163,
   "metadata": {},
   "outputs": [
    {
     "name": "stdout",
     "output_type": "stream",
     "text": [
      "Evaluating group of size 2:\n",
      "Group RMSE: 0.5511643154096261\n",
      "\n",
      "Evaluating group of size 3:\n",
      "Group RMSE: 0.5245198731946257\n",
      "\n",
      "Evaluating group of size 5:\n",
      "Group RMSE: 0.48692925431664535\n",
      "\n",
      "Evaluating group of size 10:\n",
      "Group RMSE: 0.4689320165997922\n",
      "\n"
     ]
    }
   ],
   "source": [
    "user_pool = ratings['UserID'].unique().tolist()  \n",
    "wines = ratings['WineID'].unique().tolist()      \n",
    "actual_ratings = {wine: ratings[ratings['WineID'] == wine]['Rating'].mean() for wine in wines}  \n",
    "group_sizes = [2, 3, 5, 10]  # Test with group sizes of 2, 3, 4, and 5 users\n",
    "\n",
    "# Run the evaluation\n",
    "evaluate_group_recommender(user_pool, wines, actual_ratings, group_sizes)"
   ]
  },
  {
   "cell_type": "code",
   "execution_count": 166,
   "metadata": {},
   "outputs": [
    {
     "data": {
      "text/html": [
       "<div>\n",
       "<style scoped>\n",
       "    .dataframe tbody tr th:only-of-type {\n",
       "        vertical-align: middle;\n",
       "    }\n",
       "\n",
       "    .dataframe tbody tr th {\n",
       "        vertical-align: top;\n",
       "    }\n",
       "\n",
       "    .dataframe thead th {\n",
       "        text-align: right;\n",
       "    }\n",
       "</style>\n",
       "<table border=\"1\" class=\"dataframe\">\n",
       "  <thead>\n",
       "    <tr style=\"text-align: right;\">\n",
       "      <th></th>\n",
       "      <th>WineID</th>\n",
       "      <th>WineName</th>\n",
       "      <th>ABV</th>\n",
       "      <th>Body</th>\n",
       "      <th>Acidity</th>\n",
       "      <th>Country</th>\n",
       "      <th>RegionID</th>\n",
       "      <th>WineryID</th>\n",
       "      <th>RegionName</th>\n",
       "      <th>WineryName</th>\n",
       "      <th>...</th>\n",
       "      <th>Grapes5</th>\n",
       "      <th>Grapes6</th>\n",
       "      <th>Grapes7</th>\n",
       "      <th>Grapes8</th>\n",
       "      <th>Grapes9</th>\n",
       "      <th>Elaborate1</th>\n",
       "      <th>Elaborate2</th>\n",
       "      <th>Type1</th>\n",
       "      <th>Type2</th>\n",
       "      <th>Attributes</th>\n",
       "    </tr>\n",
       "  </thead>\n",
       "  <tbody>\n",
       "    <tr>\n",
       "      <th>0</th>\n",
       "      <td>100001</td>\n",
       "      <td>Espumante Moscatel</td>\n",
       "      <td>7.5</td>\n",
       "      <td>Mediumbodied</td>\n",
       "      <td>High</td>\n",
       "      <td>Brazil</td>\n",
       "      <td>1001</td>\n",
       "      <td>10001</td>\n",
       "      <td>Serra Gaúcha</td>\n",
       "      <td>Casa Perini</td>\n",
       "      <td>...</td>\n",
       "      <td></td>\n",
       "      <td></td>\n",
       "      <td></td>\n",
       "      <td></td>\n",
       "      <td></td>\n",
       "      <td>Varietal</td>\n",
       "      <td>100%</td>\n",
       "      <td>Sparkling</td>\n",
       "      <td></td>\n",
       "      <td>Espumante Moscatel Mediumbodied High Brazil Se...</td>\n",
       "    </tr>\n",
       "    <tr>\n",
       "      <th>1</th>\n",
       "      <td>100002</td>\n",
       "      <td>Ancellotta</td>\n",
       "      <td>12.0</td>\n",
       "      <td>Mediumbodied</td>\n",
       "      <td>Medium</td>\n",
       "      <td>Brazil</td>\n",
       "      <td>1001</td>\n",
       "      <td>10001</td>\n",
       "      <td>Serra Gaúcha</td>\n",
       "      <td>Casa Perini</td>\n",
       "      <td>...</td>\n",
       "      <td></td>\n",
       "      <td></td>\n",
       "      <td></td>\n",
       "      <td></td>\n",
       "      <td></td>\n",
       "      <td>Varietal</td>\n",
       "      <td>100%</td>\n",
       "      <td>Red</td>\n",
       "      <td></td>\n",
       "      <td>Ancellotta Mediumbodied Medium Brazil Serra Ga...</td>\n",
       "    </tr>\n",
       "    <tr>\n",
       "      <th>2</th>\n",
       "      <td>100003</td>\n",
       "      <td>Cabernet Sauvignon</td>\n",
       "      <td>12.0</td>\n",
       "      <td>Fullbodied</td>\n",
       "      <td>High</td>\n",
       "      <td>Brazil</td>\n",
       "      <td>1001</td>\n",
       "      <td>10002</td>\n",
       "      <td>Serra Gaúcha</td>\n",
       "      <td>Castellamare</td>\n",
       "      <td>...</td>\n",
       "      <td></td>\n",
       "      <td></td>\n",
       "      <td></td>\n",
       "      <td></td>\n",
       "      <td></td>\n",
       "      <td>Varietal</td>\n",
       "      <td>100%</td>\n",
       "      <td>Red</td>\n",
       "      <td></td>\n",
       "      <td>Cabernet Sauvignon Fullbodied High Brazil Serr...</td>\n",
       "    </tr>\n",
       "    <tr>\n",
       "      <th>3</th>\n",
       "      <td>100005</td>\n",
       "      <td>Maison de Ville Cabernet Merlot</td>\n",
       "      <td>11.0</td>\n",
       "      <td>Fullbodied</td>\n",
       "      <td>Medium</td>\n",
       "      <td>Brazil</td>\n",
       "      <td>1001</td>\n",
       "      <td>10000</td>\n",
       "      <td>Serra Gaúcha</td>\n",
       "      <td>Aurora</td>\n",
       "      <td>...</td>\n",
       "      <td></td>\n",
       "      <td></td>\n",
       "      <td></td>\n",
       "      <td></td>\n",
       "      <td></td>\n",
       "      <td>Assemblage</td>\n",
       "      <td>Bordeaux Red Blend</td>\n",
       "      <td>Red</td>\n",
       "      <td></td>\n",
       "      <td>Maison de Ville Cabernet Merlot Fullbodied Med...</td>\n",
       "    </tr>\n",
       "    <tr>\n",
       "      <th>4</th>\n",
       "      <td>100007</td>\n",
       "      <td>Do Lugar Moscatel Espumantes</td>\n",
       "      <td>7.5</td>\n",
       "      <td>Mediumbodied</td>\n",
       "      <td>High</td>\n",
       "      <td>Brazil</td>\n",
       "      <td>1001</td>\n",
       "      <td>10012</td>\n",
       "      <td>Serra Gaúcha</td>\n",
       "      <td>Dal Pizzol</td>\n",
       "      <td>...</td>\n",
       "      <td></td>\n",
       "      <td></td>\n",
       "      <td></td>\n",
       "      <td></td>\n",
       "      <td></td>\n",
       "      <td>Varietal</td>\n",
       "      <td>100%</td>\n",
       "      <td>Sparkling</td>\n",
       "      <td></td>\n",
       "      <td>Do Lugar Moscatel Espumantes Mediumbodied High...</td>\n",
       "    </tr>\n",
       "  </tbody>\n",
       "</table>\n",
       "<p>5 rows × 36 columns</p>\n",
       "</div>"
      ],
      "text/plain": [
       "   WineID                         WineName   ABV          Body Acidity  \\\n",
       "0  100001               Espumante Moscatel   7.5  Mediumbodied    High   \n",
       "1  100002                       Ancellotta  12.0  Mediumbodied  Medium   \n",
       "2  100003               Cabernet Sauvignon  12.0    Fullbodied    High   \n",
       "3  100005  Maison de Ville Cabernet Merlot  11.0    Fullbodied  Medium   \n",
       "4  100007     Do Lugar Moscatel Espumantes   7.5  Mediumbodied    High   \n",
       "\n",
       "  Country  RegionID  WineryID    RegionName    WineryName  ... Grapes5  \\\n",
       "0  Brazil      1001     10001  Serra Gaúcha   Casa Perini  ...           \n",
       "1  Brazil      1001     10001  Serra Gaúcha   Casa Perini  ...           \n",
       "2  Brazil      1001     10002  Serra Gaúcha  Castellamare  ...           \n",
       "3  Brazil      1001     10000  Serra Gaúcha        Aurora  ...           \n",
       "4  Brazil      1001     10012  Serra Gaúcha    Dal Pizzol  ...           \n",
       "\n",
       "  Grapes6 Grapes7 Grapes8 Grapes9  Elaborate1          Elaborate2      Type1  \\\n",
       "0                                    Varietal                100%  Sparkling   \n",
       "1                                    Varietal                100%        Red   \n",
       "2                                    Varietal                100%        Red   \n",
       "3                                  Assemblage  Bordeaux Red Blend        Red   \n",
       "4                                    Varietal                100%  Sparkling   \n",
       "\n",
       "  Type2                                         Attributes  \n",
       "0        Espumante Moscatel Mediumbodied High Brazil Se...  \n",
       "1        Ancellotta Mediumbodied Medium Brazil Serra Ga...  \n",
       "2        Cabernet Sauvignon Fullbodied High Brazil Serr...  \n",
       "3        Maison de Ville Cabernet Merlot Fullbodied Med...  \n",
       "4        Do Lugar Moscatel Espumantes Mediumbodied High...  \n",
       "\n",
       "[5 rows x 36 columns]"
      ]
     },
     "execution_count": 166,
     "metadata": {},
     "output_type": "execute_result"
    }
   ],
   "source": [
    "initial_wines_df.head()"
   ]
  },
  {
   "cell_type": "code",
   "execution_count": 225,
   "metadata": {},
   "outputs": [],
   "source": [
    "import random\n",
    "import math\n",
    "import pandas as pd\n",
    "\n",
    "# Assuming 'ratings' and 'wines' DataFrames are already loaded and preprocessed as described\n",
    "\n",
    "# Define the functions as provided earlier\n",
    "\n",
    "def group_recommender_knn(users, wine_ids):\n",
    "    '''\n",
    "    Recommends wines for a group of users using KNN with average aggregation strategy.\n",
    "\n",
    "    @param users: List of user IDs.\n",
    "    @param wine_ids: List of wine IDs.\n",
    "    \n",
    "    @return: List of wines sorted by predicted group ratings.\n",
    "    '''\n",
    "    group_predictions = {}\n",
    "\n",
    "    # Predict ratings for each user in the group\n",
    "    user_ratings = {}\n",
    "    for user in users:\n",
    "        user_ratings[user] = predict_all_ratings(user)\n",
    "\n",
    "    # Aggregate predictions using the average strategy\n",
    "    for wine in wine_ids:\n",
    "        total_rating = 0\n",
    "        for user in users:\n",
    "            total_rating += user_ratings[user].get(wine, 0)\n",
    "        group_predictions[wine] = total_rating / len(users)\n",
    "\n",
    "    # Return sorted list of recommended wines for the group\n",
    "    recommended_wines = sorted(group_predictions.items(), key=lambda x: x[1], reverse=True)\n",
    "    return recommended_wines\n",
    "\n",
    "def generate_synthetic_groups(user_pool, group_sizes):\n",
    "    synthetic_groups = []\n",
    "\n",
    "    # Create groups of different sizes\n",
    "    for size in group_sizes:\n",
    "        group = random.sample(user_pool, size)\n",
    "        synthetic_groups.append(group)\n",
    "\n",
    "    return synthetic_groups\n",
    "\n",
    "def rmse_group(predictions, actual_ratings):\n",
    "    errors = [(predictions[wine] - actual_ratings[wine]) ** 2 for wine in actual_ratings]\n",
    "    mean_error = sum(errors) / len(errors)\n",
    "    return math.sqrt(mean_error)\n",
    "\n",
    "def evaluate_group_recommender(user_pool, wine_ids, actual_ratings, group_sizes):\n",
    "    synthetic_groups = generate_synthetic_groups(user_pool, group_sizes)\n",
    "\n",
    "    for group in synthetic_groups:\n",
    "        print(f\"Evaluating group of size {len(group)}:\")\n",
    "        predicted_ratings = group_recommender_knn(group, wine_ids)\n",
    "        rmse = rmse_group(dict(predicted_ratings), actual_ratings)\n",
    "        print(f\"Group RMSE: {rmse}\\n\")\n"
   ]
  },
  {
   "cell_type": "code",
   "execution_count": 226,
   "metadata": {},
   "outputs": [
    {
     "name": "stdout",
     "output_type": "stream",
     "text": [
      "Group 1 (size 2): [1139448, 1007540]\n",
      "Group 2 (size 3): [1252154, 1360632, 1273198]\n",
      "Group 3 (size 5): [1714244, 1104980, 1153366, 1001293, 1224795]\n",
      "Group 4 (size 10): [1396988, 1990629, 1358642, 1216696, 1135162, 1090213, 1360634, 1222202, 1280779, 1359715]\n",
      "\n",
      "Recommending wines for group 1 (size 2):\n",
      "Top 3 recommendations for group 1:\n",
      "WineID: 111544, Predicted Rating: 4.28, WineName: Dom Ruinart Blanc de Blancs Brut Champagne, ABV: 12.5, Body: Mediumbodied, Acidity: High, Country: France, RegionID: 1188, WineryID: 20584, RegionName: Champagne, WineryName: Ruinart, Harmonize1: Pork, Harmonize2: Rich Fish, Harmonize3: Shellfish, Harmonize4: Soft Cheese, Grapes1: Chardonnay, Elaborate1: Varietal, Elaborate2: 100%, Type1: Sparkling\n",
      "\n",
      "WineID: 113344, Predicted Rating: 4.27, WineName: Pure Extra Brut Champagne, ABV: 12.5, Body: Mediumbodied, Acidity: High, Country: France, RegionID: 1188, WineryID: 21702, RegionName: Champagne, WineryName: Pol Roger, Harmonize1: Pork, Harmonize2: Rich Fish, Harmonize3: Shellfish, Harmonize4: Soft Cheese, Grapes1: Pinot Meunier, Grapes2: Chardonnay, Grapes3: Pinot Noir, Elaborate1: Assemblage, Elaborate2: Champagne Blend, Type1: Sparkling\n",
      "\n",
      "WineID: 100064, Predicted Rating: 4.27, WineName: Réserve Brut, ABV: 12.0, Body: Mediumbodied, Acidity: High, Country: Brazil, RegionID: 1001, WineryID: 10051, RegionName: Serra Gaúcha, WineryName: CHANDON Brazil, Harmonize1: Pork, Harmonize2: Rich Fish, Harmonize3: Shellfish, Grapes1: Chardonnay, Elaborate1: Varietal, Elaborate2: 100%, Type1: Sparkling\n",
      "\n",
      "\n",
      "Recommending wines for group 2 (size 3):\n",
      "Top 3 recommendations for group 2:\n",
      "WineID: 155628, Predicted Rating: 3.83, WineName: Don PX Gran Reserva, ABV: 17.0, Body: Fullbodied, Acidity: Low, Country: Spain, RegionID: 1994, WineryID: 36405, RegionName: Montilla Moriles, WineryName: Toro Albalá, Harmonize1: Sweet Dessert, Harmonize2: Blue Cheese, Grapes1: Pedro Ximenez, Elaborate1: Varietal, Elaborate2: 100%, Type1: Dessert\n",
      "\n",
      "WineID: 154979, Predicted Rating: 3.79, WineName: Fior di Vigna Dolce Rosso, ABV: 4.0, Body: Fullbodied, Acidity: Low, Country: Italy, RegionID: 1618, WineryID: 44162, RegionName: Langhe, WineryName: Vallebelbo, Harmonize1: Chocolate, Harmonize2: Sweet Dessert, Harmonize3: Fruit, Grapes1: Brachetto, Elaborate1: Varietal, Elaborate2: 100%, Type1: Dessert\n",
      "\n",
      "WineID: 164250, Predicted Rating: 3.76, WineName: Guardian Reserva Chardonnay, ABV: 12.5, Body: Fullbodied, Acidity: High, Country: Chile, RegionID: 2266, WineryID: 39673, RegionName: Casablanca Valley, WineryName: Mancura, Harmonize1: Pork, Harmonize2: Rich Fish, Harmonize3: Vegetarian, Harmonize4: Poultry, Grapes1: Chardonnay, Elaborate1: Varietal, Elaborate2: 100%, Type1: White\n",
      "\n",
      "\n",
      "Recommending wines for group 3 (size 5):\n",
      "Top 3 recommendations for group 3:\n",
      "WineID: 179080, Predicted Rating: 4.29, WineName: Napa Valley Cabernet Sauvignon, ABV: 14.5, Body: Very fullbodied, Acidity: Medium, Country: United States, RegionID: 1848, WineryID: 52667, RegionName: Napa Valley, WineryName: Louis M  Martini, Harmonize1: Beef, Harmonize2: Lamb, Harmonize3: Game Meat, Harmonize4: Maturated Cheese, Harmonize5: Hard Cheese, Harmonize6: Poultry, Grapes1: Cabernet Sauvignon, Elaborate1: Varietal, Elaborate2: 100%, Type1: Red\n",
      "\n",
      "WineID: 183379, Predicted Rating: 4.27, WineName: Tychson Hill Vineyard Cabernet Sauvignon, ABV: 14.9, Body: Very fullbodied, Acidity: Medium, Country: United States, RegionID: 1848, WineryID: 57081, RegionName: Napa Valley, WineryName: Colgin, Harmonize1: Beef, Harmonize2: Lamb, Harmonize3: Game Meat, Harmonize4: Maturated Cheese, Harmonize5: Hard Cheese, Harmonize6: Poultry, Grapes1: Cabernet Sauvignon, Elaborate1: Varietal, Elaborate2: 100%, Type1: Red\n",
      "\n",
      "WineID: 183184, Predicted Rating: 4.27, WineName: Cabernet Sauvignon, ABV: 14.5, Body: Very fullbodied, Acidity: Medium, Country: United States, RegionID: 1848, WineryID: 56820, RegionName: Napa Valley, WineryName: Jericho Canyon Vineyard, Harmonize1: Beef, Harmonize2: Lamb, Harmonize3: Game Meat, Harmonize4: Maturated Cheese, Harmonize5: Hard Cheese, Harmonize6: Poultry, Grapes1: Cabernet Sauvignon, Elaborate1: Varietal, Elaborate2: 100%, Type1: Red\n",
      "\n",
      "\n",
      "Recommending wines for group 4 (size 10):\n",
      "Top 3 recommendations for group 4:\n",
      "WineID: 111417, Predicted Rating: 3.75, WineName: Pauillac  Grand Cru Classé , ABV: 14.5, Body: Fullbodied, Acidity: High, Country: France, RegionID: 1396, WineryID: 29231, RegionName: Pauillac, WineryName: Château Pichon Longueville Comtesse de Lalande, Harmonize1: Beef, Harmonize2: Lamb, Harmonize3: Game Meat, Harmonize4: Poultry, Grapes1: Cabernet Sauvignon, Grapes2: Merlot, Grapes3: Cabernet Franc, Grapes4: Petit Verdot, Elaborate1: Assemblage, Elaborate2: Blend, Type1: Red\n",
      "\n",
      "WineID: 112237, Predicted Rating: 3.75, WineName: Saint Émilion Grand Cru  Grand Cru Classé , ABV: 13.5, Body: Fullbodied, Acidity: Medium, Country: France, RegionID: 1446, WineryID: 31678, RegionName: Saint Émilion Grand Cru, WineryName: Château Yon Figeac, Harmonize1: Beef, Harmonize2: Lamb, Harmonize3: Game Meat, Harmonize4: Poultry, Grapes1: Merlot, Grapes2: Petit Verdot, Grapes3: Cabernet Franc, Elaborate1: Assemblage, Elaborate2: Blend, Type1: Red\n",
      "\n",
      "WineID: 111395, Predicted Rating: 3.75, WineName: Pauillac  Premier Grand Cru Classé , ABV: 13.0, Body: Fullbodied, Acidity: High, Country: France, RegionID: 1396, WineryID: 29244, RegionName: Pauillac, WineryName: Château Mouton Rothschild, Harmonize1: Beef, Harmonize2: Lamb, Harmonize3: Game Meat, Harmonize4: Poultry, Grapes1: Cabernet Sauvignon, Grapes2: Cabernet Franc, Grapes3: Merlot, Grapes4: Petit Verdot, Elaborate1: Assemblage, Elaborate2: Blend, Type1: Red\n",
      "\n"
     ]
    }
   ],
   "source": [
    "# Assuming 'user_pool' is a list of users, 'wine_ids' is a list of wine IDs,\n",
    "# 'actual_ratings' is a dictionary of actual ratings for evaluation purposes\n",
    "\n",
    "user_pool = ratings['UserID'].unique().tolist()  # List of all users\n",
    "wine_ids = ratings['WineID'].unique().tolist()   # List of all wine IDs\n",
    "actual_ratings = {wine: ratings[ratings['WineID'] == wine]['Rating'].mean() for wine in wine_ids}  # Dictionary with actual ratings for each wine\n",
    "group_sizes = [2, 3, 5, 10]  # Test with group sizes of 2, 3, 5, and 10 users\n",
    "\n",
    "# Generate synthetic groups of users\n",
    "synthetic_groups = generate_synthetic_groups(user_pool, group_sizes)\n",
    "\n",
    "# Display the generated groups\n",
    "for i, group in enumerate(synthetic_groups):\n",
    "    print(f\"Group {i+1} (size {len(group)}): {group}\")\n",
    "\n",
    "# Predict group ratings using the KNN recommender\n",
    "for i, group in enumerate(synthetic_groups):\n",
    "    print(f\"\\nRecommending wines for group {i+1} (size {len(group)}):\")\n",
    "    predicted_ratings = group_recommender_knn(group, wine_ids)\n",
    "    \n",
    "    # Display the top 3 recommended wines for the group\n",
    "    top_recommendations = predicted_ratings[:3]\n",
    "    print(f\"Top 3 recommendations for group {i+1}:\")\n",
    "    for wine_id, rating in top_recommendations:\n",
    "        \n",
    "        # Access the wine details from the original wines DataFrame\n",
    "        wine_details = initial_wines_df[initial_wines_df['WineID'] == wine_id].iloc[0]\n",
    "        \n",
    "        # # Print the wine details\n",
    "        # print(f\"WineID: {wine_id}, Predicted Rating: {rating:.2f}, WineName: {wine_details['WineName']}, Type: {wine_details['Type1']}, Region: {wine_details['RegionName']}, Winery: {wine_details['WineryName']}\")\n",
    "        \n",
    "        # Concatenate the wine details into one string\n",
    "        details = f\"WineID: {wine_id}, Predicted Rating: {rating:.2f}\"\n",
    "        for column in initial_wines_df.columns:\n",
    "            if column not in ['WineID', 'Attributes'] and pd.notna(wine_details[column]) and wine_details[column] != '':\n",
    "                details += f\", {column}: {wine_details[column]}\"\n",
    "        \n",
    "        # Print the concatenated details\n",
    "        print(details)\n",
    "        print()  # Add a blank line for better readability"
   ]
  },
  {
   "cell_type": "code",
   "execution_count": 227,
   "metadata": {},
   "outputs": [
    {
     "name": "stdout",
     "output_type": "stream",
     "text": [
      "Evaluating group of size 2:\n",
      "Group RMSE: 0.748035541695782\n",
      "\n",
      "Evaluating group of size 3:\n",
      "Group RMSE: 0.5955780738558727\n",
      "\n",
      "Evaluating group of size 5:\n",
      "Group RMSE: 0.48147363603774707\n",
      "\n",
      "Evaluating group of size 10:\n",
      "Group RMSE: 0.5528019330237622\n",
      "\n"
     ]
    }
   ],
   "source": [
    "# Evaluate the group recommender system\n",
    "evaluate_group_recommender(user_pool, wine_ids, actual_ratings, group_sizes)"
   ]
  },
  {
   "cell_type": "markdown",
   "metadata": {},
   "source": [
    "asdaksjd\n"
   ]
  },
  {
   "cell_type": "code",
   "execution_count": 219,
   "metadata": {},
   "outputs": [
    {
     "name": "stdout",
     "output_type": "stream",
     "text": [
      "Training set size: (120182, 6)\n",
      "Test set size: (29818, 6)\n",
      "Fold RMSE: 0.6549951425949024, F1: 0.9019636549969805\n",
      "Fold RMSE: 0.651390180810434, F1: 0.9083366689712893\n",
      "Fold RMSE: 0.6552810320691294, F1: 0.9070042808998998\n",
      "Fold RMSE: 0.6459695353288084, F1: 0.9033283983111257\n",
      "Fold RMSE: 0.6440909097324693, F1: 0.9071038251366119\n",
      "Average RMSE across 5 folds: 0.6503453601071486\n",
      "Average F1 across 5 folds: 0.9055473656631815\n"
     ]
    },
    {
     "data": {
      "image/png": "[encoded data removed]",
      "text/plain": [
       "<Figure size 1000x500 with 2 Axes>"
      ]
     },
     "metadata": {},
     "output_type": "display_data"
    }
   ],
   "source": [
    "def cross_validate_with_metrics_groupwise(ratings, k_folds=5, k=5, threshold=3.5):\n",
    "    '''\n",
    "    Perform group-wise k-fold cross-validation on the ratings data and calculate multiple evaluation metrics.\n",
    "\n",
    "    @param ratings: DataFrame containing the ratings data with 'UserID' column\n",
    "    @param k_folds: int, number of folds for cross-validation (default: 5)\n",
    "    @param k: int, number of nearest neighbors to use in prediction (default: 5)\n",
    "    @param threshold: float, threshold for binary classification in F1 score calculation (default: 3.5)\n",
    "    @return: None (prints and plots RMSE and F1 scores for each fold and their averages)\n",
    "    '''\n",
    "    gkf = GroupKFold(n_splits=k_folds)\n",
    "    rmse_scores = []\n",
    "    f1_scores = []\n",
    "    \n",
    "    for train_idx, test_idx in gkf.split(ratings, groups=ratings['UserID']):\n",
    "        train_ratings_fold = ratings.iloc[train_idx].reset_index(drop=True)\n",
    "        test_ratings_fold = ratings.iloc[test_idx].reset_index(drop=True)\n",
    "        \n",
    "        predicted, true = predict_test_set_ratings(test_ratings_fold, train_ratings_fold, k)\n",
    "        \n",
    "        # Handle any remaining NaNs\n",
    "        if np.isnan(predicted).sum() > 0:\n",
    "            user_means = train_ratings_fold.groupby('UserID')['Rating'].mean().to_dict()\n",
    "            predicted = [user_means.get(uid, train_ratings_fold['Rating'].mean()) \n",
    "                         if np.isnan(r) else r for r, uid in zip(predicted, test_ratings_fold['UserID'])]\n",
    "            predicted = np.array(predicted)\n",
    "        \n",
    "        rmse = calculate_rmse(predicted, true)\n",
    "        _, _, f1 = calculate_precision_recall_f1(predicted, true, threshold)\n",
    "        \n",
    "        rmse_scores.append(rmse)\n",
    "        f1_scores.append(f1)\n",
    "        \n",
    "        print(f\"Fold RMSE: {rmse}, F1: {f1}\")\n",
    "    \n",
    "    print(f\"Average RMSE across {k_folds} folds: {np.mean(rmse_scores)}\")\n",
    "    print(f\"Average F1 across {k_folds} folds: {np.mean(f1_scores)}\")\n",
    "    \n",
    "    # Plotting the results\n",
    "    plt.figure(figsize=(10, 5))\n",
    "\n",
    "    plt.subplot(1, 2, 1)\n",
    "    plt.plot(rmse_scores, marker='o')\n",
    "    plt.title('RMSE Scores')\n",
    "    plt.xlabel('Fold')\n",
    "    plt.ylabel('RMSE')\n",
    "\n",
    "    plt.subplot(1, 2, 2)\n",
    "    plt.plot(f1_scores, marker='o', color='red')\n",
    "    plt.title('F1 Scores')\n",
    "    plt.xlabel('Fold') \n",
    "    plt.ylabel('F1 Score')\n",
    "\n",
    "    plt.tight_layout()\n",
    "    plt.show()\n",
    "\n",
    "# Perform the group-wise split\n",
    "train_ratings, test_ratings = split_ratings_groupwise(ratings, test_size=0.2)\n",
    "\n",
    "print(f\"Training set size: {train_ratings.shape}\")\n",
    "print(f\"Test set size: {test_ratings.shape}\")\n",
    "\n",
    "# Evaluate the group recommender system\n",
    "cross_validate_with_metrics_groupwise(ratings, k_folds=5, k=5, threshold=3.5)"
   ]
  }
 ],
 "metadata": {
  "kernelspec": {
   "display_name": "cuda8",
   "language": "python",
   "name": "python3"
  },
  "language_info": {
   "codemirror_mode": {
    "name": "ipython",
    "version": 3
   },
   "file_extension": ".py",
   "mimetype": "text/x-python",
   "name": "python",
   "nbconvert_exporter": "python",
   "pygments_lexer": "ipython3",
   "version": "3.8.19"
  }
 },
 "nbformat": 4,
 "nbformat_minor": 2
}
