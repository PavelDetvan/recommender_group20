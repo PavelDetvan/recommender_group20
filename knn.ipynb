{
 "cells": [
  {
   "cell_type": "code",
   "execution_count": 52,
   "metadata": {},
   "outputs": [],
   "source": [
    "import pandas as pd\n",
    "import numpy as np"
   ]
  },
  {
   "cell_type": "code",
   "execution_count": 53,
   "metadata": {},
   "outputs": [
    {
     "ename": "FileNotFoundError",
     "evalue": "[Errno 2] No such file or directory: 'XWines_Slim_1K_wines_150K_ratings\\\\XWines_Slim_1K_wines.csv'",
     "output_type": "error",
     "traceback": [
      "\u001b[1;31m---------------------------------------------------------------------------\u001b[0m",
      "\u001b[1;31mFileNotFoundError\u001b[0m                         Traceback (most recent call last)",
      "Cell \u001b[1;32mIn[53], line 1\u001b[0m\n\u001b[1;32m----> 1\u001b[0m wines \u001b[38;5;241m=\u001b[39m \u001b[43mpd\u001b[49m\u001b[38;5;241;43m.\u001b[39;49m\u001b[43mread_csv\u001b[49m\u001b[43m(\u001b[49m\u001b[38;5;124;43m\"\u001b[39;49m\u001b[38;5;124;43mXWines_Slim_1K_wines_150K_ratings\u001b[39;49m\u001b[38;5;124;43m\\\u001b[39;49m\u001b[38;5;124;43mXWines_Slim_1K_wines.csv\u001b[39;49m\u001b[38;5;124;43m\"\u001b[39;49m\u001b[43m,\u001b[49m\u001b[43m \u001b[49m\u001b[43mencoding\u001b[49m\u001b[38;5;241;43m=\u001b[39;49m\u001b[38;5;124;43m\"\u001b[39;49m\u001b[38;5;124;43mutf-8\u001b[39;49m\u001b[38;5;124;43m\"\u001b[39;49m\u001b[43m)\u001b[49m\n\u001b[0;32m      2\u001b[0m ratings \u001b[38;5;241m=\u001b[39m pd\u001b[38;5;241m.\u001b[39mread_csv(\u001b[38;5;124m\"\u001b[39m\u001b[38;5;124mXWines_Slim_1K_wines_150K_ratings\u001b[39m\u001b[38;5;124m\\\u001b[39m\u001b[38;5;124mXWines_Slim_150K_ratings.csv\u001b[39m\u001b[38;5;124m\"\u001b[39m, low_memory\u001b[38;5;241m=\u001b[39m\u001b[38;5;28;01mFalse\u001b[39;00m)\n\u001b[0;32m      4\u001b[0m \u001b[38;5;66;03m# wines = pd.read_csv(\"All-XWines_Full_100K_wines_21M_ratings\\XWines_Full_100K_wines.csv\", encoding=\"utf-8\")\u001b[39;00m\n\u001b[0;32m      5\u001b[0m \u001b[38;5;66;03m# ratings = pd.read_csv(\"All-XWines_Full_100K_wines_21M_ratings\\XWines_Full_21M_ratings.csv\", low_memory=False)\u001b[39;00m\n",
      "File \u001b[1;32mc:\\Users\\Martin\\anaconda3\\envs\\cuda_test\\lib\\site-packages\\pandas\\io\\parsers\\readers.py:912\u001b[0m, in \u001b[0;36mread_csv\u001b[1;34m(filepath_or_buffer, sep, delimiter, header, names, index_col, usecols, dtype, engine, converters, true_values, false_values, skipinitialspace, skiprows, skipfooter, nrows, na_values, keep_default_na, na_filter, verbose, skip_blank_lines, parse_dates, infer_datetime_format, keep_date_col, date_parser, date_format, dayfirst, cache_dates, iterator, chunksize, compression, thousands, decimal, lineterminator, quotechar, quoting, doublequote, escapechar, comment, encoding, encoding_errors, dialect, on_bad_lines, delim_whitespace, low_memory, memory_map, float_precision, storage_options, dtype_backend)\u001b[0m\n\u001b[0;32m    899\u001b[0m kwds_defaults \u001b[38;5;241m=\u001b[39m _refine_defaults_read(\n\u001b[0;32m    900\u001b[0m     dialect,\n\u001b[0;32m    901\u001b[0m     delimiter,\n\u001b[1;32m   (...)\u001b[0m\n\u001b[0;32m    908\u001b[0m     dtype_backend\u001b[38;5;241m=\u001b[39mdtype_backend,\n\u001b[0;32m    909\u001b[0m )\n\u001b[0;32m    910\u001b[0m kwds\u001b[38;5;241m.\u001b[39mupdate(kwds_defaults)\n\u001b[1;32m--> 912\u001b[0m \u001b[38;5;28;01mreturn\u001b[39;00m \u001b[43m_read\u001b[49m\u001b[43m(\u001b[49m\u001b[43mfilepath_or_buffer\u001b[49m\u001b[43m,\u001b[49m\u001b[43m \u001b[49m\u001b[43mkwds\u001b[49m\u001b[43m)\u001b[49m\n",
      "File \u001b[1;32mc:\\Users\\Martin\\anaconda3\\envs\\cuda_test\\lib\\site-packages\\pandas\\io\\parsers\\readers.py:577\u001b[0m, in \u001b[0;36m_read\u001b[1;34m(filepath_or_buffer, kwds)\u001b[0m\n\u001b[0;32m    574\u001b[0m _validate_names(kwds\u001b[38;5;241m.\u001b[39mget(\u001b[38;5;124m\"\u001b[39m\u001b[38;5;124mnames\u001b[39m\u001b[38;5;124m\"\u001b[39m, \u001b[38;5;28;01mNone\u001b[39;00m))\n\u001b[0;32m    576\u001b[0m \u001b[38;5;66;03m# Create the parser.\u001b[39;00m\n\u001b[1;32m--> 577\u001b[0m parser \u001b[38;5;241m=\u001b[39m \u001b[43mTextFileReader\u001b[49m\u001b[43m(\u001b[49m\u001b[43mfilepath_or_buffer\u001b[49m\u001b[43m,\u001b[49m\u001b[43m \u001b[49m\u001b[38;5;241;43m*\u001b[39;49m\u001b[38;5;241;43m*\u001b[39;49m\u001b[43mkwds\u001b[49m\u001b[43m)\u001b[49m\n\u001b[0;32m    579\u001b[0m \u001b[38;5;28;01mif\u001b[39;00m chunksize \u001b[38;5;129;01mor\u001b[39;00m iterator:\n\u001b[0;32m    580\u001b[0m     \u001b[38;5;28;01mreturn\u001b[39;00m parser\n",
      "File \u001b[1;32mc:\\Users\\Martin\\anaconda3\\envs\\cuda_test\\lib\\site-packages\\pandas\\io\\parsers\\readers.py:1407\u001b[0m, in \u001b[0;36mTextFileReader.__init__\u001b[1;34m(self, f, engine, **kwds)\u001b[0m\n\u001b[0;32m   1404\u001b[0m     \u001b[38;5;28mself\u001b[39m\u001b[38;5;241m.\u001b[39moptions[\u001b[38;5;124m\"\u001b[39m\u001b[38;5;124mhas_index_names\u001b[39m\u001b[38;5;124m\"\u001b[39m] \u001b[38;5;241m=\u001b[39m kwds[\u001b[38;5;124m\"\u001b[39m\u001b[38;5;124mhas_index_names\u001b[39m\u001b[38;5;124m\"\u001b[39m]\n\u001b[0;32m   1406\u001b[0m \u001b[38;5;28mself\u001b[39m\u001b[38;5;241m.\u001b[39mhandles: IOHandles \u001b[38;5;241m|\u001b[39m \u001b[38;5;28;01mNone\u001b[39;00m \u001b[38;5;241m=\u001b[39m \u001b[38;5;28;01mNone\u001b[39;00m\n\u001b[1;32m-> 1407\u001b[0m \u001b[38;5;28mself\u001b[39m\u001b[38;5;241m.\u001b[39m_engine \u001b[38;5;241m=\u001b[39m \u001b[38;5;28;43mself\u001b[39;49m\u001b[38;5;241;43m.\u001b[39;49m\u001b[43m_make_engine\u001b[49m\u001b[43m(\u001b[49m\u001b[43mf\u001b[49m\u001b[43m,\u001b[49m\u001b[43m \u001b[49m\u001b[38;5;28;43mself\u001b[39;49m\u001b[38;5;241;43m.\u001b[39;49m\u001b[43mengine\u001b[49m\u001b[43m)\u001b[49m\n",
      "File \u001b[1;32mc:\\Users\\Martin\\anaconda3\\envs\\cuda_test\\lib\\site-packages\\pandas\\io\\parsers\\readers.py:1661\u001b[0m, in \u001b[0;36mTextFileReader._make_engine\u001b[1;34m(self, f, engine)\u001b[0m\n\u001b[0;32m   1659\u001b[0m     \u001b[38;5;28;01mif\u001b[39;00m \u001b[38;5;124m\"\u001b[39m\u001b[38;5;124mb\u001b[39m\u001b[38;5;124m\"\u001b[39m \u001b[38;5;129;01mnot\u001b[39;00m \u001b[38;5;129;01min\u001b[39;00m mode:\n\u001b[0;32m   1660\u001b[0m         mode \u001b[38;5;241m+\u001b[39m\u001b[38;5;241m=\u001b[39m \u001b[38;5;124m\"\u001b[39m\u001b[38;5;124mb\u001b[39m\u001b[38;5;124m\"\u001b[39m\n\u001b[1;32m-> 1661\u001b[0m \u001b[38;5;28mself\u001b[39m\u001b[38;5;241m.\u001b[39mhandles \u001b[38;5;241m=\u001b[39m \u001b[43mget_handle\u001b[49m\u001b[43m(\u001b[49m\n\u001b[0;32m   1662\u001b[0m \u001b[43m    \u001b[49m\u001b[43mf\u001b[49m\u001b[43m,\u001b[49m\n\u001b[0;32m   1663\u001b[0m \u001b[43m    \u001b[49m\u001b[43mmode\u001b[49m\u001b[43m,\u001b[49m\n\u001b[0;32m   1664\u001b[0m \u001b[43m    \u001b[49m\u001b[43mencoding\u001b[49m\u001b[38;5;241;43m=\u001b[39;49m\u001b[38;5;28;43mself\u001b[39;49m\u001b[38;5;241;43m.\u001b[39;49m\u001b[43moptions\u001b[49m\u001b[38;5;241;43m.\u001b[39;49m\u001b[43mget\u001b[49m\u001b[43m(\u001b[49m\u001b[38;5;124;43m\"\u001b[39;49m\u001b[38;5;124;43mencoding\u001b[39;49m\u001b[38;5;124;43m\"\u001b[39;49m\u001b[43m,\u001b[49m\u001b[43m \u001b[49m\u001b[38;5;28;43;01mNone\u001b[39;49;00m\u001b[43m)\u001b[49m\u001b[43m,\u001b[49m\n\u001b[0;32m   1665\u001b[0m \u001b[43m    \u001b[49m\u001b[43mcompression\u001b[49m\u001b[38;5;241;43m=\u001b[39;49m\u001b[38;5;28;43mself\u001b[39;49m\u001b[38;5;241;43m.\u001b[39;49m\u001b[43moptions\u001b[49m\u001b[38;5;241;43m.\u001b[39;49m\u001b[43mget\u001b[49m\u001b[43m(\u001b[49m\u001b[38;5;124;43m\"\u001b[39;49m\u001b[38;5;124;43mcompression\u001b[39;49m\u001b[38;5;124;43m\"\u001b[39;49m\u001b[43m,\u001b[49m\u001b[43m \u001b[49m\u001b[38;5;28;43;01mNone\u001b[39;49;00m\u001b[43m)\u001b[49m\u001b[43m,\u001b[49m\n\u001b[0;32m   1666\u001b[0m \u001b[43m    \u001b[49m\u001b[43mmemory_map\u001b[49m\u001b[38;5;241;43m=\u001b[39;49m\u001b[38;5;28;43mself\u001b[39;49m\u001b[38;5;241;43m.\u001b[39;49m\u001b[43moptions\u001b[49m\u001b[38;5;241;43m.\u001b[39;49m\u001b[43mget\u001b[49m\u001b[43m(\u001b[49m\u001b[38;5;124;43m\"\u001b[39;49m\u001b[38;5;124;43mmemory_map\u001b[39;49m\u001b[38;5;124;43m\"\u001b[39;49m\u001b[43m,\u001b[49m\u001b[43m \u001b[49m\u001b[38;5;28;43;01mFalse\u001b[39;49;00m\u001b[43m)\u001b[49m\u001b[43m,\u001b[49m\n\u001b[0;32m   1667\u001b[0m \u001b[43m    \u001b[49m\u001b[43mis_text\u001b[49m\u001b[38;5;241;43m=\u001b[39;49m\u001b[43mis_text\u001b[49m\u001b[43m,\u001b[49m\n\u001b[0;32m   1668\u001b[0m \u001b[43m    \u001b[49m\u001b[43merrors\u001b[49m\u001b[38;5;241;43m=\u001b[39;49m\u001b[38;5;28;43mself\u001b[39;49m\u001b[38;5;241;43m.\u001b[39;49m\u001b[43moptions\u001b[49m\u001b[38;5;241;43m.\u001b[39;49m\u001b[43mget\u001b[49m\u001b[43m(\u001b[49m\u001b[38;5;124;43m\"\u001b[39;49m\u001b[38;5;124;43mencoding_errors\u001b[39;49m\u001b[38;5;124;43m\"\u001b[39;49m\u001b[43m,\u001b[49m\u001b[43m \u001b[49m\u001b[38;5;124;43m\"\u001b[39;49m\u001b[38;5;124;43mstrict\u001b[39;49m\u001b[38;5;124;43m\"\u001b[39;49m\u001b[43m)\u001b[49m\u001b[43m,\u001b[49m\n\u001b[0;32m   1669\u001b[0m \u001b[43m    \u001b[49m\u001b[43mstorage_options\u001b[49m\u001b[38;5;241;43m=\u001b[39;49m\u001b[38;5;28;43mself\u001b[39;49m\u001b[38;5;241;43m.\u001b[39;49m\u001b[43moptions\u001b[49m\u001b[38;5;241;43m.\u001b[39;49m\u001b[43mget\u001b[49m\u001b[43m(\u001b[49m\u001b[38;5;124;43m\"\u001b[39;49m\u001b[38;5;124;43mstorage_options\u001b[39;49m\u001b[38;5;124;43m\"\u001b[39;49m\u001b[43m,\u001b[49m\u001b[43m \u001b[49m\u001b[38;5;28;43;01mNone\u001b[39;49;00m\u001b[43m)\u001b[49m\u001b[43m,\u001b[49m\n\u001b[0;32m   1670\u001b[0m \u001b[43m\u001b[49m\u001b[43m)\u001b[49m\n\u001b[0;32m   1671\u001b[0m \u001b[38;5;28;01massert\u001b[39;00m \u001b[38;5;28mself\u001b[39m\u001b[38;5;241m.\u001b[39mhandles \u001b[38;5;129;01mis\u001b[39;00m \u001b[38;5;129;01mnot\u001b[39;00m \u001b[38;5;28;01mNone\u001b[39;00m\n\u001b[0;32m   1672\u001b[0m f \u001b[38;5;241m=\u001b[39m \u001b[38;5;28mself\u001b[39m\u001b[38;5;241m.\u001b[39mhandles\u001b[38;5;241m.\u001b[39mhandle\n",
      "File \u001b[1;32mc:\\Users\\Martin\\anaconda3\\envs\\cuda_test\\lib\\site-packages\\pandas\\io\\common.py:868\u001b[0m, in \u001b[0;36mget_handle\u001b[1;34m(path_or_buf, mode, encoding, compression, memory_map, is_text, errors, storage_options)\u001b[0m\n\u001b[0;32m    859\u001b[0m         handle \u001b[38;5;241m=\u001b[39m \u001b[38;5;28mopen\u001b[39m(\n\u001b[0;32m    860\u001b[0m             handle,\n\u001b[0;32m    861\u001b[0m             ioargs\u001b[38;5;241m.\u001b[39mmode,\n\u001b[1;32m   (...)\u001b[0m\n\u001b[0;32m    864\u001b[0m             newline\u001b[38;5;241m=\u001b[39m\u001b[38;5;124m\"\u001b[39m\u001b[38;5;124m\"\u001b[39m,\n\u001b[0;32m    865\u001b[0m         )\n\u001b[0;32m    866\u001b[0m     \u001b[38;5;28;01melse\u001b[39;00m:\n\u001b[0;32m    867\u001b[0m         \u001b[38;5;66;03m# Binary mode\u001b[39;00m\n\u001b[1;32m--> 868\u001b[0m         handle \u001b[38;5;241m=\u001b[39m \u001b[38;5;28;43mopen\u001b[39;49m\u001b[43m(\u001b[49m\u001b[43mhandle\u001b[49m\u001b[43m,\u001b[49m\u001b[43m \u001b[49m\u001b[43mioargs\u001b[49m\u001b[38;5;241;43m.\u001b[39;49m\u001b[43mmode\u001b[49m\u001b[43m)\u001b[49m\n\u001b[0;32m    869\u001b[0m     handles\u001b[38;5;241m.\u001b[39mappend(handle)\n\u001b[0;32m    871\u001b[0m \u001b[38;5;66;03m# Convert BytesIO or file objects passed with an encoding\u001b[39;00m\n",
      "\u001b[1;31mFileNotFoundError\u001b[0m: [Errno 2] No such file or directory: 'XWines_Slim_1K_wines_150K_ratings\\\\XWines_Slim_1K_wines.csv'"
     ]
    }
   ],
   "source": [
    "wines = pd.read_csv(\"XWines_Slim_1K_wines_150K_ratings\\XWines_Slim_1K_wines.csv\", encoding=\"utf-8\")\n",
    "ratings = pd.read_csv(\"XWines_Slim_1K_wines_150K_ratings\\XWines_Slim_150K_ratings.csv\", low_memory=False)\n",
    "\n",
    "# wines = pd.read_csv(\"All-XWines_Full_100K_wines_21M_ratings\\XWines_Full_100K_wines.csv\", encoding=\"utf-8\")\n",
    "# ratings = pd.read_csv(\"All-XWines_Full_100K_wines_21M_ratings\\XWines_Full_21M_ratings.csv\", low_memory=False)"
   ]
  },
  {
   "cell_type": "code",
   "execution_count": 170,
   "metadata": {},
   "outputs": [
    {
     "data": {
      "text/html": [
       "<div>\n",
       "<style scoped>\n",
       "    .dataframe tbody tr th:only-of-type {\n",
       "        vertical-align: middle;\n",
       "    }\n",
       "\n",
       "    .dataframe tbody tr th {\n",
       "        vertical-align: top;\n",
       "    }\n",
       "\n",
       "    .dataframe thead th {\n",
       "        text-align: right;\n",
       "    }\n",
       "</style>\n",
       "<table border=\"1\" class=\"dataframe\">\n",
       "  <thead>\n",
       "    <tr style=\"text-align: right;\">\n",
       "      <th></th>\n",
       "      <th>WineID</th>\n",
       "      <th>WineName</th>\n",
       "      <th>Type</th>\n",
       "      <th>Elaborate</th>\n",
       "      <th>Grapes</th>\n",
       "      <th>Harmonize</th>\n",
       "      <th>ABV</th>\n",
       "      <th>Body</th>\n",
       "      <th>Acidity</th>\n",
       "      <th>Code</th>\n",
       "      <th>Country</th>\n",
       "      <th>RegionID</th>\n",
       "      <th>RegionName</th>\n",
       "      <th>WineryID</th>\n",
       "      <th>WineryName</th>\n",
       "      <th>Website</th>\n",
       "      <th>Vintages</th>\n",
       "    </tr>\n",
       "  </thead>\n",
       "  <tbody>\n",
       "    <tr>\n",
       "      <th>0</th>\n",
       "      <td>100001</td>\n",
       "      <td>Espumante Moscatel</td>\n",
       "      <td>Sparkling</td>\n",
       "      <td>Varietal/100%</td>\n",
       "      <td>['Muscat/Moscato']</td>\n",
       "      <td>['Pork', 'Rich Fish', 'Shellfish']</td>\n",
       "      <td>7.5</td>\n",
       "      <td>Medium-bodied</td>\n",
       "      <td>High</td>\n",
       "      <td>BR</td>\n",
       "      <td>Brazil</td>\n",
       "      <td>1001</td>\n",
       "      <td>Serra Gaúcha</td>\n",
       "      <td>10001</td>\n",
       "      <td>Casa Perini</td>\n",
       "      <td>http://www.vinicolaperini.com.br</td>\n",
       "      <td>[2020, 2019, 2018, 2017, 2016, 2015, 2014, 201...</td>\n",
       "    </tr>\n",
       "    <tr>\n",
       "      <th>1</th>\n",
       "      <td>100002</td>\n",
       "      <td>Ancellotta</td>\n",
       "      <td>Red</td>\n",
       "      <td>Varietal/100%</td>\n",
       "      <td>['Ancellotta']</td>\n",
       "      <td>['Beef', 'Barbecue', 'Codfish', 'Pasta', 'Pizz...</td>\n",
       "      <td>12.0</td>\n",
       "      <td>Medium-bodied</td>\n",
       "      <td>Medium</td>\n",
       "      <td>BR</td>\n",
       "      <td>Brazil</td>\n",
       "      <td>1001</td>\n",
       "      <td>Serra Gaúcha</td>\n",
       "      <td>10001</td>\n",
       "      <td>Casa Perini</td>\n",
       "      <td>http://www.vinicolaperini.com.br</td>\n",
       "      <td>[2016, 2015, 2014, 2013, 2012, 2011, 2010, 200...</td>\n",
       "    </tr>\n",
       "  </tbody>\n",
       "</table>\n",
       "</div>"
      ],
      "text/plain": [
       "   WineID            WineName       Type      Elaborate              Grapes  \\\n",
       "0  100001  Espumante Moscatel  Sparkling  Varietal/100%  ['Muscat/Moscato']   \n",
       "1  100002          Ancellotta        Red  Varietal/100%      ['Ancellotta']   \n",
       "\n",
       "                                           Harmonize   ABV           Body  \\\n",
       "0                 ['Pork', 'Rich Fish', 'Shellfish']   7.5  Medium-bodied   \n",
       "1  ['Beef', 'Barbecue', 'Codfish', 'Pasta', 'Pizz...  12.0  Medium-bodied   \n",
       "\n",
       "  Acidity Code Country  RegionID    RegionName  WineryID   WineryName  \\\n",
       "0    High   BR  Brazil      1001  Serra Gaúcha     10001  Casa Perini   \n",
       "1  Medium   BR  Brazil      1001  Serra Gaúcha     10001  Casa Perini   \n",
       "\n",
       "                            Website  \\\n",
       "0  http://www.vinicolaperini.com.br   \n",
       "1  http://www.vinicolaperini.com.br   \n",
       "\n",
       "                                            Vintages  \n",
       "0  [2020, 2019, 2018, 2017, 2016, 2015, 2014, 201...  \n",
       "1  [2016, 2015, 2014, 2013, 2012, 2011, 2010, 200...  "
      ]
     },
     "execution_count": 170,
     "metadata": {},
     "output_type": "execute_result"
    }
   ],
   "source": [
    "wines.head(2)"
   ]
  },
  {
   "cell_type": "code",
   "execution_count": 171,
   "metadata": {},
   "outputs": [
    {
     "data": {
      "text/plain": [
       "Index(['WineID', 'WineName', 'Type', 'Elaborate', 'Grapes', 'Harmonize', 'ABV',\n",
       "       'Body', 'Acidity', 'Code', 'Country', 'RegionID', 'RegionName',\n",
       "       'WineryID', 'WineryName', 'Website', 'Vintages'],\n",
       "      dtype='object')"
      ]
     },
     "execution_count": 171,
     "metadata": {},
     "output_type": "execute_result"
    }
   ],
   "source": [
    "wines.columns"
   ]
  },
  {
   "cell_type": "code",
   "execution_count": 172,
   "metadata": {},
   "outputs": [
    {
     "name": "stdout",
     "output_type": "stream",
     "text": [
      "<class 'pandas.core.frame.DataFrame'>\n",
      "RangeIndex: 1007 entries, 0 to 1006\n",
      "Data columns (total 17 columns):\n",
      " #   Column      Non-Null Count  Dtype  \n",
      "---  ------      --------------  -----  \n",
      " 0   WineID      1007 non-null   int64  \n",
      " 1   WineName    1007 non-null   object \n",
      " 2   Type        1007 non-null   object \n",
      " 3   Elaborate   1007 non-null   object \n",
      " 4   Grapes      1007 non-null   object \n",
      " 5   Harmonize   1007 non-null   object \n",
      " 6   ABV         1007 non-null   float64\n",
      " 7   Body        1007 non-null   object \n",
      " 8   Acidity     1007 non-null   object \n",
      " 9   Code        1007 non-null   object \n",
      " 10  Country     1007 non-null   object \n",
      " 11  RegionID    1007 non-null   int64  \n",
      " 12  RegionName  1007 non-null   object \n",
      " 13  WineryID    1007 non-null   int64  \n",
      " 14  WineryName  1007 non-null   object \n",
      " 15  Website     900 non-null    object \n",
      " 16  Vintages    1007 non-null   object \n",
      "dtypes: float64(1), int64(3), object(13)\n",
      "memory usage: 133.9+ KB\n"
     ]
    }
   ],
   "source": [
    "wines.info()"
   ]
  },
  {
   "cell_type": "code",
   "execution_count": 173,
   "metadata": {},
   "outputs": [],
   "source": [
    "wines = wines[\n",
    "    [\n",
    "        \"WineID\",\n",
    "        \"WineName\",\n",
    "        \"Type\",\n",
    "        \"Elaborate\",\n",
    "        \"Grapes\",\n",
    "        \"Harmonize\",\n",
    "        \"ABV\",\n",
    "        \"Body\",\n",
    "        \"Acidity\",\n",
    "        \"Country\",\n",
    "        \"RegionID\",\n",
    "        \"WineryID\",\n",
    "        \"RegionName\",\n",
    "        \"WineryName\"\n",
    "    ]\n",
    "]"
   ]
  },
  {
   "cell_type": "code",
   "execution_count": 174,
   "metadata": {},
   "outputs": [
    {
     "data": {
      "text/html": [
       "<div>\n",
       "<style scoped>\n",
       "    .dataframe tbody tr th:only-of-type {\n",
       "        vertical-align: middle;\n",
       "    }\n",
       "\n",
       "    .dataframe tbody tr th {\n",
       "        vertical-align: top;\n",
       "    }\n",
       "\n",
       "    .dataframe thead th {\n",
       "        text-align: right;\n",
       "    }\n",
       "</style>\n",
       "<table border=\"1\" class=\"dataframe\">\n",
       "  <thead>\n",
       "    <tr style=\"text-align: right;\">\n",
       "      <th></th>\n",
       "      <th>WineID</th>\n",
       "      <th>WineName</th>\n",
       "      <th>Type</th>\n",
       "      <th>Elaborate</th>\n",
       "      <th>Grapes</th>\n",
       "      <th>Harmonize</th>\n",
       "      <th>ABV</th>\n",
       "      <th>Body</th>\n",
       "      <th>Acidity</th>\n",
       "      <th>Country</th>\n",
       "      <th>RegionID</th>\n",
       "      <th>WineryID</th>\n",
       "      <th>RegionName</th>\n",
       "      <th>WineryName</th>\n",
       "    </tr>\n",
       "  </thead>\n",
       "  <tbody>\n",
       "    <tr>\n",
       "      <th>0</th>\n",
       "      <td>100001</td>\n",
       "      <td>Espumante Moscatel</td>\n",
       "      <td>Sparkling</td>\n",
       "      <td>Varietal/100%</td>\n",
       "      <td>['Muscat/Moscato']</td>\n",
       "      <td>['Pork', 'Rich Fish', 'Shellfish']</td>\n",
       "      <td>7.5</td>\n",
       "      <td>Medium-bodied</td>\n",
       "      <td>High</td>\n",
       "      <td>Brazil</td>\n",
       "      <td>1001</td>\n",
       "      <td>10001</td>\n",
       "      <td>Serra Gaúcha</td>\n",
       "      <td>Casa Perini</td>\n",
       "    </tr>\n",
       "    <tr>\n",
       "      <th>1</th>\n",
       "      <td>100002</td>\n",
       "      <td>Ancellotta</td>\n",
       "      <td>Red</td>\n",
       "      <td>Varietal/100%</td>\n",
       "      <td>['Ancellotta']</td>\n",
       "      <td>['Beef', 'Barbecue', 'Codfish', 'Pasta', 'Pizz...</td>\n",
       "      <td>12.0</td>\n",
       "      <td>Medium-bodied</td>\n",
       "      <td>Medium</td>\n",
       "      <td>Brazil</td>\n",
       "      <td>1001</td>\n",
       "      <td>10001</td>\n",
       "      <td>Serra Gaúcha</td>\n",
       "      <td>Casa Perini</td>\n",
       "    </tr>\n",
       "    <tr>\n",
       "      <th>2</th>\n",
       "      <td>100003</td>\n",
       "      <td>Cabernet Sauvignon</td>\n",
       "      <td>Red</td>\n",
       "      <td>Varietal/100%</td>\n",
       "      <td>['Cabernet Sauvignon']</td>\n",
       "      <td>['Beef', 'Lamb', 'Poultry']</td>\n",
       "      <td>12.0</td>\n",
       "      <td>Full-bodied</td>\n",
       "      <td>High</td>\n",
       "      <td>Brazil</td>\n",
       "      <td>1001</td>\n",
       "      <td>10002</td>\n",
       "      <td>Serra Gaúcha</td>\n",
       "      <td>Castellamare</td>\n",
       "    </tr>\n",
       "  </tbody>\n",
       "</table>\n",
       "</div>"
      ],
      "text/plain": [
       "   WineID            WineName       Type      Elaborate  \\\n",
       "0  100001  Espumante Moscatel  Sparkling  Varietal/100%   \n",
       "1  100002          Ancellotta        Red  Varietal/100%   \n",
       "2  100003  Cabernet Sauvignon        Red  Varietal/100%   \n",
       "\n",
       "                   Grapes                                          Harmonize  \\\n",
       "0      ['Muscat/Moscato']                 ['Pork', 'Rich Fish', 'Shellfish']   \n",
       "1          ['Ancellotta']  ['Beef', 'Barbecue', 'Codfish', 'Pasta', 'Pizz...   \n",
       "2  ['Cabernet Sauvignon']                        ['Beef', 'Lamb', 'Poultry']   \n",
       "\n",
       "    ABV           Body Acidity Country  RegionID  WineryID    RegionName  \\\n",
       "0   7.5  Medium-bodied    High  Brazil      1001     10001  Serra Gaúcha   \n",
       "1  12.0  Medium-bodied  Medium  Brazil      1001     10001  Serra Gaúcha   \n",
       "2  12.0    Full-bodied    High  Brazil      1001     10002  Serra Gaúcha   \n",
       "\n",
       "     WineryName  \n",
       "0   Casa Perini  \n",
       "1   Casa Perini  \n",
       "2  Castellamare  "
      ]
     },
     "execution_count": 174,
     "metadata": {},
     "output_type": "execute_result"
    }
   ],
   "source": [
    "wines.head(3)"
   ]
  },
  {
   "cell_type": "code",
   "execution_count": 175,
   "metadata": {},
   "outputs": [
    {
     "data": {
      "text/plain": [
       "0                Muscat/Moscato\n",
       "1                    Ancellotta\n",
       "2            Cabernet Sauvignon\n",
       "3    Cabernet Sauvignon, Merlot\n",
       "4         Muscat/Moscato Bianco\n",
       "Name: Grapes, dtype: object"
      ]
     },
     "execution_count": 175,
     "metadata": {},
     "output_type": "execute_result"
    }
   ],
   "source": [
    "wines['Grapes'] = wines['Grapes'].str.replace(\"[\", \" \").str.replace(\"]\", \" \").str.replace(\"'\", \"\").str.strip()\n",
    "wines['Grapes'].head()"
   ]
  },
  {
   "cell_type": "code",
   "execution_count": 176,
   "metadata": {},
   "outputs": [
    {
     "data": {
      "text/plain": [
       "0    Mediumbodied\n",
       "1    Mediumbodied\n",
       "2      Fullbodied\n",
       "3      Fullbodied\n",
       "4    Mediumbodied\n",
       "Name: Body, dtype: object"
      ]
     },
     "execution_count": 176,
     "metadata": {},
     "output_type": "execute_result"
    }
   ],
   "source": [
    "wines['Body'] = wines['Body'].str.replace('-', '')\n",
    "wines['Body'].head()"
   ]
  },
  {
   "cell_type": "code",
   "execution_count": 177,
   "metadata": {},
   "outputs": [
    {
     "data": {
      "text/plain": [
       "0                       Pork, Rich Fish, Shellfish\n",
       "1    Beef, Barbecue, Codfish, Pasta, Pizza, Cheese\n",
       "2                              Beef, Lamb, Poultry\n",
       "3                   Beef, Lamb, Game Meat, Poultry\n",
       "4                       Pork, Rich Fish, Shellfish\n",
       "Name: Harmonize, dtype: object"
      ]
     },
     "execution_count": 177,
     "metadata": {},
     "output_type": "execute_result"
    }
   ],
   "source": [
    "wines[\"Harmonize\"] = wines[\"Harmonize\"].str.replace(\"[\", \" \").str.replace(\"]\", \" \").str.replace(\"'\", \"\").str.strip()\n",
    "wines[\"Harmonize\"].head()"
   ]
  },
  {
   "cell_type": "code",
   "execution_count": 178,
   "metadata": {},
   "outputs": [
    {
     "data": {
      "text/html": [
       "<div>\n",
       "<style scoped>\n",
       "    .dataframe tbody tr th:only-of-type {\n",
       "        vertical-align: middle;\n",
       "    }\n",
       "\n",
       "    .dataframe tbody tr th {\n",
       "        vertical-align: top;\n",
       "    }\n",
       "\n",
       "    .dataframe thead th {\n",
       "        text-align: right;\n",
       "    }\n",
       "</style>\n",
       "<table border=\"1\" class=\"dataframe\">\n",
       "  <thead>\n",
       "    <tr style=\"text-align: right;\">\n",
       "      <th></th>\n",
       "      <th>WineID</th>\n",
       "      <th>WineName</th>\n",
       "      <th>Type</th>\n",
       "      <th>Elaborate</th>\n",
       "      <th>Grapes</th>\n",
       "      <th>Harmonize</th>\n",
       "      <th>ABV</th>\n",
       "      <th>Body</th>\n",
       "      <th>Acidity</th>\n",
       "      <th>Country</th>\n",
       "      <th>RegionID</th>\n",
       "      <th>WineryID</th>\n",
       "      <th>RegionName</th>\n",
       "      <th>WineryName</th>\n",
       "    </tr>\n",
       "  </thead>\n",
       "  <tbody>\n",
       "    <tr>\n",
       "      <th>0</th>\n",
       "      <td>100001</td>\n",
       "      <td>Espumante Moscatel</td>\n",
       "      <td>Sparkling</td>\n",
       "      <td>Varietal/100%</td>\n",
       "      <td>Muscat/Moscato</td>\n",
       "      <td>Pork, Rich Fish, Shellfish</td>\n",
       "      <td>7.5</td>\n",
       "      <td>Mediumbodied</td>\n",
       "      <td>High</td>\n",
       "      <td>Brazil</td>\n",
       "      <td>1001</td>\n",
       "      <td>10001</td>\n",
       "      <td>Serra Gaúcha</td>\n",
       "      <td>Casa Perini</td>\n",
       "    </tr>\n",
       "    <tr>\n",
       "      <th>1</th>\n",
       "      <td>100002</td>\n",
       "      <td>Ancellotta</td>\n",
       "      <td>Red</td>\n",
       "      <td>Varietal/100%</td>\n",
       "      <td>Ancellotta</td>\n",
       "      <td>Beef, Barbecue, Codfish, Pasta, Pizza, Cheese</td>\n",
       "      <td>12.0</td>\n",
       "      <td>Mediumbodied</td>\n",
       "      <td>Medium</td>\n",
       "      <td>Brazil</td>\n",
       "      <td>1001</td>\n",
       "      <td>10001</td>\n",
       "      <td>Serra Gaúcha</td>\n",
       "      <td>Casa Perini</td>\n",
       "    </tr>\n",
       "    <tr>\n",
       "      <th>2</th>\n",
       "      <td>100003</td>\n",
       "      <td>Cabernet Sauvignon</td>\n",
       "      <td>Red</td>\n",
       "      <td>Varietal/100%</td>\n",
       "      <td>Cabernet Sauvignon</td>\n",
       "      <td>Beef, Lamb, Poultry</td>\n",
       "      <td>12.0</td>\n",
       "      <td>Fullbodied</td>\n",
       "      <td>High</td>\n",
       "      <td>Brazil</td>\n",
       "      <td>1001</td>\n",
       "      <td>10002</td>\n",
       "      <td>Serra Gaúcha</td>\n",
       "      <td>Castellamare</td>\n",
       "    </tr>\n",
       "  </tbody>\n",
       "</table>\n",
       "</div>"
      ],
      "text/plain": [
       "   WineID            WineName       Type      Elaborate              Grapes  \\\n",
       "0  100001  Espumante Moscatel  Sparkling  Varietal/100%      Muscat/Moscato   \n",
       "1  100002          Ancellotta        Red  Varietal/100%          Ancellotta   \n",
       "2  100003  Cabernet Sauvignon        Red  Varietal/100%  Cabernet Sauvignon   \n",
       "\n",
       "                                       Harmonize   ABV          Body Acidity  \\\n",
       "0                     Pork, Rich Fish, Shellfish   7.5  Mediumbodied    High   \n",
       "1  Beef, Barbecue, Codfish, Pasta, Pizza, Cheese  12.0  Mediumbodied  Medium   \n",
       "2                            Beef, Lamb, Poultry  12.0    Fullbodied    High   \n",
       "\n",
       "  Country  RegionID  WineryID    RegionName    WineryName  \n",
       "0  Brazil      1001     10001  Serra Gaúcha   Casa Perini  \n",
       "1  Brazil      1001     10001  Serra Gaúcha   Casa Perini  \n",
       "2  Brazil      1001     10002  Serra Gaúcha  Castellamare  "
      ]
     },
     "execution_count": 178,
     "metadata": {},
     "output_type": "execute_result"
    }
   ],
   "source": [
    "wines.head(3)"
   ]
  },
  {
   "cell_type": "code",
   "execution_count": 179,
   "metadata": {},
   "outputs": [],
   "source": [
    "def check_special_characters(df, column_name, special_characters_pattern):\n",
    "    rows_with_special_characters = df[df[column_name].str.contains(special_characters_pattern, regex=True, na=False)]\n",
    "    row_count = len(rows_with_special_characters)\n",
    "    print(\"Number of rows with special characters in {}: {}\".format(column_name, row_count))\n",
    "    print(rows_with_special_characters[[column_name]].drop_duplicates().sort_values(by=column_name))"
   ]
  },
  {
   "cell_type": "code",
   "execution_count": 180,
   "metadata": {},
   "outputs": [],
   "source": [
    "import re\n",
    "def remove_special_characters(df, column_name, characters_to_remove):\n",
    "    df[column_name] = df[column_name].str.replace(f'[{re.escape(characters_to_remove)}]', ' ', regex=True)\n",
    "    return df"
   ]
  },
  {
   "cell_type": "code",
   "execution_count": 111,
   "metadata": {},
   "outputs": [],
   "source": [
    "characters_to_remove = '[!\"#$%°&\\'()*+,-./:;<=>?@[\\\\]^_`{|}~]'"
   ]
  },
  {
   "cell_type": "code",
   "execution_count": null,
   "metadata": {},
   "outputs": [],
   "source": [
    "check_special_characters(wines, 'WineName', characters_to_remove)"
   ]
  },
  {
   "cell_type": "code",
   "execution_count": null,
   "metadata": {},
   "outputs": [],
   "source": [
    "wines = remove_special_characters(wines, 'WineName', characters_to_remove)\n",
    "check_special_characters(wines, 'WineName', characters_to_remove)"
   ]
  },
  {
   "cell_type": "code",
   "execution_count": null,
   "metadata": {},
   "outputs": [],
   "source": [
    "check_special_characters(wines, 'RegionName', characters_to_remove)"
   ]
  },
  {
   "cell_type": "code",
   "execution_count": null,
   "metadata": {},
   "outputs": [],
   "source": [
    "wines = remove_special_characters(wines, 'RegionName', characters_to_remove)\n",
    "check_special_characters(wines, 'RegionName', characters_to_remove)"
   ]
  },
  {
   "cell_type": "code",
   "execution_count": null,
   "metadata": {},
   "outputs": [],
   "source": [
    "check_special_characters(wines, 'WineryName', characters_to_remove)"
   ]
  },
  {
   "cell_type": "code",
   "execution_count": null,
   "metadata": {},
   "outputs": [],
   "source": [
    "wines = remove_special_characters(wines, 'WineryName', characters_to_remove)\n",
    "check_special_characters(wines, 'WineryName', characters_to_remove)"
   ]
  },
  {
   "cell_type": "code",
   "execution_count": null,
   "metadata": {},
   "outputs": [],
   "source": [
    "wines.isnull().sum()"
   ]
  },
  {
   "cell_type": "code",
   "execution_count": 119,
   "metadata": {},
   "outputs": [],
   "source": [
    "def split_and_expand_columns(df, column_name, delimiter=\"/\"):\n",
    "    expanded_columns = df[column_name].str.split(delimiter, expand=True)\n",
    "    new_columns = [f\"{column_name}{i+1}\" for i in range(expanded_columns.shape[1])]\n",
    "    expanded_columns.columns = new_columns\n",
    "\n",
    "    df = pd.concat([df, expanded_columns], axis=1)\n",
    "    df = df.fillna(\"\")\n",
    "    df = df.drop(columns=[column_name])\n",
    "\n",
    "    return df"
   ]
  },
  {
   "cell_type": "code",
   "execution_count": 120,
   "metadata": {},
   "outputs": [],
   "source": [
    "wines = split_and_expand_columns(wines, \"Harmonize\", delimiter=\", \")"
   ]
  },
  {
   "cell_type": "code",
   "execution_count": 121,
   "metadata": {},
   "outputs": [],
   "source": [
    "wines = split_and_expand_columns(wines, \"Grapes\", delimiter=\", \")"
   ]
  },
  {
   "cell_type": "code",
   "execution_count": 122,
   "metadata": {},
   "outputs": [],
   "source": [
    "wines = split_and_expand_columns(wines, \"Elaborate\")"
   ]
  },
  {
   "cell_type": "code",
   "execution_count": 123,
   "metadata": {},
   "outputs": [],
   "source": [
    "wines = split_and_expand_columns(wines, \"Type\")"
   ]
  },
  {
   "cell_type": "code",
   "execution_count": null,
   "metadata": {},
   "outputs": [],
   "source": [
    "print(wines.head(3).to_markdown())"
   ]
  },
  {
   "cell_type": "code",
   "execution_count": 125,
   "metadata": {},
   "outputs": [],
   "source": [
    "common_columns = ['WineName', 'Body', 'Acidity', 'Country', 'RegionName', 'WineryName', 'ABV']\n",
    "grapes_columns = [f'Grapes{i}' for i in range(1, 10)]\n",
    "harmonize_columns = [f'Harmonize{i}' for i in range(1, 7)]\n",
    "type_columns = [f'Type{i}' for i in range(1, 3)]\n",
    "elaborate_columns = [f'Elaborate{i}' for i in range(1, 3)]\n",
    "all_columns = common_columns + grapes_columns + harmonize_columns + type_columns + elaborate_columns\n",
    "wines['Attributes'] = wines[all_columns].astype(str).agg(' '.join, axis=1)"
   ]
  },
  {
   "cell_type": "code",
   "execution_count": null,
   "metadata": {},
   "outputs": [],
   "source": [
    "print(wines['Attributes'].head(3).to_markdown())"
   ]
  },
  {
   "cell_type": "markdown",
   "metadata": {},
   "source": [
    "Build model:\n",
    "- tranform attributes (features) of wines to tf-idf\n",
    "- compute simmilarity between wine items based on tf-idf\n"
   ]
  },
  {
   "cell_type": "code",
   "execution_count": null,
   "metadata": {},
   "outputs": [],
   "source": [
    "from sklearn.feature_extraction.text import TfidfVectorizer\n",
    "\n",
    "# TF-IDF vectorizer\n",
    "vectorizer = TfidfVectorizer()\n",
    "\n",
    "# fit and transform the Attributes column\n",
    "tfidf_matrix = vectorizer.fit_transform(wines['Attributes'])\n",
    "\n",
    "# shape of the TF-IDF matrix\n",
    "print(tfidf_matrix.shape)\n"
   ]
  },
  {
   "cell_type": "code",
   "execution_count": null,
   "metadata": {},
   "outputs": [],
   "source": [
    "from sklearn.metrics.pairwise import cosine_similarity\n",
    "\n",
    "# cosine similarity matrix between wines\n",
    "wine_similarities = cosine_similarity(tfidf_matrix)\n",
    "\n",
    "# shape of the similarity matrix\n",
    "print(wine_similarities.shape)\n"
   ]
  },
  {
   "cell_type": "code",
   "execution_count": null,
   "metadata": {},
   "outputs": [],
   "source": [
    "print(type(wine_similarities))"
   ]
  },
  {
   "cell_type": "code",
   "execution_count": 130,
   "metadata": {},
   "outputs": [],
   "source": [
    "import numpy as np\n",
    "\n",
    "# save similarity matrix to file\n",
    "np.save('wine_similarities.npy', wine_similarities)"
   ]
  },
  {
   "cell_type": "code",
   "execution_count": null,
   "metadata": {},
   "outputs": [],
   "source": [
    "ratings.head(2).to_markdown"
   ]
  },
  {
   "cell_type": "code",
   "execution_count": 132,
   "metadata": {},
   "outputs": [],
   "source": [
    "# create a set of all wine IDs\n",
    "all_wine_ids = set(ratings['WineID'].unique())"
   ]
  },
  {
   "cell_type": "code",
   "execution_count": 133,
   "metadata": {},
   "outputs": [],
   "source": [
    "def get_unrated_wines(user_id, train_ratings, all_wine_ids):\n",
    "    '''\n",
    "    Get the list of wines that the user has not rated\n",
    "    \n",
    "    @param user_id: user ID\n",
    "    @param train_ratings: ratings DataFrame to consider\n",
    "    @param all_wine_ids: set of all wine IDs\n",
    "    @return: list of wine IDs that the user has not rated\n",
    "    '''\n",
    "    rated_wines = set(train_ratings[train_ratings['UserID'] == user_id]['WineID'].unique())\n",
    "    unrated_wines = all_wine_ids - rated_wines\n",
    "    return list(unrated_wines)"
   ]
  },
  {
   "cell_type": "code",
   "execution_count": 134,
   "metadata": {},
   "outputs": [],
   "source": [
    "import numpy as np\n",
    "\n",
    "# mapping between WineID and matrix index\n",
    "wine_id_to_idx = {wine_id: idx for idx, wine_id in enumerate(wines['WineID'])}\n",
    "idx_to_wine_id = {idx: wine_id for idx, wine_id in enumerate(wines['WineID'])}"
   ]
  },
  {
   "cell_type": "code",
   "execution_count": 135,
   "metadata": {},
   "outputs": [],
   "source": [
    "def get_similarities(unrated_wine, rated_wines, similarity_matrix):\n",
    "    '''\n",
    "    Get similarity scores between an unrated wine and a list of rated wines\n",
    "\n",
    "    @param unrated_wine: WineID of the unrated wine\n",
    "    @param rated_wines: list of WineIDs of the rated wines\n",
    "    @param similarity_matrix: cosine similarity matrix between wines\n",
    "    @return: list of tuples (WineID, similarity_score) for the rated wines\n",
    "    '''\n",
    "    similarities = []\n",
    "    if unrated_wine not in wine_id_to_idx:\n",
    "        return similarities  # No similarity data for this wine\n",
    "    \n",
    "    unrated_wine_idx = wine_id_to_idx[unrated_wine]\n",
    "    \n",
    "    for rated_wine in rated_wines:\n",
    "        if rated_wine not in wine_id_to_idx:\n",
    "            continue  # Skip if rated wine not in mapping\n",
    "        rated_wine_idx = wine_id_to_idx[rated_wine]\n",
    "        similarity = similarity_matrix[unrated_wine_idx, rated_wine_idx]\n",
    "        similarities.append((rated_wine, similarity))\n",
    "    \n",
    "    # Sort by similarity and select top k\n",
    "    similarities.sort(key=lambda x: x[1], reverse=True)\n",
    "    return similarities"
   ]
  },
  {
   "cell_type": "code",
   "execution_count": 136,
   "metadata": {},
   "outputs": [],
   "source": [
    "def predict_rating(user_id, unrated_wine, train_ratings):\n",
    "    '''\n",
    "    Predict the rating of an unrated wine for a user based on the similarities of unrated wine to rated wines of the user\n",
    "\n",
    "    @param user_id: user ID\n",
    "    @param unrated_wine: WineID of the unrated wine\n",
    "    @param train_ratings: ratings DataFrame to consider\n",
    "    @return: predicted rating of the unrated wine for the user\n",
    "    '''\n",
    "    user_ratings = train_ratings[train_ratings['UserID'] == user_id][['WineID', 'Rating']]\n",
    "    rated_wines = user_ratings['WineID'].tolist()\n",
    "    \n",
    "    if len(rated_wines) == 0:\n",
    "        return np.nan  # Shouldn't happen\n",
    "    \n",
    "    k_similar_wines = get_similarities(unrated_wine, rated_wines, wine_similarities)\n",
    "    \n",
    "    numerator = 0\n",
    "    denominator = 0\n",
    "    for wine, similarity in k_similar_wines:\n",
    "        rating = user_ratings[user_ratings['WineID'] == wine]['Rating'].values[0]\n",
    "        numerator += similarity * rating\n",
    "        denominator += abs(similarity)\n",
    "    \n",
    "    if denominator == 0:\n",
    "        # Impute with user's average rating from training set\n",
    "        user_mean = user_ratings['Rating'].mean()\n",
    "        return user_mean\n",
    "    \n",
    "    return numerator / denominator"
   ]
  },
  {
   "cell_type": "code",
   "execution_count": 137,
   "metadata": {},
   "outputs": [],
   "source": [
    "# Predict all ratings for a given user\n",
    "def predict_all_ratings(user_id):\n",
    "    '''\n",
    "    Method to predict ratings of all unrated wines for a given user\n",
    "\n",
    "    @param user_id: user ID\n",
    "    @return: dictionary of predicted ratings for unrated wines\n",
    "    '''\n",
    "    unrated_wines = get_unrated_wines(user_id, ratings, all_wine_ids)\n",
    "    predictions = {}\n",
    "    \n",
    "    for wine in unrated_wines:\n",
    "        predicted_rating = predict_rating(user_id, wine, ratings)\n",
    "        predictions[wine] = predicted_rating\n",
    "    \n",
    "    return predictions\n",
    "\n",
    "# Recommend top-N wines to the user based on predicted ratings\n",
    "def recommend_wines(user_id, N=10):\n",
    "    '''\n",
    "    Recommend top-N wines to the user based on predicted ratings of unrated wines\n",
    "\n",
    "    @param user_id: user ID\n",
    "    @param N: number of wines to recommend\n",
    "    @return: list of top-N recommended wines with predicted ratings\n",
    "    '''\n",
    "    predicted_ratings = predict_all_ratings(user_id)\n",
    "    # Sort wines by predicted rating in descending order\n",
    "    recommended_wines = sorted(predicted_ratings.items(), key=lambda x: x[1], reverse=True)\n",
    "    \n",
    "    return recommended_wines[:N]  # Return top N recommended wines"
   ]
  },
  {
   "cell_type": "code",
   "execution_count": null,
   "metadata": {},
   "outputs": [],
   "source": [
    "# Example usage\n",
    "user_id = 1209683\n",
    "top_recommendations = recommend_wines(user_id, N=10)\n",
    "\n",
    "# Print the top 10 recommendations for the user\n",
    "print(top_recommendations)"
   ]
  },
  {
   "cell_type": "code",
   "execution_count": null,
   "metadata": {},
   "outputs": [],
   "source": [
    "n = 3\n",
    "\n",
    "# Group by UserID and count the number of ratings for each user\n",
    "user_rating_counts = ratings.groupby('UserID').size()\n",
    "\n",
    "# Filter users who rated fewer than 3 wines\n",
    "users_with_fewer_than_n_ratings = user_rating_counts[user_rating_counts < n]\n",
    "\n",
    "# Count the number of such users\n",
    "num_users_with_fewer_than_n_ratings = users_with_fewer_than_n_ratings.count()\n",
    "\n",
    "print(f\"Number of users who rated fewer than {n} wines: {num_users_with_fewer_than_n_ratings}\")"
   ]
  },
  {
   "cell_type": "code",
   "execution_count": 140,
   "metadata": {},
   "outputs": [],
   "source": [
    "users_ratings_dict = {user_id: ratings[ratings['UserID'] == user_id] for user_id in ratings['UserID'].unique()}\n",
    "\n",
    "# new dictionary to store users with 3 or more reviews\n",
    "filtered_users_ratings_dict = {user_id: reviews for user_id, reviews in users_ratings_dict.items() if len(reviews) >= 3}\n",
    "\n",
    "# Optionally, if you want to modify the original dictionary in place:\n",
    "users_ratings_dict = filtered_users_ratings_dict"
   ]
  },
  {
   "cell_type": "code",
   "execution_count": 141,
   "metadata": {},
   "outputs": [
    {
     "name": "stdout",
     "output_type": "stream",
     "text": [
      "LOO RMSE: 0.6075902669374107\n"
     ]
    }
   ],
   "source": [
    "from sklearn.metrics import mean_squared_error\n",
    "import numpy as np\n",
    "\n",
    "# Leave-One-Out cross-validation for a single user\n",
    "def loo_split_user_data(user_ratings):\n",
    "    '''\n",
    "    Leave one rating out for the user and return (train, test) pairs for each LOO step.\n",
    "\n",
    "    @param user_ratings: DataFrame containing all ratings for a single user\n",
    "    @return: train, test pairs for each LOO step\n",
    "    '''\n",
    "    for i in range(len(user_ratings)):\n",
    "        test = user_ratings.iloc[[i]]  # One row as the test set\n",
    "        train = user_ratings.drop(user_ratings.index[i])   # All remaining rows as the training set\n",
    "        yield train, test\n",
    "\n",
    "# Function to apply LOO for all users and calculate the overall error\n",
    "def loo_evaluate(users_ratings_dict):\n",
    "    '''\n",
    "    Perform LOO (leave-one-out) evaluation for all users and return the overall error.\n",
    "\n",
    "    @param users_ratings_dict: dictionary of user and his/her ratings\n",
    "    @return: overall RMSE or MAE for the evaluation\n",
    "    '''\n",
    "    true_ratings = []\n",
    "    predicted_ratings = []\n",
    "    \n",
    "    for user_id, user_ratings in users_ratings_dict.items():\n",
    "        # For each user, perform LOO\n",
    "        for train_ratings, test_rating in loo_split_user_data(user_ratings):\n",
    "            # Get the wine to predict\n",
    "            test_wine = test_rating['WineID'].values[0]\n",
    "            true_rating = test_rating['Rating'].values[0]\n",
    "            \n",
    "            # Predict the rating using the training set\n",
    "            predicted_rating = predict_rating(user_id, test_wine, train_ratings)\n",
    "            \n",
    "            # Store the true and predicted ratings\n",
    "            true_ratings.append(true_rating)\n",
    "            predicted_ratings.append(predicted_rating)\n",
    "    \n",
    "    # Calculate RMSE or MAE for the overall evaluation\n",
    "    rmse = np.sqrt(mean_squared_error(true_ratings, predicted_ratings))\n",
    "    return rmse\n",
    "\n",
    "# Usage\n",
    "loo_rmse = loo_evaluate(users_ratings_dict)\n",
    "print(f\"LOO RMSE: {loo_rmse}\")\n"
   ]
  },
  {
   "cell_type": "code",
   "execution_count": 142,
   "metadata": {},
   "outputs": [
    {
     "name": "stdout",
     "output_type": "stream",
     "text": [
      "Train-Test RMSE: 0.632960230003232\n"
     ]
    }
   ],
   "source": [
    "from sklearn.model_selection import train_test_split\n",
    "\n",
    "# Train-test split for a single user's ratings\n",
    "def split_user_data(user_ratings, test_size=0.2):\n",
    "    '''\n",
    "    Split user's ratings into train and test sets using sklearn's train_test_split.\n",
    "\n",
    "    @param user_ratings: DataFrame containing all ratings for a single user\n",
    "    @param test_size: proportion of the test set\n",
    "    @return: train, test split of the user's ratings\n",
    "    '''\n",
    "    train, test = train_test_split(user_ratings, test_size=test_size, random_state=42)\n",
    "    return train, test\n",
    "\n",
    "# Function to apply Train-Test split for all users and calculate the overall error\n",
    "def train_test_evaluate(users_ratings_dict):\n",
    "    '''\n",
    "    Perform train-test split evaluation for all users and return the overall error.\n",
    "\n",
    "    @param users_ratings_dict: dictionary of user and his/her ratings\n",
    "    @return: overall RMSE or MAE for the evaluation\n",
    "    '''\n",
    "    true_ratings = []\n",
    "    predicted_ratings = []\n",
    "    \n",
    "    for user_id, user_ratings in users_ratings_dict.items():\n",
    "        # Split the data into train and test\n",
    "        train_ratings, test_ratings = split_user_data(user_ratings)\n",
    "        \n",
    "        # Predict ratings for the test set\n",
    "        for idx, test_row in test_ratings.iterrows():\n",
    "            test_wine = test_row['WineID']\n",
    "            true_rating = test_row['Rating']\n",
    "            \n",
    "            # Predict the rating using the training set\n",
    "            predicted_rating = predict_rating(user_id, test_wine, train_ratings)\n",
    "            \n",
    "            # Store the true and predicted ratings\n",
    "            true_ratings.append(true_rating)\n",
    "            predicted_ratings.append(predicted_rating)\n",
    "    \n",
    "    # Calculate RMSE or MAE for the overall evaluation\n",
    "    rmse = np.sqrt(mean_squared_error(true_ratings, predicted_ratings))\n",
    "    return rmse\n",
    "\n",
    "# Example usage\n",
    "train_test_rmse = train_test_evaluate(users_ratings_dict)\n",
    "print(f\"Train-Test RMSE: {train_test_rmse}\")\n"
   ]
  },
  {
   "cell_type": "markdown",
   "metadata": {},
   "source": [
    "-----------------------------------------------------------------------------------------------------------------------------------------------"
   ]
  },
  {
   "cell_type": "markdown",
   "metadata": {},
   "source": [
    "What's next:\n",
    "\n",
    "a) Diversity:\n",
    "Measure the average pairwise distance between recommended wines. Use features like grape types, region, or flavor profile for distance calculation.\n",
    "\n",
    "b) Novelty:\n",
    "Calculate the popularity of each wine in the training set. Measure the average inverse popularity of recommended wines.\n",
    "\n",
    "c) Serendipity:\n",
    "Combine unexpectedness (recommending wines different from user's usual preferences) with relevance (high predicted ratings).\n",
    "\n",
    "\n",
    "Fix:\n",
    "Disadvantages:\n",
    "- Feature Dependency: Requires comprehensive and relevant item features.\n",
    "- Limited Discovery: May not introduce users to diverse or serendipitous items outside their established preferences."
   ]
  },
  {
   "cell_type": "code",
   "execution_count": 148,
   "metadata": {},
   "outputs": [
    {
     "name": "stdout",
     "output_type": "stream",
     "text": [
      "Training set size: (120182, 6)\n",
      "Test set size: (29818, 6)\n"
     ]
    }
   ],
   "source": [
    "from sklearn.model_selection import GroupShuffleSplit\n",
    "\n",
    "def split_ratings_groupwise(ratings, test_size=0.2, random_state=42):\n",
    "    '''\n",
    "    Split ratings data into training and test sets using group-wise shuffle split.\n",
    "    \n",
    "    @param ratings: DataFrame containing ratings data with a 'UserID' column\n",
    "    @param test_size: float, proportion of the dataset to include in the test split (default: 0.2)\n",
    "    @param random_state: int, seed used by the random number generator (default: 42)\n",
    "    @return: tuple containing two DataFrames (train_ratings, test_ratings)\n",
    "    '''\n",
    "    gss = GroupShuffleSplit(n_splits=1, test_size=test_size, random_state=random_state)\n",
    "    train_idx, test_idx = next(gss.split(ratings, groups=ratings['UserID']))\n",
    "    train_ratings = ratings.iloc[train_idx].reset_index(drop=True)\n",
    "    test_ratings = ratings.iloc[test_idx].reset_index(drop=True)\n",
    "    return train_ratings, test_ratings\n",
    "\n",
    "# Perform the group-wise split\n",
    "train_ratings, test_ratings = split_ratings_groupwise(ratings, test_size=0.2)\n",
    "\n",
    "print(f\"Training set size: {train_ratings.shape}\")\n",
    "print(f\"Test set size: {test_ratings.shape}\")\n"
   ]
  },
  {
   "cell_type": "code",
   "execution_count": 149,
   "metadata": {},
   "outputs": [],
   "source": [
    "def predict_test_set_ratings(test_ratings, train_ratings, k=5):\n",
    "    '''\n",
    "    Predict ratings for the test set using the training data and handle missing predictions.\n",
    "\n",
    "    @param test_ratings: DataFrame containing the test set ratings\n",
    "    @param train_ratings: DataFrame containing the training set ratings\n",
    "    @param k: int, number of nearest neighbors to use in prediction (default: 5)\n",
    "    @return: tuple of two numpy arrays (predictions, true_ratings)\n",
    "    '''\n",
    "    predictions = []\n",
    "    true_ratings = []\n",
    "    \n",
    "    for index, row in test_ratings.iterrows():\n",
    "        user_id = row['UserID']\n",
    "        wine_id = row['WineID']\n",
    "        true_rating = row['Rating']\n",
    "        \n",
    "        predicted_rating = predict_rating(user_id, wine_id, train_ratings)\n",
    "        \n",
    "        # Handle cases where prediction could still be NaN\n",
    "        if np.isnan(predicted_rating):\n",
    "            # Option 1: Impute with user's mean rating from training set\n",
    "            user_train_ratings = train_ratings[train_ratings['UserID'] == user_id]['Rating']\n",
    "            if len(user_train_ratings) > 0:\n",
    "                predicted_rating = user_train_ratings.mean()\n",
    "            else:\n",
    "                # Option 2: Impute with global mean rating\n",
    "                predicted_rating = train_ratings['Rating'].mean()\n",
    "        \n",
    "        predictions.append(predicted_rating)\n",
    "        true_ratings.append(true_rating)\n",
    "    \n",
    "    return np.array(predictions), np.array(true_ratings)"
   ]
  },
  {
   "cell_type": "code",
   "execution_count": 54,
   "metadata": {},
   "outputs": [
    {
     "name": "stdout",
     "output_type": "stream",
     "text": [
      "Root Mean Squared Error (RMSE): 0.6612954551421897\n"
     ]
    }
   ],
   "source": [
    "from sklearn.metrics import mean_squared_error\n",
    "\n",
    "def calculate_rmse(predicted_ratings, true_ratings):\n",
    "    mse = mean_squared_error(true_ratings, predicted_ratings)\n",
    "    rmse = np.sqrt(mse)\n",
    "    return rmse\n",
    "\n",
    "# 5. Predict Ratings for the Test Set\n",
    "predicted_ratings, true_ratings = predict_test_set_ratings(test_ratings, train_ratings, k=5)\n",
    "\n",
    "# 6. Calculate and Print RMSE\n",
    "rmse = calculate_rmse(predicted_ratings, true_ratings)\n",
    "print(f\"Root Mean Squared Error (RMSE): {rmse}\")\n"
   ]
  },
  {
   "cell_type": "code",
   "execution_count": 151,
   "metadata": {},
   "outputs": [
    {
     "name": "stdout",
     "output_type": "stream",
     "text": [
      "Fold RMSE: 0.6549951425949024\n",
      "Fold RMSE: 0.651390180810434\n",
      "Fold RMSE: 0.6552810320691294\n",
      "Fold RMSE: 0.6459695353288084\n",
      "Fold RMSE: 0.6440909097324693\n",
      "Average RMSE across 5 folds: 0.6503453601071486\n"
     ]
    }
   ],
   "source": [
    "from sklearn.model_selection import GroupKFold\n",
    "\n",
    "def cross_validate(ratings, k_folds=5, test_size=0.2, k=5):\n",
    "    '''\n",
    "    Perform k-fold cross-validation on the ratings data using GroupKFold.\n",
    "\n",
    "    @param ratings: DataFrame containing the ratings data with 'UserID' column\n",
    "    @param k_folds: int, number of folds for cross-validation (default: 5)\n",
    "    @param test_size: float, proportion of the dataset to include in the test split (default: 0.2)\n",
    "    @param k: int, number of nearest neighbors to use in prediction (default: 5)\n",
    "    @return: None (prints RMSE scores for each fold and average RMSE)\n",
    "    '''\n",
    "    gkf = GroupKFold(n_splits=k_folds)\n",
    "    rmse_scores = []\n",
    "    \n",
    "    for train_idx, test_idx in gkf.split(ratings, groups=ratings['UserID']):\n",
    "        train_ratings_fold = ratings.iloc[train_idx].reset_index(drop=True)\n",
    "        test_ratings_fold = ratings.iloc[test_idx].reset_index(drop=True)\n",
    "        \n",
    "        predicted, true = predict_test_set_ratings(test_ratings_fold, train_ratings_fold, k)\n",
    "        \n",
    "        # Handle any remaining NaNs\n",
    "        if np.isnan(predicted).sum() > 0:\n",
    "            user_means = train_ratings_fold.groupby('UserID')['Rating'].mean().to_dict()\n",
    "            predicted = [user_means.get(uid, train_ratings_fold['Rating'].mean()) \n",
    "                         if np.isnan(r) else r for r, uid in zip(predicted, test_ratings_fold['UserID'])]\n",
    "            predicted = np.array(predicted)\n",
    "        \n",
    "        rmse = calculate_rmse(predicted, true)\n",
    "        rmse_scores.append(rmse)\n",
    "        print(f\"Fold RMSE: {rmse}\")\n",
    "    \n",
    "    print(f\"Average RMSE across {k_folds} folds: {np.mean(rmse_scores)}\")\n",
    "\n",
    "# Example usage:\n",
    "cross_validate(ratings, k_folds=5, test_size=0.2, k=5)"
   ]
  },
  {
   "cell_type": "code",
   "execution_count": 55,
   "metadata": {},
   "outputs": [],
   "source": [
    "import matplotlib.pyplot as plt\n",
    "import numpy as np\n",
    "from sklearn.metrics import precision_recall_fscore_support\n",
    "from sklearn.model_selection import GroupKFold\n",
    "\n",
    "def evaluate_model(test_ratings, train_ratings, k=5):\n",
    "    '''\n",
    "    Evaluate the model by predicting ratings for the test set using the training data.\n",
    "\n",
    "    @param test_ratings: DataFrame containing the test set ratings\n",
    "    @param train_ratings: DataFrame containing the training set ratings\n",
    "    @param k: int, number of nearest neighbors to use in prediction (default: 5)\n",
    "    @return: tuple of two numpy arrays (predictions, true_ratings)\n",
    "    '''\n",
    "    predictions = []\n",
    "    true_ratings = []\n",
    "    \n",
    "    for index, row in test_ratings.iterrows():\n",
    "        user_id = row['UserID']\n",
    "        wine_id = row['WineID']\n",
    "        true_rating = row['Rating']\n",
    "        \n",
    "        predicted_rating = predict_rating(user_id, wine_id, train_ratings)\n",
    "        \n",
    "        # Handle cases where prediction could still be NaN\n",
    "        if np.isnan(predicted_rating):\n",
    "            user_train_ratings = train_ratings[train_ratings['UserID'] == user_id]['Rating']\n",
    "            if len(user_train_ratings) > 0:\n",
    "                predicted_rating = user_train_ratings.mean()\n",
    "            else:\n",
    "                predicted_rating = train_ratings['Rating'].mean()\n",
    "        \n",
    "        predictions.append(predicted_rating)\n",
    "        true_ratings.append(true_rating)\n",
    "    \n",
    "    return np.array(predictions), np.array(true_ratings)"
   ]
  },
  {
   "cell_type": "code",
   "execution_count": 56,
   "metadata": {},
   "outputs": [],
   "source": [
    "def calculate_precision_recall_f1(predicted_ratings, true_ratings, threshold=3.5):\n",
    "    # Binarize the ratings based on the threshold\n",
    "    predicted_binary = (predicted_ratings >= threshold).astype(int)\n",
    "    true_binary = (true_ratings >= threshold).astype(int)\n",
    "    \n",
    "    precision, recall, f1, _ = precision_recall_fscore_support(true_binary, predicted_binary, average='binary')\n",
    "    return precision, recall, f1"
   ]
  },
  {
   "cell_type": "code",
   "execution_count": 57,
   "metadata": {},
   "outputs": [
    {
     "name": "stdout",
     "output_type": "stream",
     "text": [
      "Fold RMSE: 0.6922427319950712, F1: 0.8795518207282913\n",
      "Fold RMSE: 0.6550169964397871, F1: 0.8980716253443526\n",
      "Fold RMSE: 0.7200219723209841, F1: 0.8668555240793201\n",
      "Fold RMSE: 0.6833053856073432, F1: 0.8732394366197184\n",
      "Fold RMSE: 0.7755894935466829, F1: 0.8950276243093923\n",
      "Average RMSE across 5 folds: 0.7052353159819738\n",
      "Average F1 across 5 folds: 0.882549206216215\n"
     ]
    },
    {
     "data": {
      "image/png": "[encoded data removed]",
      "text/plain": [
       "<Figure size 1000x500 with 2 Axes>"
      ]
     },
     "metadata": {},
     "output_type": "display_data"
    }
   ],
   "source": [
    "def cross_validate_with_metrics(ratings, k_folds=5, k=5, threshold=3.5):\n",
    "    '''\n",
    "    Perform k-fold cross-validation on the ratings data using GroupKFold and calculate multiple evaluation metrics.\n",
    "\n",
    "    @param ratings: DataFrame containing the ratings data with 'UserID' column\n",
    "    @param k_folds: int, number of folds for cross-validation (default: 5)\n",
    "    @param k: int, number of nearest neighbors to use in prediction (default: 5)\n",
    "    @param threshold: float, threshold for binary classification in F1 score calculation (default: 3.5)\n",
    "    @return: None (prints and plots RMSE and F1 scores for each fold and their averages)\n",
    "    '''\n",
    "    gkf = GroupKFold(n_splits=k_folds)\n",
    "    rmse_scores = []\n",
    "    f1_scores = []\n",
    "    \n",
    "    for train_idx, test_idx in gkf.split(ratings, groups=ratings['UserID']):\n",
    "        train_ratings_fold = ratings.iloc[train_idx].reset_index(drop=True)\n",
    "        test_ratings_fold = ratings.iloc[test_idx].reset_index(drop=True)\n",
    "        \n",
    "        predicted, true = evaluate_model(test_ratings_fold, train_ratings_fold, k)\n",
    "        \n",
    "        # Handle any remaining NaNs\n",
    "        if np.isnan(predicted).sum() > 0:\n",
    "            user_means = train_ratings_fold.groupby('UserID')['Rating'].mean().to_dict()\n",
    "            predicted = [user_means.get(uid, train_ratings_fold['Rating'].mean()) \n",
    "                         if np.isnan(r) else r for r, uid in zip(predicted, test_ratings_fold['UserID'])]\n",
    "            predicted = np.array(predicted)\n",
    "        \n",
    "        rmse = calculate_rmse(predicted, true)\n",
    "        _, _, f1 = calculate_precision_recall_f1(predicted, true, threshold)\n",
    "        \n",
    "        rmse_scores.append(rmse)\n",
    "        f1_scores.append(f1)\n",
    "        \n",
    "        print(f\"Fold RMSE: {rmse}, F1: {f1}\")\n",
    "    \n",
    "    print(f\"Average RMSE across {k_folds} folds: {np.mean(rmse_scores)}\")\n",
    "    print(f\"Average F1 across {k_folds} folds: {np.mean(f1_scores)}\")\n",
    "    \n",
    "    # Plotting the results\n",
    "    plt.figure(figsize=(10, 5))\n",
    "\n",
    "    plt.subplot(1, 2, 1)\n",
    "    plt.plot(rmse_scores, marker='o')\n",
    "    plt.title('RMSE Scores')\n",
    "    plt.xlabel('Fold')\n",
    "    plt.ylabel('RMSE')\n",
    "\n",
    "    plt.subplot(1, 2, 2)\n",
    "    plt.plot(f1_scores, marker='o', color='red')\n",
    "    plt.title('F1 Scores')\n",
    "    plt.xlabel('Fold')\n",
    "    plt.ylabel('F1 Score')\n",
    "\n",
    "    plt.tight_layout()\n",
    "    plt.show()\n",
    "\n",
    "cross_validate_with_metrics(ratings, k_folds=5, k=5, threshold=3.5)"
   ]
  },
  {
   "cell_type": "markdown",
   "metadata": {},
   "source": [
    "Group Recommender (Using KNN)"
   ]
  },
  {
   "cell_type": "code",
   "execution_count": 47,
   "metadata": {},
   "outputs": [],
   "source": [
    "def group_recommender_knn(users, wines):\n",
    "    '''\n",
    "    Predict ratings for a group using KNN with average aggregation strategy.\n",
    "\n",
    "    @param users: list of user IDs\n",
    "    @param wines: list of wine IDs\n",
    "    @return: list of recommended wines for the group\n",
    "    '''\n",
    "    group_predictions = {}\n",
    "\n",
    "    # Predict ratings for each user in the group\n",
    "    user_ratings = {}\n",
    "    for user in users:\n",
    "        user_ratings[user] = predict_all_ratings(user)\n",
    "\n",
    "    # Aggregate predictions using the average strategy\n",
    "    for wine in wines:\n",
    "        total_rating = 0\n",
    "        for user in users:\n",
    "            total_rating += user_ratings[user].get(wine, 0)\n",
    "        group_predictions[wine] = total_rating / len(users)\n",
    "\n",
    "    # Return sorted list of recommended wines for the group\n",
    "    recommended_wines = sorted(group_predictions.items(), key=lambda x: x[1], reverse=True)\n",
    "    return recommended_wines"
   ]
  },
  {
   "cell_type": "code",
   "execution_count": 48,
   "metadata": {},
   "outputs": [],
   "source": [
    "\n",
    "import random\n",
    "def generate_synthetic_groups(user_pool, group_sizes):\n",
    "    '''\n",
    "    Generate synthetic groups of random users.\n",
    "\n",
    "    @param user_pool: list of all user IDs\n",
    "    @param group_sizes: list of group sizes to generate\n",
    "    @return: list of synthetic groups\n",
    "    '''\n",
    "    synthetic_groups = []\n",
    "\n",
    "    # Create groups of different sizes\n",
    "    for size in group_sizes:\n",
    "        group = random.sample(user_pool, size)\n",
    "        synthetic_groups.append(group)\n",
    "\n",
    "    return synthetic_groups"
   ]
  },
  {
   "cell_type": "code",
   "execution_count": 49,
   "metadata": {},
   "outputs": [],
   "source": [
    "import math\n",
    "def rmse_group(predictions, actual_ratings):\n",
    "    '''\n",
    "    Calculate RMSE for the group predictions.\n",
    "\n",
    "    @param predictions: dictionary of predicted ratings\n",
    "    @param actual_ratings: dictionary of actual ratings\n",
    "    @return: RMSE value\n",
    "    '''\n",
    "    errors = [(predictions[wine] - actual_ratings[wine]) ** 2 for wine in actual_ratings]\n",
    "    mean_error = sum(errors) / len(errors)\n",
    "    return math.sqrt(mean_error)"
   ]
  },
  {
   "cell_type": "code",
   "execution_count": 156,
   "metadata": {},
   "outputs": [],
   "source": [
    "def evaluate_group_recommender(user_pool, wines, actual_ratings, group_sizes):\n",
    "    '''\n",
    "    Evaluate the group recommender on synthetic groups.\n",
    "\n",
    "    @param user_pool: list of all user IDs\n",
    "    @param wines: list of all wine IDs\n",
    "    @param actual_ratings: dictionary of actual ratings for evaluation\n",
    "    @param group_sizes: list of group sizes to evaluate\n",
    "    '''\n",
    "    # Generate synthetic groups of users\n",
    "    synthetic_groups = generate_synthetic_groups(user_pool, group_sizes)\n",
    "\n",
    "    # Iterate through each group and evaluate\n",
    "    for group in synthetic_groups:\n",
    "        print(f\"Evaluating group of size {len(group)}:\")\n",
    "        \n",
    "        # Predict group ratings using the KNN recommender\n",
    "        predicted_ratings = group_recommender_knn(group, wines)\n",
    "        \n",
    "        # Calculate and print RMSE for the group\n",
    "        rmse = rmse_group(dict(predicted_ratings), actual_ratings)\n",
    "        print(f\"Group RMSE: {rmse}\\n\")"
   ]
  },
  {
   "cell_type": "code",
   "execution_count": 157,
   "metadata": {},
   "outputs": [
    {
     "name": "stdout",
     "output_type": "stream",
     "text": [
      "Evaluating group of size 2:\n",
      "Group RMSE: 0.777766332850161\n",
      "\n",
      "Evaluating group of size 3:\n",
      "Group RMSE: 0.5366682318757257\n",
      "\n",
      "Evaluating group of size 5:\n",
      "Group RMSE: 0.49387155773500424\n",
      "\n",
      "Evaluating group of size 10:\n",
      "Group RMSE: 0.4735293445962634\n",
      "\n"
     ]
    }
   ],
   "source": [
    "user_pool = ratings['UserID'].unique().tolist()  \n",
    "wines = ratings['WineID'].unique().tolist()      \n",
    "actual_ratings = {wine: ratings[ratings['WineID'] == wine]['Rating'].mean() for wine in wines}  \n",
    "group_sizes = [2, 3, 5, 10]  # Test with group sizes of 2, 3, 4, and 5 users\n",
    "\n",
    "# Run the evaluation\n",
    "evaluate_group_recommender(user_pool, wines, actual_ratings, group_sizes)"
   ]
  },
  {
   "cell_type": "code",
   "execution_count": 183,
   "metadata": {},
   "outputs": [
    {
     "name": "stdout",
     "output_type": "stream",
     "text": [
      "Group 1 (size 2): [1207902, 1087697]\n",
      "Group 2 (size 3): [1006739, 1077153, 1259685]\n",
      "Group 3 (size 5): [1252091, 1905155, 1206416, 1230862, 1143907]\n",
      "Group 4 (size 10): [1240854, 2023002, 1215405, 1141124, 1281789, 1168389, 1211355, 1402182, 1241471, 1199730]\n",
      "\n",
      "Evaluating group 1 (size 2):\n",
      "Top 3 recommendations for group 1:\n",
      "WineID: 112834, Predicted Rating: 4.38, WineName: Dom Ruinart Rosé Brut Champagne, Type: Sparkling, Region: Champagne, Winery: Ruinart\n",
      "WineID: 192560, Predicted Rating: 4.35, WineName: Vidal Special Select Late Harvest, Type: Dessert, Region: Niagara Peninsula, Winery: Konzelmann\n",
      "WineID: 165674, Predicted Rating: 4.35, WineName: Estelado Brut Rosé, Type: Sparkling, Region: Central Valley (CL), Winery: Miguel Torres Chile\n",
      "\n",
      "Evaluating group 2 (size 3):\n",
      "Top 3 recommendations for group 2:\n",
      "WineID: 111431, Predicted Rating: 4.10, WineName: Saint-Julien (Grand Cru Classé), Type: Red, Region: Saint-Julien, Winery: Château Léoville Poyferré\n",
      "WineID: 112094, Predicted Rating: 4.09, WineName: Margaux (Grand Cru Classé), Type: Red, Region: Margaux, Winery: Château Boyd-Cantenac\n",
      "WineID: 111516, Predicted Rating: 4.08, WineName: Haut-Médoc (Grand Cru Classé), Type: Red, Region: Haut-Médoc, Winery: Château La Lagune\n",
      "\n",
      "Evaluating group 3 (size 5):\n",
      "Top 3 recommendations for group 3:\n",
      "WineID: 113695, Predicted Rating: 4.08, WineName: Sauternes (Grand Cru Classé), Type: Dessert, Region: Sauternes, Winery: Château Lamothe Guignard\n",
      "WineID: 160271, Predicted Rating: 4.01, WineName: Rare Cream Sherry Superior (Solera Reserva), Type: Dessert/Port, Region: Cream Sherry, Winery: Lustau\n",
      "WineID: 102341, Predicted Rating: 4.01, WineName: Fine Ruby Port, Type: Dessert/Port, Region: Porto, Winery: Cockburn's\n",
      "\n",
      "Evaluating group 4 (size 10):\n",
      "Top 3 recommendations for group 4:\n",
      "WineID: 174274, Predicted Rating: 4.14, WineName: Cabernet Sauvignon-Shiraz, Type: Red, Region: South Australia, Winery: Oxford Landing\n",
      "WineID: 174509, Predicted Rating: 4.14, WineName: Cabernet Sauvignon, Type: Red, Region: Coonawarra, Winery: Bowen Estate\n",
      "WineID: 174330, Predicted Rating: 4.14, WineName: Red Blend (Shiraz-Cabernet Sauvignon), Type: Red, Region: South Eastern Australia, Winery: Insurrection\n",
      "Evaluating group of size 2:\n",
      "Group RMSE: 0.593347050390058\n",
      "\n",
      "Evaluating group of size 3:\n",
      "Group RMSE: 0.5447849742387361\n",
      "\n",
      "Evaluating group of size 5:\n",
      "Group RMSE: 0.5454203913422186\n",
      "\n",
      "Evaluating group of size 10:\n",
      "Group RMSE: 0.5030079342156093\n",
      "\n"
     ]
    }
   ],
   "source": [
    "import random\n",
    "import math\n",
    "import pandas as pd\n",
    "\n",
    "# Define the functions as provided earlier\n",
    "\n",
    "def group_recommender_knn(users, wine_ids):\n",
    "    '''\n",
    "    Recommends wines for a group of users using KNN, averaging individual ratings.\n",
    "\n",
    "    @param users: List of user IDs.\n",
    "    @param wine_ids: List of wine IDs.\n",
    "    \n",
    "    @return: List of wines sorted by predicted group ratings.\n",
    "    '''\n",
    "    group_predictions = {}\n",
    "\n",
    "    # Predict ratings for each user in the group\n",
    "    user_ratings = {}\n",
    "    for user in users:\n",
    "        user_ratings[user] = predict_all_ratings(user)\n",
    "\n",
    "    # Aggregate predictions using the average strategy\n",
    "    for wine in wine_ids:\n",
    "        total_rating = 0\n",
    "        for user in users:\n",
    "            total_rating += user_ratings[user].get(wine, 0)\n",
    "        group_predictions[wine] = total_rating / len(users)\n",
    "\n",
    "    # Return sorted list of recommended wines for the group\n",
    "    recommended_wines = sorted(group_predictions.items(), key=lambda x: x[1], reverse=True)\n",
    "    return recommended_wines\n",
    "\n",
    "def generate_synthetic_groups(user_pool, group_sizes):\n",
    "    synthetic_groups = []\n",
    "\n",
    "    # Create groups of different sizes\n",
    "    for size in group_sizes:\n",
    "        group = random.sample(user_pool, size)\n",
    "        synthetic_groups.append(group)\n",
    "\n",
    "    return synthetic_groups\n",
    "\n",
    "def rmse_group(predictions, actual_ratings):\n",
    "    errors = [(predictions[wine] - actual_ratings[wine]) ** 2 for wine in actual_ratings]\n",
    "    mean_error = sum(errors) / len(errors)\n",
    "    return math.sqrt(mean_error)\n",
    "\n",
    "def evaluate_group_recommender(user_pool, wine_ids, actual_ratings, group_sizes):\n",
    "    synthetic_groups = generate_synthetic_groups(user_pool, group_sizes)\n",
    "\n",
    "    for group in synthetic_groups:\n",
    "        print(f\"Evaluating group of size {len(group)}:\")\n",
    "        predicted_ratings = group_recommender_knn(group, wine_ids)\n",
    "        rmse = rmse_group(dict(predicted_ratings), actual_ratings)\n",
    "        print(f\"Group RMSE: {rmse}\\n\")\n",
    "\n",
    "# Assuming 'user_pool' is a list of users, 'wine_ids' is a list of wine IDs,\n",
    "# 'actual_ratings' is a dictionary of actual ratings for evaluation purposes\n",
    "\n",
    "user_pool = ratings['UserID'].unique().tolist()  # List of all users\n",
    "wine_ids = ratings['WineID'].unique().tolist()   # List of all wine IDs\n",
    "actual_ratings = {wine: ratings[ratings['WineID'] == wine]['Rating'].mean() for wine in wine_ids}  # Dictionary with actual ratings for each wine\n",
    "group_sizes = [2, 3, 5, 10]  # Test with group sizes of 2, 3, 5, and 10 users\n",
    "\n",
    "# Generate synthetic groups of users\n",
    "synthetic_groups = generate_synthetic_groups(user_pool, group_sizes)\n",
    "\n",
    "# Display the generated groups\n",
    "for i, group in enumerate(synthetic_groups):\n",
    "    print(f\"Group {i+1} (size {len(group)}): {group}\")\n",
    "\n",
    "# Predict group ratings using the KNN recommender\n",
    "for i, group in enumerate(synthetic_groups):\n",
    "    print(f\"\\nEvaluating group {i+1} (size {len(group)}):\")\n",
    "    predicted_ratings = group_recommender_knn(group, wine_ids)\n",
    "    \n",
    "    # Display the top 5 recommended wines for the group\n",
    "    top_recommendations = predicted_ratings[:3]\n",
    "    print(f\"Top 3 recommendations for group {i+1}:\")\n",
    "    for wine_id, rating in top_recommendations:\n",
    "        wine_details = wines[wines['WineID'] == wine_id].iloc[0]\n",
    "        print(f\"WineID: {wine_id}, Predicted Rating: {rating:.2f}, WineName: {wine_details['WineName']}, Type: {wine_details['Type']}, Region: {wine_details['RegionName']}, Winery: {wine_details['WineryName']}\")\n",
    "\n",
    "# Evaluate the group recommender system\n",
    "evaluate_group_recommender(user_pool, wine_ids, actual_ratings, group_sizes)"
   ]
  },
  {
   "cell_type": "markdown",
   "metadata": {},
   "source": [
    "asdaksjd\n"
   ]
  },
  {
   "cell_type": "code",
   "execution_count": 184,
   "metadata": {},
   "outputs": [],
   "source": [
    "import random\n",
    "import math\n",
    "import pandas as pd\n",
    "import numpy as np\n",
    "from sklearn.metrics import precision_recall_fscore_support, mean_squared_error\n",
    "from sklearn.model_selection import GroupKFold, GroupShuffleSplit\n",
    "import matplotlib.pyplot as plt\n",
    "\n",
    "# Assuming the predict_all_ratings and predict_rating functions are defined elsewhere\n",
    "\n",
    "def group_recommender_knn(users, wine_ids):\n",
    "    '''\n",
    "    Predict ratings for a group of users using KNN with average aggregation strategy.\n",
    "\n",
    "    @param users: list of user IDs\n",
    "    @param wine_ids: list of wine IDs to predict ratings for\n",
    "    @return: list of tuples (wine_id, predicted_rating) sorted by predicted rating in descending order\n",
    "    '''\n",
    "    group_predictions = {}\n",
    "\n",
    "    # Predict ratings for each user in the group\n",
    "    user_ratings = {}\n",
    "    for user in users:\n",
    "        user_ratings[user] = predict_all_ratings(user)\n",
    "\n",
    "    # Aggregate predictions using the average strategy\n",
    "    for wine in wine_ids:\n",
    "        total_rating = 0\n",
    "        for user in users:\n",
    "            total_rating += user_ratings[user].get(wine, 0)\n",
    "        group_predictions[wine] = total_rating / len(users)\n",
    "\n",
    "    # Return sorted list of recommended wines for the group\n",
    "    recommended_wines = sorted(group_predictions.items(), key=lambda x: x[1], reverse=True)\n",
    "    return recommended_wines"
   ]
  },
  {
   "cell_type": "code",
   "execution_count": 185,
   "metadata": {},
   "outputs": [
    {
     "name": "stdout",
     "output_type": "stream",
     "text": [
      "Training set size: (120182, 6)\n",
      "Test set size: (29818, 6)\n",
      "Fold RMSE: 0.6549951425949024, F1: 0.9019636549969805\n",
      "Fold RMSE: 0.651390180810434, F1: 0.9083366689712893\n",
      "Fold RMSE: 0.6552810320691294, F1: 0.9070042808998998\n",
      "Fold RMSE: 0.6459695353288084, F1: 0.9033283983111257\n",
      "Fold RMSE: 0.6440909097324693, F1: 0.9071038251366119\n",
      "Average RMSE across 5 folds: 0.6503453601071486\n",
      "Average F1 across 5 folds: 0.9055473656631815\n"
     ]
    },
    {
     "data": {
      "image/png": "[encoded data removed]",
      "text/plain": [
       "<Figure size 1000x500 with 2 Axes>"
      ]
     },
     "metadata": {},
     "output_type": "display_data"
    }
   ],
   "source": [
    "def cross_validate_with_metrics_groupwise(ratings, k_folds=5, k=5, threshold=3.5):\n",
    "    '''\n",
    "    Perform group-wise k-fold cross-validation on the ratings data and calculate multiple evaluation metrics.\n",
    "\n",
    "    @param ratings: DataFrame containing the ratings data with 'UserID' column\n",
    "    @param k_folds: int, number of folds for cross-validation (default: 5)\n",
    "    @param k: int, number of nearest neighbors to use in prediction (default: 5)\n",
    "    @param threshold: float, threshold for binary classification in F1 score calculation (default: 3.5)\n",
    "    @return: None (prints and plots RMSE and F1 scores for each fold and their averages)\n",
    "    '''\n",
    "    gkf = GroupKFold(n_splits=k_folds)\n",
    "    rmse_scores = []\n",
    "    f1_scores = []\n",
    "    \n",
    "    for train_idx, test_idx in gkf.split(ratings, groups=ratings['UserID']):\n",
    "        train_ratings_fold = ratings.iloc[train_idx].reset_index(drop=True)\n",
    "        test_ratings_fold = ratings.iloc[test_idx].reset_index(drop=True)\n",
    "        \n",
    "        predicted, true = predict_test_set_ratings(test_ratings_fold, train_ratings_fold, k)\n",
    "        \n",
    "        # Handle any remaining NaNs\n",
    "        if np.isnan(predicted).sum() > 0:\n",
    "            user_means = train_ratings_fold.groupby('UserID')['Rating'].mean().to_dict()\n",
    "            predicted = [user_means.get(uid, train_ratings_fold['Rating'].mean()) \n",
    "                         if np.isnan(r) else r for r, uid in zip(predicted, test_ratings_fold['UserID'])]\n",
    "            predicted = np.array(predicted)\n",
    "        \n",
    "        rmse = calculate_rmse(predicted, true)\n",
    "        _, _, f1 = calculate_precision_recall_f1(predicted, true, threshold)\n",
    "        \n",
    "        rmse_scores.append(rmse)\n",
    "        f1_scores.append(f1)\n",
    "        \n",
    "        print(f\"Fold RMSE: {rmse}, F1: {f1}\")\n",
    "    \n",
    "    print(f\"Average RMSE across {k_folds} folds: {np.mean(rmse_scores)}\")\n",
    "    print(f\"Average F1 across {k_folds} folds: {np.mean(f1_scores)}\")\n",
    "    \n",
    "    # Plotting the results\n",
    "    plt.figure(figsize=(10, 5))\n",
    "\n",
    "    plt.subplot(1, 2, 1)\n",
    "    plt.plot(rmse_scores, marker='o')\n",
    "    plt.title('RMSE Scores')\n",
    "    plt.xlabel('Fold')\n",
    "    plt.ylabel('RMSE')\n",
    "\n",
    "    plt.subplot(1, 2, 2)\n",
    "    plt.plot(f1_scores, marker='o', color='red')\n",
    "    plt.title('F1 Scores')\n",
    "    plt.xlabel('Fold')\n",
    "    plt.ylabel('F1 Score')\n",
    "\n",
    "    plt.tight_layout()\n",
    "    plt.show()\n",
    "\n",
    "# Perform the group-wise split\n",
    "train_ratings, test_ratings = split_ratings_groupwise(ratings, test_size=0.2)\n",
    "\n",
    "print(f\"Training set size: {train_ratings.shape}\")\n",
    "print(f\"Test set size: {test_ratings.shape}\")\n",
    "\n",
    "# Evaluate the group recommender system\n",
    "cross_validate_with_metrics_groupwise(ratings, k_folds=5, k=5, threshold=3.5)"
   ]
  }
 ],
 "metadata": {
  "kernelspec": {
   "display_name": "cuda_test",
   "language": "python",
   "name": "python3"
  },
  "language_info": {
   "codemirror_mode": {
    "name": "ipython",
    "version": 3
   },
   "file_extension": ".py",
   "mimetype": "text/x-python",
   "name": "python",
   "nbconvert_exporter": "python",
   "pygments_lexer": "ipython3",
   "version": "3.11.9"
  }
 },
 "nbformat": 4,
 "nbformat_minor": 2
}
