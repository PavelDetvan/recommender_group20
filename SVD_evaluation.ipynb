{
 "cells": [
  {
   "cell_type": "code",
   "execution_count": 1,
   "metadata": {},
   "outputs": [],
   "source": [
    "import pandas as pd\n",
    "import numpy as np\n",
    "from surprise import Dataset, Reader\n",
    "from surprise import SVD\n",
    "from surprise.model_selection import train_test_split\n",
    "from surprise import accuracy"
   ]
  },
  {
   "cell_type": "code",
   "execution_count": 2,
   "metadata": {},
   "outputs": [],
   "source": [
    "wines = pd.read_csv('wines_w2v.csv')\n",
    "ratings = pd.read_csv('XWines_Slim_1K_wines_150K_ratings\\XWines_Slim_150K_ratings.csv', low_memory=False)"
   ]
  },
  {
   "cell_type": "code",
   "execution_count": 3,
   "metadata": {},
   "outputs": [],
   "source": [
    "#TODO: experiment with different columns only (can be done using weight 0 also)\n",
    "\n",
    "# Select columns with w2v features\n",
    "vector_columns = [\n",
    "    'WineName_w2v', 'Type_w2v', 'Elaborate_w2v', 'Grapes_w2v',\n",
    "    'Harmonize_w2v', 'Country_w2v', 'RegionName_w2v', 'WineryName_w2v'\n",
    "]"
   ]
  },
  {
   "cell_type": "code",
   "execution_count": 4,
   "metadata": {},
   "outputs": [],
   "source": [
    "def convert_w2v_string(w2v_string):\n",
    "    '''\n",
    "    Converts a string representation of a word2vec vector to a NumPy array.\n",
    "\n",
    "    @param w2v_string: A string representation of a word2vec vector.\n",
    "    @return: A NumPy array representation of the word2vec vector.\n",
    "    '''\n",
    "    # Remove the \"[-\" and \"]\" characters\n",
    "    cleaned_string = w2v_string.strip(\"[]\")\n",
    "    \n",
    "    # Split the cleaned string into a list of floats\n",
    "    float_list = list(map(float, cleaned_string.split()))\n",
    "    \n",
    "    # Convert to a NumPy array\n",
    "    return np.array(float_list)"
   ]
  },
  {
   "cell_type": "code",
   "execution_count": 5,
   "metadata": {},
   "outputs": [],
   "source": [
    "# Apply the conversion function to each column\n",
    "for column in vector_columns:\n",
    "    wines[column] = wines[column].apply(convert_w2v_string)"
   ]
  },
  {
   "cell_type": "code",
   "execution_count": 6,
   "metadata": {},
   "outputs": [
    {
     "name": "stdout",
     "output_type": "stream",
     "text": [
      "   WineID            WineName       Type      Elaborate              Grapes  \\\n",
      "0  100001  Espumante Moscatel  Sparkling  Varietal 100%      Muscat Moscato   \n",
      "1  100002          Ancellotta        Red  Varietal 100%          Ancellotta   \n",
      "2  100003  Cabernet Sauvignon        Red  Varietal 100%  Cabernet Sauvignon   \n",
      "\n",
      "                                       Harmonize   ABV          Body Acidity  \\\n",
      "0                     Pork, Rich Fish, Shellfish   7.5  Mediumbodied    High   \n",
      "1  Beef, Barbecue, Codfish, Pasta, Pizza, Cheese  12.0  Mediumbodied  Medium   \n",
      "2                            Beef, Lamb, Poultry  12.0    Fullbodied    High   \n",
      "\n",
      "  Country  ...    RegionName    WineryName  \\\n",
      "0  Brazil  ...  Serra Gaúcha   Casa Perini   \n",
      "1  Brazil  ...  Serra Gaúcha   Casa Perini   \n",
      "2  Brazil  ...  Serra Gaúcha  Castellamare   \n",
      "\n",
      "                                        WineName_w2v  \\\n",
      "0  [-0.3074022, -0.44844943, -0.44216424, 0.07813...   \n",
      "1  [0.20456168, -0.238103, 0.13503605, -0.0984859...   \n",
      "2  [-0.14684096, 0.918, 0.61551, -0.71948504, 0.2...   \n",
      "\n",
      "                                            Type_w2v  \\\n",
      "0  [0.20387, 0.14953, 0.49425, 0.1807, 0.33663, 0...   \n",
      "1  [-0.30017, 0.50145, -0.12753, -0.81638, 0.3361...   \n",
      "2  [-0.30017, 0.50145, -0.12753, -0.81638, 0.3361...   \n",
      "\n",
      "                                       Elaborate_w2v  \\\n",
      "0  [0.31609, 0.19888, 0.33465, -0.33661, 0.21183,...   \n",
      "1  [0.31609, 0.19888, 0.33465, -0.33661, 0.21183,...   \n",
      "2  [0.31609, 0.19888, 0.33465, -0.33661, 0.21183,...   \n",
      "\n",
      "                                          Grapes_w2v  \\\n",
      "0  [-0.09718999, -0.760115, -0.22861, -0.78253996...   \n",
      "1  [0.20456168, -0.238103, 0.13503605, -0.0984859...   \n",
      "2  [-0.14684096, 0.918, 0.61551, -0.71948504, 0.2...   \n",
      "\n",
      "                                       Harmonize_w2v  \\\n",
      "0  [-0.290408, 0.66695, 0.401085, -0.92291, 0.157...   \n",
      "1  [-0.346935, 0.57778466, -0.10281818, -0.039137...   \n",
      "2  [-0.18040334, 0.51985, 0.19253199, -0.4993, -0...   \n",
      "\n",
      "                                         Country_w2v  \\\n",
      "0  [0.58812, 0.33941, 1.2133, -0.024161, 0.11645,...   \n",
      "1  [0.58812, 0.33941, 1.2133, -0.024161, 0.11645,...   \n",
      "2  [0.58812, 0.33941, 1.2133, -0.024161, 0.11645,...   \n",
      "\n",
      "                                      RegionName_w2v  \\\n",
      "0  [-0.35876998, -0.007065, 0.0519804, 0.1220885,...   \n",
      "1  [-0.35876998, -0.007065, 0.0519804, 0.1220885,...   \n",
      "2  [-0.35876998, -0.007065, 0.0519804, 0.1220885,...   \n",
      "\n",
      "                                      WineryName_w2v  \n",
      "0  [0.417595, -0.25928, -0.005235, 0.43536752, -0...  \n",
      "1  [0.417595, -0.25928, -0.005235, 0.43536752, -0...  \n",
      "2  [-0.21215732, -0.0274101, -0.04933522, 0.05928...  \n",
      "\n",
      "[3 rows x 22 columns]\n"
     ]
    }
   ],
   "source": [
    "print(wines.head(3))"
   ]
  },
  {
   "cell_type": "code",
   "execution_count": 7,
   "metadata": {},
   "outputs": [
    {
     "name": "stdout",
     "output_type": "stream",
     "text": [
      "<class 'numpy.ndarray'>\n"
     ]
    }
   ],
   "source": [
    "print(type(wines['Type_w2v'][0]))\n"
   ]
  },
  {
   "cell_type": "code",
   "execution_count": 8,
   "metadata": {},
   "outputs": [
    {
     "data": {
      "text/html": [
       "<div>\n",
       "<style scoped>\n",
       "    .dataframe tbody tr th:only-of-type {\n",
       "        vertical-align: middle;\n",
       "    }\n",
       "\n",
       "    .dataframe tbody tr th {\n",
       "        vertical-align: top;\n",
       "    }\n",
       "\n",
       "    .dataframe thead th {\n",
       "        text-align: right;\n",
       "    }\n",
       "</style>\n",
       "<table border=\"1\" class=\"dataframe\">\n",
       "  <thead>\n",
       "    <tr style=\"text-align: right;\">\n",
       "      <th></th>\n",
       "      <th>RatingID</th>\n",
       "      <th>UserID</th>\n",
       "      <th>WineID</th>\n",
       "      <th>Vintage</th>\n",
       "      <th>Rating</th>\n",
       "      <th>Date</th>\n",
       "    </tr>\n",
       "  </thead>\n",
       "  <tbody>\n",
       "    <tr>\n",
       "      <th>0</th>\n",
       "      <td>143</td>\n",
       "      <td>1356810</td>\n",
       "      <td>103471</td>\n",
       "      <td>1950</td>\n",
       "      <td>4.5</td>\n",
       "      <td>2021-11-02 20:52:59</td>\n",
       "    </tr>\n",
       "    <tr>\n",
       "      <th>1</th>\n",
       "      <td>199</td>\n",
       "      <td>1173759</td>\n",
       "      <td>111415</td>\n",
       "      <td>1951</td>\n",
       "      <td>5.0</td>\n",
       "      <td>2015-08-20 17:46:26</td>\n",
       "    </tr>\n",
       "    <tr>\n",
       "      <th>2</th>\n",
       "      <td>348</td>\n",
       "      <td>1164877</td>\n",
       "      <td>111395</td>\n",
       "      <td>1952</td>\n",
       "      <td>5.0</td>\n",
       "      <td>2020-11-13 05:40:26</td>\n",
       "    </tr>\n",
       "  </tbody>\n",
       "</table>\n",
       "</div>"
      ],
      "text/plain": [
       "   RatingID   UserID  WineID Vintage  Rating                 Date\n",
       "0       143  1356810  103471    1950     4.5  2021-11-02 20:52:59\n",
       "1       199  1173759  111415    1951     5.0  2015-08-20 17:46:26\n",
       "2       348  1164877  111395    1952     5.0  2020-11-13 05:40:26"
      ]
     },
     "execution_count": 8,
     "metadata": {},
     "output_type": "execute_result"
    }
   ],
   "source": [
    "ratings.head(3)"
   ]
  },
  {
   "cell_type": "markdown",
   "metadata": {},
   "source": [
    "SVD Model (collaborative based):"
   ]
  },
  {
   "cell_type": "code",
   "execution_count": 17,
   "metadata": {},
   "outputs": [],
   "source": [
    "# Create a reader object with the rating scale\n",
    "reader = Reader(rating_scale=(0, 5))\n",
    "\n",
    "data = Dataset.load_from_df(ratings[['UserID', 'WineID', 'Rating']], reader)"
   ]
  },
  {
   "cell_type": "code",
   "execution_count": 18,
   "metadata": {},
   "outputs": [],
   "source": [
    "# Split the data into training and testing sets\n",
    "# TODO: check if this is correct evaluation\n",
    "trainset, testset = train_test_split(data, test_size=0.2, random_state=42)"
   ]
  },
  {
   "cell_type": "code",
   "execution_count": 19,
   "metadata": {},
   "outputs": [
    {
     "data": {
      "text/plain": [
       "<surprise.prediction_algorithms.matrix_factorization.SVD at 0x2907535c390>"
      ]
     },
     "execution_count": 19,
     "metadata": {},
     "output_type": "execute_result"
    }
   ],
   "source": [
    "# Use SVD algorithm\n",
    "model_svd = SVD(n_factors=100, n_epochs=20, lr_all=0.005, reg_all=0.02)\n",
    "\n",
    "# Train the model\n",
    "model_svd.fit(trainset)"
   ]
  },
  {
   "cell_type": "code",
   "execution_count": 20,
   "metadata": {},
   "outputs": [
    {
     "name": "stdout",
     "output_type": "stream",
     "text": [
      "RMSE: 0.4780\n",
      "RMSE: 0.4779602451485183\n"
     ]
    }
   ],
   "source": [
    "# Make predictions on the test set\n",
    "predictions = model_svd.test(testset)\n",
    "\n",
    "# Compute RMSE\n",
    "rmse = accuracy.rmse(predictions)\n",
    "print(f\"RMSE: {rmse}\")"
   ]
  },
  {
   "cell_type": "code",
   "execution_count": 21,
   "metadata": {},
   "outputs": [
    {
     "name": "stdout",
     "output_type": "stream",
     "text": [
      "RMSE: 0.4780\n",
      "MAE:  0.3535\n",
      "RMSE: 0.4779602451485183\n",
      "MAE: 0.35354724813863286\n",
      "MSE: 0.2284459959424317\n",
      "R-squared: 0.4518561344977746\n",
      "Coverage: 0.002849139759232495\n",
      "Precision@K: 0.9474117612179261\n",
      "Recall@K: 0.5720667780100179\n"
     ]
    }
   ],
   "source": [
    "from collections import defaultdict\n",
    "import numpy as np\n",
    "from sklearn.metrics import mean_squared_error, mean_absolute_error\n",
    "from surprise import accuracy\n",
    "\n",
    "def evaluate_model(predictions):\n",
    "    # RMSE\n",
    "    rmse = accuracy.rmse(predictions)\n",
    "    \n",
    "    # MAE\n",
    "    mae = accuracy.mae(predictions)\n",
    "    \n",
    "    # Calculate MSE manually\n",
    "    mse = np.mean([float((true_r - est)**2) for (_, _, true_r, est, _) in predictions])\n",
    "    \n",
    "    # R-squared (coefficient of determination)\n",
    "    y_true = np.array([true_r for (_, _, true_r, _, _) in predictions])\n",
    "    y_pred = np.array([est for (_, _, _, est, _) in predictions])\n",
    "    y_mean = np.mean(y_true)\n",
    "    ss_tot = np.sum((y_true - y_mean)**2)\n",
    "    ss_res = np.sum((y_true - y_pred)**2)\n",
    "    r_squared = 1 - (ss_res / ss_tot)\n",
    "    \n",
    "    # Coverage (percentage of user-item pairs for which the system can make predictions)\n",
    "    total_possible_predictions = len(trainset.ur) * len(trainset.ir)\n",
    "    coverage = len(predictions) / total_possible_predictions\n",
    "    \n",
    "    # Precision at k and Recall at k\n",
    "    k = 10\n",
    "    user_est_true = defaultdict(list)\n",
    "    for uid, _, true_r, est, _ in predictions:\n",
    "        user_est_true[uid].append((est, true_r))\n",
    "\n",
    "    precisions = dict()\n",
    "    recalls = dict()\n",
    "\n",
    "    for uid, user_ratings in user_est_true.items():\n",
    "        user_ratings.sort(key=lambda x: x[0], reverse=True)\n",
    "        n_rel = sum((true_r >= 4) for (_, true_r) in user_ratings)\n",
    "        n_rec_k = sum((est >= 4) for (est, _) in user_ratings[:k])\n",
    "        n_rel_and_rec_k = sum(((true_r >= 4) and (est >= 4)) for (est, true_r) in user_ratings[:k])\n",
    "        \n",
    "        precisions[uid] = n_rel_and_rec_k / n_rec_k if n_rec_k != 0 else 1\n",
    "        recalls[uid] = n_rel_and_rec_k / n_rel if n_rel != 0 else 1\n",
    "\n",
    "    precision_at_k = sum(prec for prec in precisions.values()) / len(precisions)\n",
    "    recall_at_k = sum(rec for rec in recalls.values()) / len(recalls)\n",
    "    \n",
    "    return {\n",
    "        'RMSE': rmse,\n",
    "        'MAE': mae,\n",
    "        'MSE': mse,\n",
    "        'R-squared': r_squared,\n",
    "        'Coverage': coverage,\n",
    "        'Precision@K': precision_at_k,\n",
    "        'Recall@K': recall_at_k\n",
    "    }\n",
    "\n",
    "# Use this function after making predictions\n",
    "results = evaluate_model(predictions)\n",
    "for metric, value in results.items():\n",
    "    print(f\"{metric}: {value}\")"
   ]
  },
  {
   "cell_type": "code",
   "execution_count": 22,
   "metadata": {},
   "outputs": [
    {
     "name": "stdout",
     "output_type": "stream",
     "text": [
      "This wine (Pauillac  Grand Cru Classé ) is recommended because:\n",
      "1. It has a 0.01 similarity to your taste profile.\n",
      "2. It's a Red wine from France.\n",
      "3. It pairs well with: Beef, Lamb, Game Meat, Poultry.\n",
      "\n"
     ]
    }
   ],
   "source": [
    "import numpy as np\n",
    "\n",
    "def get_user_profile(user_id, model):\n",
    "    return model.pu[model.trainset.to_inner_uid(user_id)]\n",
    "\n",
    "def get_wine_profile(wine_id, model):\n",
    "    return model.qi[model.trainset.to_inner_iid(wine_id)]\n",
    "\n",
    "def cosine_similarity(v1, v2):\n",
    "    return np.dot(v1, v2) / (np.linalg.norm(v1) * np.linalg.norm(v2))\n",
    "\n",
    "def explain_recommendation(user_id, wine_id, model, wines_df):\n",
    "    user_profile = get_user_profile(user_id, model)\n",
    "    wine_profile = get_wine_profile(wine_id, model)\n",
    "    \n",
    "    similarity = cosine_similarity(user_profile, wine_profile)\n",
    "    \n",
    "    wine_info = wines_df[wines_df['WineID'] == wine_id].iloc[0]\n",
    "    \n",
    "    explanation = f\"This wine ({wine_info['WineName']}) is recommended because:\\n\"\n",
    "    explanation += f\"1. It has a {similarity:.2f} similarity to your taste profile.\\n\"\n",
    "    explanation += f\"2. It's a {wine_info['Type']} wine from {wine_info['Country']}.\\n\"\n",
    "    explanation += f\"3. It pairs well with: {wine_info['Harmonize']}.\\n\"\n",
    "    \n",
    "    return explanation\n",
    "\n",
    "# Example usage\n",
    "user_id = 1209683\n",
    "wine_id = 111422\n",
    "explanation = explain_recommendation(user_id, wine_id, model_svd, wines)\n",
    "print(explanation)"
   ]
  },
  {
   "cell_type": "code",
   "execution_count": 13,
   "metadata": {},
   "outputs": [],
   "source": [
    "def predict_ratings(user_id, wines_df, model):\n",
    "    '''\n",
    "    Predicts the ratings for a user for all wines in the dataset.\n",
    "\n",
    "    @param user_id: The ID of the user for whom to make predictions.\n",
    "    @param wines_df: The DataFrame containing the wines to predict.\n",
    "    @param model: The trained model to use for making predictions.\n",
    "    @return: A DataFrame containing the predicted ratings for the user.\n",
    "    '''\n",
    "    predictions = []\n",
    "    for wine_id in wines_df['WineID'].unique():\n",
    "        predicted_rating = model.predict(user_id, wine_id).est\n",
    "        predictions.append((wine_id, predicted_rating))\n",
    "    return pd.DataFrame(predictions, columns=['WineID', 'PredictedRating'])"
   ]
  },
  {
   "cell_type": "code",
   "execution_count": 14,
   "metadata": {},
   "outputs": [
    {
     "name": "stdout",
     "output_type": "stream",
     "text": [
      "   WineID  PredictedRating\n",
      "0  103471         3.813287\n",
      "1  111415         4.477943\n",
      "2  111395         4.421610\n",
      "3  111433         4.036834\n",
      "4  111431         4.179070\n"
     ]
    }
   ],
   "source": [
    "# Example for a specific user using svd model\n",
    "user_id = 1209683\n",
    "unrated_wines = ratings[~ratings['UserID'].isin([user_id])]\n",
    "predictions = predict_ratings(user_id, unrated_wines, model_svd)\n",
    "print(predictions.head())"
   ]
  },
  {
   "cell_type": "code",
   "execution_count": null,
   "metadata": {},
   "outputs": [],
   "source": [
    "\n",
    "# Retrieve corresponding information about the recommended wines\n",
    "recommended_wines_info = wines[wines['wine_id'].isin(top_recommendations['WineID'])]\n",
    "\n",
    "print(\"Top N Recommendations:\")\n",
    "print(recommended_wines_info)\n",
    "\n",
    "# Select a random user ID and print their ratings\n",
    "random_user_id = random.choice(ratings['UserID'].unique())\n",
    "random_user_ratings = ratings[ratings['UserID'] == random_user_id]"
   ]
  },
  {
   "cell_type": "code",
   "execution_count": null,
   "metadata": {},
   "outputs": [],
   "source": [
    "# Select a random user ID and print their ratings\n",
    "import random\n",
    "\n",
    "user_id = random.choice(ratings['UserID'].unique())\n",
    "print(f\"Ratings for user {user_id}:\")\n",
    "print(ratings[ratings['UserID'] == user_id])\n",
    "\n",
    "# Predict ratings for the user\n",
    "unrated_wines = ratings[~ratings['UserID'].isin([user_id])]\n",
    "predictions = predict_ratings(user_id, unrated_wines, model_svd)\n",
    "\n",
    "# Get top N recommendations\n",
    "top_n = 5\n",
    "top_recommendations = predictions.sort_values(by='PredictedRating', ascending=False).head(top_n)\n",
    "print(\"Top N Recommendations:\")\n",
    "\n",
    "# Retrieve corresponding information about the recommended wines\n",
    "recommended_wines_info = wines[wines['wine_id'].isin(top_recommendations['WineID'])]\n",
    "print(\"Top N Recommendations:\")\n",
    "print(recommended_wines_info)\n",
    "\n"
   ]
  },
  {
   "cell_type": "code",
   "execution_count": 15,
   "metadata": {},
   "outputs": [
    {
     "name": "stdout",
     "output_type": "stream",
     "text": [
      "Predicted rating for user 1209683 and wine 111422: 4.335518107337999\n"
     ]
    }
   ],
   "source": [
    "def get_predicted_rating(user_id, wine_id, model):\n",
    "    '''\n",
    "    Retrieve the predicted rating for a specific user and wine.\n",
    "\n",
    "    @param user_id: The ID of the user.\n",
    "    @param wine_id: The ID of the wine.\n",
    "    @param model: The trained SVD model.\n",
    "    @return: The predicted rating.\n",
    "    '''\n",
    "    # Predict the rating for the specific user-wine pair\n",
    "    prediction = model.predict(user_id, wine_id)\n",
    "    \n",
    "    return prediction.est\n",
    "\n",
    "# Example usage\n",
    "user_id = 1209683\n",
    "wine_id = 111422  # Replace with the actual WineID you want to test\n",
    "\n",
    "predicted_rating = get_predicted_rating(user_id, wine_id, model_svd)\n",
    "print(f\"Predicted rating for user {user_id} and wine {wine_id}: {predicted_rating}\")\n"
   ]
  }
 ],
 "metadata": {
  "kernelspec": {
   "display_name": "cuda_test",
   "language": "python",
   "name": "python3"
  },
  "language_info": {
   "codemirror_mode": {
    "name": "ipython",
    "version": 3
   },
   "file_extension": ".py",
   "mimetype": "text/x-python",
   "name": "python",
   "nbconvert_exporter": "python",
   "pygments_lexer": "ipython3",
   "version": "3.11.9"
  }
 },
 "nbformat": 4,
 "nbformat_minor": 2
}
